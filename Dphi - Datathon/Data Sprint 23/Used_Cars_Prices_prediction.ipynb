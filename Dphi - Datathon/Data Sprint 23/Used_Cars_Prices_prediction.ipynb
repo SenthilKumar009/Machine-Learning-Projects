{
 "cells": [
  {
   "cell_type": "code",
   "execution_count": 1,
   "metadata": {},
   "outputs": [],
   "source": [
    "import pandas as pd\n",
    "import numpy as np\n",
    "import matplotlib.pyplot as plt\n",
    "import seaborn as sns"
   ]
  },
  {
   "cell_type": "code",
   "execution_count": 2,
   "metadata": {},
   "outputs": [],
   "source": [
    "#pd.set_option('display.height', 500)\n",
    "#pd.set_option('display.max_rows', 500)\n",
    "pd.set_option('display.max_column', 30)"
   ]
  },
  {
   "cell_type": "code",
   "execution_count": 3,
   "metadata": {},
   "outputs": [],
   "source": [
    "# Train Data\n",
    "train_data = pd.read_csv(\"https://raw.githubusercontent.com/dphi-official/Datasets/master/used_car_price/train_set_label.csv\")"
   ]
  },
  {
   "cell_type": "code",
   "execution_count": 4,
   "metadata": {},
   "outputs": [],
   "source": [
    "# Test data\n",
    "test_data = pd.read_csv('https://raw.githubusercontent.com/dphi-official/Datasets/master/used_car_price/test_set_label.csv')"
   ]
  },
  {
   "cell_type": "code",
   "execution_count": 5,
   "metadata": {},
   "outputs": [
    {
     "data": {
      "text/html": [
       "<div>\n",
       "<style scoped>\n",
       "    .dataframe tbody tr th:only-of-type {\n",
       "        vertical-align: middle;\n",
       "    }\n",
       "\n",
       "    .dataframe tbody tr th {\n",
       "        vertical-align: top;\n",
       "    }\n",
       "\n",
       "    .dataframe thead th {\n",
       "        text-align: right;\n",
       "    }\n",
       "</style>\n",
       "<table border=\"1\" class=\"dataframe\">\n",
       "  <thead>\n",
       "    <tr style=\"text-align: right;\">\n",
       "      <th></th>\n",
       "      <th>region</th>\n",
       "      <th>region_url</th>\n",
       "      <th>year</th>\n",
       "      <th>manufacturer</th>\n",
       "      <th>model_name</th>\n",
       "      <th>car_condition</th>\n",
       "      <th>#cylinders</th>\n",
       "      <th>fuel_type</th>\n",
       "      <th>odometer</th>\n",
       "      <th>title_status</th>\n",
       "      <th>transmission</th>\n",
       "      <th>vin</th>\n",
       "      <th>drive</th>\n",
       "      <th>size</th>\n",
       "      <th>car_type</th>\n",
       "      <th>car_color</th>\n",
       "      <th>image_url</th>\n",
       "      <th>car_description</th>\n",
       "      <th>county</th>\n",
       "      <th>state</th>\n",
       "      <th>latitude</th>\n",
       "      <th>longitude</th>\n",
       "      <th>price_of_car</th>\n",
       "    </tr>\n",
       "  </thead>\n",
       "  <tbody>\n",
       "    <tr>\n",
       "      <th>0</th>\n",
       "      <td>san antonio</td>\n",
       "      <td>https://sanantonio.craigslist.org</td>\n",
       "      <td>2018.0</td>\n",
       "      <td>honda</td>\n",
       "      <td>accord ex-l</td>\n",
       "      <td>NaN</td>\n",
       "      <td>NaN</td>\n",
       "      <td>gas</td>\n",
       "      <td>NaN</td>\n",
       "      <td>clean</td>\n",
       "      <td>automatic</td>\n",
       "      <td>NaN</td>\n",
       "      <td>NaN</td>\n",
       "      <td>NaN</td>\n",
       "      <td>NaN</td>\n",
       "      <td>NaN</td>\n",
       "      <td>https://images.craigslist.org/00W0W_jPnECYbxWm...</td>\n",
       "      <td>Price: $24,900 Miles: 31,269 Engine: 1.5L Turb...</td>\n",
       "      <td>NaN</td>\n",
       "      <td>tx</td>\n",
       "      <td>29.5407</td>\n",
       "      <td>-98.5521</td>\n",
       "      <td>24900</td>\n",
       "    </tr>\n",
       "    <tr>\n",
       "      <th>1</th>\n",
       "      <td>augusta</td>\n",
       "      <td>https://augusta.craigslist.org</td>\n",
       "      <td>2006.0</td>\n",
       "      <td>ford</td>\n",
       "      <td>f250 super duty diesel</td>\n",
       "      <td>excellent</td>\n",
       "      <td>NaN</td>\n",
       "      <td>diesel</td>\n",
       "      <td>169438.0</td>\n",
       "      <td>clean</td>\n",
       "      <td>automatic</td>\n",
       "      <td>NaN</td>\n",
       "      <td>rwd</td>\n",
       "      <td>full-size</td>\n",
       "      <td>truck</td>\n",
       "      <td>white</td>\n",
       "      <td>https://images.craigslist.org/00U0U_5ROtvUdu72...</td>\n",
       "      <td>2006 Ford F250 Lariat SuperDuty Crew Cab 4 doo...</td>\n",
       "      <td>NaN</td>\n",
       "      <td>ga</td>\n",
       "      <td>33.5161</td>\n",
       "      <td>-82.0785</td>\n",
       "      <td>0</td>\n",
       "    </tr>\n",
       "    <tr>\n",
       "      <th>2</th>\n",
       "      <td>hickory / lenoir</td>\n",
       "      <td>https://hickory.craigslist.org</td>\n",
       "      <td>NaN</td>\n",
       "      <td>NaN</td>\n",
       "      <td>NaN</td>\n",
       "      <td>NaN</td>\n",
       "      <td>NaN</td>\n",
       "      <td>NaN</td>\n",
       "      <td>NaN</td>\n",
       "      <td>NaN</td>\n",
       "      <td>NaN</td>\n",
       "      <td>NaN</td>\n",
       "      <td>NaN</td>\n",
       "      <td>NaN</td>\n",
       "      <td>NaN</td>\n",
       "      <td>NaN</td>\n",
       "      <td>NaN</td>\n",
       "      <td>NaN</td>\n",
       "      <td>NaN</td>\n",
       "      <td>nc</td>\n",
       "      <td>NaN</td>\n",
       "      <td>NaN</td>\n",
       "      <td>4500</td>\n",
       "    </tr>\n",
       "    <tr>\n",
       "      <th>3</th>\n",
       "      <td>fargo / moorhead</td>\n",
       "      <td>https://fargo.craigslist.org</td>\n",
       "      <td>NaN</td>\n",
       "      <td>NaN</td>\n",
       "      <td>NaN</td>\n",
       "      <td>NaN</td>\n",
       "      <td>NaN</td>\n",
       "      <td>NaN</td>\n",
       "      <td>NaN</td>\n",
       "      <td>NaN</td>\n",
       "      <td>NaN</td>\n",
       "      <td>NaN</td>\n",
       "      <td>NaN</td>\n",
       "      <td>NaN</td>\n",
       "      <td>NaN</td>\n",
       "      <td>NaN</td>\n",
       "      <td>NaN</td>\n",
       "      <td>NaN</td>\n",
       "      <td>NaN</td>\n",
       "      <td>mn</td>\n",
       "      <td>NaN</td>\n",
       "      <td>NaN</td>\n",
       "      <td>20000</td>\n",
       "    </tr>\n",
       "    <tr>\n",
       "      <th>4</th>\n",
       "      <td>los angeles</td>\n",
       "      <td>https://losangeles.craigslist.org</td>\n",
       "      <td>NaN</td>\n",
       "      <td>NaN</td>\n",
       "      <td>NaN</td>\n",
       "      <td>NaN</td>\n",
       "      <td>NaN</td>\n",
       "      <td>NaN</td>\n",
       "      <td>NaN</td>\n",
       "      <td>NaN</td>\n",
       "      <td>NaN</td>\n",
       "      <td>NaN</td>\n",
       "      <td>NaN</td>\n",
       "      <td>NaN</td>\n",
       "      <td>NaN</td>\n",
       "      <td>NaN</td>\n",
       "      <td>NaN</td>\n",
       "      <td>NaN</td>\n",
       "      <td>NaN</td>\n",
       "      <td>ca</td>\n",
       "      <td>NaN</td>\n",
       "      <td>NaN</td>\n",
       "      <td>0</td>\n",
       "    </tr>\n",
       "    <tr>\n",
       "      <th>5</th>\n",
       "      <td>asheville</td>\n",
       "      <td>https://asheville.craigslist.org</td>\n",
       "      <td>2011.0</td>\n",
       "      <td>toyota</td>\n",
       "      <td>prius</td>\n",
       "      <td>NaN</td>\n",
       "      <td>4 cylinders</td>\n",
       "      <td>hybrid</td>\n",
       "      <td>291960.0</td>\n",
       "      <td>salvage</td>\n",
       "      <td>automatic</td>\n",
       "      <td>JTDKN3DU5B1435523</td>\n",
       "      <td>fwd</td>\n",
       "      <td>NaN</td>\n",
       "      <td>other</td>\n",
       "      <td>NaN</td>\n",
       "      <td>https://images.craigslist.org/00k0k_5zDaJ7rhh5...</td>\n",
       "      <td>This Toyota Prius can be yours today!If you ha...</td>\n",
       "      <td>NaN</td>\n",
       "      <td>nc</td>\n",
       "      <td>35.3119</td>\n",
       "      <td>-81.0306</td>\n",
       "      <td>6500</td>\n",
       "    </tr>\n",
       "    <tr>\n",
       "      <th>6</th>\n",
       "      <td>los angeles</td>\n",
       "      <td>https://losangeles.craigslist.org</td>\n",
       "      <td>NaN</td>\n",
       "      <td>NaN</td>\n",
       "      <td>NaN</td>\n",
       "      <td>NaN</td>\n",
       "      <td>NaN</td>\n",
       "      <td>NaN</td>\n",
       "      <td>NaN</td>\n",
       "      <td>NaN</td>\n",
       "      <td>NaN</td>\n",
       "      <td>NaN</td>\n",
       "      <td>NaN</td>\n",
       "      <td>NaN</td>\n",
       "      <td>NaN</td>\n",
       "      <td>NaN</td>\n",
       "      <td>NaN</td>\n",
       "      <td>NaN</td>\n",
       "      <td>NaN</td>\n",
       "      <td>ca</td>\n",
       "      <td>NaN</td>\n",
       "      <td>NaN</td>\n",
       "      <td>8995</td>\n",
       "    </tr>\n",
       "    <tr>\n",
       "      <th>7</th>\n",
       "      <td>sacramento</td>\n",
       "      <td>https://sacramento.craigslist.org</td>\n",
       "      <td>NaN</td>\n",
       "      <td>NaN</td>\n",
       "      <td>NaN</td>\n",
       "      <td>NaN</td>\n",
       "      <td>NaN</td>\n",
       "      <td>NaN</td>\n",
       "      <td>NaN</td>\n",
       "      <td>NaN</td>\n",
       "      <td>NaN</td>\n",
       "      <td>NaN</td>\n",
       "      <td>NaN</td>\n",
       "      <td>NaN</td>\n",
       "      <td>NaN</td>\n",
       "      <td>NaN</td>\n",
       "      <td>NaN</td>\n",
       "      <td>NaN</td>\n",
       "      <td>NaN</td>\n",
       "      <td>ca</td>\n",
       "      <td>NaN</td>\n",
       "      <td>NaN</td>\n",
       "      <td>7000</td>\n",
       "    </tr>\n",
       "    <tr>\n",
       "      <th>8</th>\n",
       "      <td>orlando</td>\n",
       "      <td>https://orlando.craigslist.org</td>\n",
       "      <td>1961.0</td>\n",
       "      <td>NaN</td>\n",
       "      <td>morris minor 1000</td>\n",
       "      <td>good</td>\n",
       "      <td>4 cylinders</td>\n",
       "      <td>gas</td>\n",
       "      <td>18927.0</td>\n",
       "      <td>clean</td>\n",
       "      <td>manual</td>\n",
       "      <td>NaN</td>\n",
       "      <td>rwd</td>\n",
       "      <td>compact</td>\n",
       "      <td>sedan</td>\n",
       "      <td>custom</td>\n",
       "      <td>https://images.craigslist.org/00e0e_iSSDfrtowG...</td>\n",
       "      <td>Restored.  Has towing hitch to pull behind mot...</td>\n",
       "      <td>NaN</td>\n",
       "      <td>fl</td>\n",
       "      <td>28.5525</td>\n",
       "      <td>-81.7574</td>\n",
       "      <td>12500</td>\n",
       "    </tr>\n",
       "    <tr>\n",
       "      <th>9</th>\n",
       "      <td>anchorage / mat-su</td>\n",
       "      <td>https://anchorage.craigslist.org</td>\n",
       "      <td>2013.0</td>\n",
       "      <td>dodge</td>\n",
       "      <td>journey r/t</td>\n",
       "      <td>like new</td>\n",
       "      <td>6 cylinders</td>\n",
       "      <td>gas</td>\n",
       "      <td>75513.0</td>\n",
       "      <td>clean</td>\n",
       "      <td>automatic</td>\n",
       "      <td>3C4PDDEG8DT601844</td>\n",
       "      <td>4wd</td>\n",
       "      <td>full-size</td>\n",
       "      <td>SUV</td>\n",
       "      <td>white</td>\n",
       "      <td>https://images.craigslist.org/00l0l_dvpp885wkz...</td>\n",
       "      <td>Frontier Auto Sales wants you to know we're ab...</td>\n",
       "      <td>NaN</td>\n",
       "      <td>ak</td>\n",
       "      <td>61.1663</td>\n",
       "      <td>-149.8580</td>\n",
       "      <td>15995</td>\n",
       "    </tr>\n",
       "  </tbody>\n",
       "</table>\n",
       "</div>"
      ],
      "text/plain": [
       "               region                         region_url    year manufacturer  \\\n",
       "0         san antonio  https://sanantonio.craigslist.org  2018.0        honda   \n",
       "1             augusta     https://augusta.craigslist.org  2006.0         ford   \n",
       "2    hickory / lenoir     https://hickory.craigslist.org     NaN          NaN   \n",
       "3    fargo / moorhead       https://fargo.craigslist.org     NaN          NaN   \n",
       "4         los angeles  https://losangeles.craigslist.org     NaN          NaN   \n",
       "5           asheville   https://asheville.craigslist.org  2011.0       toyota   \n",
       "6         los angeles  https://losangeles.craigslist.org     NaN          NaN   \n",
       "7          sacramento  https://sacramento.craigslist.org     NaN          NaN   \n",
       "8             orlando     https://orlando.craigslist.org  1961.0          NaN   \n",
       "9  anchorage / mat-su   https://anchorage.craigslist.org  2013.0        dodge   \n",
       "\n",
       "               model_name car_condition   #cylinders fuel_type  odometer  \\\n",
       "0             accord ex-l           NaN          NaN       gas       NaN   \n",
       "1  f250 super duty diesel     excellent          NaN    diesel  169438.0   \n",
       "2                     NaN           NaN          NaN       NaN       NaN   \n",
       "3                     NaN           NaN          NaN       NaN       NaN   \n",
       "4                     NaN           NaN          NaN       NaN       NaN   \n",
       "5                   prius           NaN  4 cylinders    hybrid  291960.0   \n",
       "6                     NaN           NaN          NaN       NaN       NaN   \n",
       "7                     NaN           NaN          NaN       NaN       NaN   \n",
       "8       morris minor 1000          good  4 cylinders       gas   18927.0   \n",
       "9             journey r/t      like new  6 cylinders       gas   75513.0   \n",
       "\n",
       "  title_status transmission                vin drive       size car_type  \\\n",
       "0        clean    automatic                NaN   NaN        NaN      NaN   \n",
       "1        clean    automatic                NaN   rwd  full-size    truck   \n",
       "2          NaN          NaN                NaN   NaN        NaN      NaN   \n",
       "3          NaN          NaN                NaN   NaN        NaN      NaN   \n",
       "4          NaN          NaN                NaN   NaN        NaN      NaN   \n",
       "5      salvage    automatic  JTDKN3DU5B1435523   fwd        NaN    other   \n",
       "6          NaN          NaN                NaN   NaN        NaN      NaN   \n",
       "7          NaN          NaN                NaN   NaN        NaN      NaN   \n",
       "8        clean       manual                NaN   rwd    compact    sedan   \n",
       "9        clean    automatic  3C4PDDEG8DT601844   4wd  full-size      SUV   \n",
       "\n",
       "  car_color                                          image_url  \\\n",
       "0       NaN  https://images.craigslist.org/00W0W_jPnECYbxWm...   \n",
       "1     white  https://images.craigslist.org/00U0U_5ROtvUdu72...   \n",
       "2       NaN                                                NaN   \n",
       "3       NaN                                                NaN   \n",
       "4       NaN                                                NaN   \n",
       "5       NaN  https://images.craigslist.org/00k0k_5zDaJ7rhh5...   \n",
       "6       NaN                                                NaN   \n",
       "7       NaN                                                NaN   \n",
       "8    custom  https://images.craigslist.org/00e0e_iSSDfrtowG...   \n",
       "9     white  https://images.craigslist.org/00l0l_dvpp885wkz...   \n",
       "\n",
       "                                     car_description  county state  latitude  \\\n",
       "0  Price: $24,900 Miles: 31,269 Engine: 1.5L Turb...     NaN    tx   29.5407   \n",
       "1  2006 Ford F250 Lariat SuperDuty Crew Cab 4 doo...     NaN    ga   33.5161   \n",
       "2                                                NaN     NaN    nc       NaN   \n",
       "3                                                NaN     NaN    mn       NaN   \n",
       "4                                                NaN     NaN    ca       NaN   \n",
       "5  This Toyota Prius can be yours today!If you ha...     NaN    nc   35.3119   \n",
       "6                                                NaN     NaN    ca       NaN   \n",
       "7                                                NaN     NaN    ca       NaN   \n",
       "8  Restored.  Has towing hitch to pull behind mot...     NaN    fl   28.5525   \n",
       "9  Frontier Auto Sales wants you to know we're ab...     NaN    ak   61.1663   \n",
       "\n",
       "   longitude  price_of_car  \n",
       "0   -98.5521         24900  \n",
       "1   -82.0785             0  \n",
       "2        NaN          4500  \n",
       "3        NaN         20000  \n",
       "4        NaN             0  \n",
       "5   -81.0306          6500  \n",
       "6        NaN          8995  \n",
       "7        NaN          7000  \n",
       "8   -81.7574         12500  \n",
       "9  -149.8580         15995  "
      ]
     },
     "execution_count": 5,
     "metadata": {},
     "output_type": "execute_result"
    }
   ],
   "source": [
    "train_data.head(10)"
   ]
  },
  {
   "cell_type": "code",
   "execution_count": 6,
   "metadata": {},
   "outputs": [],
   "source": [
    "train_data.drop(['region_url', 'title_status', 'vin', 'drive', 'size', 'car_color', 'image_url', 'car_description', 'county', 'state', 'latitude', 'longitude', 'transmission'], axis=1, inplace=True)\n",
    "test_data.drop(['region_url', 'title_status', 'vin', 'drive', 'size', 'car_color', 'image_url', 'car_description', 'county', 'state', 'latitude', 'longitude', 'transmission'], axis=1, inplace=True)"
   ]
  },
  {
   "cell_type": "code",
   "execution_count": 7,
   "metadata": {},
   "outputs": [
    {
     "data": {
      "text/plain": [
       "(37500, 10)"
      ]
     },
     "execution_count": 7,
     "metadata": {},
     "output_type": "execute_result"
    }
   ],
   "source": [
    "train_data.shape"
   ]
  },
  {
   "cell_type": "code",
   "execution_count": 8,
   "metadata": {},
   "outputs": [
    {
     "data": {
      "text/plain": [
       "region               0\n",
       "year             15975\n",
       "manufacturer     16896\n",
       "model_name       16174\n",
       "car_condition    26360\n",
       "#cylinders       24668\n",
       "fuel_type        16091\n",
       "odometer         19929\n",
       "car_type         21326\n",
       "price_of_car         0\n",
       "dtype: int64"
      ]
     },
     "execution_count": 8,
     "metadata": {},
     "output_type": "execute_result"
    }
   ],
   "source": [
    "train_data.isnull().sum()"
   ]
  },
  {
   "cell_type": "code",
   "execution_count": 9,
   "metadata": {},
   "outputs": [
    {
     "data": {
      "text/plain": [
       "region              0\n",
       "year             5161\n",
       "manufacturer     5485\n",
       "model_name       5240\n",
       "car_condition    8674\n",
       "#cylinders       8144\n",
       "fuel_type        5214\n",
       "odometer         6504\n",
       "car_type         7017\n",
       "dtype: int64"
      ]
     },
     "execution_count": 9,
     "metadata": {},
     "output_type": "execute_result"
    }
   ],
   "source": [
    "test_data.isnull().sum()"
   ]
  },
  {
   "cell_type": "code",
   "execution_count": 10,
   "metadata": {},
   "outputs": [
    {
     "data": {
      "text/plain": [
       "False    21525\n",
       "True     15975\n",
       "Name: year, dtype: int64"
      ]
     },
     "execution_count": 10,
     "metadata": {},
     "output_type": "execute_result"
    }
   ],
   "source": [
    "train_data['year'].isnull().value_counts()"
   ]
  },
  {
   "cell_type": "code",
   "execution_count": 11,
   "metadata": {},
   "outputs": [
    {
     "data": {
      "text/plain": [
       "2017.0"
      ]
     },
     "execution_count": 11,
     "metadata": {},
     "output_type": "execute_result"
    }
   ],
   "source": [
    "train_data['year'].mode()[0]"
   ]
  },
  {
   "cell_type": "code",
   "execution_count": 12,
   "metadata": {},
   "outputs": [],
   "source": [
    "train_data['year'].fillna(train_data['year'].mode()[0], inplace=True)\n",
    "test_data['year'].fillna(test_data['year'].mode()[0], inplace=True)"
   ]
  },
  {
   "cell_type": "code",
   "execution_count": 13,
   "metadata": {},
   "outputs": [
    {
     "data": {
      "text/plain": [
       "False    20604\n",
       "True     16896\n",
       "Name: manufacturer, dtype: int64"
      ]
     },
     "execution_count": 13,
     "metadata": {},
     "output_type": "execute_result"
    }
   ],
   "source": [
    "train_data['manufacturer'].isnull().value_counts()"
   ]
  },
  {
   "cell_type": "code",
   "execution_count": 14,
   "metadata": {},
   "outputs": [
    {
     "data": {
      "text/plain": [
       "'ford'"
      ]
     },
     "execution_count": 14,
     "metadata": {},
     "output_type": "execute_result"
    }
   ],
   "source": [
    "train_data['manufacturer'].mode()[0]"
   ]
  },
  {
   "cell_type": "code",
   "execution_count": 15,
   "metadata": {},
   "outputs": [],
   "source": [
    "train_data['manufacturer'].fillna(train_data['manufacturer'].mode()[0], inplace=True)\n",
    "test_data['manufacturer'].fillna(test_data['manufacturer'].mode()[0], inplace=True)"
   ]
  },
  {
   "cell_type": "code",
   "execution_count": 16,
   "metadata": {},
   "outputs": [],
   "source": [
    "train_data['model_name'].fillna(train_data['model_name'].mode()[0], inplace=True)\n",
    "test_data['model_name'].fillna(test_data['model_name'].mode()[0], inplace=True)"
   ]
  },
  {
   "cell_type": "code",
   "execution_count": 17,
   "metadata": {},
   "outputs": [],
   "source": [
    "train_data['car_condition'].fillna(train_data['car_condition'].mode()[0], inplace=True)\n",
    "test_data['car_condition'].fillna(test_data['car_condition'].mode()[0], inplace=True)"
   ]
  },
  {
   "cell_type": "code",
   "execution_count": 18,
   "metadata": {},
   "outputs": [],
   "source": [
    "train_data['#cylinders'].fillna(train_data['#cylinders'].mode()[0], inplace=True)\n",
    "test_data['#cylinders'].fillna(test_data['#cylinders'].mode()[0], inplace=True)"
   ]
  },
  {
   "cell_type": "code",
   "execution_count": 19,
   "metadata": {},
   "outputs": [],
   "source": [
    "train_data['fuel_type'].fillna(train_data['fuel_type'].mode()[0], inplace=True)\n",
    "test_data['fuel_type'].fillna(test_data['fuel_type'].mode()[0], inplace=True)"
   ]
  },
  {
   "cell_type": "code",
   "execution_count": 20,
   "metadata": {},
   "outputs": [],
   "source": [
    "train_data['odometer'].fillna(train_data['odometer'].mode()[0], inplace=True)\n",
    "test_data['odometer'].fillna(test_data['odometer'].mode()[0], inplace=True)"
   ]
  },
  {
   "cell_type": "code",
   "execution_count": 21,
   "metadata": {},
   "outputs": [],
   "source": [
    "train_data['car_type'].fillna(train_data['car_type'].mode()[0], inplace=True)\n",
    "test_data['car_type'].fillna(test_data['car_type'].mode()[0], inplace=True)"
   ]
  },
  {
   "cell_type": "code",
   "execution_count": 22,
   "metadata": {},
   "outputs": [
    {
     "data": {
      "text/html": [
       "<div>\n",
       "<style scoped>\n",
       "    .dataframe tbody tr th:only-of-type {\n",
       "        vertical-align: middle;\n",
       "    }\n",
       "\n",
       "    .dataframe tbody tr th {\n",
       "        vertical-align: top;\n",
       "    }\n",
       "\n",
       "    .dataframe thead th {\n",
       "        text-align: right;\n",
       "    }\n",
       "</style>\n",
       "<table border=\"1\" class=\"dataframe\">\n",
       "  <thead>\n",
       "    <tr style=\"text-align: right;\">\n",
       "      <th></th>\n",
       "      <th>region</th>\n",
       "      <th>year</th>\n",
       "      <th>manufacturer</th>\n",
       "      <th>model_name</th>\n",
       "      <th>car_condition</th>\n",
       "      <th>#cylinders</th>\n",
       "      <th>fuel_type</th>\n",
       "      <th>odometer</th>\n",
       "      <th>car_type</th>\n",
       "      <th>price_of_car</th>\n",
       "    </tr>\n",
       "  </thead>\n",
       "  <tbody>\n",
       "    <tr>\n",
       "      <th>0</th>\n",
       "      <td>san antonio</td>\n",
       "      <td>2018.0</td>\n",
       "      <td>honda</td>\n",
       "      <td>accord ex-l</td>\n",
       "      <td>excellent</td>\n",
       "      <td>4 cylinders</td>\n",
       "      <td>gas</td>\n",
       "      <td>0.0</td>\n",
       "      <td>sedan</td>\n",
       "      <td>24900</td>\n",
       "    </tr>\n",
       "    <tr>\n",
       "      <th>1</th>\n",
       "      <td>augusta</td>\n",
       "      <td>2006.0</td>\n",
       "      <td>ford</td>\n",
       "      <td>f250 super duty diesel</td>\n",
       "      <td>excellent</td>\n",
       "      <td>4 cylinders</td>\n",
       "      <td>diesel</td>\n",
       "      <td>169438.0</td>\n",
       "      <td>truck</td>\n",
       "      <td>0</td>\n",
       "    </tr>\n",
       "    <tr>\n",
       "      <th>2</th>\n",
       "      <td>hickory / lenoir</td>\n",
       "      <td>2017.0</td>\n",
       "      <td>ford</td>\n",
       "      <td>f-150</td>\n",
       "      <td>excellent</td>\n",
       "      <td>4 cylinders</td>\n",
       "      <td>gas</td>\n",
       "      <td>0.0</td>\n",
       "      <td>sedan</td>\n",
       "      <td>4500</td>\n",
       "    </tr>\n",
       "    <tr>\n",
       "      <th>3</th>\n",
       "      <td>fargo / moorhead</td>\n",
       "      <td>2017.0</td>\n",
       "      <td>ford</td>\n",
       "      <td>f-150</td>\n",
       "      <td>excellent</td>\n",
       "      <td>4 cylinders</td>\n",
       "      <td>gas</td>\n",
       "      <td>0.0</td>\n",
       "      <td>sedan</td>\n",
       "      <td>20000</td>\n",
       "    </tr>\n",
       "    <tr>\n",
       "      <th>4</th>\n",
       "      <td>los angeles</td>\n",
       "      <td>2017.0</td>\n",
       "      <td>ford</td>\n",
       "      <td>f-150</td>\n",
       "      <td>excellent</td>\n",
       "      <td>4 cylinders</td>\n",
       "      <td>gas</td>\n",
       "      <td>0.0</td>\n",
       "      <td>sedan</td>\n",
       "      <td>0</td>\n",
       "    </tr>\n",
       "  </tbody>\n",
       "</table>\n",
       "</div>"
      ],
      "text/plain": [
       "             region    year manufacturer              model_name  \\\n",
       "0       san antonio  2018.0        honda             accord ex-l   \n",
       "1           augusta  2006.0         ford  f250 super duty diesel   \n",
       "2  hickory / lenoir  2017.0         ford                   f-150   \n",
       "3  fargo / moorhead  2017.0         ford                   f-150   \n",
       "4       los angeles  2017.0         ford                   f-150   \n",
       "\n",
       "  car_condition   #cylinders fuel_type  odometer car_type  price_of_car  \n",
       "0     excellent  4 cylinders       gas       0.0    sedan         24900  \n",
       "1     excellent  4 cylinders    diesel  169438.0    truck             0  \n",
       "2     excellent  4 cylinders       gas       0.0    sedan          4500  \n",
       "3     excellent  4 cylinders       gas       0.0    sedan         20000  \n",
       "4     excellent  4 cylinders       gas       0.0    sedan             0  "
      ]
     },
     "execution_count": 22,
     "metadata": {},
     "output_type": "execute_result"
    }
   ],
   "source": [
    "train_data.head()"
   ]
  },
  {
   "cell_type": "code",
   "execution_count": 23,
   "metadata": {},
   "outputs": [
    {
     "data": {
      "text/html": [
       "<div>\n",
       "<style scoped>\n",
       "    .dataframe tbody tr th:only-of-type {\n",
       "        vertical-align: middle;\n",
       "    }\n",
       "\n",
       "    .dataframe tbody tr th {\n",
       "        vertical-align: top;\n",
       "    }\n",
       "\n",
       "    .dataframe thead th {\n",
       "        text-align: right;\n",
       "    }\n",
       "</style>\n",
       "<table border=\"1\" class=\"dataframe\">\n",
       "  <thead>\n",
       "    <tr style=\"text-align: right;\">\n",
       "      <th></th>\n",
       "      <th>region</th>\n",
       "      <th>year</th>\n",
       "      <th>manufacturer</th>\n",
       "      <th>model_name</th>\n",
       "      <th>car_condition</th>\n",
       "      <th>#cylinders</th>\n",
       "      <th>fuel_type</th>\n",
       "      <th>odometer</th>\n",
       "      <th>car_type</th>\n",
       "    </tr>\n",
       "  </thead>\n",
       "  <tbody>\n",
       "    <tr>\n",
       "      <th>0</th>\n",
       "      <td>moses lake</td>\n",
       "      <td>2018.0</td>\n",
       "      <td>jeep</td>\n",
       "      <td>wrangler jk unlimited 4x4</td>\n",
       "      <td>excellent</td>\n",
       "      <td>4 cylinders</td>\n",
       "      <td>gas</td>\n",
       "      <td>44721.0</td>\n",
       "      <td>SUV</td>\n",
       "    </tr>\n",
       "    <tr>\n",
       "      <th>1</th>\n",
       "      <td>east oregon</td>\n",
       "      <td>1988.0</td>\n",
       "      <td>gmc</td>\n",
       "      <td>sierra</td>\n",
       "      <td>good</td>\n",
       "      <td>8 cylinders</td>\n",
       "      <td>gas</td>\n",
       "      <td>0.0</td>\n",
       "      <td>sedan</td>\n",
       "    </tr>\n",
       "    <tr>\n",
       "      <th>2</th>\n",
       "      <td>springfield</td>\n",
       "      <td>2017.0</td>\n",
       "      <td>ford</td>\n",
       "      <td>f-150</td>\n",
       "      <td>excellent</td>\n",
       "      <td>4 cylinders</td>\n",
       "      <td>gas</td>\n",
       "      <td>0.0</td>\n",
       "      <td>sedan</td>\n",
       "    </tr>\n",
       "    <tr>\n",
       "      <th>3</th>\n",
       "      <td>sacramento</td>\n",
       "      <td>2017.0</td>\n",
       "      <td>ford</td>\n",
       "      <td>f-150</td>\n",
       "      <td>excellent</td>\n",
       "      <td>4 cylinders</td>\n",
       "      <td>gas</td>\n",
       "      <td>0.0</td>\n",
       "      <td>sedan</td>\n",
       "    </tr>\n",
       "    <tr>\n",
       "      <th>4</th>\n",
       "      <td>north mississippi</td>\n",
       "      <td>2017.0</td>\n",
       "      <td>ford</td>\n",
       "      <td>f-150</td>\n",
       "      <td>excellent</td>\n",
       "      <td>4 cylinders</td>\n",
       "      <td>gas</td>\n",
       "      <td>0.0</td>\n",
       "      <td>sedan</td>\n",
       "    </tr>\n",
       "  </tbody>\n",
       "</table>\n",
       "</div>"
      ],
      "text/plain": [
       "              region    year manufacturer                 model_name  \\\n",
       "0         moses lake  2018.0         jeep  wrangler jk unlimited 4x4   \n",
       "1        east oregon  1988.0          gmc                     sierra   \n",
       "2        springfield  2017.0         ford                      f-150   \n",
       "3         sacramento  2017.0         ford                      f-150   \n",
       "4  north mississippi  2017.0         ford                      f-150   \n",
       "\n",
       "  car_condition   #cylinders fuel_type  odometer car_type  \n",
       "0     excellent  4 cylinders       gas   44721.0      SUV  \n",
       "1          good  8 cylinders       gas       0.0    sedan  \n",
       "2     excellent  4 cylinders       gas       0.0    sedan  \n",
       "3     excellent  4 cylinders       gas       0.0    sedan  \n",
       "4     excellent  4 cylinders       gas       0.0    sedan  "
      ]
     },
     "execution_count": 23,
     "metadata": {},
     "output_type": "execute_result"
    }
   ],
   "source": [
    "test_data.head()"
   ]
  },
  {
   "cell_type": "markdown",
   "metadata": {},
   "source": [
    "### Conver the datatype of columns from float to int"
   ]
  },
  {
   "cell_type": "code",
   "execution_count": 24,
   "metadata": {},
   "outputs": [],
   "source": [
    "train_data['year'] = train_data['year'].astype(int)\n",
    "test_data['year'] = test_data['year'].astype(int)\n",
    "\n",
    "train_data['odometer'] = train_data['odometer'].astype(int)\n",
    "test_data['odometer'] = test_data['odometer'].astype(int)"
   ]
  },
  {
   "cell_type": "code",
   "execution_count": 25,
   "metadata": {},
   "outputs": [
    {
     "data": {
      "text/plain": [
       "(37500, 10)"
      ]
     },
     "execution_count": 25,
     "metadata": {},
     "output_type": "execute_result"
    }
   ],
   "source": [
    "train_data.shape"
   ]
  },
  {
   "cell_type": "code",
   "execution_count": 26,
   "metadata": {},
   "outputs": [
    {
     "data": {
      "text/plain": [
       "(12500, 9)"
      ]
     },
     "execution_count": 26,
     "metadata": {},
     "output_type": "execute_result"
    }
   ],
   "source": [
    "test_data.shape"
   ]
  },
  {
   "cell_type": "markdown",
   "metadata": {},
   "source": [
    "### Working on the Region column"
   ]
  },
  {
   "cell_type": "code",
   "execution_count": 27,
   "metadata": {},
   "outputs": [
    {
     "data": {
      "text/plain": [
       "los angeles              2027\n",
       "SF bay area              1894\n",
       "minneapolis / st paul    1676\n",
       "sacramento               1575\n",
       "san diego                1182\n",
       "                         ... \n",
       "ogden-clearfield            1\n",
       "pullman / moscow            1\n",
       "new haven                   1\n",
       "clovis / portales           1\n",
       "southwest TX                1\n",
       "Name: region, Length: 238, dtype: int64"
      ]
     },
     "execution_count": 27,
     "metadata": {},
     "output_type": "execute_result"
    }
   ],
   "source": [
    "train_data['region'].value_counts()"
   ]
  },
  {
   "cell_type": "code",
   "execution_count": 28,
   "metadata": {},
   "outputs": [
    {
     "data": {
      "text/plain": [
       "238"
      ]
     },
     "execution_count": 28,
     "metadata": {},
     "output_type": "execute_result"
    }
   ],
   "source": [
    "len(train_data['region'].unique())"
   ]
  },
  {
   "cell_type": "markdown",
   "metadata": {},
   "source": [
    "### Apply Label Encoder"
   ]
  },
  {
   "cell_type": "code",
   "execution_count": 29,
   "metadata": {},
   "outputs": [],
   "source": [
    "from sklearn.preprocessing import LabelEncoder"
   ]
  },
  {
   "cell_type": "code",
   "execution_count": 30,
   "metadata": {},
   "outputs": [],
   "source": [
    "le = LabelEncoder()\n",
    "\n",
    "train_data['region']= le.fit_transform(train_data['region'])\n",
    "test_data['region']= le.fit_transform(test_data['region'])"
   ]
  },
  {
   "cell_type": "code",
   "execution_count": 31,
   "metadata": {},
   "outputs": [
    {
     "data": {
      "text/html": [
       "<div>\n",
       "<style scoped>\n",
       "    .dataframe tbody tr th:only-of-type {\n",
       "        vertical-align: middle;\n",
       "    }\n",
       "\n",
       "    .dataframe tbody tr th {\n",
       "        vertical-align: top;\n",
       "    }\n",
       "\n",
       "    .dataframe thead th {\n",
       "        text-align: right;\n",
       "    }\n",
       "</style>\n",
       "<table border=\"1\" class=\"dataframe\">\n",
       "  <thead>\n",
       "    <tr style=\"text-align: right;\">\n",
       "      <th></th>\n",
       "      <th>region</th>\n",
       "      <th>year</th>\n",
       "      <th>manufacturer</th>\n",
       "      <th>model_name</th>\n",
       "      <th>car_condition</th>\n",
       "      <th>#cylinders</th>\n",
       "      <th>fuel_type</th>\n",
       "      <th>odometer</th>\n",
       "      <th>car_type</th>\n",
       "      <th>price_of_car</th>\n",
       "    </tr>\n",
       "  </thead>\n",
       "  <tbody>\n",
       "    <tr>\n",
       "      <th>0</th>\n",
       "      <td>175</td>\n",
       "      <td>2018</td>\n",
       "      <td>honda</td>\n",
       "      <td>accord ex-l</td>\n",
       "      <td>excellent</td>\n",
       "      <td>4 cylinders</td>\n",
       "      <td>gas</td>\n",
       "      <td>0</td>\n",
       "      <td>sedan</td>\n",
       "      <td>24900</td>\n",
       "    </tr>\n",
       "    <tr>\n",
       "      <th>1</th>\n",
       "      <td>8</td>\n",
       "      <td>2006</td>\n",
       "      <td>ford</td>\n",
       "      <td>f250 super duty diesel</td>\n",
       "      <td>excellent</td>\n",
       "      <td>4 cylinders</td>\n",
       "      <td>diesel</td>\n",
       "      <td>169438</td>\n",
       "      <td>truck</td>\n",
       "      <td>0</td>\n",
       "    </tr>\n",
       "    <tr>\n",
       "      <th>2</th>\n",
       "      <td>67</td>\n",
       "      <td>2017</td>\n",
       "      <td>ford</td>\n",
       "      <td>f-150</td>\n",
       "      <td>excellent</td>\n",
       "      <td>4 cylinders</td>\n",
       "      <td>gas</td>\n",
       "      <td>0</td>\n",
       "      <td>sedan</td>\n",
       "      <td>4500</td>\n",
       "    </tr>\n",
       "    <tr>\n",
       "      <th>3</th>\n",
       "      <td>48</td>\n",
       "      <td>2017</td>\n",
       "      <td>ford</td>\n",
       "      <td>f-150</td>\n",
       "      <td>excellent</td>\n",
       "      <td>4 cylinders</td>\n",
       "      <td>gas</td>\n",
       "      <td>0</td>\n",
       "      <td>sedan</td>\n",
       "      <td>20000</td>\n",
       "    </tr>\n",
       "    <tr>\n",
       "      <th>4</th>\n",
       "      <td>100</td>\n",
       "      <td>2017</td>\n",
       "      <td>ford</td>\n",
       "      <td>f-150</td>\n",
       "      <td>excellent</td>\n",
       "      <td>4 cylinders</td>\n",
       "      <td>gas</td>\n",
       "      <td>0</td>\n",
       "      <td>sedan</td>\n",
       "      <td>0</td>\n",
       "    </tr>\n",
       "  </tbody>\n",
       "</table>\n",
       "</div>"
      ],
      "text/plain": [
       "   region  year manufacturer              model_name car_condition  \\\n",
       "0     175  2018        honda             accord ex-l     excellent   \n",
       "1       8  2006         ford  f250 super duty diesel     excellent   \n",
       "2      67  2017         ford                   f-150     excellent   \n",
       "3      48  2017         ford                   f-150     excellent   \n",
       "4     100  2017         ford                   f-150     excellent   \n",
       "\n",
       "    #cylinders fuel_type  odometer car_type  price_of_car  \n",
       "0  4 cylinders       gas         0    sedan         24900  \n",
       "1  4 cylinders    diesel    169438    truck             0  \n",
       "2  4 cylinders       gas         0    sedan          4500  \n",
       "3  4 cylinders       gas         0    sedan         20000  \n",
       "4  4 cylinders       gas         0    sedan             0  "
      ]
     },
     "execution_count": 31,
     "metadata": {},
     "output_type": "execute_result"
    }
   ],
   "source": [
    "train_data.head()"
   ]
  },
  {
   "cell_type": "code",
   "execution_count": 32,
   "metadata": {},
   "outputs": [],
   "source": [
    "train_data['manufacturer']= le.fit_transform(train_data['manufacturer'])\n",
    "test_data['manufacturer']= le.fit_transform(test_data['manufacturer'])\n",
    "\n",
    "train_data['model_name']= le.fit_transform(train_data['model_name'])\n",
    "test_data['model_name']= le.fit_transform(test_data['model_name'])\n",
    "\n",
    "train_data['car_condition']= le.fit_transform(train_data['car_condition'])\n",
    "test_data['car_condition']= le.fit_transform(test_data['car_condition'])\n",
    "\n",
    "train_data['#cylinders']= le.fit_transform(train_data['#cylinders'])\n",
    "test_data['#cylinders']= le.fit_transform(test_data['#cylinders'])\n",
    "\n",
    "train_data['fuel_type']= le.fit_transform(train_data['fuel_type'])\n",
    "test_data['fuel_type']= le.fit_transform(test_data['fuel_type'])\n",
    "\n",
    "train_data['odometer']= le.fit_transform(train_data['odometer'])\n",
    "test_data['odometer']= le.fit_transform(test_data['odometer'])\n",
    "\n",
    "train_data['car_type']= le.fit_transform(train_data['car_type'])\n",
    "test_data['car_type']= le.fit_transform(test_data['car_type'])"
   ]
  },
  {
   "cell_type": "code",
   "execution_count": 33,
   "metadata": {},
   "outputs": [
    {
     "data": {
      "text/html": [
       "<div>\n",
       "<style scoped>\n",
       "    .dataframe tbody tr th:only-of-type {\n",
       "        vertical-align: middle;\n",
       "    }\n",
       "\n",
       "    .dataframe tbody tr th {\n",
       "        vertical-align: top;\n",
       "    }\n",
       "\n",
       "    .dataframe thead th {\n",
       "        text-align: right;\n",
       "    }\n",
       "</style>\n",
       "<table border=\"1\" class=\"dataframe\">\n",
       "  <thead>\n",
       "    <tr style=\"text-align: right;\">\n",
       "      <th></th>\n",
       "      <th>region</th>\n",
       "      <th>year</th>\n",
       "      <th>manufacturer</th>\n",
       "      <th>model_name</th>\n",
       "      <th>car_condition</th>\n",
       "      <th>#cylinders</th>\n",
       "      <th>fuel_type</th>\n",
       "      <th>odometer</th>\n",
       "      <th>car_type</th>\n",
       "      <th>price_of_car</th>\n",
       "    </tr>\n",
       "  </thead>\n",
       "  <tbody>\n",
       "    <tr>\n",
       "      <th>0</th>\n",
       "      <td>175</td>\n",
       "      <td>2018</td>\n",
       "      <td>16</td>\n",
       "      <td>1081</td>\n",
       "      <td>0</td>\n",
       "      <td>3</td>\n",
       "      <td>2</td>\n",
       "      <td>0</td>\n",
       "      <td>9</td>\n",
       "      <td>24900</td>\n",
       "    </tr>\n",
       "    <tr>\n",
       "      <th>1</th>\n",
       "      <td>8</td>\n",
       "      <td>2006</td>\n",
       "      <td>13</td>\n",
       "      <td>2567</td>\n",
       "      <td>0</td>\n",
       "      <td>3</td>\n",
       "      <td>0</td>\n",
       "      <td>10602</td>\n",
       "      <td>10</td>\n",
       "      <td>0</td>\n",
       "    </tr>\n",
       "    <tr>\n",
       "      <th>2</th>\n",
       "      <td>67</td>\n",
       "      <td>2017</td>\n",
       "      <td>13</td>\n",
       "      <td>2317</td>\n",
       "      <td>0</td>\n",
       "      <td>3</td>\n",
       "      <td>2</td>\n",
       "      <td>0</td>\n",
       "      <td>9</td>\n",
       "      <td>4500</td>\n",
       "    </tr>\n",
       "    <tr>\n",
       "      <th>3</th>\n",
       "      <td>48</td>\n",
       "      <td>2017</td>\n",
       "      <td>13</td>\n",
       "      <td>2317</td>\n",
       "      <td>0</td>\n",
       "      <td>3</td>\n",
       "      <td>2</td>\n",
       "      <td>0</td>\n",
       "      <td>9</td>\n",
       "      <td>20000</td>\n",
       "    </tr>\n",
       "    <tr>\n",
       "      <th>4</th>\n",
       "      <td>100</td>\n",
       "      <td>2017</td>\n",
       "      <td>13</td>\n",
       "      <td>2317</td>\n",
       "      <td>0</td>\n",
       "      <td>3</td>\n",
       "      <td>2</td>\n",
       "      <td>0</td>\n",
       "      <td>9</td>\n",
       "      <td>0</td>\n",
       "    </tr>\n",
       "  </tbody>\n",
       "</table>\n",
       "</div>"
      ],
      "text/plain": [
       "   region  year  manufacturer  model_name  car_condition  #cylinders  \\\n",
       "0     175  2018            16        1081              0           3   \n",
       "1       8  2006            13        2567              0           3   \n",
       "2      67  2017            13        2317              0           3   \n",
       "3      48  2017            13        2317              0           3   \n",
       "4     100  2017            13        2317              0           3   \n",
       "\n",
       "   fuel_type  odometer  car_type  price_of_car  \n",
       "0          2         0         9         24900  \n",
       "1          0     10602        10             0  \n",
       "2          2         0         9          4500  \n",
       "3          2         0         9         20000  \n",
       "4          2         0         9             0  "
      ]
     },
     "execution_count": 33,
     "metadata": {},
     "output_type": "execute_result"
    }
   ],
   "source": [
    "train_data.head()"
   ]
  },
  {
   "cell_type": "code",
   "execution_count": 34,
   "metadata": {},
   "outputs": [
    {
     "data": {
      "text/html": [
       "<div>\n",
       "<style scoped>\n",
       "    .dataframe tbody tr th:only-of-type {\n",
       "        vertical-align: middle;\n",
       "    }\n",
       "\n",
       "    .dataframe tbody tr th {\n",
       "        vertical-align: top;\n",
       "    }\n",
       "\n",
       "    .dataframe thead th {\n",
       "        text-align: right;\n",
       "    }\n",
       "</style>\n",
       "<table border=\"1\" class=\"dataframe\">\n",
       "  <thead>\n",
       "    <tr style=\"text-align: right;\">\n",
       "      <th></th>\n",
       "      <th>region</th>\n",
       "      <th>year</th>\n",
       "      <th>manufacturer</th>\n",
       "      <th>model_name</th>\n",
       "      <th>car_condition</th>\n",
       "      <th>#cylinders</th>\n",
       "      <th>fuel_type</th>\n",
       "      <th>odometer</th>\n",
       "      <th>car_type</th>\n",
       "    </tr>\n",
       "  </thead>\n",
       "  <tbody>\n",
       "    <tr>\n",
       "      <th>0</th>\n",
       "      <td>122</td>\n",
       "      <td>2018</td>\n",
       "      <td>19</td>\n",
       "      <td>2592</td>\n",
       "      <td>0</td>\n",
       "      <td>3</td>\n",
       "      <td>2</td>\n",
       "      <td>1272</td>\n",
       "      <td>0</td>\n",
       "    </tr>\n",
       "    <tr>\n",
       "      <th>1</th>\n",
       "      <td>39</td>\n",
       "      <td>1988</td>\n",
       "      <td>13</td>\n",
       "      <td>2153</td>\n",
       "      <td>2</td>\n",
       "      <td>6</td>\n",
       "      <td>2</td>\n",
       "      <td>0</td>\n",
       "      <td>9</td>\n",
       "    </tr>\n",
       "    <tr>\n",
       "      <th>2</th>\n",
       "      <td>193</td>\n",
       "      <td>2017</td>\n",
       "      <td>12</td>\n",
       "      <td>1133</td>\n",
       "      <td>0</td>\n",
       "      <td>3</td>\n",
       "      <td>2</td>\n",
       "      <td>0</td>\n",
       "      <td>9</td>\n",
       "    </tr>\n",
       "    <tr>\n",
       "      <th>3</th>\n",
       "      <td>165</td>\n",
       "      <td>2017</td>\n",
       "      <td>12</td>\n",
       "      <td>1133</td>\n",
       "      <td>0</td>\n",
       "      <td>3</td>\n",
       "      <td>2</td>\n",
       "      <td>0</td>\n",
       "      <td>9</td>\n",
       "    </tr>\n",
       "    <tr>\n",
       "      <th>4</th>\n",
       "      <td>130</td>\n",
       "      <td>2017</td>\n",
       "      <td>12</td>\n",
       "      <td>1133</td>\n",
       "      <td>0</td>\n",
       "      <td>3</td>\n",
       "      <td>2</td>\n",
       "      <td>0</td>\n",
       "      <td>9</td>\n",
       "    </tr>\n",
       "  </tbody>\n",
       "</table>\n",
       "</div>"
      ],
      "text/plain": [
       "   region  year  manufacturer  model_name  car_condition  #cylinders  \\\n",
       "0     122  2018            19        2592              0           3   \n",
       "1      39  1988            13        2153              2           6   \n",
       "2     193  2017            12        1133              0           3   \n",
       "3     165  2017            12        1133              0           3   \n",
       "4     130  2017            12        1133              0           3   \n",
       "\n",
       "   fuel_type  odometer  car_type  \n",
       "0          2      1272         0  \n",
       "1          2         0         9  \n",
       "2          2         0         9  \n",
       "3          2         0         9  \n",
       "4          2         0         9  "
      ]
     },
     "execution_count": 34,
     "metadata": {},
     "output_type": "execute_result"
    }
   ],
   "source": [
    "test_data.head()"
   ]
  },
  {
   "cell_type": "markdown",
   "metadata": {},
   "source": [
    "### Working with the odometer column"
   ]
  },
  {
   "cell_type": "code",
   "execution_count": 35,
   "metadata": {},
   "outputs": [
    {
     "data": {
      "text/plain": [
       "(37500, 10)"
      ]
     },
     "execution_count": 35,
     "metadata": {},
     "output_type": "execute_result"
    }
   ],
   "source": [
    "train_data.shape"
   ]
  },
  {
   "cell_type": "code",
   "execution_count": 36,
   "metadata": {},
   "outputs": [
    {
     "data": {
      "text/plain": [
       "0        20077\n",
       "9945        48\n",
       "8930        46\n",
       "7763        41\n",
       "10616       38\n",
       "         ...  \n",
       "852          1\n",
       "11089        1\n",
       "9040         1\n",
       "6967         1\n",
       "8140         1\n",
       "Name: odometer, Length: 11952, dtype: int64"
      ]
     },
     "execution_count": 36,
     "metadata": {},
     "output_type": "execute_result"
    }
   ],
   "source": [
    "train_data.odometer.value_counts()"
   ]
  },
  {
   "cell_type": "markdown",
   "metadata": {},
   "source": [
    "### Drop the rows which contains the value as 0 in the field odometer"
   ]
  },
  {
   "cell_type": "code",
   "execution_count": 37,
   "metadata": {},
   "outputs": [
    {
     "data": {
      "text/plain": [
       "(17423, 10)"
      ]
     },
     "execution_count": 37,
     "metadata": {},
     "output_type": "execute_result"
    }
   ],
   "source": [
    "index_names = train_data[train_data['odometer'] == 0].index \n",
    "train_data.drop(index_names, inplace = True)\n",
    "train_data.shape"
   ]
  },
  {
   "cell_type": "code",
   "execution_count": 38,
   "metadata": {},
   "outputs": [
    {
     "data": {
      "text/plain": [
       "(5945, 9)"
      ]
     },
     "execution_count": 38,
     "metadata": {},
     "output_type": "execute_result"
    }
   ],
   "source": [
    "index_names = test_data[test_data['odometer'] == 0].index \n",
    "test_data.drop(index_names, inplace = True)\n",
    "test_data.shape"
   ]
  },
  {
   "cell_type": "markdown",
   "metadata": {},
   "source": [
    "### Split the X and Y values"
   ]
  },
  {
   "cell_type": "code",
   "execution_count": 39,
   "metadata": {},
   "outputs": [],
   "source": [
    "X = train_data.drop('price_of_car', axis=1)\n",
    "y = train_data['price_of_car']"
   ]
  },
  {
   "cell_type": "markdown",
   "metadata": {},
   "source": [
    "### Split the train and test dataset"
   ]
  },
  {
   "cell_type": "code",
   "execution_count": 40,
   "metadata": {},
   "outputs": [],
   "source": [
    "from sklearn.model_selection import train_test_split"
   ]
  },
  {
   "cell_type": "code",
   "execution_count": 41,
   "metadata": {},
   "outputs": [],
   "source": [
    "X_train, X_test, y_train, y_test = train_test_split(X,y,test_size=0.27,random_state=9)"
   ]
  },
  {
   "cell_type": "markdown",
   "metadata": {},
   "source": [
    "### Build the model"
   ]
  },
  {
   "cell_type": "code",
   "execution_count": 42,
   "metadata": {},
   "outputs": [],
   "source": [
    "from sklearn.preprocessing import *\n",
    "from sklearn.linear_model import LinearRegression, BayesianRidge\n",
    "from sklearn.tree import DecisionTreeRegressor\n",
    "from sklearn.neighbors import KNeighborsRegressor\n",
    "from sklearn.svm import SVR\n",
    "from sklearn.ensemble import RandomForestRegressor\n",
    "from sklearn.ensemble import VotingRegressor\n",
    "from sklearn.metrics import *\n",
    "from sklearn.ensemble import GradientBoostingRegressor"
   ]
  },
  {
   "cell_type": "code",
   "execution_count": 43,
   "metadata": {},
   "outputs": [],
   "source": [
    "models = {'LR' : LinearRegression(),\n",
    "'DT' : DecisionTreeRegressor(),\n",
    "'KNN': KNeighborsRegressor(),\n",
    "'SVR': SVR(),\n",
    "'RF' : RandomForestRegressor(),\n",
    "'GBR': GradientBoostingRegressor(random_state=9),\n",
    "'BR' : BayesianRidge()}"
   ]
  },
  {
   "cell_type": "code",
   "execution_count": 44,
   "metadata": {},
   "outputs": [],
   "source": [
    "def models_perfomance(X_train,X_test,y_train,y_test):\n",
    "    results = {}\n",
    "    for name, model in models.items():\n",
    "        model.fit(X_train,y_train)\n",
    "        rmse = mean_squared_error(y_test,model.predict(X_test), squared= False)\n",
    "        results[name] = rmse\n",
    "    \n",
    "    return results"
   ]
  },
  {
   "cell_type": "code",
   "execution_count": 45,
   "metadata": {},
   "outputs": [
    {
     "data": {
      "text/plain": [
       "{'LR': 12644.677521412332,\n",
       " 'DT': 13785.298507002015,\n",
       " 'KNN': 12491.783373866047,\n",
       " 'SVR': 14680.857924037935,\n",
       " 'RF': 9071.947380235313,\n",
       " 'GBR': 10557.611978104756,\n",
       " 'BR': 12644.817325484264}"
      ]
     },
     "execution_count": 45,
     "metadata": {},
     "output_type": "execute_result"
    }
   ],
   "source": [
    "models_perfomance(X_train,X_test,y_train,y_test)"
   ]
  },
  {
   "cell_type": "code",
   "execution_count": 46,
   "metadata": {},
   "outputs": [
    {
     "data": {
      "text/plain": [
       "BayesianRidge()"
      ]
     },
     "execution_count": 46,
     "metadata": {},
     "output_type": "execute_result"
    }
   ],
   "source": [
    "model = BayesianRidge()\n",
    "model.fit(X_train, y_train)"
   ]
  },
  {
   "cell_type": "code",
   "execution_count": 47,
   "metadata": {},
   "outputs": [
    {
     "data": {
      "text/plain": [
       "0.2486871745725876"
      ]
     },
     "execution_count": 47,
     "metadata": {},
     "output_type": "execute_result"
    }
   ],
   "source": [
    "model.score(X_test, y_test)"
   ]
  },
  {
   "cell_type": "code",
   "execution_count": 48,
   "metadata": {},
   "outputs": [
    {
     "data": {
      "text/plain": [
       "array([24026.15165825, 28263.03008094, 19199.87765703, ...,\n",
       "       19488.0989705 , 19373.67463373, 34664.26161956])"
      ]
     },
     "execution_count": 48,
     "metadata": {},
     "output_type": "execute_result"
    }
   ],
   "source": [
    "target = model.predict(test_data)\n",
    "target"
   ]
  },
  {
   "cell_type": "code",
   "execution_count": 49,
   "metadata": {},
   "outputs": [
    {
     "data": {
      "text/plain": [
       "5945"
      ]
     },
     "execution_count": 49,
     "metadata": {},
     "output_type": "execute_result"
    }
   ],
   "source": [
    "len(target)"
   ]
  },
  {
   "cell_type": "code",
   "execution_count": 50,
   "metadata": {},
   "outputs": [
    {
     "data": {
      "text/plain": [
       "(5945, 9)"
      ]
     },
     "execution_count": 50,
     "metadata": {},
     "output_type": "execute_result"
    }
   ],
   "source": [
    "test_data.shape"
   ]
  },
  {
   "cell_type": "code",
   "execution_count": 51,
   "metadata": {},
   "outputs": [],
   "source": [
    "res = pd.DataFrame(target) #target is nothing but the final predictions of your model on input features of your new unseen test data\n",
    "res.index = test_data.index # its important for comparison. Here \"test_new\" is your new test dataset\n",
    "res.columns = [\"prediction\"]\n",
    "res.to_csv(\"submission.csv\",index=False) # the csv file will be saved locally on the same location where this notebook is located."
   ]
  },
  {
   "cell_type": "code",
   "execution_count": 52,
   "metadata": {},
   "outputs": [
    {
     "data": {
      "text/plain": [
       "(5945, 1)"
      ]
     },
     "execution_count": 52,
     "metadata": {},
     "output_type": "execute_result"
    }
   ],
   "source": [
    "result = pd.read_csv('submission.csv')\n",
    "result.shape"
   ]
  },
  {
   "cell_type": "code",
   "execution_count": null,
   "metadata": {},
   "outputs": [],
   "source": []
  }
 ],
 "metadata": {
  "kernelspec": {
   "display_name": "Python 3",
   "language": "python",
   "name": "python3"
  },
  "language_info": {
   "codemirror_mode": {
    "name": "ipython",
    "version": 3
   },
   "file_extension": ".py",
   "mimetype": "text/x-python",
   "name": "python",
   "nbconvert_exporter": "python",
   "pygments_lexer": "ipython3",
   "version": "3.8.5"
  }
 },
 "nbformat": 4,
 "nbformat_minor": 4
}
