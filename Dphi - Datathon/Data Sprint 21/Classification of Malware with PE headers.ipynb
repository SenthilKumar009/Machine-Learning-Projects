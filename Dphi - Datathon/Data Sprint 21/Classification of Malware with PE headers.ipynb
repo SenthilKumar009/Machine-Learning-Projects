{
 "cells": [
  {
   "cell_type": "code",
   "execution_count": 187,
   "metadata": {},
   "outputs": [],
   "source": [
    "# libraries for numerical\n",
    "import pandas as pd  \n",
    "import numpy as np\n",
    "\n",
    "# libraries for visualization\n",
    "import matplotlib.pyplot as plt  \n",
    "import seaborn as sns\n",
    "\n",
    "# libraries for machine learning\n",
    "from sklearn.model_selection import train_test_split \n",
    "from sklearn.tree import DecisionTreeClassifier\n",
    "from sklearn.metrics import mean_squared_error, r2_score, f1_score\n",
    "from sklearn import metrics\n",
    "\n",
    "# to plot the diagrams within the cells\n",
    "%matplotlib inline"
   ]
  },
  {
   "cell_type": "code",
   "execution_count": 189,
   "metadata": {},
   "outputs": [],
   "source": [
    "train_data = pd.read_csv(\"https://raw.githubusercontent.com/dphi-official/Datasets/master/clamp/train_set_label.csv\")\n",
    "test_data = pd.read_csv('https://raw.githubusercontent.com/dphi-official/Datasets/master/clamp/test_set_label.csv')"
   ]
  },
  {
   "cell_type": "code",
   "execution_count": 190,
   "metadata": {},
   "outputs": [
    {
     "data": {
      "text/html": [
       "<div>\n",
       "<style scoped>\n",
       "    .dataframe tbody tr th:only-of-type {\n",
       "        vertical-align: middle;\n",
       "    }\n",
       "\n",
       "    .dataframe tbody tr th {\n",
       "        vertical-align: top;\n",
       "    }\n",
       "\n",
       "    .dataframe thead th {\n",
       "        text-align: right;\n",
       "    }\n",
       "</style>\n",
       "<table border=\"1\" class=\"dataframe\">\n",
       "  <thead>\n",
       "    <tr style=\"text-align: right;\">\n",
       "      <th></th>\n",
       "      <th>e_magic</th>\n",
       "      <th>e_cblp</th>\n",
       "      <th>e_cp</th>\n",
       "      <th>e_crlc</th>\n",
       "      <th>e_cparhdr</th>\n",
       "      <th>e_minalloc</th>\n",
       "      <th>e_maxalloc</th>\n",
       "      <th>e_ss</th>\n",
       "      <th>e_sp</th>\n",
       "      <th>e_csum</th>\n",
       "      <th>...</th>\n",
       "      <th>CheckSum</th>\n",
       "      <th>Subsystem</th>\n",
       "      <th>DllCharacteristics</th>\n",
       "      <th>SizeOfStackReserve</th>\n",
       "      <th>SizeOfStackCommit</th>\n",
       "      <th>SizeOfHeapReserve</th>\n",
       "      <th>SizeOfHeapCommit</th>\n",
       "      <th>LoaderFlags</th>\n",
       "      <th>NumberOfRvaAndSizes</th>\n",
       "      <th>class</th>\n",
       "    </tr>\n",
       "  </thead>\n",
       "  <tbody>\n",
       "    <tr>\n",
       "      <th>count</th>\n",
       "      <td>3888.0</td>\n",
       "      <td>3888.000000</td>\n",
       "      <td>3888.000000</td>\n",
       "      <td>3888.0</td>\n",
       "      <td>3888.000000</td>\n",
       "      <td>3888.000000</td>\n",
       "      <td>3888.000000</td>\n",
       "      <td>3888.000000</td>\n",
       "      <td>3888.000000</td>\n",
       "      <td>3888.000000</td>\n",
       "      <td>...</td>\n",
       "      <td>3.888000e+03</td>\n",
       "      <td>3888.000000</td>\n",
       "      <td>3888.000000</td>\n",
       "      <td>3.888000e+03</td>\n",
       "      <td>3.888000e+03</td>\n",
       "      <td>3.888000e+03</td>\n",
       "      <td>3888.000000</td>\n",
       "      <td>3.888000e+03</td>\n",
       "      <td>3888.000000</td>\n",
       "      <td>3888.000000</td>\n",
       "    </tr>\n",
       "    <tr>\n",
       "      <th>mean</th>\n",
       "      <td>23117.0</td>\n",
       "      <td>148.252058</td>\n",
       "      <td>2.947016</td>\n",
       "      <td>0.0</td>\n",
       "      <td>3.967593</td>\n",
       "      <td>2.120885</td>\n",
       "      <td>65110.442901</td>\n",
       "      <td>16.851852</td>\n",
       "      <td>199.741255</td>\n",
       "      <td>0.001029</td>\n",
       "      <td>...</td>\n",
       "      <td>1.785479e+06</td>\n",
       "      <td>2.132202</td>\n",
       "      <td>9489.058899</td>\n",
       "      <td>2.008231e+06</td>\n",
       "      <td>1.072442e+04</td>\n",
       "      <td>2.065907e+06</td>\n",
       "      <td>5694.156379</td>\n",
       "      <td>3.151187e+04</td>\n",
       "      <td>15.972737</td>\n",
       "      <td>0.517490</td>\n",
       "    </tr>\n",
       "    <tr>\n",
       "      <th>std</th>\n",
       "      <td>0.0</td>\n",
       "      <td>591.610421</td>\n",
       "      <td>2.291419</td>\n",
       "      <td>0.0</td>\n",
       "      <td>0.357188</td>\n",
       "      <td>65.785975</td>\n",
       "      <td>5195.740601</td>\n",
       "      <td>1050.777490</td>\n",
       "      <td>1048.231580</td>\n",
       "      <td>0.039275</td>\n",
       "      <td>...</td>\n",
       "      <td>6.906378e+07</td>\n",
       "      <td>0.474741</td>\n",
       "      <td>14841.770405</td>\n",
       "      <td>4.682014e+06</td>\n",
       "      <td>8.256807e+04</td>\n",
       "      <td>4.397444e+06</td>\n",
       "      <td>6510.114435</td>\n",
       "      <td>1.342464e+06</td>\n",
       "      <td>0.648187</td>\n",
       "      <td>0.499758</td>\n",
       "    </tr>\n",
       "    <tr>\n",
       "      <th>min</th>\n",
       "      <td>23117.0</td>\n",
       "      <td>0.000000</td>\n",
       "      <td>0.000000</td>\n",
       "      <td>0.0</td>\n",
       "      <td>0.000000</td>\n",
       "      <td>0.000000</td>\n",
       "      <td>0.000000</td>\n",
       "      <td>0.000000</td>\n",
       "      <td>0.000000</td>\n",
       "      <td>0.000000</td>\n",
       "      <td>...</td>\n",
       "      <td>0.000000e+00</td>\n",
       "      <td>0.000000</td>\n",
       "      <td>0.000000</td>\n",
       "      <td>0.000000e+00</td>\n",
       "      <td>0.000000e+00</td>\n",
       "      <td>0.000000e+00</td>\n",
       "      <td>0.000000</td>\n",
       "      <td>0.000000e+00</td>\n",
       "      <td>0.000000</td>\n",
       "      <td>0.000000</td>\n",
       "    </tr>\n",
       "    <tr>\n",
       "      <th>25%</th>\n",
       "      <td>23117.0</td>\n",
       "      <td>144.000000</td>\n",
       "      <td>3.000000</td>\n",
       "      <td>0.0</td>\n",
       "      <td>4.000000</td>\n",
       "      <td>0.000000</td>\n",
       "      <td>65535.000000</td>\n",
       "      <td>0.000000</td>\n",
       "      <td>184.000000</td>\n",
       "      <td>0.000000</td>\n",
       "      <td>...</td>\n",
       "      <td>0.000000e+00</td>\n",
       "      <td>2.000000</td>\n",
       "      <td>0.000000</td>\n",
       "      <td>1.048576e+06</td>\n",
       "      <td>4.096000e+03</td>\n",
       "      <td>1.048576e+06</td>\n",
       "      <td>4096.000000</td>\n",
       "      <td>0.000000e+00</td>\n",
       "      <td>16.000000</td>\n",
       "      <td>0.000000</td>\n",
       "    </tr>\n",
       "    <tr>\n",
       "      <th>50%</th>\n",
       "      <td>23117.0</td>\n",
       "      <td>144.000000</td>\n",
       "      <td>3.000000</td>\n",
       "      <td>0.0</td>\n",
       "      <td>4.000000</td>\n",
       "      <td>0.000000</td>\n",
       "      <td>65535.000000</td>\n",
       "      <td>0.000000</td>\n",
       "      <td>184.000000</td>\n",
       "      <td>0.000000</td>\n",
       "      <td>...</td>\n",
       "      <td>7.894150e+04</td>\n",
       "      <td>2.000000</td>\n",
       "      <td>0.000000</td>\n",
       "      <td>1.048576e+06</td>\n",
       "      <td>4.096000e+03</td>\n",
       "      <td>1.048576e+06</td>\n",
       "      <td>4096.000000</td>\n",
       "      <td>0.000000e+00</td>\n",
       "      <td>16.000000</td>\n",
       "      <td>1.000000</td>\n",
       "    </tr>\n",
       "    <tr>\n",
       "      <th>75%</th>\n",
       "      <td>23117.0</td>\n",
       "      <td>144.000000</td>\n",
       "      <td>3.000000</td>\n",
       "      <td>0.0</td>\n",
       "      <td>4.000000</td>\n",
       "      <td>0.000000</td>\n",
       "      <td>65535.000000</td>\n",
       "      <td>0.000000</td>\n",
       "      <td>184.000000</td>\n",
       "      <td>0.000000</td>\n",
       "      <td>...</td>\n",
       "      <td>2.128122e+05</td>\n",
       "      <td>2.000000</td>\n",
       "      <td>32768.000000</td>\n",
       "      <td>1.048576e+06</td>\n",
       "      <td>8.192000e+03</td>\n",
       "      <td>1.048576e+06</td>\n",
       "      <td>4096.000000</td>\n",
       "      <td>0.000000e+00</td>\n",
       "      <td>16.000000</td>\n",
       "      <td>1.000000</td>\n",
       "    </tr>\n",
       "    <tr>\n",
       "      <th>max</th>\n",
       "      <td>23117.0</td>\n",
       "      <td>37008.000000</td>\n",
       "      <td>144.000000</td>\n",
       "      <td>0.0</td>\n",
       "      <td>4.000000</td>\n",
       "      <td>4096.000000</td>\n",
       "      <td>65535.000000</td>\n",
       "      <td>65520.000000</td>\n",
       "      <td>65534.000000</td>\n",
       "      <td>2.000000</td>\n",
       "      <td>...</td>\n",
       "      <td>4.294967e+09</td>\n",
       "      <td>16.000000</td>\n",
       "      <td>37184.000000</td>\n",
       "      <td>3.355443e+07</td>\n",
       "      <td>2.097152e+06</td>\n",
       "      <td>3.355443e+07</td>\n",
       "      <td>65536.000000</td>\n",
       "      <td>6.342951e+07</td>\n",
       "      <td>16.000000</td>\n",
       "      <td>1.000000</td>\n",
       "    </tr>\n",
       "  </tbody>\n",
       "</table>\n",
       "<p>8 rows × 56 columns</p>\n",
       "</div>"
      ],
      "text/plain": [
       "       e_magic        e_cblp         e_cp  e_crlc    e_cparhdr   e_minalloc  \\\n",
       "count   3888.0   3888.000000  3888.000000  3888.0  3888.000000  3888.000000   \n",
       "mean   23117.0    148.252058     2.947016     0.0     3.967593     2.120885   \n",
       "std        0.0    591.610421     2.291419     0.0     0.357188    65.785975   \n",
       "min    23117.0      0.000000     0.000000     0.0     0.000000     0.000000   \n",
       "25%    23117.0    144.000000     3.000000     0.0     4.000000     0.000000   \n",
       "50%    23117.0    144.000000     3.000000     0.0     4.000000     0.000000   \n",
       "75%    23117.0    144.000000     3.000000     0.0     4.000000     0.000000   \n",
       "max    23117.0  37008.000000   144.000000     0.0     4.000000  4096.000000   \n",
       "\n",
       "         e_maxalloc          e_ss          e_sp       e_csum  ...  \\\n",
       "count   3888.000000   3888.000000   3888.000000  3888.000000  ...   \n",
       "mean   65110.442901     16.851852    199.741255     0.001029  ...   \n",
       "std     5195.740601   1050.777490   1048.231580     0.039275  ...   \n",
       "min        0.000000      0.000000      0.000000     0.000000  ...   \n",
       "25%    65535.000000      0.000000    184.000000     0.000000  ...   \n",
       "50%    65535.000000      0.000000    184.000000     0.000000  ...   \n",
       "75%    65535.000000      0.000000    184.000000     0.000000  ...   \n",
       "max    65535.000000  65520.000000  65534.000000     2.000000  ...   \n",
       "\n",
       "           CheckSum    Subsystem  DllCharacteristics  SizeOfStackReserve  \\\n",
       "count  3.888000e+03  3888.000000         3888.000000        3.888000e+03   \n",
       "mean   1.785479e+06     2.132202         9489.058899        2.008231e+06   \n",
       "std    6.906378e+07     0.474741        14841.770405        4.682014e+06   \n",
       "min    0.000000e+00     0.000000            0.000000        0.000000e+00   \n",
       "25%    0.000000e+00     2.000000            0.000000        1.048576e+06   \n",
       "50%    7.894150e+04     2.000000            0.000000        1.048576e+06   \n",
       "75%    2.128122e+05     2.000000        32768.000000        1.048576e+06   \n",
       "max    4.294967e+09    16.000000        37184.000000        3.355443e+07   \n",
       "\n",
       "       SizeOfStackCommit  SizeOfHeapReserve  SizeOfHeapCommit   LoaderFlags  \\\n",
       "count       3.888000e+03       3.888000e+03       3888.000000  3.888000e+03   \n",
       "mean        1.072442e+04       2.065907e+06       5694.156379  3.151187e+04   \n",
       "std         8.256807e+04       4.397444e+06       6510.114435  1.342464e+06   \n",
       "min         0.000000e+00       0.000000e+00          0.000000  0.000000e+00   \n",
       "25%         4.096000e+03       1.048576e+06       4096.000000  0.000000e+00   \n",
       "50%         4.096000e+03       1.048576e+06       4096.000000  0.000000e+00   \n",
       "75%         8.192000e+03       1.048576e+06       4096.000000  0.000000e+00   \n",
       "max         2.097152e+06       3.355443e+07      65536.000000  6.342951e+07   \n",
       "\n",
       "       NumberOfRvaAndSizes        class  \n",
       "count          3888.000000  3888.000000  \n",
       "mean             15.972737     0.517490  \n",
       "std               0.648187     0.499758  \n",
       "min               0.000000     0.000000  \n",
       "25%              16.000000     0.000000  \n",
       "50%              16.000000     1.000000  \n",
       "75%              16.000000     1.000000  \n",
       "max              16.000000     1.000000  \n",
       "\n",
       "[8 rows x 56 columns]"
      ]
     },
     "execution_count": 190,
     "metadata": {},
     "output_type": "execute_result"
    }
   ],
   "source": [
    "train_data.describe()"
   ]
  },
  {
   "cell_type": "code",
   "execution_count": 191,
   "metadata": {},
   "outputs": [
    {
     "data": {
      "text/plain": [
       "(3888, 56)"
      ]
     },
     "execution_count": 191,
     "metadata": {},
     "output_type": "execute_result"
    }
   ],
   "source": [
    "train_data.shape"
   ]
  },
  {
   "cell_type": "code",
   "execution_count": 192,
   "metadata": {},
   "outputs": [
    {
     "data": {
      "text/plain": [
       "e_magic                           0\n",
       "e_cblp                            0\n",
       "e_cp                              0\n",
       "e_crlc                            0\n",
       "e_cparhdr                         0\n",
       "e_minalloc                        0\n",
       "e_maxalloc                        0\n",
       "e_ss                              0\n",
       "e_sp                              0\n",
       "e_csum                            0\n",
       "e_ip                              0\n",
       "e_cs                              0\n",
       "e_lfarlc                          0\n",
       "e_ovno                            0\n",
       "e_res                          3888\n",
       "e_oemid                           0\n",
       "e_oeminfo                         0\n",
       "e_res2                         3888\n",
       "e_lfanew                          0\n",
       "Machine                           0\n",
       "NumberOfSections                  0\n",
       "CreationYear                      0\n",
       "PointerToSymbolTable              0\n",
       "NumberOfSymbols                   0\n",
       "SizeOfOptionalHeader              0\n",
       "Characteristics                   0\n",
       "Magic                             0\n",
       "MajorLinkerVersion                0\n",
       "MinorLinkerVersion                0\n",
       "SizeOfCode                        0\n",
       "SizeOfInitializedData             0\n",
       "SizeOfUninitializedData           0\n",
       "AddressOfEntryPoint               0\n",
       "BaseOfCode                        0\n",
       "BaseOfData                        0\n",
       "ImageBase                         0\n",
       "SectionAlignment                  0\n",
       "FileAlignment                     0\n",
       "MajorOperatingSystemVersion       0\n",
       "MinorOperatingSystemVersion       0\n",
       "MajorImageVersion                 0\n",
       "MinorImageVersion                 0\n",
       "MajorSubsystemVersion             0\n",
       "MinorSubsystemVersion             0\n",
       "SizeOfImage                       0\n",
       "SizeOfHeaders                     0\n",
       "CheckSum                          0\n",
       "Subsystem                         0\n",
       "DllCharacteristics                0\n",
       "SizeOfStackReserve                0\n",
       "SizeOfStackCommit                 0\n",
       "SizeOfHeapReserve                 0\n",
       "SizeOfHeapCommit                  0\n",
       "LoaderFlags                       0\n",
       "NumberOfRvaAndSizes               0\n",
       "class                             0\n",
       "dtype: int64"
      ]
     },
     "execution_count": 192,
     "metadata": {},
     "output_type": "execute_result"
    }
   ],
   "source": [
    "train_data.isnull().sum()"
   ]
  },
  {
   "cell_type": "code",
   "execution_count": 193,
   "metadata": {},
   "outputs": [],
   "source": [
    "# drop the optional columns\n",
    "#train_data = train_data[[\"e_magic\", \"e_cblp\", \"e_cp\",\"e_crlc\",\"e_cparhdr\",\"e_minalloc\",\"e_maxalloc\",\"e_ss\",\"e_sp\",\n",
    "#                        \"e_csum\",\"e_ip\",\"e_cs\",\"e_lfarlc\",\"e_ovno\",\"e_res\",\"e_oemid\",\"e_oeminfo\",\"e_res2\",\"e_lfanew\",\n",
    "#                        \"Machine\",\"NumberOfSections\",\"CreationYear\",\"PointerToSymbolTable\", \"NumberOfSymbols\",\n",
    "#                        \"SizeOfOptionalHeader\",\"Characteristics\", \"class\"]]\n",
    "#train_data.shape"
   ]
  },
  {
   "cell_type": "code",
   "execution_count": 194,
   "metadata": {},
   "outputs": [
    {
     "name": "stdout",
     "output_type": "stream",
     "text": [
      "<class 'pandas.core.frame.DataFrame'>\n",
      "RangeIndex: 3888 entries, 0 to 3887\n",
      "Data columns (total 56 columns):\n",
      " #   Column                       Non-Null Count  Dtype  \n",
      "---  ------                       --------------  -----  \n",
      " 0   e_magic                      3888 non-null   int64  \n",
      " 1   e_cblp                       3888 non-null   int64  \n",
      " 2   e_cp                         3888 non-null   int64  \n",
      " 3   e_crlc                       3888 non-null   int64  \n",
      " 4   e_cparhdr                    3888 non-null   int64  \n",
      " 5   e_minalloc                   3888 non-null   int64  \n",
      " 6   e_maxalloc                   3888 non-null   int64  \n",
      " 7   e_ss                         3888 non-null   int64  \n",
      " 8   e_sp                         3888 non-null   int64  \n",
      " 9   e_csum                       3888 non-null   int64  \n",
      " 10  e_ip                         3888 non-null   int64  \n",
      " 11  e_cs                         3888 non-null   int64  \n",
      " 12  e_lfarlc                     3888 non-null   int64  \n",
      " 13  e_ovno                       3888 non-null   int64  \n",
      " 14  e_res                        0 non-null      float64\n",
      " 15  e_oemid                      3888 non-null   int64  \n",
      " 16  e_oeminfo                    3888 non-null   int64  \n",
      " 17  e_res2                       0 non-null      float64\n",
      " 18  e_lfanew                     3888 non-null   int64  \n",
      " 19  Machine                      3888 non-null   int64  \n",
      " 20  NumberOfSections             3888 non-null   int64  \n",
      " 21  CreationYear                 3888 non-null   int64  \n",
      " 22  PointerToSymbolTable         3888 non-null   int64  \n",
      " 23  NumberOfSymbols              3888 non-null   int64  \n",
      " 24  SizeOfOptionalHeader         3888 non-null   int64  \n",
      " 25  Characteristics              3888 non-null   int64  \n",
      " 26  Magic                        3888 non-null   int64  \n",
      " 27  MajorLinkerVersion           3888 non-null   int64  \n",
      " 28  MinorLinkerVersion           3888 non-null   int64  \n",
      " 29  SizeOfCode                   3888 non-null   int64  \n",
      " 30  SizeOfInitializedData        3888 non-null   int64  \n",
      " 31  SizeOfUninitializedData      3888 non-null   int64  \n",
      " 32  AddressOfEntryPoint          3888 non-null   int64  \n",
      " 33  BaseOfCode                   3888 non-null   int64  \n",
      " 34  BaseOfData                   3888 non-null   int64  \n",
      " 35  ImageBase                    3888 non-null   int64  \n",
      " 36  SectionAlignment             3888 non-null   int64  \n",
      " 37  FileAlignment                3888 non-null   int64  \n",
      " 38  MajorOperatingSystemVersion  3888 non-null   int64  \n",
      " 39  MinorOperatingSystemVersion  3888 non-null   int64  \n",
      " 40  MajorImageVersion            3888 non-null   int64  \n",
      " 41  MinorImageVersion            3888 non-null   int64  \n",
      " 42  MajorSubsystemVersion        3888 non-null   int64  \n",
      " 43  MinorSubsystemVersion        3888 non-null   int64  \n",
      " 44  SizeOfImage                  3888 non-null   int64  \n",
      " 45  SizeOfHeaders                3888 non-null   int64  \n",
      " 46  CheckSum                     3888 non-null   int64  \n",
      " 47  Subsystem                    3888 non-null   int64  \n",
      " 48  DllCharacteristics           3888 non-null   int64  \n",
      " 49  SizeOfStackReserve           3888 non-null   int64  \n",
      " 50  SizeOfStackCommit            3888 non-null   int64  \n",
      " 51  SizeOfHeapReserve            3888 non-null   int64  \n",
      " 52  SizeOfHeapCommit             3888 non-null   int64  \n",
      " 53  LoaderFlags                  3888 non-null   int64  \n",
      " 54  NumberOfRvaAndSizes          3888 non-null   int64  \n",
      " 55  class                        3888 non-null   int64  \n",
      "dtypes: float64(2), int64(54)\n",
      "memory usage: 1.7 MB\n"
     ]
    }
   ],
   "source": [
    "train_data.info()"
   ]
  },
  {
   "cell_type": "code",
   "execution_count": 195,
   "metadata": {},
   "outputs": [],
   "source": [
    "train_data.drop(['e_res', 'e_res2'], axis=1, inplace=True)"
   ]
  },
  {
   "cell_type": "code",
   "execution_count": 196,
   "metadata": {},
   "outputs": [
    {
     "data": {
      "text/html": [
       "<div>\n",
       "<style scoped>\n",
       "    .dataframe tbody tr th:only-of-type {\n",
       "        vertical-align: middle;\n",
       "    }\n",
       "\n",
       "    .dataframe tbody tr th {\n",
       "        vertical-align: top;\n",
       "    }\n",
       "\n",
       "    .dataframe thead th {\n",
       "        text-align: right;\n",
       "    }\n",
       "</style>\n",
       "<table border=\"1\" class=\"dataframe\">\n",
       "  <thead>\n",
       "    <tr style=\"text-align: right;\">\n",
       "      <th></th>\n",
       "      <th>e_magic</th>\n",
       "      <th>e_cblp</th>\n",
       "      <th>e_cp</th>\n",
       "      <th>e_crlc</th>\n",
       "      <th>e_cparhdr</th>\n",
       "      <th>e_minalloc</th>\n",
       "      <th>e_maxalloc</th>\n",
       "      <th>e_ss</th>\n",
       "      <th>e_sp</th>\n",
       "      <th>e_csum</th>\n",
       "      <th>...</th>\n",
       "      <th>CheckSum</th>\n",
       "      <th>Subsystem</th>\n",
       "      <th>DllCharacteristics</th>\n",
       "      <th>SizeOfStackReserve</th>\n",
       "      <th>SizeOfStackCommit</th>\n",
       "      <th>SizeOfHeapReserve</th>\n",
       "      <th>SizeOfHeapCommit</th>\n",
       "      <th>LoaderFlags</th>\n",
       "      <th>NumberOfRvaAndSizes</th>\n",
       "      <th>class</th>\n",
       "    </tr>\n",
       "  </thead>\n",
       "  <tbody>\n",
       "    <tr>\n",
       "      <th>0</th>\n",
       "      <td>23117</td>\n",
       "      <td>144</td>\n",
       "      <td>3</td>\n",
       "      <td>0</td>\n",
       "      <td>4</td>\n",
       "      <td>0</td>\n",
       "      <td>65535</td>\n",
       "      <td>0</td>\n",
       "      <td>184</td>\n",
       "      <td>0</td>\n",
       "      <td>...</td>\n",
       "      <td>115397</td>\n",
       "      <td>2</td>\n",
       "      <td>33792</td>\n",
       "      <td>1048576</td>\n",
       "      <td>4096</td>\n",
       "      <td>1048576</td>\n",
       "      <td>4096</td>\n",
       "      <td>0</td>\n",
       "      <td>16</td>\n",
       "      <td>1</td>\n",
       "    </tr>\n",
       "    <tr>\n",
       "      <th>1</th>\n",
       "      <td>23117</td>\n",
       "      <td>144</td>\n",
       "      <td>3</td>\n",
       "      <td>0</td>\n",
       "      <td>4</td>\n",
       "      <td>0</td>\n",
       "      <td>65535</td>\n",
       "      <td>0</td>\n",
       "      <td>184</td>\n",
       "      <td>0</td>\n",
       "      <td>...</td>\n",
       "      <td>0</td>\n",
       "      <td>2</td>\n",
       "      <td>0</td>\n",
       "      <td>10485760</td>\n",
       "      <td>40960</td>\n",
       "      <td>6291456</td>\n",
       "      <td>16384</td>\n",
       "      <td>0</td>\n",
       "      <td>16</td>\n",
       "      <td>1</td>\n",
       "    </tr>\n",
       "    <tr>\n",
       "      <th>2</th>\n",
       "      <td>23117</td>\n",
       "      <td>144</td>\n",
       "      <td>3</td>\n",
       "      <td>0</td>\n",
       "      <td>4</td>\n",
       "      <td>0</td>\n",
       "      <td>65535</td>\n",
       "      <td>0</td>\n",
       "      <td>184</td>\n",
       "      <td>0</td>\n",
       "      <td>...</td>\n",
       "      <td>0</td>\n",
       "      <td>2</td>\n",
       "      <td>0</td>\n",
       "      <td>1048576</td>\n",
       "      <td>4096</td>\n",
       "      <td>1048576</td>\n",
       "      <td>4096</td>\n",
       "      <td>0</td>\n",
       "      <td>16</td>\n",
       "      <td>0</td>\n",
       "    </tr>\n",
       "    <tr>\n",
       "      <th>3</th>\n",
       "      <td>23117</td>\n",
       "      <td>144</td>\n",
       "      <td>3</td>\n",
       "      <td>0</td>\n",
       "      <td>4</td>\n",
       "      <td>0</td>\n",
       "      <td>65535</td>\n",
       "      <td>0</td>\n",
       "      <td>184</td>\n",
       "      <td>0</td>\n",
       "      <td>...</td>\n",
       "      <td>142244</td>\n",
       "      <td>2</td>\n",
       "      <td>33088</td>\n",
       "      <td>262144</td>\n",
       "      <td>8192</td>\n",
       "      <td>1048576</td>\n",
       "      <td>4096</td>\n",
       "      <td>0</td>\n",
       "      <td>16</td>\n",
       "      <td>0</td>\n",
       "    </tr>\n",
       "    <tr>\n",
       "      <th>4</th>\n",
       "      <td>23117</td>\n",
       "      <td>144</td>\n",
       "      <td>3</td>\n",
       "      <td>0</td>\n",
       "      <td>4</td>\n",
       "      <td>0</td>\n",
       "      <td>65535</td>\n",
       "      <td>0</td>\n",
       "      <td>184</td>\n",
       "      <td>0</td>\n",
       "      <td>...</td>\n",
       "      <td>60601</td>\n",
       "      <td>2</td>\n",
       "      <td>1024</td>\n",
       "      <td>1048576</td>\n",
       "      <td>4096</td>\n",
       "      <td>1048576</td>\n",
       "      <td>4096</td>\n",
       "      <td>0</td>\n",
       "      <td>16</td>\n",
       "      <td>0</td>\n",
       "    </tr>\n",
       "  </tbody>\n",
       "</table>\n",
       "<p>5 rows × 54 columns</p>\n",
       "</div>"
      ],
      "text/plain": [
       "   e_magic  e_cblp  e_cp  e_crlc  e_cparhdr  e_minalloc  e_maxalloc  e_ss  \\\n",
       "0    23117     144     3       0          4           0       65535     0   \n",
       "1    23117     144     3       0          4           0       65535     0   \n",
       "2    23117     144     3       0          4           0       65535     0   \n",
       "3    23117     144     3       0          4           0       65535     0   \n",
       "4    23117     144     3       0          4           0       65535     0   \n",
       "\n",
       "   e_sp  e_csum  ...  CheckSum  Subsystem  DllCharacteristics  \\\n",
       "0   184       0  ...    115397          2               33792   \n",
       "1   184       0  ...         0          2                   0   \n",
       "2   184       0  ...         0          2                   0   \n",
       "3   184       0  ...    142244          2               33088   \n",
       "4   184       0  ...     60601          2                1024   \n",
       "\n",
       "   SizeOfStackReserve  SizeOfStackCommit  SizeOfHeapReserve  SizeOfHeapCommit  \\\n",
       "0             1048576               4096            1048576              4096   \n",
       "1            10485760              40960            6291456             16384   \n",
       "2             1048576               4096            1048576              4096   \n",
       "3              262144               8192            1048576              4096   \n",
       "4             1048576               4096            1048576              4096   \n",
       "\n",
       "   LoaderFlags  NumberOfRvaAndSizes  class  \n",
       "0            0                   16      1  \n",
       "1            0                   16      1  \n",
       "2            0                   16      0  \n",
       "3            0                   16      0  \n",
       "4            0                   16      0  \n",
       "\n",
       "[5 rows x 54 columns]"
      ]
     },
     "execution_count": 196,
     "metadata": {},
     "output_type": "execute_result"
    }
   ],
   "source": [
    "train_data.head()"
   ]
  },
  {
   "cell_type": "code",
   "execution_count": 197,
   "metadata": {},
   "outputs": [
    {
     "data": {
      "text/html": [
       "<div>\n",
       "<style scoped>\n",
       "    .dataframe tbody tr th:only-of-type {\n",
       "        vertical-align: middle;\n",
       "    }\n",
       "\n",
       "    .dataframe tbody tr th {\n",
       "        vertical-align: top;\n",
       "    }\n",
       "\n",
       "    .dataframe thead th {\n",
       "        text-align: right;\n",
       "    }\n",
       "</style>\n",
       "<table border=\"1\" class=\"dataframe\">\n",
       "  <thead>\n",
       "    <tr style=\"text-align: right;\">\n",
       "      <th></th>\n",
       "      <th>e_magic</th>\n",
       "      <th>e_cblp</th>\n",
       "      <th>e_cp</th>\n",
       "      <th>e_crlc</th>\n",
       "      <th>e_cparhdr</th>\n",
       "      <th>e_minalloc</th>\n",
       "      <th>e_maxalloc</th>\n",
       "      <th>e_ss</th>\n",
       "      <th>e_sp</th>\n",
       "      <th>e_csum</th>\n",
       "      <th>...</th>\n",
       "      <th>CheckSum</th>\n",
       "      <th>Subsystem</th>\n",
       "      <th>DllCharacteristics</th>\n",
       "      <th>SizeOfStackReserve</th>\n",
       "      <th>SizeOfStackCommit</th>\n",
       "      <th>SizeOfHeapReserve</th>\n",
       "      <th>SizeOfHeapCommit</th>\n",
       "      <th>LoaderFlags</th>\n",
       "      <th>NumberOfRvaAndSizes</th>\n",
       "      <th>class</th>\n",
       "    </tr>\n",
       "  </thead>\n",
       "  <tbody>\n",
       "    <tr>\n",
       "      <th>count</th>\n",
       "      <td>3888.0</td>\n",
       "      <td>3888.000000</td>\n",
       "      <td>3888.000000</td>\n",
       "      <td>3888.0</td>\n",
       "      <td>3888.000000</td>\n",
       "      <td>3888.000000</td>\n",
       "      <td>3888.000000</td>\n",
       "      <td>3888.000000</td>\n",
       "      <td>3888.000000</td>\n",
       "      <td>3888.000000</td>\n",
       "      <td>...</td>\n",
       "      <td>3.888000e+03</td>\n",
       "      <td>3888.000000</td>\n",
       "      <td>3888.000000</td>\n",
       "      <td>3.888000e+03</td>\n",
       "      <td>3.888000e+03</td>\n",
       "      <td>3.888000e+03</td>\n",
       "      <td>3888.000000</td>\n",
       "      <td>3.888000e+03</td>\n",
       "      <td>3888.000000</td>\n",
       "      <td>3888.000000</td>\n",
       "    </tr>\n",
       "    <tr>\n",
       "      <th>mean</th>\n",
       "      <td>23117.0</td>\n",
       "      <td>148.252058</td>\n",
       "      <td>2.947016</td>\n",
       "      <td>0.0</td>\n",
       "      <td>3.967593</td>\n",
       "      <td>2.120885</td>\n",
       "      <td>65110.442901</td>\n",
       "      <td>16.851852</td>\n",
       "      <td>199.741255</td>\n",
       "      <td>0.001029</td>\n",
       "      <td>...</td>\n",
       "      <td>1.785479e+06</td>\n",
       "      <td>2.132202</td>\n",
       "      <td>9489.058899</td>\n",
       "      <td>2.008231e+06</td>\n",
       "      <td>1.072442e+04</td>\n",
       "      <td>2.065907e+06</td>\n",
       "      <td>5694.156379</td>\n",
       "      <td>3.151187e+04</td>\n",
       "      <td>15.972737</td>\n",
       "      <td>0.517490</td>\n",
       "    </tr>\n",
       "    <tr>\n",
       "      <th>std</th>\n",
       "      <td>0.0</td>\n",
       "      <td>591.610421</td>\n",
       "      <td>2.291419</td>\n",
       "      <td>0.0</td>\n",
       "      <td>0.357188</td>\n",
       "      <td>65.785975</td>\n",
       "      <td>5195.740601</td>\n",
       "      <td>1050.777490</td>\n",
       "      <td>1048.231580</td>\n",
       "      <td>0.039275</td>\n",
       "      <td>...</td>\n",
       "      <td>6.906378e+07</td>\n",
       "      <td>0.474741</td>\n",
       "      <td>14841.770405</td>\n",
       "      <td>4.682014e+06</td>\n",
       "      <td>8.256807e+04</td>\n",
       "      <td>4.397444e+06</td>\n",
       "      <td>6510.114435</td>\n",
       "      <td>1.342464e+06</td>\n",
       "      <td>0.648187</td>\n",
       "      <td>0.499758</td>\n",
       "    </tr>\n",
       "    <tr>\n",
       "      <th>min</th>\n",
       "      <td>23117.0</td>\n",
       "      <td>0.000000</td>\n",
       "      <td>0.000000</td>\n",
       "      <td>0.0</td>\n",
       "      <td>0.000000</td>\n",
       "      <td>0.000000</td>\n",
       "      <td>0.000000</td>\n",
       "      <td>0.000000</td>\n",
       "      <td>0.000000</td>\n",
       "      <td>0.000000</td>\n",
       "      <td>...</td>\n",
       "      <td>0.000000e+00</td>\n",
       "      <td>0.000000</td>\n",
       "      <td>0.000000</td>\n",
       "      <td>0.000000e+00</td>\n",
       "      <td>0.000000e+00</td>\n",
       "      <td>0.000000e+00</td>\n",
       "      <td>0.000000</td>\n",
       "      <td>0.000000e+00</td>\n",
       "      <td>0.000000</td>\n",
       "      <td>0.000000</td>\n",
       "    </tr>\n",
       "    <tr>\n",
       "      <th>25%</th>\n",
       "      <td>23117.0</td>\n",
       "      <td>144.000000</td>\n",
       "      <td>3.000000</td>\n",
       "      <td>0.0</td>\n",
       "      <td>4.000000</td>\n",
       "      <td>0.000000</td>\n",
       "      <td>65535.000000</td>\n",
       "      <td>0.000000</td>\n",
       "      <td>184.000000</td>\n",
       "      <td>0.000000</td>\n",
       "      <td>...</td>\n",
       "      <td>0.000000e+00</td>\n",
       "      <td>2.000000</td>\n",
       "      <td>0.000000</td>\n",
       "      <td>1.048576e+06</td>\n",
       "      <td>4.096000e+03</td>\n",
       "      <td>1.048576e+06</td>\n",
       "      <td>4096.000000</td>\n",
       "      <td>0.000000e+00</td>\n",
       "      <td>16.000000</td>\n",
       "      <td>0.000000</td>\n",
       "    </tr>\n",
       "    <tr>\n",
       "      <th>50%</th>\n",
       "      <td>23117.0</td>\n",
       "      <td>144.000000</td>\n",
       "      <td>3.000000</td>\n",
       "      <td>0.0</td>\n",
       "      <td>4.000000</td>\n",
       "      <td>0.000000</td>\n",
       "      <td>65535.000000</td>\n",
       "      <td>0.000000</td>\n",
       "      <td>184.000000</td>\n",
       "      <td>0.000000</td>\n",
       "      <td>...</td>\n",
       "      <td>7.894150e+04</td>\n",
       "      <td>2.000000</td>\n",
       "      <td>0.000000</td>\n",
       "      <td>1.048576e+06</td>\n",
       "      <td>4.096000e+03</td>\n",
       "      <td>1.048576e+06</td>\n",
       "      <td>4096.000000</td>\n",
       "      <td>0.000000e+00</td>\n",
       "      <td>16.000000</td>\n",
       "      <td>1.000000</td>\n",
       "    </tr>\n",
       "    <tr>\n",
       "      <th>75%</th>\n",
       "      <td>23117.0</td>\n",
       "      <td>144.000000</td>\n",
       "      <td>3.000000</td>\n",
       "      <td>0.0</td>\n",
       "      <td>4.000000</td>\n",
       "      <td>0.000000</td>\n",
       "      <td>65535.000000</td>\n",
       "      <td>0.000000</td>\n",
       "      <td>184.000000</td>\n",
       "      <td>0.000000</td>\n",
       "      <td>...</td>\n",
       "      <td>2.128122e+05</td>\n",
       "      <td>2.000000</td>\n",
       "      <td>32768.000000</td>\n",
       "      <td>1.048576e+06</td>\n",
       "      <td>8.192000e+03</td>\n",
       "      <td>1.048576e+06</td>\n",
       "      <td>4096.000000</td>\n",
       "      <td>0.000000e+00</td>\n",
       "      <td>16.000000</td>\n",
       "      <td>1.000000</td>\n",
       "    </tr>\n",
       "    <tr>\n",
       "      <th>max</th>\n",
       "      <td>23117.0</td>\n",
       "      <td>37008.000000</td>\n",
       "      <td>144.000000</td>\n",
       "      <td>0.0</td>\n",
       "      <td>4.000000</td>\n",
       "      <td>4096.000000</td>\n",
       "      <td>65535.000000</td>\n",
       "      <td>65520.000000</td>\n",
       "      <td>65534.000000</td>\n",
       "      <td>2.000000</td>\n",
       "      <td>...</td>\n",
       "      <td>4.294967e+09</td>\n",
       "      <td>16.000000</td>\n",
       "      <td>37184.000000</td>\n",
       "      <td>3.355443e+07</td>\n",
       "      <td>2.097152e+06</td>\n",
       "      <td>3.355443e+07</td>\n",
       "      <td>65536.000000</td>\n",
       "      <td>6.342951e+07</td>\n",
       "      <td>16.000000</td>\n",
       "      <td>1.000000</td>\n",
       "    </tr>\n",
       "  </tbody>\n",
       "</table>\n",
       "<p>8 rows × 54 columns</p>\n",
       "</div>"
      ],
      "text/plain": [
       "       e_magic        e_cblp         e_cp  e_crlc    e_cparhdr   e_minalloc  \\\n",
       "count   3888.0   3888.000000  3888.000000  3888.0  3888.000000  3888.000000   \n",
       "mean   23117.0    148.252058     2.947016     0.0     3.967593     2.120885   \n",
       "std        0.0    591.610421     2.291419     0.0     0.357188    65.785975   \n",
       "min    23117.0      0.000000     0.000000     0.0     0.000000     0.000000   \n",
       "25%    23117.0    144.000000     3.000000     0.0     4.000000     0.000000   \n",
       "50%    23117.0    144.000000     3.000000     0.0     4.000000     0.000000   \n",
       "75%    23117.0    144.000000     3.000000     0.0     4.000000     0.000000   \n",
       "max    23117.0  37008.000000   144.000000     0.0     4.000000  4096.000000   \n",
       "\n",
       "         e_maxalloc          e_ss          e_sp       e_csum  ...  \\\n",
       "count   3888.000000   3888.000000   3888.000000  3888.000000  ...   \n",
       "mean   65110.442901     16.851852    199.741255     0.001029  ...   \n",
       "std     5195.740601   1050.777490   1048.231580     0.039275  ...   \n",
       "min        0.000000      0.000000      0.000000     0.000000  ...   \n",
       "25%    65535.000000      0.000000    184.000000     0.000000  ...   \n",
       "50%    65535.000000      0.000000    184.000000     0.000000  ...   \n",
       "75%    65535.000000      0.000000    184.000000     0.000000  ...   \n",
       "max    65535.000000  65520.000000  65534.000000     2.000000  ...   \n",
       "\n",
       "           CheckSum    Subsystem  DllCharacteristics  SizeOfStackReserve  \\\n",
       "count  3.888000e+03  3888.000000         3888.000000        3.888000e+03   \n",
       "mean   1.785479e+06     2.132202         9489.058899        2.008231e+06   \n",
       "std    6.906378e+07     0.474741        14841.770405        4.682014e+06   \n",
       "min    0.000000e+00     0.000000            0.000000        0.000000e+00   \n",
       "25%    0.000000e+00     2.000000            0.000000        1.048576e+06   \n",
       "50%    7.894150e+04     2.000000            0.000000        1.048576e+06   \n",
       "75%    2.128122e+05     2.000000        32768.000000        1.048576e+06   \n",
       "max    4.294967e+09    16.000000        37184.000000        3.355443e+07   \n",
       "\n",
       "       SizeOfStackCommit  SizeOfHeapReserve  SizeOfHeapCommit   LoaderFlags  \\\n",
       "count       3.888000e+03       3.888000e+03       3888.000000  3.888000e+03   \n",
       "mean        1.072442e+04       2.065907e+06       5694.156379  3.151187e+04   \n",
       "std         8.256807e+04       4.397444e+06       6510.114435  1.342464e+06   \n",
       "min         0.000000e+00       0.000000e+00          0.000000  0.000000e+00   \n",
       "25%         4.096000e+03       1.048576e+06       4096.000000  0.000000e+00   \n",
       "50%         4.096000e+03       1.048576e+06       4096.000000  0.000000e+00   \n",
       "75%         8.192000e+03       1.048576e+06       4096.000000  0.000000e+00   \n",
       "max         2.097152e+06       3.355443e+07      65536.000000  6.342951e+07   \n",
       "\n",
       "       NumberOfRvaAndSizes        class  \n",
       "count          3888.000000  3888.000000  \n",
       "mean             15.972737     0.517490  \n",
       "std               0.648187     0.499758  \n",
       "min               0.000000     0.000000  \n",
       "25%              16.000000     0.000000  \n",
       "50%              16.000000     1.000000  \n",
       "75%              16.000000     1.000000  \n",
       "max              16.000000     1.000000  \n",
       "\n",
       "[8 rows x 54 columns]"
      ]
     },
     "execution_count": 197,
     "metadata": {},
     "output_type": "execute_result"
    }
   ],
   "source": [
    "train_data.describe()"
   ]
  },
  {
   "cell_type": "code",
   "execution_count": 198,
   "metadata": {},
   "outputs": [],
   "source": [
    "X = train_data.drop('class', axis=1)\n",
    "y = train_data['class']"
   ]
  },
  {
   "cell_type": "code",
   "execution_count": 199,
   "metadata": {},
   "outputs": [],
   "source": [
    "from sklearn.preprocessing import StandardScaler\n",
    "scaler = StandardScaler()\n",
    "from sklearn.model_selection import train_test_split\n",
    "X_train,X_test,y_train,y_test=train_test_split(X,y,test_size=0.2, random_state = 9)"
   ]
  },
  {
   "cell_type": "code",
   "execution_count": 141,
   "metadata": {},
   "outputs": [],
   "source": [
    "from sklearn.preprocessing import StandardScaler\n",
    "scaler = StandardScaler() \n",
    "x_train = scaler.fit_transform(X_train) \n",
    "x_test = scaler.transform(X_test)"
   ]
  },
  {
   "cell_type": "code",
   "execution_count": 200,
   "metadata": {},
   "outputs": [],
   "source": [
    "from sklearn.ensemble import RandomForestClassifier\n",
    "model = RandomForestClassifier(criterion='gini', n_estimators=27)\n",
    "model.fit(X_train, y_train)\n",
    "prediction = model.predict(X_test)"
   ]
  },
  {
   "cell_type": "code",
   "execution_count": 201,
   "metadata": {},
   "outputs": [
    {
     "data": {
      "text/plain": [
       "array([0, 1, 0, 0, 1, 0, 1, 1, 0, 1, 1, 1, 0, 0, 0, 1, 1, 1, 1, 1, 1, 1,\n",
       "       0, 1, 0, 0, 0, 1, 1, 1, 1, 0, 1, 0, 1, 0, 0, 1, 0, 0, 1, 0, 0, 0,\n",
       "       0, 1, 1, 0, 0, 0, 1, 1, 1, 1, 1, 1, 1, 0, 0, 1, 1, 0, 0, 0, 0, 1,\n",
       "       1, 1, 0, 0, 0, 0, 1, 0, 1, 1, 1, 0, 1, 0, 0, 1, 0, 1, 1, 0, 1, 1,\n",
       "       0, 1, 0, 0, 1, 0, 1, 1, 0, 0, 1, 0, 0, 0, 0, 1, 0, 0, 1, 1, 1, 0,\n",
       "       0, 0, 1, 1, 1, 0, 0, 1, 1, 0, 1, 0, 1, 1, 0, 1, 0, 1, 1, 0, 0, 0,\n",
       "       1, 0, 0, 1, 0, 0, 0, 1, 0, 1, 0, 0, 1, 0, 0, 0, 0, 0, 1, 0, 0, 1,\n",
       "       0, 0, 0, 0, 1, 1, 1, 1, 0, 0, 1, 1, 1, 0, 1, 0, 1, 0, 0, 0, 0, 1,\n",
       "       0, 1, 0, 1, 0, 0, 1, 1, 1, 1, 0, 1, 0, 1, 0, 0, 0, 0, 1, 0, 1, 0,\n",
       "       1, 1, 1, 1, 1, 0, 0, 0, 1, 1, 0, 1, 0, 1, 1, 1, 1, 1, 0, 0, 0, 0,\n",
       "       1, 0, 0, 1, 1, 1, 1, 0, 1, 0, 1, 0, 0, 1, 0, 0, 0, 0, 0, 0, 0, 1,\n",
       "       1, 1, 1, 1, 0, 1, 0, 0, 1, 1, 0, 0, 1, 1, 0, 0, 1, 1, 0, 0, 0, 1,\n",
       "       1, 0, 1, 0, 1, 1, 1, 0, 1, 1, 0, 1, 0, 0, 1, 1, 1, 1, 0, 0, 1, 0,\n",
       "       0, 0, 1, 1, 0, 1, 1, 1, 1, 1, 1, 1, 1, 0, 1, 0, 1, 0, 0, 0, 1, 1,\n",
       "       1, 1, 1, 0, 1, 1, 0, 1, 1, 0, 1, 1, 1, 1, 1, 0, 0, 0, 1, 1, 1, 1,\n",
       "       1, 1, 1, 0, 0, 1, 1, 0, 0, 1, 1, 0, 0, 1, 0, 1, 0, 0, 0, 1, 0, 0,\n",
       "       1, 1, 1, 1, 1, 0, 0, 0, 1, 1, 0, 1, 1, 0, 0, 1, 1, 0, 1, 1, 1, 1,\n",
       "       0, 0, 0, 1, 1, 1, 0, 1, 1, 1, 0, 1, 1, 1, 0, 1, 0, 0, 1, 0, 0, 1,\n",
       "       1, 1, 1, 0, 1, 1, 0, 1, 0, 0, 1, 0, 0, 0, 0, 0, 1, 1, 1, 1, 0, 1,\n",
       "       1, 1, 0, 1, 1, 0, 0, 0, 1, 1, 0, 0, 0, 1, 0, 1, 0, 1, 1, 0, 1, 1,\n",
       "       1, 1, 1, 1, 0, 0, 0, 1, 1, 0, 0, 0, 0, 1, 0, 0, 1, 1, 0, 0, 0, 1,\n",
       "       1, 0, 1, 1, 0, 0, 0, 0, 0, 1, 0, 1, 0, 0, 1, 1, 0, 0, 0, 0, 1, 1,\n",
       "       0, 1, 1, 0, 0, 1, 0, 0, 1, 1, 1, 0, 0, 1, 0, 1, 1, 1, 1, 1, 0, 0,\n",
       "       0, 1, 0, 0, 0, 0, 1, 1, 0, 1, 1, 0, 0, 1, 1, 0, 1, 0, 1, 0, 0, 1,\n",
       "       1, 1, 0, 0, 1, 0, 0, 1, 1, 1, 1, 0, 1, 0, 0, 0, 1, 1, 1, 0, 0, 1,\n",
       "       0, 1, 1, 0, 0, 1, 0, 0, 1, 0, 0, 1, 1, 1, 1, 0, 0, 1, 1, 0, 1, 1,\n",
       "       1, 1, 1, 0, 1, 0, 1, 0, 1, 0, 1, 1, 1, 0, 1, 1, 1, 0, 0, 0, 0, 1,\n",
       "       1, 1, 0, 1, 0, 1, 0, 1, 0, 0, 1, 0, 1, 0, 1, 1, 0, 1, 0, 1, 0, 1,\n",
       "       0, 0, 0, 1, 0, 1, 1, 0, 1, 1, 1, 1, 1, 1, 0, 1, 0, 0, 1, 1, 0, 1,\n",
       "       1, 1, 1, 1, 1, 0, 1, 1, 0, 0, 0, 1, 0, 0, 0, 0, 1, 0, 0, 0, 0, 1,\n",
       "       0, 1, 1, 0, 0, 1, 1, 1, 1, 1, 1, 1, 1, 1, 0, 0, 1, 0, 0, 0, 0, 1,\n",
       "       1, 1, 1, 1, 0, 0, 1, 0, 0, 0, 0, 0, 0, 1, 1, 0, 0, 1, 1, 1, 0, 1,\n",
       "       1, 0, 1, 0, 1, 0, 0, 0, 1, 0, 0, 1, 1, 1, 0, 0, 0, 0, 1, 0, 1, 0,\n",
       "       0, 0, 1, 1, 1, 1, 1, 1, 0, 0, 0, 1, 0, 1, 1, 1, 0, 1, 1, 1, 1, 1,\n",
       "       0, 1, 0, 1, 1, 1, 0, 1, 1, 1, 0, 1, 0, 0, 0, 0, 0, 1, 1, 1, 1, 0,\n",
       "       0, 0, 0, 0, 0, 0, 0, 1], dtype=int64)"
      ]
     },
     "execution_count": 201,
     "metadata": {},
     "output_type": "execute_result"
    }
   ],
   "source": [
    "prediction"
   ]
  },
  {
   "cell_type": "code",
   "execution_count": 202,
   "metadata": {},
   "outputs": [
    {
     "data": {
      "text/plain": [
       "0.9832904884318766"
      ]
     },
     "execution_count": 202,
     "metadata": {},
     "output_type": "execute_result"
    }
   ],
   "source": [
    "model.score(X_test, y_test)"
   ]
  },
  {
   "cell_type": "code",
   "execution_count": 203,
   "metadata": {},
   "outputs": [
    {
     "name": "stdout",
     "output_type": "stream",
     "text": [
      "[[369  10]\n",
      " [  3 396]]\n",
      "0.9832904884318766\n",
      "              precision    recall  f1-score   support\n",
      "\n",
      "           0       0.99      0.97      0.98       379\n",
      "           1       0.98      0.99      0.98       399\n",
      "\n",
      "    accuracy                           0.98       778\n",
      "   macro avg       0.98      0.98      0.98       778\n",
      "weighted avg       0.98      0.98      0.98       778\n",
      "\n"
     ]
    }
   ],
   "source": [
    "from sklearn.metrics import confusion_matrix,classification_report,accuracy_score\n",
    "print(confusion_matrix(y_test,prediction))\n",
    "print(accuracy_score(y_test,prediction))\n",
    "print(classification_report(y_test,prediction))"
   ]
  },
  {
   "cell_type": "code",
   "execution_count": 204,
   "metadata": {},
   "outputs": [
    {
     "name": "stdout",
     "output_type": "stream",
     "text": [
      "[[367  12]\n",
      " [  6 393]]\n",
      "0.9768637532133676\n",
      "              precision    recall  f1-score   support\n",
      "\n",
      "           0       0.98      0.97      0.98       379\n",
      "           1       0.97      0.98      0.98       399\n",
      "\n",
      "    accuracy                           0.98       778\n",
      "   macro avg       0.98      0.98      0.98       778\n",
      "weighted avg       0.98      0.98      0.98       778\n",
      "\n"
     ]
    }
   ],
   "source": [
    "### Manual Hyperparameter Tuning\n",
    "model=RandomForestClassifier(n_estimators=300,criterion='entropy',\n",
    "                             max_features='sqrt',min_samples_leaf=10,random_state=100).fit(X_train,y_train)\n",
    "predictions=model.predict(X_test)\n",
    "print(confusion_matrix(y_test,predictions))\n",
    "print(accuracy_score(y_test,predictions))\n",
    "print(classification_report(y_test,predictions))"
   ]
  },
  {
   "cell_type": "code",
   "execution_count": 205,
   "metadata": {},
   "outputs": [],
   "source": [
    "test_data.drop(['e_res', 'e_res2'], axis=1, inplace=True)"
   ]
  },
  {
   "cell_type": "code",
   "execution_count": 206,
   "metadata": {},
   "outputs": [
    {
     "data": {
      "text/plain": [
       "array([1, 1, 0, ..., 0, 0, 1], dtype=int64)"
      ]
     },
     "execution_count": 206,
     "metadata": {},
     "output_type": "execute_result"
    }
   ],
   "source": [
    "y_pred = model.predict(test_data)\n",
    "y_pred"
   ]
  },
  {
   "cell_type": "code",
   "execution_count": 207,
   "metadata": {},
   "outputs": [],
   "source": [
    "res_rfc = pd.DataFrame(y_pred) #target is nothing but the final predictions of your model on input features of your new unseen test data\n",
    "#res.index = test_data.index # its important for comparison. Here \"test_new\" is your new test dataset\n",
    "res_rfc.columns = [\"prediction\"]\n",
    "res_rfc.to_csv(\"submission_rfc.csv\", index=False)      # the csv file will be saved locally on the same location where this notebook is located."
   ]
  },
  {
   "cell_type": "code",
   "execution_count": 150,
   "metadata": {},
   "outputs": [
    {
     "name": "stdout",
     "output_type": "stream",
     "text": [
      "{'n_estimators': [200, 400, 600, 800, 1000, 1200, 1400, 1600, 1800, 2000], 'max_features': ['auto', 'sqrt', 'log2'], 'max_depth': [10, 120, 230, 340, 450, 560, 670, 780, 890, 1000], 'min_samples_split': [2, 5, 10, 14], 'min_samples_leaf': [1, 2, 4, 6, 8], 'criterion': ['entropy', 'gini']}\n"
     ]
    }
   ],
   "source": [
    "import numpy as np\n",
    "from sklearn.model_selection import RandomizedSearchCV\n",
    "# Number of trees in random forest\n",
    "n_estimators = [int(x) for x in np.linspace(start = 200, stop = 2000, num = 10)]\n",
    "# Number of features to consider at every split\n",
    "max_features = ['auto', 'sqrt','log2']\n",
    "# Maximum number of levels in tree\n",
    "max_depth = [int(x) for x in np.linspace(10, 1000,10)]\n",
    "# Minimum number of samples required to split a node\n",
    "min_samples_split = [2, 5, 10,14]\n",
    "# Minimum number of samples required at each leaf node\n",
    "min_samples_leaf = [1, 2, 4,6,8]\n",
    "# Create the random grid\n",
    "random_grid = {'n_estimators': n_estimators,\n",
    "               'max_features': max_features,\n",
    "               'max_depth': max_depth,\n",
    "               'min_samples_split': min_samples_split,\n",
    "               'min_samples_leaf': min_samples_leaf,\n",
    "              'criterion':['entropy','gini']}\n",
    "print(random_grid)"
   ]
  },
  {
   "cell_type": "code",
   "execution_count": 151,
   "metadata": {},
   "outputs": [
    {
     "name": "stdout",
     "output_type": "stream",
     "text": [
      "Fitting 3 folds for each of 100 candidates, totalling 300 fits\n"
     ]
    },
    {
     "name": "stderr",
     "output_type": "stream",
     "text": [
      "[Parallel(n_jobs=-1)]: Using backend LokyBackend with 4 concurrent workers.\n",
      "[Parallel(n_jobs=-1)]: Done  33 tasks      | elapsed:   56.7s\n",
      "[Parallel(n_jobs=-1)]: Done 154 tasks      | elapsed:  4.4min\n",
      "[Parallel(n_jobs=-1)]: Done 300 out of 300 | elapsed:  8.6min finished\n"
     ]
    },
    {
     "data": {
      "text/plain": [
       "RandomizedSearchCV(cv=3, estimator=RandomForestClassifier(), n_iter=100,\n",
       "                   n_jobs=-1,\n",
       "                   param_distributions={'criterion': ['entropy', 'gini'],\n",
       "                                        'max_depth': [10, 120, 230, 340, 450,\n",
       "                                                      560, 670, 780, 890,\n",
       "                                                      1000],\n",
       "                                        'max_features': ['auto', 'sqrt',\n",
       "                                                         'log2'],\n",
       "                                        'min_samples_leaf': [1, 2, 4, 6, 8],\n",
       "                                        'min_samples_split': [2, 5, 10, 14],\n",
       "                                        'n_estimators': [200, 400, 600, 800,\n",
       "                                                         1000, 1200, 1400, 1600,\n",
       "                                                         1800, 2000]},\n",
       "                   random_state=100, verbose=2)"
      ]
     },
     "execution_count": 151,
     "metadata": {},
     "output_type": "execute_result"
    }
   ],
   "source": [
    "rf=RandomForestClassifier()\n",
    "rf_randomcv=RandomizedSearchCV(estimator=rf,param_distributions=random_grid,n_iter=100,cv=3,verbose=2,\n",
    "                               random_state=100,n_jobs=-1)\n",
    "### fit the randomized model\n",
    "rf_randomcv.fit(X_train,y_train)"
   ]
  },
  {
   "cell_type": "code",
   "execution_count": 152,
   "metadata": {},
   "outputs": [
    {
     "data": {
      "text/plain": [
       "{'n_estimators': 600,\n",
       " 'min_samples_split': 2,\n",
       " 'min_samples_leaf': 1,\n",
       " 'max_features': 'sqrt',\n",
       " 'max_depth': 890,\n",
       " 'criterion': 'gini'}"
      ]
     },
     "execution_count": 152,
     "metadata": {},
     "output_type": "execute_result"
    }
   ],
   "source": [
    " rf_randomcv.best_params_"
   ]
  },
  {
   "cell_type": "code",
   "execution_count": 153,
   "metadata": {},
   "outputs": [
    {
     "data": {
      "text/plain": [
       "RandomizedSearchCV(cv=3, estimator=RandomForestClassifier(), n_iter=100,\n",
       "                   n_jobs=-1,\n",
       "                   param_distributions={'criterion': ['entropy', 'gini'],\n",
       "                                        'max_depth': [10, 120, 230, 340, 450,\n",
       "                                                      560, 670, 780, 890,\n",
       "                                                      1000],\n",
       "                                        'max_features': ['auto', 'sqrt',\n",
       "                                                         'log2'],\n",
       "                                        'min_samples_leaf': [1, 2, 4, 6, 8],\n",
       "                                        'min_samples_split': [2, 5, 10, 14],\n",
       "                                        'n_estimators': [200, 400, 600, 800,\n",
       "                                                         1000, 1200, 1400, 1600,\n",
       "                                                         1800, 2000]},\n",
       "                   random_state=100, verbose=2)"
      ]
     },
     "execution_count": 153,
     "metadata": {},
     "output_type": "execute_result"
    }
   ],
   "source": [
    "rf_randomcv"
   ]
  },
  {
   "cell_type": "code",
   "execution_count": 154,
   "metadata": {},
   "outputs": [],
   "source": [
    "best_random_grid=rf_randomcv.best_estimator_"
   ]
  },
  {
   "cell_type": "code",
   "execution_count": 155,
   "metadata": {},
   "outputs": [
    {
     "data": {
      "text/plain": [
       "RandomForestClassifier(max_depth=890, max_features='sqrt', n_estimators=600)"
      ]
     },
     "execution_count": 155,
     "metadata": {},
     "output_type": "execute_result"
    }
   ],
   "source": [
    "best_random_grid"
   ]
  },
  {
   "cell_type": "code",
   "execution_count": 156,
   "metadata": {},
   "outputs": [
    {
     "name": "stdout",
     "output_type": "stream",
     "text": [
      "[[371   8]\n",
      " [  4 395]]\n",
      "Accuracy Score 0.9845758354755784\n",
      "Classification report:               precision    recall  f1-score   support\n",
      "\n",
      "           0       0.99      0.98      0.98       379\n",
      "           1       0.98      0.99      0.99       399\n",
      "\n",
      "    accuracy                           0.98       778\n",
      "   macro avg       0.98      0.98      0.98       778\n",
      "weighted avg       0.98      0.98      0.98       778\n",
      "\n"
     ]
    }
   ],
   "source": [
    "from sklearn.metrics import accuracy_score\n",
    "y_pred=best_random_grid.predict(X_test)\n",
    "print(confusion_matrix(y_test,y_pred))\n",
    "print(\"Accuracy Score {}\".format(accuracy_score(y_test,y_pred)))\n",
    "print(\"Classification report: {}\".format(classification_report(y_test,y_pred)))"
   ]
  },
  {
   "cell_type": "code",
   "execution_count": 157,
   "metadata": {},
   "outputs": [
    {
     "data": {
      "text/plain": [
       "0.9845758354755784"
      ]
     },
     "execution_count": 157,
     "metadata": {},
     "output_type": "execute_result"
    }
   ],
   "source": [
    "best_random_grid.score(X_test, y_test)"
   ]
  },
  {
   "cell_type": "code",
   "execution_count": 158,
   "metadata": {},
   "outputs": [
    {
     "data": {
      "text/plain": [
       "array([1, 1, 0, ..., 0, 0, 1], dtype=int64)"
      ]
     },
     "execution_count": 158,
     "metadata": {},
     "output_type": "execute_result"
    }
   ],
   "source": [
    "y_pred = best_random_grid.predict(test_data)\n",
    "y_pred"
   ]
  },
  {
   "cell_type": "code",
   "execution_count": 159,
   "metadata": {},
   "outputs": [],
   "source": [
    "res = pd.DataFrame(y_pred) #target is nothing but the final predictions of your model on input features of your new unseen test data\n",
    "#res.index = test_data.index # its important for comparison. Here \"test_new\" is your new test dataset\n",
    "res.columns = [\"prediction\"]\n",
    "res.to_csv(\"submission_rfc_rgsc.csv\", index=False)      # the csv file will be saved locally on the same location where this notebook is located."
   ]
  },
  {
   "cell_type": "code",
   "execution_count": 160,
   "metadata": {},
   "outputs": [],
   "source": [
    "from sklearn.model_selection import GridSearchCV"
   ]
  },
  {
   "cell_type": "code",
   "execution_count": 208,
   "metadata": {},
   "outputs": [
    {
     "name": "stdout",
     "output_type": "stream",
     "text": [
      "{'criterion': ['gini'], 'max_depth': [890], 'max_features': ['sqrt'], 'min_samples_leaf': [1, 3, 5], 'min_samples_split': [0, 1, 2, 3, 4], 'n_estimators': [400, 500, 600, 700, 800]}\n"
     ]
    }
   ],
   "source": [
    "param_grid = {\n",
    "    'criterion': [rf_randomcv.best_params_['criterion']],\n",
    "    'max_depth': [rf_randomcv.best_params_['max_depth']],\n",
    "    'max_features': [rf_randomcv.best_params_['max_features']],\n",
    "    'min_samples_leaf': [rf_randomcv.best_params_['min_samples_leaf'], \n",
    "                         rf_randomcv.best_params_['min_samples_leaf']+2, \n",
    "                         rf_randomcv.best_params_['min_samples_leaf'] + 4],\n",
    "    'min_samples_split': [rf_randomcv.best_params_['min_samples_split'] - 2,\n",
    "                          rf_randomcv.best_params_['min_samples_split'] - 1,\n",
    "                          rf_randomcv.best_params_['min_samples_split'], \n",
    "                          rf_randomcv.best_params_['min_samples_split'] +1,\n",
    "                          rf_randomcv.best_params_['min_samples_split'] + 2],\n",
    "    'n_estimators': [rf_randomcv.best_params_['n_estimators'] - 200, rf_randomcv.best_params_['n_estimators'] - 100, \n",
    "                     rf_randomcv.best_params_['n_estimators'], \n",
    "                     rf_randomcv.best_params_['n_estimators'] + 100, rf_randomcv.best_params_['n_estimators'] + 200]\n",
    "}\n",
    "\n",
    "print(param_grid)"
   ]
  },
  {
   "cell_type": "code",
   "execution_count": 209,
   "metadata": {},
   "outputs": [
    {
     "name": "stdout",
     "output_type": "stream",
     "text": [
      "Fitting 10 folds for each of 75 candidates, totalling 750 fits\n"
     ]
    },
    {
     "name": "stderr",
     "output_type": "stream",
     "text": [
      "[Parallel(n_jobs=-1)]: Using backend LokyBackend with 4 concurrent workers.\n",
      "[Parallel(n_jobs=-1)]: Done  33 tasks      | elapsed:   10.4s\n",
      "[Parallel(n_jobs=-1)]: Done 154 tasks      | elapsed:  2.0min\n",
      "[Parallel(n_jobs=-1)]: Done 357 tasks      | elapsed:  5.1min\n",
      "[Parallel(n_jobs=-1)]: Done 640 tasks      | elapsed:  9.9min\n",
      "[Parallel(n_jobs=-1)]: Done 750 out of 750 | elapsed: 12.6min finished\n"
     ]
    },
    {
     "data": {
      "text/plain": [
       "GridSearchCV(cv=10, estimator=RandomForestClassifier(), n_jobs=-1,\n",
       "             param_grid={'criterion': ['gini'], 'max_depth': [890],\n",
       "                         'max_features': ['sqrt'],\n",
       "                         'min_samples_leaf': [1, 3, 5],\n",
       "                         'min_samples_split': [0, 1, 2, 3, 4],\n",
       "                         'n_estimators': [400, 500, 600, 700, 800]},\n",
       "             verbose=2)"
      ]
     },
     "execution_count": 209,
     "metadata": {},
     "output_type": "execute_result"
    }
   ],
   "source": [
    "#### Fit the grid_search to the data\n",
    "rf=RandomForestClassifier()\n",
    "grid_search=GridSearchCV(estimator=rf,param_grid=param_grid,cv=10,n_jobs=-1,verbose=2)\n",
    "grid_search.fit(X_train,y_train)"
   ]
  },
  {
   "cell_type": "code",
   "execution_count": 210,
   "metadata": {},
   "outputs": [
    {
     "data": {
      "text/plain": [
       "RandomForestClassifier(max_depth=890, max_features='sqrt', n_estimators=700)"
      ]
     },
     "execution_count": 210,
     "metadata": {},
     "output_type": "execute_result"
    }
   ],
   "source": [
    "grid_search.best_estimator_"
   ]
  },
  {
   "cell_type": "code",
   "execution_count": 211,
   "metadata": {},
   "outputs": [],
   "source": [
    "best_grid=grid_search.best_estimator_"
   ]
  },
  {
   "cell_type": "code",
   "execution_count": 212,
   "metadata": {},
   "outputs": [
    {
     "data": {
      "text/plain": [
       "RandomForestClassifier(max_depth=890, max_features='sqrt', n_estimators=700)"
      ]
     },
     "execution_count": 212,
     "metadata": {},
     "output_type": "execute_result"
    }
   ],
   "source": [
    "best_grid"
   ]
  },
  {
   "cell_type": "code",
   "execution_count": 213,
   "metadata": {},
   "outputs": [
    {
     "name": "stdout",
     "output_type": "stream",
     "text": [
      "[[371   8]\n",
      " [  3 396]]\n",
      "Accuracy Score 0.9858611825192802\n",
      "Classification report:               precision    recall  f1-score   support\n",
      "\n",
      "           0       0.99      0.98      0.99       379\n",
      "           1       0.98      0.99      0.99       399\n",
      "\n",
      "    accuracy                           0.99       778\n",
      "   macro avg       0.99      0.99      0.99       778\n",
      "weighted avg       0.99      0.99      0.99       778\n",
      "\n"
     ]
    }
   ],
   "source": [
    "y_pred=best_grid.predict(X_test)\n",
    "print(confusion_matrix(y_test,y_pred))\n",
    "print(\"Accuracy Score {}\".format(accuracy_score(y_test,y_pred)))\n",
    "print(\"Classification report: {}\".format(classification_report(y_test,y_pred)))"
   ]
  },
  {
   "cell_type": "code",
   "execution_count": 214,
   "metadata": {},
   "outputs": [
    {
     "data": {
      "text/plain": [
       "0.9858611825192802"
      ]
     },
     "execution_count": 214,
     "metadata": {},
     "output_type": "execute_result"
    }
   ],
   "source": [
    "best_grid.score(X_test, y_test)"
   ]
  },
  {
   "cell_type": "code",
   "execution_count": 215,
   "metadata": {},
   "outputs": [
    {
     "data": {
      "text/plain": [
       "array([1, 1, 0, ..., 0, 0, 1], dtype=int64)"
      ]
     },
     "execution_count": 215,
     "metadata": {},
     "output_type": "execute_result"
    }
   ],
   "source": [
    "y_pred = best_grid.predict(test_data)\n",
    "y_pred"
   ]
  },
  {
   "cell_type": "code",
   "execution_count": 216,
   "metadata": {},
   "outputs": [],
   "source": [
    "res_gscv = pd.DataFrame(y_pred) #target is nothing but the final predictions of your model on input features of your new unseen test data\n",
    "#res.index = test_data.index # its important for comparison. Here \"test_new\" is your new test dataset\n",
    "res_gscv.columns = [\"prediction\"]\n",
    "res_gscv.to_csv(\"submission_rfc_gscv.csv\", index=False)      # the csv file will be saved locally on the same location where this notebook is located."
   ]
  },
  {
   "cell_type": "code",
   "execution_count": 217,
   "metadata": {},
   "outputs": [],
   "source": [
    "from sklearn.linear_model import LogisticRegression\n",
    "from sklearn.svm import SVC, LinearSVC\n",
    "from sklearn.neighbors import KNeighborsClassifier\n",
    "from sklearn.tree import DecisionTreeClassifier\n",
    "from sklearn.ensemble import RandomForestClassifier\n",
    "from sklearn.naive_bayes import GaussianNB\n",
    "from sklearn.linear_model import Perceptron\n",
    "from sklearn.linear_model import SGDClassifier"
   ]
  },
  {
   "cell_type": "code",
   "execution_count": 218,
   "metadata": {},
   "outputs": [
    {
     "name": "stdout",
     "output_type": "stream",
     "text": [
      "Train Accuracy: 96.72%\n"
     ]
    }
   ],
   "source": [
    "### k -Nearest Neighbors\n",
    "clf_kn = KNeighborsClassifier(n_neighbors = 3)\n",
    "clf_kn.fit(X_train, y_train)\n",
    "y_pred_knn = clf_kn.predict(X_test)\n",
    "acc_knn = round(clf_kn.score(X_train, y_train) * 100, 2)\n",
    "print (\"Train Accuracy: \" + str(acc_knn) + '%')"
   ]
  },
  {
   "cell_type": "code",
   "execution_count": 219,
   "metadata": {},
   "outputs": [],
   "source": [
    "res_knn = pd.DataFrame(y_pred) #target is nothing but the final predictions of your model on input features of your new unseen test data\n",
    "#res.index = test_data.index # its important for comparison. Here \"test_new\" is your new test dataset\n",
    "res_knn.columns = [\"prediction\"]\n",
    "res_knn.to_csv(\"submission_rfc_res_knn.csv\", index=False)# the csv file will be saved locally on the same location where this notebook is located."
   ]
  },
  {
   "cell_type": "code",
   "execution_count": 220,
   "metadata": {},
   "outputs": [
    {
     "name": "stdout",
     "output_type": "stream",
     "text": [
      "Train Accuracy: 74.37%\n"
     ]
    }
   ],
   "source": [
    "### Support Vector Machine\n",
    "\n",
    "clf = SVC()\n",
    "clf.fit(X_train, y_train)\n",
    "y_pred_svc = clf.predict(X_test)\n",
    "acc_svc = round(clf.score(X_train, y_train) * 100, 2)\n",
    "print (\"Train Accuracy: \" + str(acc_svc) + '%')"
   ]
  },
  {
   "cell_type": "code",
   "execution_count": 221,
   "metadata": {},
   "outputs": [],
   "source": [
    "from sklearn.ensemble import GradientBoostingClassifier"
   ]
  },
  {
   "cell_type": "code",
   "execution_count": 222,
   "metadata": {},
   "outputs": [
    {
     "data": {
      "text/plain": [
       "GradientBoostingClassifier(random_state=9)"
      ]
     },
     "execution_count": 222,
     "metadata": {},
     "output_type": "execute_result"
    }
   ],
   "source": [
    "reg = GradientBoostingClassifier(random_state=9)\n",
    "reg.fit(X_train, y_train)"
   ]
  },
  {
   "cell_type": "code",
   "execution_count": 223,
   "metadata": {},
   "outputs": [
    {
     "data": {
      "text/plain": [
       "0.9768637532133676"
      ]
     },
     "execution_count": 223,
     "metadata": {},
     "output_type": "execute_result"
    }
   ],
   "source": [
    "reg.score(X_test, y_test)"
   ]
  },
  {
   "cell_type": "code",
   "execution_count": 183,
   "metadata": {},
   "outputs": [
    {
     "data": {
      "text/plain": [
       "array([0, 1, 0, 0, 1, 0, 1, 1, 0, 1, 1, 1, 0, 0, 0, 1, 1, 1, 1, 0, 1, 1,\n",
       "       0, 1, 0, 0, 0, 1, 1, 1, 1, 0, 1, 0, 1, 0, 0, 1, 0, 0, 1, 0, 0, 0,\n",
       "       0, 1, 1, 0, 0, 0, 1, 1, 1, 1, 1, 1, 1, 0, 0, 1, 1, 0, 0, 0, 0, 1,\n",
       "       1, 1, 0, 0, 0, 0, 1, 0, 1, 1, 1, 0, 1, 0, 0, 1, 0, 1, 1, 0, 1, 1,\n",
       "       0, 1, 0, 0, 1, 0, 1, 1, 0, 0, 1, 0, 0, 0, 0, 1, 0, 0, 1, 1, 1, 0,\n",
       "       0, 0, 1, 1, 1, 0, 0, 1, 1, 0, 1, 0, 1, 1, 0, 1, 0, 1, 1, 0, 0, 0,\n",
       "       1, 0, 0, 1, 0, 0, 0, 1, 0, 1, 0, 0, 1, 0, 0, 0, 0, 0, 1, 0, 0, 1,\n",
       "       0, 0, 0, 0, 1, 1, 1, 1, 0, 0, 1, 1, 1, 0, 1, 0, 1, 0, 0, 0, 0, 1,\n",
       "       0, 1, 0, 1, 0, 0, 1, 1, 1, 1, 0, 1, 0, 1, 0, 0, 0, 0, 1, 0, 1, 0,\n",
       "       1, 1, 1, 1, 1, 0, 0, 0, 1, 1, 0, 1, 0, 1, 1, 1, 1, 1, 0, 0, 0, 0,\n",
       "       1, 0, 0, 1, 1, 1, 1, 0, 1, 0, 1, 0, 0, 1, 0, 0, 0, 0, 0, 0, 0, 1,\n",
       "       1, 1, 1, 1, 0, 1, 0, 0, 1, 1, 0, 0, 1, 1, 0, 0, 1, 1, 0, 0, 0, 1,\n",
       "       1, 0, 1, 0, 1, 1, 1, 0, 1, 1, 0, 1, 0, 0, 1, 1, 1, 1, 0, 0, 0, 0,\n",
       "       0, 0, 1, 1, 0, 1, 1, 1, 1, 1, 1, 1, 1, 0, 1, 0, 1, 0, 0, 0, 1, 1,\n",
       "       1, 1, 1, 0, 1, 1, 0, 1, 1, 0, 1, 1, 1, 1, 1, 0, 0, 0, 1, 1, 1, 1,\n",
       "       1, 1, 1, 0, 0, 1, 1, 0, 0, 1, 1, 0, 0, 1, 0, 1, 0, 0, 0, 1, 0, 0,\n",
       "       1, 1, 1, 1, 1, 0, 0, 0, 1, 1, 0, 1, 1, 0, 0, 1, 1, 0, 1, 1, 1, 1,\n",
       "       0, 0, 0, 1, 1, 1, 0, 1, 1, 1, 1, 1, 1, 1, 0, 1, 0, 0, 1, 0, 0, 1,\n",
       "       1, 1, 1, 0, 1, 0, 0, 1, 0, 0, 1, 0, 0, 0, 0, 0, 1, 1, 1, 1, 0, 1,\n",
       "       1, 1, 1, 1, 1, 0, 0, 0, 1, 1, 0, 0, 0, 1, 0, 1, 0, 1, 0, 0, 1, 1,\n",
       "       1, 1, 1, 1, 0, 0, 0, 1, 1, 0, 0, 0, 0, 1, 0, 0, 1, 1, 0, 0, 0, 1,\n",
       "       1, 0, 1, 1, 0, 0, 0, 0, 0, 1, 0, 1, 0, 0, 1, 1, 0, 0, 0, 0, 1, 1,\n",
       "       0, 1, 1, 0, 0, 1, 0, 0, 1, 1, 1, 0, 0, 1, 0, 1, 1, 1, 1, 1, 0, 0,\n",
       "       0, 1, 0, 0, 0, 0, 0, 1, 0, 1, 1, 0, 0, 1, 1, 0, 1, 0, 1, 0, 0, 1,\n",
       "       1, 1, 0, 0, 1, 0, 0, 1, 1, 1, 1, 0, 1, 0, 0, 0, 1, 1, 1, 0, 0, 1,\n",
       "       0, 1, 1, 0, 0, 1, 0, 0, 1, 0, 0, 1, 1, 1, 1, 0, 0, 1, 1, 0, 1, 1,\n",
       "       1, 1, 1, 0, 0, 0, 1, 0, 1, 0, 1, 1, 1, 0, 1, 1, 0, 0, 0, 0, 0, 1,\n",
       "       1, 1, 0, 1, 0, 1, 0, 1, 0, 0, 1, 0, 1, 0, 1, 1, 0, 1, 0, 0, 0, 1,\n",
       "       0, 0, 0, 1, 0, 1, 1, 0, 1, 1, 1, 1, 1, 1, 0, 1, 0, 0, 1, 1, 0, 1,\n",
       "       1, 1, 1, 1, 1, 0, 1, 1, 0, 0, 0, 1, 0, 0, 0, 0, 1, 0, 0, 0, 0, 1,\n",
       "       0, 1, 1, 0, 0, 1, 1, 1, 1, 1, 1, 1, 1, 1, 0, 0, 1, 0, 0, 0, 0, 1,\n",
       "       1, 1, 1, 1, 0, 0, 1, 0, 0, 0, 0, 0, 0, 1, 1, 0, 0, 1, 1, 1, 0, 1,\n",
       "       1, 0, 1, 0, 1, 0, 0, 0, 1, 0, 0, 1, 1, 1, 0, 0, 0, 0, 1, 0, 0, 0,\n",
       "       0, 0, 1, 1, 1, 1, 1, 1, 0, 0, 0, 1, 0, 1, 1, 1, 0, 1, 1, 1, 1, 1,\n",
       "       0, 1, 0, 1, 1, 1, 0, 1, 1, 1, 0, 1, 0, 0, 0, 0, 0, 1, 1, 1, 1, 0,\n",
       "       0, 0, 0, 0, 0, 0, 0, 1], dtype=int64)"
      ]
     },
     "execution_count": 183,
     "metadata": {},
     "output_type": "execute_result"
    }
   ],
   "source": [
    "y_pred=reg.predict(X_test)\n",
    "y_pred"
   ]
  },
  {
   "cell_type": "code",
   "execution_count": 184,
   "metadata": {},
   "outputs": [
    {
     "data": {
      "text/plain": [
       "array([1, 1, 0, ..., 0, 0, 1], dtype=int64)"
      ]
     },
     "execution_count": 184,
     "metadata": {},
     "output_type": "execute_result"
    }
   ],
   "source": [
    "y_pred = reg.predict(test_data)\n",
    "y_pred"
   ]
  },
  {
   "cell_type": "code",
   "execution_count": 185,
   "metadata": {},
   "outputs": [],
   "source": [
    "res_gb = pd.DataFrame(y_pred) #target is nothing but the final predictions of your model on input features of your new unseen test data\n",
    "#res.index = test_data.index # its important for comparison. Here \"test_new\" is your new test dataset\n",
    "res_gb.columns = [\"prediction\"]\n",
    "res_gb.to_csv(\"submission_gb.csv\", index=False)# the csv file will be saved locally on the same location where this notebook is located."
   ]
  },
  {
   "cell_type": "code",
   "execution_count": null,
   "metadata": {},
   "outputs": [],
   "source": []
  }
 ],
 "metadata": {
  "kernelspec": {
   "display_name": "Python 3",
   "language": "python",
   "name": "python3"
  },
  "language_info": {
   "codemirror_mode": {
    "name": "ipython",
    "version": 3
   },
   "file_extension": ".py",
   "mimetype": "text/x-python",
   "name": "python",
   "nbconvert_exporter": "python",
   "pygments_lexer": "ipython3",
   "version": "3.8.5"
  }
 },
 "nbformat": 4,
 "nbformat_minor": 4
}
