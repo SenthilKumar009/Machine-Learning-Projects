{
 "cells": [
  {
   "cell_type": "code",
   "execution_count": 239,
   "metadata": {},
   "outputs": [],
   "source": [
    "# libraries for numerical\n",
    "import pandas as pd  \n",
    "import numpy as np\n",
    "\n",
    "# libraries for visualization\n",
    "import matplotlib.pyplot as plt  \n",
    "import seaborn as sns\n",
    "\n",
    "# libraries for machine learning\n",
    "from sklearn.model_selection import train_test_split \n",
    "from sklearn.tree import DecisionTreeClassifier\n",
    "from sklearn.metrics import mean_squared_error, r2_score\n",
    "from sklearn import metrics\n",
    "\n",
    "# to plot the diagrams within the cells\n",
    "%matplotlib inline\n",
    "\n",
    "import warnings\n",
    "warnings.filterwarnings('ignore')"
   ]
  },
  {
   "cell_type": "code",
   "execution_count": 161,
   "metadata": {},
   "outputs": [
    {
     "data": {
      "text/html": [
       "<div>\n",
       "<style scoped>\n",
       "    .dataframe tbody tr th:only-of-type {\n",
       "        vertical-align: middle;\n",
       "    }\n",
       "\n",
       "    .dataframe tbody tr th {\n",
       "        vertical-align: top;\n",
       "    }\n",
       "\n",
       "    .dataframe thead th {\n",
       "        text-align: right;\n",
       "    }\n",
       "</style>\n",
       "<table border=\"1\" class=\"dataframe\">\n",
       "  <thead>\n",
       "    <tr style=\"text-align: right;\">\n",
       "      <th></th>\n",
       "      <th>0</th>\n",
       "      <th>1</th>\n",
       "    </tr>\n",
       "  </thead>\n",
       "  <tbody>\n",
       "    <tr>\n",
       "      <th>AssignmentId</th>\n",
       "      <td>39DD6S19JQXBBJGPFEBWSF4G1TQEZJ</td>\n",
       "      <td>3WQQ9FUS6BGYKK3IWX9TEN1R8RLB87</td>\n",
       "    </tr>\n",
       "    <tr>\n",
       "      <th>WorkTimeInSeconds</th>\n",
       "      <td>1025</td>\n",
       "      <td>1987</td>\n",
       "    </tr>\n",
       "    <tr>\n",
       "      <th>WorkerId</th>\n",
       "      <td>YGROBIBW</td>\n",
       "      <td>KK89LEHY</td>\n",
       "    </tr>\n",
       "    <tr>\n",
       "      <th>annotatorAge</th>\n",
       "      <td>35</td>\n",
       "      <td>35</td>\n",
       "    </tr>\n",
       "    <tr>\n",
       "      <th>annotatorGender</th>\n",
       "      <td>Man</td>\n",
       "      <td>woman</td>\n",
       "    </tr>\n",
       "    <tr>\n",
       "      <th>annotatorRace</th>\n",
       "      <td>white</td>\n",
       "      <td>indian</td>\n",
       "    </tr>\n",
       "    <tr>\n",
       "      <th>distracted</th>\n",
       "      <td>one</td>\n",
       "      <td>one</td>\n",
       "    </tr>\n",
       "    <tr>\n",
       "      <th>draining</th>\n",
       "      <td>3.0</td>\n",
       "      <td>5.0</td>\n",
       "    </tr>\n",
       "    <tr>\n",
       "      <th>frequency</th>\n",
       "      <td>2</td>\n",
       "      <td>3</td>\n",
       "    </tr>\n",
       "    <tr>\n",
       "      <th>importance</th>\n",
       "      <td>3</td>\n",
       "      <td>5</td>\n",
       "    </tr>\n",
       "    <tr>\n",
       "      <th>logTimeSinceEvent</th>\n",
       "      <td>4.09434</td>\n",
       "      <td>5.01064</td>\n",
       "    </tr>\n",
       "    <tr>\n",
       "      <th>mainEvent</th>\n",
       "      <td>my friend's death and how our group of friends...</td>\n",
       "      <td>the loss of my father and the impact he had on...</td>\n",
       "    </tr>\n",
       "    <tr>\n",
       "      <th>mostSurprising</th>\n",
       "      <td>the mourning process had a kind of positive si...</td>\n",
       "      <td>he died very suddenly and within minutes</td>\n",
       "    </tr>\n",
       "    <tr>\n",
       "      <th>openness</th>\n",
       "      <td>0.375</td>\n",
       "      <td>0.625</td>\n",
       "    </tr>\n",
       "    <tr>\n",
       "      <th>recAgnPairId</th>\n",
       "      <td>3RKNTXVS3NKSI9BOEGJK201G4H2A46</td>\n",
       "      <td>NaN</td>\n",
       "    </tr>\n",
       "    <tr>\n",
       "      <th>recImgPairId</th>\n",
       "      <td>NaN</td>\n",
       "      <td>3WQQ9FUS6BGYKK3IWX9TEN1R8RLB87</td>\n",
       "    </tr>\n",
       "    <tr>\n",
       "      <th>similarity</th>\n",
       "      <td>NaN</td>\n",
       "      <td>NaN</td>\n",
       "    </tr>\n",
       "    <tr>\n",
       "      <th>similarityReason</th>\n",
       "      <td>NaN</td>\n",
       "      <td>NaN</td>\n",
       "    </tr>\n",
       "    <tr>\n",
       "      <th>story</th>\n",
       "      <td>We were friends from high school. I got a call...</td>\n",
       "      <td>Five months ago, my father passed away from a ...</td>\n",
       "    </tr>\n",
       "    <tr>\n",
       "      <th>stressful</th>\n",
       "      <td>3</td>\n",
       "      <td>2</td>\n",
       "    </tr>\n",
       "    <tr>\n",
       "      <th>summary</th>\n",
       "      <td>my friend's death. Old friends reunited to sha...</td>\n",
       "      <td>My dad, who was a significant person in my lif...</td>\n",
       "    </tr>\n",
       "    <tr>\n",
       "      <th>timeSinceEvent</th>\n",
       "      <td>60</td>\n",
       "      <td>150</td>\n",
       "    </tr>\n",
       "    <tr>\n",
       "      <th>memType</th>\n",
       "      <td>retold</td>\n",
       "      <td>recalled</td>\n",
       "    </tr>\n",
       "  </tbody>\n",
       "</table>\n",
       "</div>"
      ],
      "text/plain": [
       "                                                                   0  \\\n",
       "AssignmentId                          39DD6S19JQXBBJGPFEBWSF4G1TQEZJ   \n",
       "WorkTimeInSeconds                                               1025   \n",
       "WorkerId                                                    YGROBIBW   \n",
       "annotatorAge                                                      35   \n",
       "annotatorGender                                                  Man   \n",
       "annotatorRace                                                  white   \n",
       "distracted                                                       one   \n",
       "draining                                                         3.0   \n",
       "frequency                                                          2   \n",
       "importance                                                         3   \n",
       "logTimeSinceEvent                                            4.09434   \n",
       "mainEvent          my friend's death and how our group of friends...   \n",
       "mostSurprising     the mourning process had a kind of positive si...   \n",
       "openness                                                       0.375   \n",
       "recAgnPairId                          3RKNTXVS3NKSI9BOEGJK201G4H2A46   \n",
       "recImgPairId                                                     NaN   \n",
       "similarity                                                       NaN   \n",
       "similarityReason                                                 NaN   \n",
       "story              We were friends from high school. I got a call...   \n",
       "stressful                                                          3   \n",
       "summary            my friend's death. Old friends reunited to sha...   \n",
       "timeSinceEvent                                                    60   \n",
       "memType                                                       retold   \n",
       "\n",
       "                                                                   1  \n",
       "AssignmentId                          3WQQ9FUS6BGYKK3IWX9TEN1R8RLB87  \n",
       "WorkTimeInSeconds                                               1987  \n",
       "WorkerId                                                    KK89LEHY  \n",
       "annotatorAge                                                      35  \n",
       "annotatorGender                                                woman  \n",
       "annotatorRace                                                 indian  \n",
       "distracted                                                       one  \n",
       "draining                                                         5.0  \n",
       "frequency                                                          3  \n",
       "importance                                                         5  \n",
       "logTimeSinceEvent                                            5.01064  \n",
       "mainEvent          the loss of my father and the impact he had on...  \n",
       "mostSurprising              he died very suddenly and within minutes  \n",
       "openness                                                       0.625  \n",
       "recAgnPairId                                                     NaN  \n",
       "recImgPairId                          3WQQ9FUS6BGYKK3IWX9TEN1R8RLB87  \n",
       "similarity                                                       NaN  \n",
       "similarityReason                                                 NaN  \n",
       "story              Five months ago, my father passed away from a ...  \n",
       "stressful                                                          2  \n",
       "summary            My dad, who was a significant person in my lif...  \n",
       "timeSinceEvent                                                   150  \n",
       "memType                                                     recalled  "
      ]
     },
     "execution_count": 161,
     "metadata": {},
     "output_type": "execute_result"
    }
   ],
   "source": [
    "train_data = pd.read_csv(\"https://raw.githubusercontent.com/dphi-official/Datasets/master/hippocorpus/train_set_label.csv\" )\n",
    "train_data.head(2).T"
   ]
  },
  {
   "cell_type": "code",
   "execution_count": 162,
   "metadata": {},
   "outputs": [
    {
     "name": "stdout",
     "output_type": "stream",
     "text": [
      "<class 'pandas.core.frame.DataFrame'>\n",
      "RangeIndex: 6797 entries, 0 to 6796\n",
      "Data columns (total 23 columns):\n",
      " #   Column             Non-Null Count  Dtype  \n",
      "---  ------             --------------  -----  \n",
      " 0   AssignmentId       6797 non-null   object \n",
      " 1   WorkTimeInSeconds  6797 non-null   int64  \n",
      " 2   WorkerId           6797 non-null   object \n",
      " 3   annotatorAge       6771 non-null   float64\n",
      " 4   annotatorGender    6793 non-null   object \n",
      " 5   annotatorRace      6797 non-null   object \n",
      " 6   distracted         6797 non-null   object \n",
      " 7   draining           6797 non-null   object \n",
      " 8   frequency          4052 non-null   float64\n",
      " 9   importance         6649 non-null   float64\n",
      " 10  logTimeSinceEvent  6797 non-null   float64\n",
      " 11  mainEvent          6797 non-null   object \n",
      " 12  mostSurprising     6797 non-null   object \n",
      " 13  openness           6797 non-null   float64\n",
      " 14  recAgnPairId       2549 non-null   object \n",
      " 15  recImgPairId       5303 non-null   object \n",
      " 16  similarity         2745 non-null   float64\n",
      " 17  similarityReason   2745 non-null   object \n",
      " 18  story              6797 non-null   object \n",
      " 19  stressful          6797 non-null   float64\n",
      " 20  summary            6797 non-null   object \n",
      " 21  timeSinceEvent     6797 non-null   float64\n",
      " 22  memType            6797 non-null   object \n",
      "dtypes: float64(8), int64(1), object(14)\n",
      "memory usage: 1.2+ MB\n"
     ]
    }
   ],
   "source": [
    "train_data.info()"
   ]
  },
  {
   "cell_type": "code",
   "execution_count": 163,
   "metadata": {},
   "outputs": [
    {
     "data": {
      "text/html": [
       "<div>\n",
       "<style scoped>\n",
       "    .dataframe tbody tr th:only-of-type {\n",
       "        vertical-align: middle;\n",
       "    }\n",
       "\n",
       "    .dataframe tbody tr th {\n",
       "        vertical-align: top;\n",
       "    }\n",
       "\n",
       "    .dataframe thead th {\n",
       "        text-align: right;\n",
       "    }\n",
       "</style>\n",
       "<table border=\"1\" class=\"dataframe\">\n",
       "  <thead>\n",
       "    <tr style=\"text-align: right;\">\n",
       "      <th></th>\n",
       "      <th>WorkTimeInSeconds</th>\n",
       "      <th>annotatorAge</th>\n",
       "      <th>frequency</th>\n",
       "      <th>importance</th>\n",
       "      <th>logTimeSinceEvent</th>\n",
       "      <th>openness</th>\n",
       "      <th>similarity</th>\n",
       "      <th>stressful</th>\n",
       "      <th>timeSinceEvent</th>\n",
       "    </tr>\n",
       "  </thead>\n",
       "  <tbody>\n",
       "    <tr>\n",
       "      <th>count</th>\n",
       "      <td>6797.000000</td>\n",
       "      <td>6771.000000</td>\n",
       "      <td>4052.000000</td>\n",
       "      <td>6649.000000</td>\n",
       "      <td>6797.000000</td>\n",
       "      <td>6797.000000</td>\n",
       "      <td>2745.000000</td>\n",
       "      <td>6797.000000</td>\n",
       "      <td>6.797000e+03</td>\n",
       "    </tr>\n",
       "    <tr>\n",
       "      <th>mean</th>\n",
       "      <td>2072.577166</td>\n",
       "      <td>33.513661</td>\n",
       "      <td>3.643633</td>\n",
       "      <td>3.958941</td>\n",
       "      <td>7.145193</td>\n",
       "      <td>0.554252</td>\n",
       "      <td>2.929326</td>\n",
       "      <td>2.161395</td>\n",
       "      <td>3.938160e+56</td>\n",
       "    </tr>\n",
       "    <tr>\n",
       "      <th>std</th>\n",
       "      <td>1670.981846</td>\n",
       "      <td>10.152089</td>\n",
       "      <td>1.029724</td>\n",
       "      <td>1.261159</td>\n",
       "      <td>13.854228</td>\n",
       "      <td>0.423053</td>\n",
       "      <td>1.446355</td>\n",
       "      <td>1.322928</td>\n",
       "      <td>8.718221e+57</td>\n",
       "    </tr>\n",
       "    <tr>\n",
       "      <th>min</th>\n",
       "      <td>173.000000</td>\n",
       "      <td>18.000000</td>\n",
       "      <td>1.000000</td>\n",
       "      <td>1.000000</td>\n",
       "      <td>1.945910</td>\n",
       "      <td>-1.000000</td>\n",
       "      <td>1.000000</td>\n",
       "      <td>1.000000</td>\n",
       "      <td>7.000000e+00</td>\n",
       "    </tr>\n",
       "    <tr>\n",
       "      <th>25%</th>\n",
       "      <td>919.000000</td>\n",
       "      <td>25.000000</td>\n",
       "      <td>3.000000</td>\n",
       "      <td>3.000000</td>\n",
       "      <td>3.555348</td>\n",
       "      <td>0.250000</td>\n",
       "      <td>2.000000</td>\n",
       "      <td>1.000000</td>\n",
       "      <td>3.500000e+01</td>\n",
       "    </tr>\n",
       "    <tr>\n",
       "      <th>50%</th>\n",
       "      <td>1524.000000</td>\n",
       "      <td>30.000000</td>\n",
       "      <td>4.000000</td>\n",
       "      <td>4.000000</td>\n",
       "      <td>4.499810</td>\n",
       "      <td>0.625000</td>\n",
       "      <td>3.000000</td>\n",
       "      <td>2.000000</td>\n",
       "      <td>9.000000e+01</td>\n",
       "    </tr>\n",
       "    <tr>\n",
       "      <th>75%</th>\n",
       "      <td>2632.000000</td>\n",
       "      <td>40.000000</td>\n",
       "      <td>4.000000</td>\n",
       "      <td>5.000000</td>\n",
       "      <td>5.010635</td>\n",
       "      <td>0.875000</td>\n",
       "      <td>4.000000</td>\n",
       "      <td>3.000000</td>\n",
       "      <td>1.500000e+02</td>\n",
       "    </tr>\n",
       "    <tr>\n",
       "      <th>max</th>\n",
       "      <td>10680.000000</td>\n",
       "      <td>55.000000</td>\n",
       "      <td>5.000000</td>\n",
       "      <td>5.000000</td>\n",
       "      <td>136.818082</td>\n",
       "      <td>1.000000</td>\n",
       "      <td>5.000000</td>\n",
       "      <td>5.000000</td>\n",
       "      <td>2.626263e+59</td>\n",
       "    </tr>\n",
       "  </tbody>\n",
       "</table>\n",
       "</div>"
      ],
      "text/plain": [
       "       WorkTimeInSeconds  annotatorAge    frequency   importance  \\\n",
       "count        6797.000000   6771.000000  4052.000000  6649.000000   \n",
       "mean         2072.577166     33.513661     3.643633     3.958941   \n",
       "std          1670.981846     10.152089     1.029724     1.261159   \n",
       "min           173.000000     18.000000     1.000000     1.000000   \n",
       "25%           919.000000     25.000000     3.000000     3.000000   \n",
       "50%          1524.000000     30.000000     4.000000     4.000000   \n",
       "75%          2632.000000     40.000000     4.000000     5.000000   \n",
       "max         10680.000000     55.000000     5.000000     5.000000   \n",
       "\n",
       "       logTimeSinceEvent     openness   similarity    stressful  \\\n",
       "count        6797.000000  6797.000000  2745.000000  6797.000000   \n",
       "mean            7.145193     0.554252     2.929326     2.161395   \n",
       "std            13.854228     0.423053     1.446355     1.322928   \n",
       "min             1.945910    -1.000000     1.000000     1.000000   \n",
       "25%             3.555348     0.250000     2.000000     1.000000   \n",
       "50%             4.499810     0.625000     3.000000     2.000000   \n",
       "75%             5.010635     0.875000     4.000000     3.000000   \n",
       "max           136.818082     1.000000     5.000000     5.000000   \n",
       "\n",
       "       timeSinceEvent  \n",
       "count    6.797000e+03  \n",
       "mean     3.938160e+56  \n",
       "std      8.718221e+57  \n",
       "min      7.000000e+00  \n",
       "25%      3.500000e+01  \n",
       "50%      9.000000e+01  \n",
       "75%      1.500000e+02  \n",
       "max      2.626263e+59  "
      ]
     },
     "execution_count": 163,
     "metadata": {},
     "output_type": "execute_result"
    }
   ],
   "source": [
    "train_data.describe()"
   ]
  },
  {
   "cell_type": "code",
   "execution_count": 164,
   "metadata": {},
   "outputs": [
    {
     "data": {
      "text/plain": [
       "AssignmentId            0\n",
       "WorkTimeInSeconds       0\n",
       "WorkerId                0\n",
       "annotatorAge           26\n",
       "annotatorGender         4\n",
       "annotatorRace           0\n",
       "distracted              0\n",
       "draining                0\n",
       "frequency            2745\n",
       "importance            148\n",
       "logTimeSinceEvent       0\n",
       "mainEvent               0\n",
       "mostSurprising          0\n",
       "openness                0\n",
       "recAgnPairId         4248\n",
       "recImgPairId         1494\n",
       "similarity           4052\n",
       "similarityReason     4052\n",
       "story                   0\n",
       "stressful               0\n",
       "summary                 0\n",
       "timeSinceEvent          0\n",
       "memType                 0\n",
       "dtype: int64"
      ]
     },
     "execution_count": 164,
     "metadata": {},
     "output_type": "execute_result"
    }
   ],
   "source": [
    "train_data.isnull().sum()"
   ]
  },
  {
   "cell_type": "markdown",
   "metadata": {},
   "source": [
    "# Filling the missing values"
   ]
  },
  {
   "cell_type": "code",
   "execution_count": 264,
   "metadata": {},
   "outputs": [
    {
     "data": {
      "text/plain": [
       "False    2051\n",
       "True        6\n",
       "Name: annotatorAge, dtype: int64"
      ]
     },
     "execution_count": 264,
     "metadata": {},
     "output_type": "execute_result"
    }
   ],
   "source": [
    "# Work on the annotatorAge column\n",
    "test_data['annotatorAge'].isnull().value_counts()"
   ]
  },
  {
   "cell_type": "code",
   "execution_count": 265,
   "metadata": {},
   "outputs": [
    {
     "data": {
      "text/plain": [
       "25.0    484\n",
       "30.0    448\n",
       "35.0    341\n",
       "40.0    197\n",
       "18.0    179\n",
       "55.0    162\n",
       "45.0    138\n",
       "50.0    102\n",
       "Name: annotatorAge, dtype: int64"
      ]
     },
     "execution_count": 265,
     "metadata": {},
     "output_type": "execute_result"
    }
   ],
   "source": [
    "test_data['annotatorAge'].value_counts()"
   ]
  },
  {
   "cell_type": "code",
   "execution_count": 266,
   "metadata": {},
   "outputs": [
    {
     "data": {
      "text/plain": [
       "False    2057\n",
       "Name: annotatorAge, dtype: int64"
      ]
     },
     "execution_count": 266,
     "metadata": {},
     "output_type": "execute_result"
    }
   ],
   "source": [
    "# Fill the missing values\n",
    "test_data['annotatorAge'].fillna(test_data['annotatorAge'].median(), inplace=True)\n",
    "test_data['annotatorAge'].isnull().value_counts()"
   ]
  },
  {
   "cell_type": "code",
   "execution_count": 267,
   "metadata": {},
   "outputs": [
    {
     "data": {
      "text/plain": [
       "25.0    484\n",
       "30.0    454\n",
       "35.0    341\n",
       "40.0    197\n",
       "18.0    179\n",
       "55.0    162\n",
       "45.0    138\n",
       "50.0    102\n",
       "Name: annotatorAge, dtype: int64"
      ]
     },
     "execution_count": 267,
     "metadata": {},
     "output_type": "execute_result"
    }
   ],
   "source": [
    "test_data['annotatorAge'].value_counts()"
   ]
  },
  {
   "cell_type": "code",
   "execution_count": 268,
   "metadata": {},
   "outputs": [
    {
     "data": {
      "text/plain": [
       "25    484\n",
       "30    454\n",
       "35    341\n",
       "40    197\n",
       "18    179\n",
       "55    162\n",
       "45    138\n",
       "50    102\n",
       "Name: annotatorAge, dtype: int64"
      ]
     },
     "execution_count": 268,
     "metadata": {},
     "output_type": "execute_result"
    }
   ],
   "source": [
    "test_data['annotatorAge'] = test_data['annotatorAge'].astype(int)\n",
    "test_data['annotatorAge'].value_counts()"
   ]
  },
  {
   "cell_type": "code",
   "execution_count": 269,
   "metadata": {},
   "outputs": [
    {
     "data": {
      "text/plain": [
       "25-29    484\n",
       "30-34    454\n",
       "35-39    341\n",
       "40-44    197\n",
       "18-24    179\n",
       "45-49    138\n",
       "50-54    102\n",
       "55+        0\n",
       "Name: AgeGroup, dtype: int64"
      ]
     },
     "execution_count": 269,
     "metadata": {},
     "output_type": "execute_result"
    }
   ],
   "source": [
    "bins= [18, 24, 29, 34, 39, 44, 49, 54, 55]\n",
    "labels = ['18-24', '25-29', '30-34', '35-39', '40-44', '45-49', '50-54', '55+']\n",
    "test_data['AgeGroup'] = pd.cut(test_data['annotatorAge'], bins=bins, labels=labels, right=False)\n",
    "test_data.AgeGroup.value_counts()"
   ]
  },
  {
   "cell_type": "code",
   "execution_count": 270,
   "metadata": {},
   "outputs": [],
   "source": [
    "# Work on the annotatorGender columns"
   ]
  },
  {
   "cell_type": "code",
   "execution_count": 271,
   "metadata": {},
   "outputs": [
    {
     "data": {
      "text/plain": [
       "woman         605\n",
       "man           592\n",
       "Man           303\n",
       "Woman         277\n",
       "MAN           133\n",
       "WOMAN         127\n",
       "na              4\n",
       "nonBinary       4\n",
       "Nonbinary       4\n",
       "Na              3\n",
       "other           1\n",
       "NONBINARY       1\n",
       "OTHER           1\n",
       "transwoman      1\n",
       "transman        1\n",
       "Name: annotatorGender, dtype: int64"
      ]
     },
     "execution_count": 271,
     "metadata": {},
     "output_type": "execute_result"
    }
   ],
   "source": [
    "test_data['annotatorGender'].value_counts()"
   ]
  },
  {
   "cell_type": "code",
   "execution_count": 272,
   "metadata": {},
   "outputs": [
    {
     "data": {
      "text/plain": [
       "MALE           1028\n",
       "WOMAN          1009\n",
       "TRANSGENDER      20\n",
       "Name: annotatorGender, dtype: int64"
      ]
     },
     "execution_count": 272,
     "metadata": {},
     "output_type": "execute_result"
    }
   ],
   "source": [
    "test_data['annotatorGender'].replace(to_replace =['man', 'Man', 'MAN'], value =\"MALE\", inplace=True) \n",
    "test_data['annotatorGender'].replace(to_replace =['woman', 'Woman', 'WOMAN'], value =\"WOMAN\", inplace=True) \n",
    "test_data['annotatorGender'].replace(to_replace =['transman', 'Transman', 'TRANSMAN', 'Transwoman', 'transwoman'], \n",
    "                 value =\"TRANSGENDER\", inplace=True) \n",
    "test_data['annotatorGender'].replace(to_replace =['nonBinary', 'na', 'Na', 'Nonbinary', 'NONBINARY', 'other', 'OTHER'], \n",
    "                 value =np.nan, inplace=True) \n",
    "test_data['annotatorGender'].replace(to_replace = np.nan, \n",
    "                 value = 'TRANSGENDER', inplace=True)\n",
    "test_data.annotatorGender.value_counts()"
   ]
  },
  {
   "cell_type": "code",
   "execution_count": 273,
   "metadata": {},
   "outputs": [
    {
     "data": {
      "text/plain": [
       "False    2057\n",
       "Name: annotatorGender, dtype: int64"
      ]
     },
     "execution_count": 273,
     "metadata": {},
     "output_type": "execute_result"
    }
   ],
   "source": [
    "test_data['annotatorGender'].isnull().value_counts()"
   ]
  },
  {
   "cell_type": "code",
   "execution_count": 175,
   "metadata": {},
   "outputs": [
    {
     "ename": "NameError",
     "evalue": "name 'test_data' is not defined",
     "output_type": "error",
     "traceback": [
      "\u001b[1;31m---------------------------------------------------------------------------\u001b[0m",
      "\u001b[1;31mNameError\u001b[0m                                 Traceback (most recent call last)",
      "\u001b[1;32m<ipython-input-175-5f8bc4d0cee9>\u001b[0m in \u001b[0;36m<module>\u001b[1;34m\u001b[0m\n\u001b[1;32m----> 1\u001b[1;33m \u001b[0mtest_data\u001b[0m\u001b[1;33m[\u001b[0m\u001b[1;34m'annotatorAge'\u001b[0m\u001b[1;33m]\u001b[0m\u001b[1;33m.\u001b[0m\u001b[0mfillna\u001b[0m\u001b[1;33m(\u001b[0m\u001b[0mtest_data\u001b[0m\u001b[1;33m[\u001b[0m\u001b[1;34m'annotatorAge'\u001b[0m\u001b[1;33m]\u001b[0m\u001b[1;33m.\u001b[0m\u001b[0mmean\u001b[0m\u001b[1;33m(\u001b[0m\u001b[1;33m)\u001b[0m\u001b[1;33m,\u001b[0m \u001b[0minplace\u001b[0m\u001b[1;33m=\u001b[0m\u001b[1;32mTrue\u001b[0m\u001b[1;33m)\u001b[0m\u001b[1;33m\u001b[0m\u001b[1;33m\u001b[0m\u001b[0m\n\u001b[0m\u001b[0;32m      2\u001b[0m \u001b[0mtest_data\u001b[0m\u001b[1;33m[\u001b[0m\u001b[1;34m'frequency'\u001b[0m\u001b[1;33m]\u001b[0m\u001b[1;33m.\u001b[0m\u001b[0mfillna\u001b[0m\u001b[1;33m(\u001b[0m\u001b[0mtest_data\u001b[0m\u001b[1;33m[\u001b[0m\u001b[1;34m'frequency'\u001b[0m\u001b[1;33m]\u001b[0m\u001b[1;33m.\u001b[0m\u001b[0mmean\u001b[0m\u001b[1;33m(\u001b[0m\u001b[1;33m)\u001b[0m\u001b[1;33m,\u001b[0m \u001b[0minplace\u001b[0m\u001b[1;33m=\u001b[0m\u001b[1;32mTrue\u001b[0m\u001b[1;33m)\u001b[0m\u001b[1;33m\u001b[0m\u001b[1;33m\u001b[0m\u001b[0m\n\u001b[0;32m      3\u001b[0m \u001b[0mtest_data\u001b[0m\u001b[1;33m[\u001b[0m\u001b[1;34m'importance'\u001b[0m\u001b[1;33m]\u001b[0m\u001b[1;33m.\u001b[0m\u001b[0mfillna\u001b[0m\u001b[1;33m(\u001b[0m\u001b[0mtest_data\u001b[0m\u001b[1;33m[\u001b[0m\u001b[1;34m'importance'\u001b[0m\u001b[1;33m]\u001b[0m\u001b[1;33m.\u001b[0m\u001b[0mmean\u001b[0m\u001b[1;33m(\u001b[0m\u001b[1;33m)\u001b[0m\u001b[1;33m,\u001b[0m \u001b[0minplace\u001b[0m\u001b[1;33m=\u001b[0m\u001b[1;32mTrue\u001b[0m\u001b[1;33m)\u001b[0m\u001b[1;33m\u001b[0m\u001b[1;33m\u001b[0m\u001b[0m\n",
      "\u001b[1;31mNameError\u001b[0m: name 'test_data' is not defined"
     ]
    }
   ],
   "source": [
    "test_data['annotatorAge'].fillna(test_data['annotatorAge'].mean(), inplace=True)\n",
    "test_data['frequency'].fillna(test_data['frequency'].mean(), inplace=True)\n",
    "test_data['importance'].fillna(test_data['importance'].mean(), inplace=True)"
   ]
  },
  {
   "cell_type": "code",
   "execution_count": 274,
   "metadata": {},
   "outputs": [
    {
     "data": {
      "text/plain": [
       "white            1078\n",
       "White             422\n",
       "black             148\n",
       "asian              90\n",
       "hisp               80\n",
       "Black              70\n",
       "Hisp               41\n",
       "other              35\n",
       "Asian              30\n",
       "Other              15\n",
       "native             15\n",
       "na                 13\n",
       "indian              6\n",
       "Indian              5\n",
       "islander            3\n",
       "Na                  3\n",
       "Middleeastern       1\n",
       "middleEastern       1\n",
       "Native              1\n",
       "Name: annotatorRace, dtype: int64"
      ]
     },
     "execution_count": 274,
     "metadata": {},
     "output_type": "execute_result"
    }
   ],
   "source": [
    "# Work on the annotatorRace columns\n",
    "test_data['annotatorRace'].value_counts()"
   ]
  },
  {
   "cell_type": "code",
   "execution_count": 275,
   "metadata": {},
   "outputs": [
    {
     "data": {
      "text/plain": [
       "WHITE               1500\n",
       "BLACK                218\n",
       "ASIAN                133\n",
       "HISPANIC             121\n",
       "OTHERS                66\n",
       "NATIVE AMERICANS      16\n",
       "ISLANDER               3\n",
       "Name: annotatorRace, dtype: int64"
      ]
     },
     "execution_count": 275,
     "metadata": {},
     "output_type": "execute_result"
    }
   ],
   "source": [
    "test_data['annotatorRace'].replace(to_replace =['white', 'White'], \n",
    "                 value =\"WHITE\", inplace=True)\n",
    "test_data['annotatorRace'].replace(to_replace =['black', 'Black'], \n",
    "                 value =\"BLACK\", inplace=True)\n",
    "test_data['annotatorRace'].replace(to_replace =['asian', 'Asian', 'middleEastern', 'Middleeastern', 'indian', 'Indian'],\n",
    "                 value =\"ASIAN\", inplace=True)\n",
    "test_data['annotatorRace'].replace(to_replace =['Na', 'na', 'Other', 'other'], \n",
    "                 value =\"OTHERS\", inplace=True)\n",
    "test_data['annotatorRace'].replace(to_replace =['hisp', 'Hisp'], \n",
    "                 value =\"HISPANIC\", inplace=True)\n",
    "test_data['annotatorRace'].replace(to_replace =['native', 'Native'], \n",
    "                 value =\"NATIVE AMERICANS\", inplace=True)\n",
    "test_data['annotatorRace'].replace(to_replace =['islander', 'Islander'], \n",
    "                 value =\"ISLANDER\", inplace=True)\n",
    "test_data['annotatorRace'].value_counts()"
   ]
  },
  {
   "cell_type": "code",
   "execution_count": 276,
   "metadata": {},
   "outputs": [
    {
     "data": {
      "text/plain": [
       "0"
      ]
     },
     "execution_count": 276,
     "metadata": {},
     "output_type": "execute_result"
    }
   ],
   "source": [
    "test_data['annotatorRace'].isnull().sum()"
   ]
  },
  {
   "cell_type": "code",
   "execution_count": 277,
   "metadata": {},
   "outputs": [
    {
     "data": {
      "text/plain": [
       "one    1539\n",
       "2.0     294\n",
       "3.0     107\n",
       "4.0      65\n",
       "5.0      52\n",
       "Name: distracted, dtype: int64"
      ]
     },
     "execution_count": 277,
     "metadata": {},
     "output_type": "execute_result"
    }
   ],
   "source": [
    "# Work on the distracted column\n",
    "test_data['distracted'].value_counts()"
   ]
  },
  {
   "cell_type": "code",
   "execution_count": 278,
   "metadata": {},
   "outputs": [],
   "source": [
    "test_data['distracted'].replace(to_replace =['one'], \n",
    "                 value =1.0, inplace=True)"
   ]
  },
  {
   "cell_type": "code",
   "execution_count": 279,
   "metadata": {},
   "outputs": [],
   "source": [
    "test_data['distracted'] = test_data['distracted'].astype(float)"
   ]
  },
  {
   "cell_type": "code",
   "execution_count": 280,
   "metadata": {},
   "outputs": [
    {
     "data": {
      "text/plain": [
       "one    898\n",
       "2.0    389\n",
       "3.0    339\n",
       "4.0    272\n",
       "5.0    159\n",
       "Name: draining, dtype: int64"
      ]
     },
     "execution_count": 280,
     "metadata": {},
     "output_type": "execute_result"
    }
   ],
   "source": [
    "# Work on the draining columns\n",
    "test_data['draining'].value_counts()"
   ]
  },
  {
   "cell_type": "code",
   "execution_count": 281,
   "metadata": {
    "scrolled": true
   },
   "outputs": [
    {
     "name": "stdout",
     "output_type": "stream",
     "text": [
      "<class 'pandas.core.frame.DataFrame'>\n",
      "RangeIndex: 2057 entries, 0 to 2056\n",
      "Data columns (total 23 columns):\n",
      " #   Column             Non-Null Count  Dtype   \n",
      "---  ------             --------------  -----   \n",
      " 0   AssignmentId       2057 non-null   object  \n",
      " 1   WorkTimeInSeconds  2057 non-null   int64   \n",
      " 2   WorkerId           2057 non-null   object  \n",
      " 3   annotatorAge       2057 non-null   int32   \n",
      " 4   annotatorGender    2057 non-null   object  \n",
      " 5   annotatorRace      2057 non-null   object  \n",
      " 6   distracted         2057 non-null   float64 \n",
      " 7   draining           2057 non-null   object  \n",
      " 8   frequency          1230 non-null   float64 \n",
      " 9   importance         2018 non-null   float64 \n",
      " 10  logTimeSinceEvent  2057 non-null   float64 \n",
      " 11  mainEvent          2057 non-null   object  \n",
      " 12  mostSurprising     2057 non-null   object  \n",
      " 13  openness           2057 non-null   float64 \n",
      " 14  recAgnPairId       811 non-null    object  \n",
      " 15  recImgPairId       1595 non-null   object  \n",
      " 16  similarity         827 non-null    float64 \n",
      " 17  similarityReason   827 non-null    object  \n",
      " 18  story              2057 non-null   object  \n",
      " 19  stressful          2057 non-null   float64 \n",
      " 20  summary            2057 non-null   object  \n",
      " 21  timeSinceEvent     2057 non-null   float64 \n",
      " 22  AgeGroup           1895 non-null   category\n",
      "dtypes: category(1), float64(8), int32(1), int64(1), object(12)\n",
      "memory usage: 348.0+ KB\n"
     ]
    }
   ],
   "source": [
    "test_data.info()"
   ]
  },
  {
   "cell_type": "code",
   "execution_count": 282,
   "metadata": {},
   "outputs": [],
   "source": [
    "test_data['draining'].replace(to_replace =['one'], \n",
    "                 value =1.0, inplace=True) \n",
    "test_data['draining'] = test_data['draining'].astype(float)"
   ]
  },
  {
   "cell_type": "code",
   "execution_count": 283,
   "metadata": {},
   "outputs": [
    {
     "data": {
      "text/plain": [
       "4.0    441\n",
       "3.0    318\n",
       "5.0    290\n",
       "2.0    164\n",
       "1.0     17\n",
       "Name: frequency, dtype: int64"
      ]
     },
     "execution_count": 283,
     "metadata": {},
     "output_type": "execute_result"
    }
   ],
   "source": [
    "# Work on the frequency column\n",
    "test_data.frequency.value_counts()"
   ]
  },
  {
   "cell_type": "code",
   "execution_count": 284,
   "metadata": {},
   "outputs": [
    {
     "data": {
      "text/plain": [
       "827"
      ]
     },
     "execution_count": 284,
     "metadata": {},
     "output_type": "execute_result"
    }
   ],
   "source": [
    "test_data.frequency.isnull().sum()"
   ]
  },
  {
   "cell_type": "code",
   "execution_count": 285,
   "metadata": {},
   "outputs": [],
   "source": [
    "test_data['frequency'].fillna(test_data['frequency'].median(), inplace=True)"
   ]
  },
  {
   "cell_type": "code",
   "execution_count": 286,
   "metadata": {},
   "outputs": [
    {
     "data": {
      "text/plain": [
       "5.0    924\n",
       "4.0    501\n",
       "3.0    303\n",
       "1.0    157\n",
       "2.0    133\n",
       "Name: importance, dtype: int64"
      ]
     },
     "execution_count": 286,
     "metadata": {},
     "output_type": "execute_result"
    }
   ],
   "source": [
    "# Work on the importance columns\n",
    "test_data.importance.value_counts()"
   ]
  },
  {
   "cell_type": "code",
   "execution_count": 287,
   "metadata": {},
   "outputs": [
    {
     "data": {
      "text/plain": [
       "39"
      ]
     },
     "execution_count": 287,
     "metadata": {},
     "output_type": "execute_result"
    }
   ],
   "source": [
    "test_data.importance.isnull().sum()"
   ]
  },
  {
   "cell_type": "code",
   "execution_count": 288,
   "metadata": {},
   "outputs": [],
   "source": [
    "test_data['importance'].fillna(test_data['importance'].median(), inplace=True)"
   ]
  },
  {
   "cell_type": "code",
   "execution_count": 290,
   "metadata": {},
   "outputs": [
    {
     "name": "stdout",
     "output_type": "stream",
     "text": [
      "<class 'pandas.core.frame.DataFrame'>\n",
      "RangeIndex: 2057 entries, 0 to 2056\n",
      "Data columns (total 23 columns):\n",
      " #   Column             Non-Null Count  Dtype   \n",
      "---  ------             --------------  -----   \n",
      " 0   AssignmentId       2057 non-null   object  \n",
      " 1   WorkTimeInSeconds  2057 non-null   int64   \n",
      " 2   WorkerId           2057 non-null   object  \n",
      " 3   annotatorAge       2057 non-null   int32   \n",
      " 4   annotatorGender    2057 non-null   object  \n",
      " 5   annotatorRace      2057 non-null   object  \n",
      " 6   distracted         2057 non-null   float64 \n",
      " 7   draining           2057 non-null   float64 \n",
      " 8   frequency          2057 non-null   float64 \n",
      " 9   importance         2057 non-null   float64 \n",
      " 10  logTimeSinceEvent  2057 non-null   float64 \n",
      " 11  mainEvent          2057 non-null   object  \n",
      " 12  mostSurprising     2057 non-null   object  \n",
      " 13  openness           2057 non-null   float64 \n",
      " 14  recAgnPairId       811 non-null    object  \n",
      " 15  recImgPairId       1595 non-null   object  \n",
      " 16  similarity         827 non-null    float64 \n",
      " 17  similarityReason   827 non-null    object  \n",
      " 18  story              2057 non-null   object  \n",
      " 19  stressful          2057 non-null   float64 \n",
      " 20  summary            2057 non-null   object  \n",
      " 21  timeSinceEvent     2057 non-null   float64 \n",
      " 22  AgeGroup           1895 non-null   category\n",
      "dtypes: category(1), float64(9), int32(1), int64(1), object(11)\n",
      "memory usage: 348.0+ KB\n"
     ]
    }
   ],
   "source": [
    "test_data.info()"
   ]
  },
  {
   "cell_type": "code",
   "execution_count": 291,
   "metadata": {},
   "outputs": [
    {
     "data": {
      "text/plain": [
       "1.0    206\n",
       "4.0    185\n",
       "3.0    150\n",
       "2.0    143\n",
       "5.0    143\n",
       "Name: similarity, dtype: int64"
      ]
     },
     "execution_count": 291,
     "metadata": {},
     "output_type": "execute_result"
    }
   ],
   "source": [
    "# Work on the similarity column\n",
    "test_data['similarity'].value_counts()"
   ]
  },
  {
   "cell_type": "code",
   "execution_count": 292,
   "metadata": {},
   "outputs": [
    {
     "data": {
      "text/plain": [
       "1230"
      ]
     },
     "execution_count": 292,
     "metadata": {},
     "output_type": "execute_result"
    }
   ],
   "source": [
    "test_data['similarity'].isnull().sum()"
   ]
  },
  {
   "cell_type": "code",
   "execution_count": 293,
   "metadata": {},
   "outputs": [],
   "source": [
    "test_data['similarity'].fillna(test_data['similarity'].median(), inplace=True)"
   ]
  },
  {
   "cell_type": "code",
   "execution_count": 294,
   "metadata": {},
   "outputs": [
    {
     "data": {
      "text/plain": [
       "0"
      ]
     },
     "execution_count": 294,
     "metadata": {},
     "output_type": "execute_result"
    }
   ],
   "source": [
    "test_data['similarity'].isnull().sum()"
   ]
  },
  {
   "cell_type": "code",
   "execution_count": 295,
   "metadata": {},
   "outputs": [
    {
     "data": {
      "text/plain": [
       "1.0    927\n",
       "2.0    398\n",
       "3.0    292\n",
       "4.0    273\n",
       "5.0    167\n",
       "Name: stressful, dtype: int64"
      ]
     },
     "execution_count": 295,
     "metadata": {},
     "output_type": "execute_result"
    }
   ],
   "source": [
    "# Work on the stressfull column\n",
    "test_data['stressful'].value_counts()"
   ]
  },
  {
   "cell_type": "code",
   "execution_count": 296,
   "metadata": {},
   "outputs": [
    {
     "data": {
      "text/plain": [
       "0"
      ]
     },
     "execution_count": 296,
     "metadata": {},
     "output_type": "execute_result"
    }
   ],
   "source": [
    "test_data['stressful'].isnull().sum()"
   ]
  },
  {
   "cell_type": "code",
   "execution_count": 297,
   "metadata": {},
   "outputs": [
    {
     "data": {
      "text/plain": [
       "9.000000e+01    338\n",
       "6.000000e+01    264\n",
       "1.200000e+02    246\n",
       "1.500000e+02    160\n",
       "1.800000e+02    138\n",
       "3.000000e+01    135\n",
       "7.000000e+00    133\n",
       "1.400000e+01    110\n",
       "2.100000e+01     84\n",
       "2.100000e+02     48\n",
       "2.800000e+01     44\n",
       "2.400000e+02     37\n",
       "4.200000e+01     33\n",
       "2.700000e+02     25\n",
       "3.500000e+01     19\n",
       "2.222222e+29     18\n",
       "4.444444e+29     17\n",
       "3.600000e+02     16\n",
       "3.333333e+29     13\n",
       "5.600000e+01     13\n",
       "4.900000e+01     12\n",
       "3.000000e+02     12\n",
       "5.555556e+29     11\n",
       "1.111111e+06     10\n",
       "7.800000e+02      9\n",
       "2.222222e+06      8\n",
       "3.300000e+02      8\n",
       "1.111111e+29      8\n",
       "7.200000e+02      7\n",
       "4.500000e+02      6\n",
       "7.000000e+01      6\n",
       "6.666667e+29      6\n",
       "8.400000e+01      6\n",
       "1.820000e+02      5\n",
       "6.300000e+01      5\n",
       "3.333333e+06      5\n",
       "4.444444e+06      4\n",
       "9.800000e+01      3\n",
       "4.200000e+02      3\n",
       "1.260000e+02      3\n",
       "6.000000e+02      3\n",
       "3.900000e+02      3\n",
       "1.680000e+02      3\n",
       "1.120000e+02      2\n",
       "5.555555e+06      2\n",
       "5.400000e+02      2\n",
       "6.600000e+02      2\n",
       "7.700000e+01      2\n",
       "7.500000e+02      2\n",
       "6.900000e+02      1\n",
       "4.800000e+02      1\n",
       "1.540000e+02      1\n",
       "1.050000e+02      1\n",
       "6.666666e+06      1\n",
       "1.111111e+13      1\n",
       "7.777778e+29      1\n",
       "9.100000e+01      1\n",
       "Name: timeSinceEvent, dtype: int64"
      ]
     },
     "execution_count": 297,
     "metadata": {},
     "output_type": "execute_result"
    }
   ],
   "source": [
    "test_data.timeSinceEvent.value_counts()"
   ]
  },
  {
   "cell_type": "code",
   "execution_count": 298,
   "metadata": {},
   "outputs": [
    {
     "data": {
      "text/plain": [
       "0"
      ]
     },
     "execution_count": 298,
     "metadata": {},
     "output_type": "execute_result"
    }
   ],
   "source": [
    "test_data.timeSinceEvent.isnull().sum()"
   ]
  },
  {
   "cell_type": "code",
   "execution_count": 299,
   "metadata": {},
   "outputs": [
    {
     "name": "stdout",
     "output_type": "stream",
     "text": [
      "<class 'pandas.core.frame.DataFrame'>\n",
      "RangeIndex: 2057 entries, 0 to 2056\n",
      "Data columns (total 23 columns):\n",
      " #   Column             Non-Null Count  Dtype   \n",
      "---  ------             --------------  -----   \n",
      " 0   AssignmentId       2057 non-null   object  \n",
      " 1   WorkTimeInSeconds  2057 non-null   int64   \n",
      " 2   WorkerId           2057 non-null   object  \n",
      " 3   annotatorAge       2057 non-null   int32   \n",
      " 4   annotatorGender    2057 non-null   object  \n",
      " 5   annotatorRace      2057 non-null   object  \n",
      " 6   distracted         2057 non-null   float64 \n",
      " 7   draining           2057 non-null   float64 \n",
      " 8   frequency          2057 non-null   float64 \n",
      " 9   importance         2057 non-null   float64 \n",
      " 10  logTimeSinceEvent  2057 non-null   float64 \n",
      " 11  mainEvent          2057 non-null   object  \n",
      " 12  mostSurprising     2057 non-null   object  \n",
      " 13  openness           2057 non-null   float64 \n",
      " 14  recAgnPairId       811 non-null    object  \n",
      " 15  recImgPairId       1595 non-null   object  \n",
      " 16  similarity         2057 non-null   float64 \n",
      " 17  similarityReason   827 non-null    object  \n",
      " 18  story              2057 non-null   object  \n",
      " 19  stressful          2057 non-null   float64 \n",
      " 20  summary            2057 non-null   object  \n",
      " 21  timeSinceEvent     2057 non-null   float64 \n",
      " 22  AgeGroup           1895 non-null   category\n",
      "dtypes: category(1), float64(9), int32(1), int64(1), object(11)\n",
      "memory usage: 348.0+ KB\n"
     ]
    }
   ],
   "source": [
    "test_data.info()"
   ]
  },
  {
   "cell_type": "code",
   "execution_count": 300,
   "metadata": {},
   "outputs": [
    {
     "data": {
      "text/plain": [
       "AssignmentId         2057\n",
       "WorkTimeInSeconds    2057\n",
       "WorkerId             2057\n",
       "annotatorAge         2057\n",
       "annotatorGender      2057\n",
       "annotatorRace        2057\n",
       "distracted           2057\n",
       "draining             2057\n",
       "frequency            2057\n",
       "importance           2057\n",
       "logTimeSinceEvent    2057\n",
       "mainEvent            2057\n",
       "mostSurprising       2057\n",
       "openness             2057\n",
       "recAgnPairId          811\n",
       "recImgPairId         1595\n",
       "similarity           2057\n",
       "similarityReason      827\n",
       "story                2057\n",
       "stressful            2057\n",
       "summary              2057\n",
       "timeSinceEvent       2057\n",
       "AgeGroup             1895\n",
       "dtype: int64"
      ]
     },
     "execution_count": 300,
     "metadata": {},
     "output_type": "execute_result"
    }
   ],
   "source": [
    "test_data.notnull().sum()"
   ]
  },
  {
   "cell_type": "code",
   "execution_count": 301,
   "metadata": {},
   "outputs": [
    {
     "data": {
      "text/plain": [
       "25-29    484\n",
       "30-34    454\n",
       "35-39    341\n",
       "40-44    197\n",
       "18-24    179\n",
       "45-49    138\n",
       "50-54    102\n",
       "55+        0\n",
       "Name: AgeGroup, dtype: int64"
      ]
     },
     "execution_count": 301,
     "metadata": {},
     "output_type": "execute_result"
    }
   ],
   "source": [
    "# Workon agegroup column\n",
    "test_data.AgeGroup.value_counts()"
   ]
  },
  {
   "cell_type": "code",
   "execution_count": 302,
   "metadata": {},
   "outputs": [
    {
     "data": {
      "text/plain": [
       "162"
      ]
     },
     "execution_count": 302,
     "metadata": {},
     "output_type": "execute_result"
    }
   ],
   "source": [
    "test_data.AgeGroup.isnull().sum()"
   ]
  },
  {
   "cell_type": "code",
   "execution_count": 303,
   "metadata": {},
   "outputs": [],
   "source": [
    "test_data['AgeGroup'].fillna(test_data['AgeGroup'].value_counts().index[0], inplace=True)"
   ]
  },
  {
   "cell_type": "code",
   "execution_count": 305,
   "metadata": {},
   "outputs": [
    {
     "data": {
      "text/plain": [
       "AssignmentId            0\n",
       "WorkTimeInSeconds       0\n",
       "WorkerId                0\n",
       "annotatorAge            0\n",
       "annotatorGender         0\n",
       "annotatorRace           0\n",
       "distracted              0\n",
       "draining                0\n",
       "frequency               0\n",
       "importance              0\n",
       "logTimeSinceEvent       0\n",
       "mainEvent               0\n",
       "mostSurprising          0\n",
       "openness                0\n",
       "recAgnPairId         1246\n",
       "recImgPairId          462\n",
       "similarity              0\n",
       "similarityReason     1230\n",
       "story                   0\n",
       "stressful               0\n",
       "summary                 0\n",
       "timeSinceEvent          0\n",
       "AgeGroup                0\n",
       "dtype: int64"
      ]
     },
     "execution_count": 305,
     "metadata": {},
     "output_type": "execute_result"
    }
   ],
   "source": [
    "test_data.isnull().sum()"
   ]
  },
  {
   "cell_type": "code",
   "execution_count": 306,
   "metadata": {},
   "outputs": [
    {
     "data": {
      "text/plain": [
       "AssignmentId            0\n",
       "WorkTimeInSeconds       0\n",
       "WorkerId                0\n",
       "annotatorAge            0\n",
       "annotatorGender         0\n",
       "annotatorRace           0\n",
       "distracted              0\n",
       "draining                0\n",
       "frequency               0\n",
       "importance              0\n",
       "logTimeSinceEvent       0\n",
       "mainEvent               0\n",
       "mostSurprising          0\n",
       "openness                0\n",
       "recAgnPairId         1246\n",
       "recImgPairId          462\n",
       "similarity              0\n",
       "similarityReason     1230\n",
       "story                   0\n",
       "stressful               0\n",
       "summary                 0\n",
       "timeSinceEvent          0\n",
       "AgeGroup                0\n",
       "dtype: int64"
      ]
     },
     "execution_count": 306,
     "metadata": {},
     "output_type": "execute_result"
    }
   ],
   "source": [
    "test_data.isna().sum()"
   ]
  },
  {
   "cell_type": "code",
   "execution_count": 307,
   "metadata": {},
   "outputs": [
    {
     "data": {
      "text/plain": [
       "(2057, 23)"
      ]
     },
     "execution_count": 307,
     "metadata": {},
     "output_type": "execute_result"
    }
   ],
   "source": [
    "test_data.shape"
   ]
  },
  {
   "cell_type": "code",
   "execution_count": 308,
   "metadata": {},
   "outputs": [
    {
     "name": "stdout",
     "output_type": "stream",
     "text": [
      "<class 'pandas.core.frame.DataFrame'>\n",
      "RangeIndex: 2057 entries, 0 to 2056\n",
      "Data columns (total 23 columns):\n",
      " #   Column             Non-Null Count  Dtype   \n",
      "---  ------             --------------  -----   \n",
      " 0   AssignmentId       2057 non-null   object  \n",
      " 1   WorkTimeInSeconds  2057 non-null   int64   \n",
      " 2   WorkerId           2057 non-null   object  \n",
      " 3   annotatorAge       2057 non-null   int32   \n",
      " 4   annotatorGender    2057 non-null   object  \n",
      " 5   annotatorRace      2057 non-null   object  \n",
      " 6   distracted         2057 non-null   float64 \n",
      " 7   draining           2057 non-null   float64 \n",
      " 8   frequency          2057 non-null   float64 \n",
      " 9   importance         2057 non-null   float64 \n",
      " 10  logTimeSinceEvent  2057 non-null   float64 \n",
      " 11  mainEvent          2057 non-null   object  \n",
      " 12  mostSurprising     2057 non-null   object  \n",
      " 13  openness           2057 non-null   float64 \n",
      " 14  recAgnPairId       811 non-null    object  \n",
      " 15  recImgPairId       1595 non-null   object  \n",
      " 16  similarity         2057 non-null   float64 \n",
      " 17  similarityReason   827 non-null    object  \n",
      " 18  story              2057 non-null   object  \n",
      " 19  stressful          2057 non-null   float64 \n",
      " 20  summary            2057 non-null   object  \n",
      " 21  timeSinceEvent     2057 non-null   float64 \n",
      " 22  AgeGroup           2057 non-null   category\n",
      "dtypes: category(1), float64(9), int32(1), int64(1), object(11)\n",
      "memory usage: 348.0+ KB\n"
     ]
    }
   ],
   "source": [
    "test_data.info()"
   ]
  },
  {
   "cell_type": "code",
   "execution_count": 309,
   "metadata": {},
   "outputs": [
    {
     "ename": "AttributeError",
     "evalue": "'DataFrame' object has no attribute 'memType'",
     "output_type": "error",
     "traceback": [
      "\u001b[1;31m---------------------------------------------------------------------------\u001b[0m",
      "\u001b[1;31mAttributeError\u001b[0m                            Traceback (most recent call last)",
      "\u001b[1;32m<ipython-input-309-6392cde9f829>\u001b[0m in \u001b[0;36m<module>\u001b[1;34m\u001b[0m\n\u001b[1;32m----> 1\u001b[1;33m \u001b[0mtest_data\u001b[0m\u001b[1;33m.\u001b[0m\u001b[0mmemType\u001b[0m\u001b[1;33m.\u001b[0m\u001b[0mvalue_counts\u001b[0m\u001b[1;33m(\u001b[0m\u001b[1;33m)\u001b[0m\u001b[1;33m\u001b[0m\u001b[1;33m\u001b[0m\u001b[0m\n\u001b[0m",
      "\u001b[1;32m~\\anaconda3\\envs\\ml_projects\\lib\\site-packages\\pandas\\core\\generic.py\u001b[0m in \u001b[0;36m__getattr__\u001b[1;34m(self, name)\u001b[0m\n\u001b[0;32m   5137\u001b[0m             \u001b[1;32mif\u001b[0m \u001b[0mself\u001b[0m\u001b[1;33m.\u001b[0m\u001b[0m_info_axis\u001b[0m\u001b[1;33m.\u001b[0m\u001b[0m_can_hold_identifiers_and_holds_name\u001b[0m\u001b[1;33m(\u001b[0m\u001b[0mname\u001b[0m\u001b[1;33m)\u001b[0m\u001b[1;33m:\u001b[0m\u001b[1;33m\u001b[0m\u001b[1;33m\u001b[0m\u001b[0m\n\u001b[0;32m   5138\u001b[0m                 \u001b[1;32mreturn\u001b[0m \u001b[0mself\u001b[0m\u001b[1;33m[\u001b[0m\u001b[0mname\u001b[0m\u001b[1;33m]\u001b[0m\u001b[1;33m\u001b[0m\u001b[1;33m\u001b[0m\u001b[0m\n\u001b[1;32m-> 5139\u001b[1;33m             \u001b[1;32mreturn\u001b[0m \u001b[0mobject\u001b[0m\u001b[1;33m.\u001b[0m\u001b[0m__getattribute__\u001b[0m\u001b[1;33m(\u001b[0m\u001b[0mself\u001b[0m\u001b[1;33m,\u001b[0m \u001b[0mname\u001b[0m\u001b[1;33m)\u001b[0m\u001b[1;33m\u001b[0m\u001b[1;33m\u001b[0m\u001b[0m\n\u001b[0m\u001b[0;32m   5140\u001b[0m \u001b[1;33m\u001b[0m\u001b[0m\n\u001b[0;32m   5141\u001b[0m     \u001b[1;32mdef\u001b[0m \u001b[0m__setattr__\u001b[0m\u001b[1;33m(\u001b[0m\u001b[0mself\u001b[0m\u001b[1;33m,\u001b[0m \u001b[0mname\u001b[0m\u001b[1;33m:\u001b[0m \u001b[0mstr\u001b[0m\u001b[1;33m,\u001b[0m \u001b[0mvalue\u001b[0m\u001b[1;33m)\u001b[0m \u001b[1;33m->\u001b[0m \u001b[1;32mNone\u001b[0m\u001b[1;33m:\u001b[0m\u001b[1;33m\u001b[0m\u001b[1;33m\u001b[0m\u001b[0m\n",
      "\u001b[1;31mAttributeError\u001b[0m: 'DataFrame' object has no attribute 'memType'"
     ]
    }
   ],
   "source": [
    "test_data.memType.value_counts()"
   ]
  },
  {
   "cell_type": "code",
   "execution_count": 211,
   "metadata": {},
   "outputs": [
    {
     "data": {
      "text/plain": [
       "1    2760\n",
       "2    2745\n",
       "3    1292\n",
       "Name: memType, dtype: int64"
      ]
     },
     "execution_count": 211,
     "metadata": {},
     "output_type": "execute_result"
    }
   ],
   "source": [
    "memtype_map  = {'recalled':1,\n",
    "              'imagined':2,\n",
    "              'retold':3 }\n",
    "train_data['memType'] = train_data.memType.map(memtype_map)\n",
    "train_data.memType.value_counts()"
   ]
  },
  {
   "cell_type": "code",
   "execution_count": 310,
   "metadata": {},
   "outputs": [
    {
     "data": {
      "text/plain": [
       "AssignmentId            0\n",
       "WorkTimeInSeconds       0\n",
       "WorkerId                0\n",
       "annotatorAge            0\n",
       "annotatorGender         0\n",
       "annotatorRace           0\n",
       "distracted              0\n",
       "draining                0\n",
       "frequency               0\n",
       "importance              0\n",
       "logTimeSinceEvent       0\n",
       "mainEvent               0\n",
       "mostSurprising          0\n",
       "openness                0\n",
       "recAgnPairId         1246\n",
       "recImgPairId          462\n",
       "similarity              0\n",
       "similarityReason     1230\n",
       "story                   0\n",
       "stressful               0\n",
       "summary                 0\n",
       "timeSinceEvent          0\n",
       "AgeGroup                0\n",
       "dtype: int64"
      ]
     },
     "execution_count": 310,
     "metadata": {},
     "output_type": "execute_result"
    }
   ],
   "source": [
    "pd.isnull(test_data).sum()"
   ]
  },
  {
   "cell_type": "code",
   "execution_count": 311,
   "metadata": {},
   "outputs": [
    {
     "name": "stdout",
     "output_type": "stream",
     "text": [
      "<class 'pandas.core.frame.DataFrame'>\n",
      "RangeIndex: 2057 entries, 0 to 2056\n",
      "Data columns (total 23 columns):\n",
      " #   Column             Non-Null Count  Dtype   \n",
      "---  ------             --------------  -----   \n",
      " 0   AssignmentId       2057 non-null   object  \n",
      " 1   WorkTimeInSeconds  2057 non-null   int64   \n",
      " 2   WorkerId           2057 non-null   object  \n",
      " 3   annotatorAge       2057 non-null   int32   \n",
      " 4   annotatorGender    2057 non-null   object  \n",
      " 5   annotatorRace      2057 non-null   object  \n",
      " 6   distracted         2057 non-null   float64 \n",
      " 7   draining           2057 non-null   float64 \n",
      " 8   frequency          2057 non-null   float64 \n",
      " 9   importance         2057 non-null   float64 \n",
      " 10  logTimeSinceEvent  2057 non-null   float64 \n",
      " 11  mainEvent          2057 non-null   object  \n",
      " 12  mostSurprising     2057 non-null   object  \n",
      " 13  openness           2057 non-null   float64 \n",
      " 14  recAgnPairId       811 non-null    object  \n",
      " 15  recImgPairId       1595 non-null   object  \n",
      " 16  similarity         2057 non-null   float64 \n",
      " 17  similarityReason   827 non-null    object  \n",
      " 18  story              2057 non-null   object  \n",
      " 19  stressful          2057 non-null   float64 \n",
      " 20  summary            2057 non-null   object  \n",
      " 21  timeSinceEvent     2057 non-null   float64 \n",
      " 22  AgeGroup           2057 non-null   category\n",
      "dtypes: category(1), float64(9), int32(1), int64(1), object(11)\n",
      "memory usage: 348.0+ KB\n"
     ]
    }
   ],
   "source": [
    "test_data.info()"
   ]
  },
  {
   "cell_type": "code",
   "execution_count": 312,
   "metadata": {},
   "outputs": [],
   "source": [
    "numeric_data = test_data[['WorkTimeInSeconds', 'annotatorAge', 'distracted', 'draining', 'frequency', 'importance', 'logTimeSinceEvent', 'openness', 'stressful', 'timeSinceEvent']]"
   ]
  },
  {
   "cell_type": "code",
   "execution_count": 314,
   "metadata": {},
   "outputs": [
    {
     "data": {
      "text/plain": [
       "AssignmentId        2057\n",
       "WorkerId            1514\n",
       "annotatorGender        3\n",
       "annotatorRace          7\n",
       "mainEvent           2004\n",
       "mostSurprising      2037\n",
       "recAgnPairId         679\n",
       "recImgPairId        1341\n",
       "similarity             5\n",
       "similarityReason     769\n",
       "story               2057\n",
       "summary             1582\n",
       "AgeGroup               7\n",
       "dtype: int64"
      ]
     },
     "execution_count": 314,
     "metadata": {},
     "output_type": "execute_result"
    }
   ],
   "source": [
    "categorical_data = test_data.drop(numeric_data.columns, axis=1)\n",
    "categorical_data.nunique()"
   ]
  },
  {
   "cell_type": "code",
   "execution_count": 315,
   "metadata": {},
   "outputs": [],
   "source": [
    "test_data = pd.get_dummies(test_data, columns= ['annotatorGender', 'annotatorRace', 'similarity', 'AgeGroup'], drop_first=True)"
   ]
  },
  {
   "cell_type": "code",
   "execution_count": 316,
   "metadata": {},
   "outputs": [],
   "source": [
    "# Delete the unwanted columns from the dataframe\n",
    "test_data.drop(['AssignmentId', 'WorkerId', 'annotatorAge', 'mainEvent', 'mostSurprising', 'recAgnPairId', 'recImgPairId',\n",
    "                 'similarityReason', 'story', 'summary'], axis=1, inplace=True)"
   ]
  },
  {
   "cell_type": "code",
   "execution_count": 317,
   "metadata": {},
   "outputs": [
    {
     "name": "stdout",
     "output_type": "stream",
     "text": [
      "It contains 0 infinite values\n"
     ]
    }
   ],
   "source": [
    "count = np.isinf(test_data).values.sum() \n",
    "print(\"It contains \" + str(count) + \" infinite values\") "
   ]
  },
  {
   "cell_type": "code",
   "execution_count": 226,
   "metadata": {},
   "outputs": [
    {
     "name": "stdout",
     "output_type": "stream",
     "text": [
      "It contains 0 infinite values\n",
      "\n",
      "printing column name where infinity is present\n",
      "Series([], dtype: object)\n",
      "\n",
      "printing row index with infinity \n",
      "Int64Index([], dtype='int64')\n"
     ]
    }
   ],
   "source": [
    "# counting infinity in a particular column name \n",
    "c = np.isinf(train_data['memType']).values.sum() \n",
    "print(\"It contains \" + str(c) + \" infinite values\") \n",
    "  \n",
    "# printing column name where infinity is present \n",
    "print() \n",
    "print(\"printing column name where infinity is present\") \n",
    "col_name = train_data.columns.to_series()[np.isinf(train_data).any()] \n",
    "print(col_name) \n",
    "  \n",
    "# printing row index with infinity \n",
    "print() \n",
    "print(\"printing row index with infinity \") \n",
    "  \n",
    "r = train_data.index[np.isinf(train_data).any(1)] \n",
    "print(r) "
   ]
  },
  {
   "cell_type": "code",
   "execution_count": 318,
   "metadata": {},
   "outputs": [
    {
     "name": "stdout",
     "output_type": "stream",
     "text": [
      "<class 'pandas.core.frame.DataFrame'>\n",
      "RangeIndex: 2057 entries, 0 to 2056\n",
      "Data columns (total 28 columns):\n",
      " #   Column                          Non-Null Count  Dtype  \n",
      "---  ------                          --------------  -----  \n",
      " 0   WorkTimeInSeconds               2057 non-null   int64  \n",
      " 1   distracted                      2057 non-null   float64\n",
      " 2   draining                        2057 non-null   float64\n",
      " 3   frequency                       2057 non-null   float64\n",
      " 4   importance                      2057 non-null   float64\n",
      " 5   logTimeSinceEvent               2057 non-null   float64\n",
      " 6   openness                        2057 non-null   float64\n",
      " 7   stressful                       2057 non-null   float64\n",
      " 8   timeSinceEvent                  2057 non-null   float64\n",
      " 9   annotatorGender_TRANSGENDER     2057 non-null   uint8  \n",
      " 10  annotatorGender_WOMAN           2057 non-null   uint8  \n",
      " 11  annotatorRace_BLACK             2057 non-null   uint8  \n",
      " 12  annotatorRace_HISPANIC          2057 non-null   uint8  \n",
      " 13  annotatorRace_ISLANDER          2057 non-null   uint8  \n",
      " 14  annotatorRace_NATIVE AMERICANS  2057 non-null   uint8  \n",
      " 15  annotatorRace_OTHERS            2057 non-null   uint8  \n",
      " 16  annotatorRace_WHITE             2057 non-null   uint8  \n",
      " 17  similarity_2.0                  2057 non-null   uint8  \n",
      " 18  similarity_3.0                  2057 non-null   uint8  \n",
      " 19  similarity_4.0                  2057 non-null   uint8  \n",
      " 20  similarity_5.0                  2057 non-null   uint8  \n",
      " 21  AgeGroup_25-29                  2057 non-null   uint8  \n",
      " 22  AgeGroup_30-34                  2057 non-null   uint8  \n",
      " 23  AgeGroup_35-39                  2057 non-null   uint8  \n",
      " 24  AgeGroup_40-44                  2057 non-null   uint8  \n",
      " 25  AgeGroup_45-49                  2057 non-null   uint8  \n",
      " 26  AgeGroup_50-54                  2057 non-null   uint8  \n",
      " 27  AgeGroup_55+                    2057 non-null   uint8  \n",
      "dtypes: float64(8), int64(1), uint8(19)\n",
      "memory usage: 182.9 KB\n"
     ]
    }
   ],
   "source": [
    "test_data.info()"
   ]
  },
  {
   "cell_type": "code",
   "execution_count": 228,
   "metadata": {},
   "outputs": [],
   "source": [
    "X = train_data.drop('memType', axis=1)\n",
    "y = train_data['memType']"
   ]
  },
  {
   "cell_type": "code",
   "execution_count": 343,
   "metadata": {},
   "outputs": [
    {
     "data": {
      "text/plain": [
       "((5437, 28), (5437,), (1360, 28), (1360,))"
      ]
     },
     "execution_count": 343,
     "metadata": {},
     "output_type": "execute_result"
    }
   ],
   "source": [
    "X_train, X_test, y_train, y_test = train_test_split(X, y, test_size = 0.2, random_state = 1)\n",
    "X_train.shape, y_train.shape, X_test.shape, y_test.shape"
   ]
  },
  {
   "cell_type": "code",
   "execution_count": 344,
   "metadata": {},
   "outputs": [],
   "source": [
    "from sklearn.feature_selection import SelectFromModel\n",
    "from sklearn.metrics import accuracy_score, f1_score\n",
    "from sklearn.ensemble import RandomForestClassifier\n",
    "from sklearn.linear_model import LogisticRegression"
   ]
  },
  {
   "cell_type": "code",
   "execution_count": 345,
   "metadata": {},
   "outputs": [
    {
     "data": {
      "text/plain": [
       "LogisticRegression()"
      ]
     },
     "execution_count": 345,
     "metadata": {},
     "output_type": "execute_result"
    }
   ],
   "source": [
    "lr = LogisticRegression()\n",
    "lr.fit(X_train, y_train)"
   ]
  },
  {
   "cell_type": "code",
   "execution_count": 346,
   "metadata": {},
   "outputs": [
    {
     "data": {
      "text/plain": [
       "0.40441176470588236"
      ]
     },
     "execution_count": 346,
     "metadata": {},
     "output_type": "execute_result"
    }
   ],
   "source": [
    "lr.score(X_test, y_test)"
   ]
  },
  {
   "cell_type": "code",
   "execution_count": 347,
   "metadata": {},
   "outputs": [
    {
     "name": "stdout",
     "output_type": "stream",
     "text": [
      "      memType  Predicted  Difference\n",
      "5476        1          1           0\n",
      "3697        3          1          -2\n",
      "1536        2          1          -1\n",
      "1399        2          1          -1\n",
      "1060        1          1           0\n",
      "870         2          1          -1\n",
      "4516        3          1          -2\n",
      "582         2          1          -1\n",
      "6373        3          1          -2\n",
      "2971        1          1           0 \n",
      "\n",
      "Model training performance:\n",
      "---------------------------\n",
      "RMSE is 1.0596197986292342\n",
      "R2 score is -1.127091657542258\n",
      "\n",
      "\n"
     ]
    }
   ],
   "source": [
    "# Model evaluation for training set\n",
    "y_pred = lr.predict(X_test)\n",
    "rmse = (np.sqrt(mean_squared_error(y_test, y_pred)))\n",
    "r2 = r2_score(y_test, y_pred)\n",
    "\n",
    "# Examine the first 10 predicted output from the model\n",
    "output = pd.DataFrame(y_train[0:10])\n",
    "output['Predicted'] = y_pred[0:10]\n",
    "output['Difference'] = output['Predicted'] - output['memType']\n",
    "print(output, \"\\n\")\n",
    "\n",
    "print(\"Model training performance:\")\n",
    "print(\"---------------------------\")\n",
    "print('RMSE is {}'.format(rmse))\n",
    "print('R2 score is {}'.format(r2))\n",
    "print(\"\\n\")"
   ]
  },
  {
   "cell_type": "code",
   "execution_count": 348,
   "metadata": {},
   "outputs": [
    {
     "name": "stdout",
     "output_type": "stream",
     "text": [
      "[[550   0   0]\n",
      " [571   0   0]\n",
      " [239   0   0]]\n",
      "Test set Accuracy: 40.441%\n"
     ]
    }
   ],
   "source": [
    "from sklearn.metrics import confusion_matrix, accuracy_score\n",
    "cm = confusion_matrix(y_test, y_pred)\n",
    "print(cm)\n",
    "accu = accuracy_score(y_test, y_pred)\n",
    "print(\"Test set Accuracy: {:.3f}%\".format(accu*100))"
   ]
  },
  {
   "cell_type": "code",
   "execution_count": 262,
   "metadata": {},
   "outputs": [
    {
     "data": {
      "text/html": [
       "<div>\n",
       "<style scoped>\n",
       "    .dataframe tbody tr th:only-of-type {\n",
       "        vertical-align: middle;\n",
       "    }\n",
       "\n",
       "    .dataframe tbody tr th {\n",
       "        vertical-align: top;\n",
       "    }\n",
       "\n",
       "    .dataframe thead th {\n",
       "        text-align: right;\n",
       "    }\n",
       "</style>\n",
       "<table border=\"1\" class=\"dataframe\">\n",
       "  <thead>\n",
       "    <tr style=\"text-align: right;\">\n",
       "      <th></th>\n",
       "      <th>AssignmentId</th>\n",
       "      <th>WorkTimeInSeconds</th>\n",
       "      <th>WorkerId</th>\n",
       "      <th>annotatorAge</th>\n",
       "      <th>annotatorGender</th>\n",
       "      <th>annotatorRace</th>\n",
       "      <th>distracted</th>\n",
       "      <th>draining</th>\n",
       "      <th>frequency</th>\n",
       "      <th>importance</th>\n",
       "      <th>...</th>\n",
       "      <th>mostSurprising</th>\n",
       "      <th>openness</th>\n",
       "      <th>recAgnPairId</th>\n",
       "      <th>recImgPairId</th>\n",
       "      <th>similarity</th>\n",
       "      <th>similarityReason</th>\n",
       "      <th>story</th>\n",
       "      <th>stressful</th>\n",
       "      <th>summary</th>\n",
       "      <th>timeSinceEvent</th>\n",
       "    </tr>\n",
       "  </thead>\n",
       "  <tbody>\n",
       "    <tr>\n",
       "      <th>0</th>\n",
       "      <td>386PBUZZXGJZHALDEEVEHG6BE9EJLD</td>\n",
       "      <td>4679</td>\n",
       "      <td>K10CDHDP</td>\n",
       "      <td>18.0</td>\n",
       "      <td>Man</td>\n",
       "      <td>hisp</td>\n",
       "      <td>one</td>\n",
       "      <td>2.0</td>\n",
       "      <td>NaN</td>\n",
       "      <td>3.0</td>\n",
       "      <td>...</td>\n",
       "      <td>the doctor saw abnormal activity but the diagn...</td>\n",
       "      <td>-0.500</td>\n",
       "      <td>NaN</td>\n",
       "      <td>3VFJCI1K40L0T6QPBS776FNTU1ORGT</td>\n",
       "      <td>4.0</td>\n",
       "      <td>I've had headaches in the past, have had to wa...</td>\n",
       "      <td>12 weeks ago I had to visit the hospital for m...</td>\n",
       "      <td>3.0</td>\n",
       "      <td>Went to the hospital to get a diagnoses. This ...</td>\n",
       "      <td>8.400000e+01</td>\n",
       "    </tr>\n",
       "    <tr>\n",
       "      <th>1</th>\n",
       "      <td>3C8HJ7UOP8G9N782WCZF5N9PDLQMZ8</td>\n",
       "      <td>1392</td>\n",
       "      <td>KNOE8VGT</td>\n",
       "      <td>18.0</td>\n",
       "      <td>woman</td>\n",
       "      <td>asian</td>\n",
       "      <td>one</td>\n",
       "      <td>one</td>\n",
       "      <td>3.0</td>\n",
       "      <td>1.0</td>\n",
       "      <td>...</td>\n",
       "      <td>I lied about my failures</td>\n",
       "      <td>0.125</td>\n",
       "      <td>3570Y55XZQ59Q72BPNZ1EBGQYSVYG3</td>\n",
       "      <td>NaN</td>\n",
       "      <td>NaN</td>\n",
       "      <td>NaN</td>\n",
       "      <td>Well, four months ago, I felt extremely embarr...</td>\n",
       "      <td>1.0</td>\n",
       "      <td>I talked with my aunt about my future, and I k...</td>\n",
       "      <td>1.200000e+02</td>\n",
       "    </tr>\n",
       "    <tr>\n",
       "      <th>2</th>\n",
       "      <td>3WR9XG3T64XAZ7DQ7D70S9ZQCVZ47T</td>\n",
       "      <td>1321</td>\n",
       "      <td>NZXIA1OJ</td>\n",
       "      <td>55.0</td>\n",
       "      <td>woman</td>\n",
       "      <td>White</td>\n",
       "      <td>one</td>\n",
       "      <td>one</td>\n",
       "      <td>5.0</td>\n",
       "      <td>5.0</td>\n",
       "      <td>...</td>\n",
       "      <td>She dedicated a song to me.</td>\n",
       "      <td>1.000</td>\n",
       "      <td>NaN</td>\n",
       "      <td>3WR9XG3T64XAZ7DQ7D70S9ZQCVZ47T</td>\n",
       "      <td>NaN</td>\n",
       "      <td>NaN</td>\n",
       "      <td>The event that just happened was my daughter's...</td>\n",
       "      <td>1.0</td>\n",
       "      <td>Her wedding dress was beautiful with lots of p...</td>\n",
       "      <td>2.222222e+29</td>\n",
       "    </tr>\n",
       "    <tr>\n",
       "      <th>3</th>\n",
       "      <td>3VD82FOHKRAKFHI4HEUKMTX9CYJOCT</td>\n",
       "      <td>1583</td>\n",
       "      <td>18G32XSD</td>\n",
       "      <td>35.0</td>\n",
       "      <td>woman</td>\n",
       "      <td>white</td>\n",
       "      <td>5.0</td>\n",
       "      <td>3.0</td>\n",
       "      <td>2.0</td>\n",
       "      <td>5.0</td>\n",
       "      <td>...</td>\n",
       "      <td>the students reacted compassionately.</td>\n",
       "      <td>1.000</td>\n",
       "      <td>3PMBY0YE28PH8UEYFPB2P32KZY4C9Q</td>\n",
       "      <td>NaN</td>\n",
       "      <td>NaN</td>\n",
       "      <td>NaN</td>\n",
       "      <td>When I was subbing at one of my regular school...</td>\n",
       "      <td>3.0</td>\n",
       "      <td>I found out my friend died from brain cancer w...</td>\n",
       "      <td>2.100000e+02</td>\n",
       "    </tr>\n",
       "    <tr>\n",
       "      <th>4</th>\n",
       "      <td>37TD41K0AIVZD9AXOVBT6Y7AR0OSC4</td>\n",
       "      <td>920</td>\n",
       "      <td>2DTJ9KGG</td>\n",
       "      <td>25.0</td>\n",
       "      <td>man</td>\n",
       "      <td>white</td>\n",
       "      <td>one</td>\n",
       "      <td>one</td>\n",
       "      <td>NaN</td>\n",
       "      <td>2.0</td>\n",
       "      <td>...</td>\n",
       "      <td>I had to raise my brother as if I were his fat...</td>\n",
       "      <td>1.000</td>\n",
       "      <td>NaN</td>\n",
       "      <td>3E1QT0TDFQV87SHO271A0A54SX6I89</td>\n",
       "      <td>1.0</td>\n",
       "      <td>I don't identify with the story since nothing ...</td>\n",
       "      <td>Growing up I wasn’t much like all of my friend...</td>\n",
       "      <td>1.0</td>\n",
       "      <td>Basically growing up was never a best experien...</td>\n",
       "      <td>3.000000e+02</td>\n",
       "    </tr>\n",
       "  </tbody>\n",
       "</table>\n",
       "<p>5 rows × 22 columns</p>\n",
       "</div>"
      ],
      "text/plain": [
       "                     AssignmentId  WorkTimeInSeconds  WorkerId  annotatorAge  \\\n",
       "0  386PBUZZXGJZHALDEEVEHG6BE9EJLD               4679  K10CDHDP          18.0   \n",
       "1  3C8HJ7UOP8G9N782WCZF5N9PDLQMZ8               1392  KNOE8VGT          18.0   \n",
       "2  3WR9XG3T64XAZ7DQ7D70S9ZQCVZ47T               1321  NZXIA1OJ          55.0   \n",
       "3  3VD82FOHKRAKFHI4HEUKMTX9CYJOCT               1583  18G32XSD          35.0   \n",
       "4  37TD41K0AIVZD9AXOVBT6Y7AR0OSC4                920  2DTJ9KGG          25.0   \n",
       "\n",
       "  annotatorGender annotatorRace distracted draining  frequency  importance  \\\n",
       "0             Man          hisp        one      2.0        NaN         3.0   \n",
       "1           woman         asian        one      one        3.0         1.0   \n",
       "2           woman         White        one      one        5.0         5.0   \n",
       "3           woman         white        5.0      3.0        2.0         5.0   \n",
       "4             man         white        one      one        NaN         2.0   \n",
       "\n",
       "   ...                                     mostSurprising openness  \\\n",
       "0  ...  the doctor saw abnormal activity but the diagn...   -0.500   \n",
       "1  ...                           I lied about my failures    0.125   \n",
       "2  ...                        She dedicated a song to me.    1.000   \n",
       "3  ...              the students reacted compassionately.    1.000   \n",
       "4  ...  I had to raise my brother as if I were his fat...    1.000   \n",
       "\n",
       "                     recAgnPairId                    recImgPairId similarity  \\\n",
       "0                             NaN  3VFJCI1K40L0T6QPBS776FNTU1ORGT        4.0   \n",
       "1  3570Y55XZQ59Q72BPNZ1EBGQYSVYG3                             NaN        NaN   \n",
       "2                             NaN  3WR9XG3T64XAZ7DQ7D70S9ZQCVZ47T        NaN   \n",
       "3  3PMBY0YE28PH8UEYFPB2P32KZY4C9Q                             NaN        NaN   \n",
       "4                             NaN  3E1QT0TDFQV87SHO271A0A54SX6I89        1.0   \n",
       "\n",
       "                                    similarityReason  \\\n",
       "0  I've had headaches in the past, have had to wa...   \n",
       "1                                                NaN   \n",
       "2                                                NaN   \n",
       "3                                                NaN   \n",
       "4  I don't identify with the story since nothing ...   \n",
       "\n",
       "                                               story stressful  \\\n",
       "0  12 weeks ago I had to visit the hospital for m...       3.0   \n",
       "1  Well, four months ago, I felt extremely embarr...       1.0   \n",
       "2  The event that just happened was my daughter's...       1.0   \n",
       "3  When I was subbing at one of my regular school...       3.0   \n",
       "4  Growing up I wasn’t much like all of my friend...       1.0   \n",
       "\n",
       "                                             summary  timeSinceEvent  \n",
       "0  Went to the hospital to get a diagnoses. This ...    8.400000e+01  \n",
       "1  I talked with my aunt about my future, and I k...    1.200000e+02  \n",
       "2  Her wedding dress was beautiful with lots of p...    2.222222e+29  \n",
       "3  I found out my friend died from brain cancer w...    2.100000e+02  \n",
       "4  Basically growing up was never a best experien...    3.000000e+02  \n",
       "\n",
       "[5 rows x 22 columns]"
      ]
     },
     "execution_count": 262,
     "metadata": {},
     "output_type": "execute_result"
    }
   ],
   "source": [
    "test_data = pd.read_csv('https://raw.githubusercontent.com/dphi-official/Datasets/master/hippocorpus/test_set_label.csv')\n",
    "test_data.head()"
   ]
  },
  {
   "cell_type": "code",
   "execution_count": 263,
   "metadata": {},
   "outputs": [
    {
     "name": "stdout",
     "output_type": "stream",
     "text": [
      "<class 'pandas.core.frame.DataFrame'>\n",
      "RangeIndex: 2057 entries, 0 to 2056\n",
      "Data columns (total 22 columns):\n",
      " #   Column             Non-Null Count  Dtype  \n",
      "---  ------             --------------  -----  \n",
      " 0   AssignmentId       2057 non-null   object \n",
      " 1   WorkTimeInSeconds  2057 non-null   int64  \n",
      " 2   WorkerId           2057 non-null   object \n",
      " 3   annotatorAge       2051 non-null   float64\n",
      " 4   annotatorGender    2057 non-null   object \n",
      " 5   annotatorRace      2057 non-null   object \n",
      " 6   distracted         2057 non-null   object \n",
      " 7   draining           2057 non-null   object \n",
      " 8   frequency          1230 non-null   float64\n",
      " 9   importance         2018 non-null   float64\n",
      " 10  logTimeSinceEvent  2057 non-null   float64\n",
      " 11  mainEvent          2057 non-null   object \n",
      " 12  mostSurprising     2057 non-null   object \n",
      " 13  openness           2057 non-null   float64\n",
      " 14  recAgnPairId       811 non-null    object \n",
      " 15  recImgPairId       1595 non-null   object \n",
      " 16  similarity         827 non-null    float64\n",
      " 17  similarityReason   827 non-null    object \n",
      " 18  story              2057 non-null   object \n",
      " 19  stressful          2057 non-null   float64\n",
      " 20  summary            2057 non-null   object \n",
      " 21  timeSinceEvent     2057 non-null   float64\n",
      "dtypes: float64(8), int64(1), object(13)\n",
      "memory usage: 353.7+ KB\n"
     ]
    }
   ],
   "source": [
    "test_data.info()"
   ]
  },
  {
   "cell_type": "code",
   "execution_count": 323,
   "metadata": {},
   "outputs": [],
   "source": [
    "from boruta import BorutaPy"
   ]
  },
  {
   "cell_type": "code",
   "execution_count": null,
   "metadata": {},
   "outputs": [],
   "source": [
    "test_data.isnull().sum()"
   ]
  },
  {
   "cell_type": "code",
   "execution_count": null,
   "metadata": {},
   "outputs": [],
   "source": [
    "test_data.round(decimals=2)\n",
    "test_data.describe()"
   ]
  },
  {
   "cell_type": "code",
   "execution_count": null,
   "metadata": {},
   "outputs": [],
   "source": [
    "test_rl_pred = lr.predict(test_data)\n",
    "test_rl_pred"
   ]
  },
  {
   "cell_type": "code",
   "execution_count": null,
   "metadata": {},
   "outputs": [],
   "source": [
    "target = lr.predict(test_data)\n",
    "\n",
    "res = pd.DataFrame(target) #target is nothing but the final predictions of your model on input features of your new unseen test data\n",
    "res.index = test_data.index # its important for comparison. Here \"test_new\" is your new test dataset\n",
    "res.columns = ['prediction']\n",
    "res.to_csv(\"submission_sprint_20.csv\") # the csv file will be saved locally on the same location where this notebook is located."
   ]
  },
  {
   "cell_type": "code",
   "execution_count": null,
   "metadata": {},
   "outputs": [],
   "source": [
    "pred_data = pd.read_csv('submission_sprint_20.csv')\n",
    "pred_data.head()"
   ]
  },
  {
   "cell_type": "code",
   "execution_count": null,
   "metadata": {},
   "outputs": [],
   "source": [
    "memtype_map  = {1:'recalled',\n",
    "              2:'imagined',\n",
    "              3:'retold' }\n",
    "res['prediction'] = res.prediction.map(memtype_map)\n",
    "res.head()"
   ]
  },
  {
   "cell_type": "code",
   "execution_count": null,
   "metadata": {},
   "outputs": [],
   "source": [
    "res.columns = ['prediction']\n",
    "res.to_csv(\"submission_sprint_20.csv\")"
   ]
  },
  {
   "cell_type": "code",
   "execution_count": 338,
   "metadata": {},
   "outputs": [],
   "source": [
    "from sklearn.linear_model import LogisticRegression\n",
    "from sklearn.svm import SVC, LinearSVC\n",
    "from sklearn.neighbors import KNeighborsClassifier\n",
    "from sklearn.tree import DecisionTreeClassifier\n",
    "from sklearn.ensemble import RandomForestClassifier\n",
    "from sklearn.naive_bayes import GaussianNB\n",
    "from sklearn.linear_model import Perceptron\n",
    "from sklearn.linear_model import SGDClassifier"
   ]
  },
  {
   "cell_type": "code",
   "execution_count": 349,
   "metadata": {},
   "outputs": [
    {
     "name": "stdout",
     "output_type": "stream",
     "text": [
      "Train Accuracy: 40.65%\n"
     ]
    }
   ],
   "source": [
    "clf = LogisticRegression()\n",
    "clf.fit(X_train, y_train)\n",
    "y_pred_log_reg = clf.predict(X_test)\n",
    "acc_log_reg = round( clf.score(X_train, y_train) * 100, 2)\n",
    "print (\"Train Accuracy: \" + str(acc_log_reg) + '%')"
   ]
  },
  {
   "cell_type": "code",
   "execution_count": 350,
   "metadata": {},
   "outputs": [
    {
     "name": "stdout",
     "output_type": "stream",
     "text": [
      "Train Accuracy: 40.65%\n"
     ]
    }
   ],
   "source": [
    "clf = SVC()\n",
    "clf.fit(X_train, y_train)\n",
    "y_pred_svc = clf.predict(X_test)\n",
    "acc_svc = round(clf.score(X_train, y_train) * 100, 2)\n",
    "print (\"Train Accuracy: \" + str(acc_svc) + '%')"
   ]
  },
  {
   "cell_type": "code",
   "execution_count": 351,
   "metadata": {},
   "outputs": [
    {
     "name": "stdout",
     "output_type": "stream",
     "text": [
      "Train Accuracy: 74.88%\n"
     ]
    }
   ],
   "source": [
    "clf = LinearSVC()\n",
    "clf.fit(X_train, y_train)\n",
    "y_pred_linear_svc = clf.predict(X_test)\n",
    "acc_linear_svc = round(clf.score(X_train, y_train) * 100, 2)\n",
    "print (\"Train Accuracy: \" + str(acc_linear_svc) + '%')"
   ]
  },
  {
   "cell_type": "code",
   "execution_count": 352,
   "metadata": {},
   "outputs": [
    {
     "name": "stdout",
     "output_type": "stream",
     "text": [
      "Train Accuracy: 74.88%\n"
     ]
    }
   ],
   "source": [
    "kn_clf = KNeighborsClassifier(n_neighbors = 2)\n",
    "kn_clf.fit(X_train, y_train)\n",
    "y_pred_knn = kn_clf.predict(X_test)\n",
    "acc_knn = round(clf.score(X_train, y_train) * 100, 2)\n",
    "print (\"Train Accuracy: \" + str(acc_knn) + '%')"
   ]
  },
  {
   "cell_type": "code",
   "execution_count": 360,
   "metadata": {},
   "outputs": [
    {
     "name": "stdout",
     "output_type": "stream",
     "text": [
      "Collecting catboost\n",
      "  Downloading catboost-0.24.4-cp38-none-win_amd64.whl (65.4 MB)\n",
      "Collecting graphviz\n",
      "  Downloading graphviz-0.16-py2.py3-none-any.whl (19 kB)\n",
      "Requirement already satisfied: six in c:\\users\\dell\\anaconda3\\envs\\ml_projects\\lib\\site-packages (from catboost) (1.15.0)\n",
      "Collecting plotly\n",
      "  Downloading plotly-4.14.1-py2.py3-none-any.whl (13.2 MB)\n",
      "Requirement already satisfied: pandas>=0.24.0 in c:\\users\\dell\\anaconda3\\envs\\ml_projects\\lib\\site-packages (from catboost) (1.1.3)\n",
      "Requirement already satisfied: numpy>=1.16.0 in c:\\users\\dell\\anaconda3\\envs\\ml_projects\\lib\\site-packages (from catboost) (1.19.2)\n",
      "Requirement already satisfied: matplotlib in c:\\users\\dell\\anaconda3\\envs\\ml_projects\\lib\\site-packages (from catboost) (3.2.2)\n",
      "Requirement already satisfied: scipy in c:\\users\\dell\\anaconda3\\envs\\ml_projects\\lib\\site-packages (from catboost) (1.5.2)\n",
      "Collecting retrying>=1.3.3\n",
      "  Downloading retrying-1.3.3.tar.gz (10 kB)\n",
      "Requirement already satisfied: python-dateutil>=2.7.3 in c:\\users\\dell\\anaconda3\\envs\\ml_projects\\lib\\site-packages (from pandas>=0.24.0->catboost) (2.8.1)\n",
      "Requirement already satisfied: pytz>=2017.2 in c:\\users\\dell\\anaconda3\\envs\\ml_projects\\lib\\site-packages (from pandas>=0.24.0->catboost) (2020.1)\n",
      "Requirement already satisfied: cycler>=0.10 in c:\\users\\dell\\anaconda3\\envs\\ml_projects\\lib\\site-packages (from matplotlib->catboost) (0.10.0)\n",
      "Requirement already satisfied: kiwisolver>=1.0.1 in c:\\users\\dell\\anaconda3\\envs\\ml_projects\\lib\\site-packages (from matplotlib->catboost) (1.3.0)\n",
      "Requirement already satisfied: pyparsing!=2.0.4,!=2.1.2,!=2.1.6,>=2.0.1 in c:\\users\\dell\\anaconda3\\envs\\ml_projects\\lib\\site-packages (from matplotlib->catboost) (2.4.7)\n",
      "Building wheels for collected packages: retrying\n",
      "  Building wheel for retrying (setup.py): started\n",
      "  Building wheel for retrying (setup.py): finished with status 'done'\n",
      "  Created wheel for retrying: filename=retrying-1.3.3-py3-none-any.whl size=11434 sha256=3a7c2d9a9298e5150747d315030cfb3728c7dcb63309fd256c30b998140c2769\n",
      "  Stored in directory: c:\\users\\dell\\appdata\\local\\pip\\cache\\wheels\\c4\\a7\\48\\0a434133f6d56e878ca511c0e6c38326907c0792f67b476e56\n",
      "Successfully built retrying\n",
      "Installing collected packages: graphviz, retrying, plotly, catboost\n",
      "Successfully installed catboost-0.24.4 graphviz-0.16 plotly-4.14.1 retrying-1.3.3\n"
     ]
    }
   ],
   "source": [
    "!pip install catboost"
   ]
  },
  {
   "cell_type": "code",
   "execution_count": 366,
   "metadata": {},
   "outputs": [
    {
     "name": "stdout",
     "output_type": "stream",
     "text": [
      "^C\n"
     ]
    }
   ],
   "source": [
    "#!pip uninstall catboost"
   ]
  },
  {
   "cell_type": "code",
   "execution_count": 368,
   "metadata": {},
   "outputs": [],
   "source": [
    "from catboost import CatBoostClassifier, Pool"
   ]
  },
  {
   "cell_type": "code",
   "execution_count": 369,
   "metadata": {},
   "outputs": [],
   "source": [
    "cat_model = CatBoostClassifier(\n",
    "    iterations = 1000, # 1000 are ideal\n",
    "    loss_function='MultiClass',\n",
    "    bootstrap_type = \"Bayesian\",\n",
    "    eval_metric = 'MultiClass',\n",
    "    leaf_estimation_iterations = 100,\n",
    "    random_strength = 0.5,\n",
    "    depth = 7,\n",
    "    l2_leaf_reg = 5,\n",
    "    learning_rate=0.1,\n",
    "    bagging_temperature = 0.5,\n",
    "    task_type = \"GPU\",\n",
    ")"
   ]
  },
  {
   "cell_type": "code",
   "execution_count": 370,
   "metadata": {},
   "outputs": [
    {
     "ename": "CatBoostError",
     "evalue": "c:/program files (x86)/go agent/pipelines/buildmaster/catboost.git/catboost/cuda/cuda_lib/cuda_manager.cpp:201: Condition violated: `State == nullptr'",
     "output_type": "error",
     "traceback": [
      "\u001b[1;31m---------------------------------------------------------------------------\u001b[0m",
      "\u001b[1;31mCatBoostError\u001b[0m                             Traceback (most recent call last)",
      "\u001b[1;32m<ipython-input-370-f374542894bf>\u001b[0m in \u001b[0;36m<module>\u001b[1;34m\u001b[0m\n\u001b[0;32m      1\u001b[0m \u001b[1;31m# training the model\u001b[0m\u001b[1;33m\u001b[0m\u001b[1;33m\u001b[0m\u001b[1;33m\u001b[0m\u001b[0m\n\u001b[1;32m----> 2\u001b[1;33m \u001b[0mcat_model\u001b[0m\u001b[1;33m.\u001b[0m\u001b[0mfit\u001b[0m\u001b[1;33m(\u001b[0m\u001b[0mX_train\u001b[0m\u001b[1;33m,\u001b[0m\u001b[0my_train\u001b[0m\u001b[1;33m)\u001b[0m\u001b[1;33m\u001b[0m\u001b[1;33m\u001b[0m\u001b[0m\n\u001b[0m",
      "\u001b[1;32m~\\anaconda3\\envs\\ml_projects\\lib\\site-packages\\catboost\\core.py\u001b[0m in \u001b[0;36mfit\u001b[1;34m(self, X, y, cat_features, text_features, embedding_features, sample_weight, baseline, use_best_model, eval_set, verbose, logging_level, plot, column_description, verbose_eval, metric_period, silent, early_stopping_rounds, save_snapshot, snapshot_file, snapshot_interval, init_model)\u001b[0m\n\u001b[0;32m   4300\u001b[0m             \u001b[0mself\u001b[0m\u001b[1;33m.\u001b[0m\u001b[0m_check_is_classification_objective\u001b[0m\u001b[1;33m(\u001b[0m\u001b[0mparams\u001b[0m\u001b[1;33m[\u001b[0m\u001b[1;34m'loss_function'\u001b[0m\u001b[1;33m]\u001b[0m\u001b[1;33m)\u001b[0m\u001b[1;33m\u001b[0m\u001b[1;33m\u001b[0m\u001b[0m\n\u001b[0;32m   4301\u001b[0m \u001b[1;33m\u001b[0m\u001b[0m\n\u001b[1;32m-> 4302\u001b[1;33m         self._fit(X, y, cat_features, text_features, embedding_features, None, sample_weight, None, None, None, None, baseline, use_best_model,\n\u001b[0m\u001b[0;32m   4303\u001b[0m                   \u001b[0meval_set\u001b[0m\u001b[1;33m,\u001b[0m \u001b[0mverbose\u001b[0m\u001b[1;33m,\u001b[0m \u001b[0mlogging_level\u001b[0m\u001b[1;33m,\u001b[0m \u001b[0mplot\u001b[0m\u001b[1;33m,\u001b[0m \u001b[0mcolumn_description\u001b[0m\u001b[1;33m,\u001b[0m \u001b[0mverbose_eval\u001b[0m\u001b[1;33m,\u001b[0m \u001b[0mmetric_period\u001b[0m\u001b[1;33m,\u001b[0m\u001b[1;33m\u001b[0m\u001b[1;33m\u001b[0m\u001b[0m\n\u001b[0;32m   4304\u001b[0m                   silent, early_stopping_rounds, save_snapshot, snapshot_file, snapshot_interval, init_model)\n",
      "\u001b[1;32m~\\anaconda3\\envs\\ml_projects\\lib\\site-packages\\catboost\\core.py\u001b[0m in \u001b[0;36m_fit\u001b[1;34m(self, X, y, cat_features, text_features, embedding_features, pairs, sample_weight, group_id, group_weight, subgroup_id, pairs_weight, baseline, use_best_model, eval_set, verbose, logging_level, plot, column_description, verbose_eval, metric_period, silent, early_stopping_rounds, save_snapshot, snapshot_file, snapshot_interval, init_model)\u001b[0m\n\u001b[0;32m   1804\u001b[0m \u001b[1;33m\u001b[0m\u001b[0m\n\u001b[0;32m   1805\u001b[0m         \u001b[1;32mwith\u001b[0m \u001b[0mlog_fixup\u001b[0m\u001b[1;33m(\u001b[0m\u001b[1;33m)\u001b[0m\u001b[1;33m,\u001b[0m \u001b[0mplot_wrapper\u001b[0m\u001b[1;33m(\u001b[0m\u001b[0mplot\u001b[0m\u001b[1;33m,\u001b[0m \u001b[1;33m[\u001b[0m\u001b[0m_get_train_dir\u001b[0m\u001b[1;33m(\u001b[0m\u001b[0mself\u001b[0m\u001b[1;33m.\u001b[0m\u001b[0mget_params\u001b[0m\u001b[1;33m(\u001b[0m\u001b[1;33m)\u001b[0m\u001b[1;33m)\u001b[0m\u001b[1;33m]\u001b[0m\u001b[1;33m)\u001b[0m\u001b[1;33m:\u001b[0m\u001b[1;33m\u001b[0m\u001b[1;33m\u001b[0m\u001b[0m\n\u001b[1;32m-> 1806\u001b[1;33m             self._train(\n\u001b[0m\u001b[0;32m   1807\u001b[0m                 \u001b[0mtrain_pool\u001b[0m\u001b[1;33m,\u001b[0m\u001b[1;33m\u001b[0m\u001b[1;33m\u001b[0m\u001b[0m\n\u001b[0;32m   1808\u001b[0m                 \u001b[0mtrain_params\u001b[0m\u001b[1;33m[\u001b[0m\u001b[1;34m\"eval_sets\"\u001b[0m\u001b[1;33m]\u001b[0m\u001b[1;33m,\u001b[0m\u001b[1;33m\u001b[0m\u001b[1;33m\u001b[0m\u001b[0m\n",
      "\u001b[1;32m~\\anaconda3\\envs\\ml_projects\\lib\\site-packages\\catboost\\core.py\u001b[0m in \u001b[0;36m_train\u001b[1;34m(self, train_pool, test_pool, params, allow_clear_pool, init_model)\u001b[0m\n\u001b[0;32m   1256\u001b[0m \u001b[1;33m\u001b[0m\u001b[0m\n\u001b[0;32m   1257\u001b[0m     \u001b[1;32mdef\u001b[0m \u001b[0m_train\u001b[0m\u001b[1;33m(\u001b[0m\u001b[0mself\u001b[0m\u001b[1;33m,\u001b[0m \u001b[0mtrain_pool\u001b[0m\u001b[1;33m,\u001b[0m \u001b[0mtest_pool\u001b[0m\u001b[1;33m,\u001b[0m \u001b[0mparams\u001b[0m\u001b[1;33m,\u001b[0m \u001b[0mallow_clear_pool\u001b[0m\u001b[1;33m,\u001b[0m \u001b[0minit_model\u001b[0m\u001b[1;33m)\u001b[0m\u001b[1;33m:\u001b[0m\u001b[1;33m\u001b[0m\u001b[1;33m\u001b[0m\u001b[0m\n\u001b[1;32m-> 1258\u001b[1;33m         \u001b[0mself\u001b[0m\u001b[1;33m.\u001b[0m\u001b[0m_object\u001b[0m\u001b[1;33m.\u001b[0m\u001b[0m_train\u001b[0m\u001b[1;33m(\u001b[0m\u001b[0mtrain_pool\u001b[0m\u001b[1;33m,\u001b[0m \u001b[0mtest_pool\u001b[0m\u001b[1;33m,\u001b[0m \u001b[0mparams\u001b[0m\u001b[1;33m,\u001b[0m \u001b[0mallow_clear_pool\u001b[0m\u001b[1;33m,\u001b[0m \u001b[0minit_model\u001b[0m\u001b[1;33m.\u001b[0m\u001b[0m_object\u001b[0m \u001b[1;32mif\u001b[0m \u001b[0minit_model\u001b[0m \u001b[1;32melse\u001b[0m \u001b[1;32mNone\u001b[0m\u001b[1;33m)\u001b[0m\u001b[1;33m\u001b[0m\u001b[1;33m\u001b[0m\u001b[0m\n\u001b[0m\u001b[0;32m   1259\u001b[0m         \u001b[0mself\u001b[0m\u001b[1;33m.\u001b[0m\u001b[0m_set_trained_model_attributes\u001b[0m\u001b[1;33m(\u001b[0m\u001b[1;33m)\u001b[0m\u001b[1;33m\u001b[0m\u001b[1;33m\u001b[0m\u001b[0m\n\u001b[0;32m   1260\u001b[0m \u001b[1;33m\u001b[0m\u001b[0m\n",
      "\u001b[1;32m_catboost.pyx\u001b[0m in \u001b[0;36m_catboost._CatBoost._train\u001b[1;34m()\u001b[0m\n",
      "\u001b[1;32m_catboost.pyx\u001b[0m in \u001b[0;36m_catboost._CatBoost._train\u001b[1;34m()\u001b[0m\n",
      "\u001b[1;31mCatBoostError\u001b[0m: c:/program files (x86)/go agent/pipelines/buildmaster/catboost.git/catboost/cuda/cuda_lib/cuda_manager.cpp:201: Condition violated: `State == nullptr'"
     ]
    }
   ],
   "source": [
    "# training the model\n",
    "cat_model.fit(X_train,y_train)"
   ]
  },
  {
   "cell_type": "code",
   "execution_count": null,
   "metadata": {},
   "outputs": [],
   "source": []
  },
  {
   "cell_type": "code",
   "execution_count": null,
   "metadata": {},
   "outputs": [],
   "source": [
    "# predicting the model output\n",
    "y_pred_cat = cat_model.predict(X_test)\n",
    "# printing the accuracy of the tuned model\n",
    "print(\"accuracy of the catboost: \",accuracy_score(y_test,y_pred_cat))\n",
    "\n",
    "# confusion metrics of the LightGBM and plotting the same\n",
    "confusion_matrix_LightGBM = confusion_matrix(y_test,y_pred_cat)\n",
    "print(confusion_matrix_LightGBM) "
   ]
  },
  {
   "cell_type": "code",
   "execution_count": null,
   "metadata": {},
   "outputs": [],
   "source": []
  },
  {
   "cell_type": "code",
   "execution_count": 372,
   "metadata": {},
   "outputs": [
    {
     "name": "stdout",
     "output_type": "stream",
     "text": [
      "      memType  Predicted  Difference\n",
      "5476        1          1           0\n",
      "3697        3          1          -2\n",
      "1536        2          3           1\n",
      "1399        2          2           0\n",
      "1060        1          3           2\n",
      "870         2          1          -1\n",
      "4516        3          2          -1\n",
      "582         2          1          -1\n",
      "6373        3          2          -1\n",
      "2971        1          1           0 \n",
      "\n",
      "Model training performance:\n",
      "---------------------------\n",
      "RMSE is 0.7845005904845377\n",
      "R2 score is -0.16593039774909624\n",
      "\n",
      "\n"
     ]
    }
   ],
   "source": [
    "# Model evaluation for training set\n",
    "from sklearn.metrics import f1_score\n",
    "y_pred = kn_clf.predict(X_test)\n",
    "rmse = (np.sqrt(mean_squared_error(y_test, y_pred)))\n",
    "r2 = r2_score(y_test, y_pred)\n",
    "\n",
    "# Examine the first 10 predicted output from the model\n",
    "output = pd.DataFrame(y_train[0:10])\n",
    "output['Predicted'] = y_pred[0:10]\n",
    "output['Difference'] = output['Predicted'] - output['memType']\n",
    "print(output, \"\\n\")\n",
    "\n",
    "print(\"Model training performance:\")\n",
    "print(\"---------------------------\")\n",
    "print('RMSE is {}'.format(rmse))\n",
    "print('R2 score is {}'.format(r2))\n",
    "#f1 = f1_score(y_test, y_pred)\n",
    "#print('F1 score: %f' % f1)\n",
    "print(\"\\n\")"
   ]
  },
  {
   "cell_type": "code",
   "execution_count": 354,
   "metadata": {},
   "outputs": [
    {
     "data": {
      "text/plain": [
       "array([2, 1, 1, ..., 2, 2, 2], dtype=int64)"
      ]
     },
     "execution_count": 354,
     "metadata": {},
     "output_type": "execute_result"
    }
   ],
   "source": [
    "test_pred = kn_clf.predict(test_data)\n",
    "test_pred"
   ]
  },
  {
   "cell_type": "code",
   "execution_count": 355,
   "metadata": {},
   "outputs": [],
   "source": [
    "target = kn_clf.predict(test_data)\n",
    "\n",
    "res = pd.DataFrame(target) #target is nothing but the final predictions of your model on input features of your new unseen test data\n",
    "res.index = test_data.index # its important for comparison. Here \"test_new\" is your new test dataset\n",
    "res.columns = ['prediction']\n",
    "res.to_csv(\"submission_kn_sprint_20.csv\") # the csv file will be saved locally on the same location where this notebook is located."
   ]
  },
  {
   "cell_type": "code",
   "execution_count": 356,
   "metadata": {},
   "outputs": [
    {
     "data": {
      "text/html": [
       "<div>\n",
       "<style scoped>\n",
       "    .dataframe tbody tr th:only-of-type {\n",
       "        vertical-align: middle;\n",
       "    }\n",
       "\n",
       "    .dataframe tbody tr th {\n",
       "        vertical-align: top;\n",
       "    }\n",
       "\n",
       "    .dataframe thead th {\n",
       "        text-align: right;\n",
       "    }\n",
       "</style>\n",
       "<table border=\"1\" class=\"dataframe\">\n",
       "  <thead>\n",
       "    <tr style=\"text-align: right;\">\n",
       "      <th></th>\n",
       "      <th>prediction</th>\n",
       "    </tr>\n",
       "  </thead>\n",
       "  <tbody>\n",
       "    <tr>\n",
       "      <th>0</th>\n",
       "      <td>imagined</td>\n",
       "    </tr>\n",
       "    <tr>\n",
       "      <th>1</th>\n",
       "      <td>recalled</td>\n",
       "    </tr>\n",
       "    <tr>\n",
       "      <th>2</th>\n",
       "      <td>recalled</td>\n",
       "    </tr>\n",
       "    <tr>\n",
       "      <th>3</th>\n",
       "      <td>retold</td>\n",
       "    </tr>\n",
       "    <tr>\n",
       "      <th>4</th>\n",
       "      <td>retold</td>\n",
       "    </tr>\n",
       "  </tbody>\n",
       "</table>\n",
       "</div>"
      ],
      "text/plain": [
       "  prediction\n",
       "0   imagined\n",
       "1   recalled\n",
       "2   recalled\n",
       "3     retold\n",
       "4     retold"
      ]
     },
     "execution_count": 356,
     "metadata": {},
     "output_type": "execute_result"
    }
   ],
   "source": [
    "memtype_map  = {1:'recalled',\n",
    "              2:'imagined',\n",
    "              3:'retold' }\n",
    "res['prediction'] = res.prediction.map(memtype_map)\n",
    "res.head()"
   ]
  },
  {
   "cell_type": "code",
   "execution_count": 357,
   "metadata": {},
   "outputs": [],
   "source": [
    "res.columns = ['prediction']\n",
    "res.to_csv(\"submission_kn_sprint_20.csv\")"
   ]
  },
  {
   "cell_type": "code",
   "execution_count": 326,
   "metadata": {},
   "outputs": [
    {
     "ename": "KeyError",
     "evalue": "'max_depth'",
     "output_type": "error",
     "traceback": [
      "\u001b[1;31m---------------------------------------------------------------------------\u001b[0m",
      "\u001b[1;31mKeyError\u001b[0m                                  Traceback (most recent call last)",
      "\u001b[1;32m<ipython-input-326-caf3450b4bff>\u001b[0m in \u001b[0;36m<module>\u001b[1;34m\u001b[0m\n\u001b[0;32m      1\u001b[0m \u001b[0mrfc\u001b[0m \u001b[1;33m=\u001b[0m \u001b[0mKNeighborsClassifier\u001b[0m\u001b[1;33m(\u001b[0m\u001b[1;33m)\u001b[0m\u001b[1;33m\u001b[0m\u001b[1;33m\u001b[0m\u001b[0m\n\u001b[0;32m      2\u001b[0m \u001b[0mboruta_selector\u001b[0m \u001b[1;33m=\u001b[0m \u001b[0mBorutaPy\u001b[0m\u001b[1;33m(\u001b[0m\u001b[0mrfc\u001b[0m\u001b[1;33m,\u001b[0m \u001b[0mn_estimators\u001b[0m\u001b[1;33m=\u001b[0m\u001b[1;34m'auto'\u001b[0m\u001b[1;33m,\u001b[0m \u001b[0mverbose\u001b[0m\u001b[1;33m=\u001b[0m\u001b[1;36m2\u001b[0m\u001b[1;33m,\u001b[0m \u001b[0mrandom_state\u001b[0m\u001b[1;33m=\u001b[0m\u001b[1;36m1\u001b[0m\u001b[1;33m)\u001b[0m   \u001b[1;31m# initialize the boruta selector\u001b[0m\u001b[1;33m\u001b[0m\u001b[1;33m\u001b[0m\u001b[0m\n\u001b[1;32m----> 3\u001b[1;33m \u001b[0mboruta_selector\u001b[0m\u001b[1;33m.\u001b[0m\u001b[0mfit\u001b[0m\u001b[1;33m(\u001b[0m\u001b[0mnp\u001b[0m\u001b[1;33m.\u001b[0m\u001b[0marray\u001b[0m\u001b[1;33m(\u001b[0m\u001b[0mX_train\u001b[0m\u001b[1;33m)\u001b[0m\u001b[1;33m,\u001b[0m \u001b[0mnp\u001b[0m\u001b[1;33m.\u001b[0m\u001b[0marray\u001b[0m\u001b[1;33m(\u001b[0m\u001b[0my_train\u001b[0m\u001b[1;33m)\u001b[0m\u001b[1;33m)\u001b[0m       \u001b[1;31m# fitting the boruta selector to get all relavent features.\u001b[0m\u001b[1;33m\u001b[0m\u001b[1;33m\u001b[0m\u001b[0m\n\u001b[0m\u001b[0;32m      4\u001b[0m \u001b[1;31m# NOTE: BorutaPy accepts numpy arrays only.\u001b[0m\u001b[1;33m\u001b[0m\u001b[1;33m\u001b[0m\u001b[1;33m\u001b[0m\u001b[0m\n",
      "\u001b[1;32m~\\anaconda3\\envs\\ml_projects\\lib\\site-packages\\boruta\\boruta_py.py\u001b[0m in \u001b[0;36mfit\u001b[1;34m(self, X, y)\u001b[0m\n\u001b[0;32m    199\u001b[0m         \"\"\"\n\u001b[0;32m    200\u001b[0m \u001b[1;33m\u001b[0m\u001b[0m\n\u001b[1;32m--> 201\u001b[1;33m         \u001b[1;32mreturn\u001b[0m \u001b[0mself\u001b[0m\u001b[1;33m.\u001b[0m\u001b[0m_fit\u001b[0m\u001b[1;33m(\u001b[0m\u001b[0mX\u001b[0m\u001b[1;33m,\u001b[0m \u001b[0my\u001b[0m\u001b[1;33m)\u001b[0m\u001b[1;33m\u001b[0m\u001b[1;33m\u001b[0m\u001b[0m\n\u001b[0m\u001b[0;32m    202\u001b[0m \u001b[1;33m\u001b[0m\u001b[0m\n\u001b[0;32m    203\u001b[0m     \u001b[1;32mdef\u001b[0m \u001b[0mtransform\u001b[0m\u001b[1;33m(\u001b[0m\u001b[0mself\u001b[0m\u001b[1;33m,\u001b[0m \u001b[0mX\u001b[0m\u001b[1;33m,\u001b[0m \u001b[0mweak\u001b[0m\u001b[1;33m=\u001b[0m\u001b[1;32mFalse\u001b[0m\u001b[1;33m)\u001b[0m\u001b[1;33m:\u001b[0m\u001b[1;33m\u001b[0m\u001b[1;33m\u001b[0m\u001b[0m\n",
      "\u001b[1;32m~\\anaconda3\\envs\\ml_projects\\lib\\site-packages\\boruta\\boruta_py.py\u001b[0m in \u001b[0;36m_fit\u001b[1;34m(self, X, y)\u001b[0m\n\u001b[0;32m    276\u001b[0m                 \u001b[1;31m# number of features that aren't rejected\u001b[0m\u001b[1;33m\u001b[0m\u001b[1;33m\u001b[0m\u001b[1;33m\u001b[0m\u001b[0m\n\u001b[0;32m    277\u001b[0m                 \u001b[0mnot_rejected\u001b[0m \u001b[1;33m=\u001b[0m \u001b[0mnp\u001b[0m\u001b[1;33m.\u001b[0m\u001b[0mwhere\u001b[0m\u001b[1;33m(\u001b[0m\u001b[0mdec_reg\u001b[0m \u001b[1;33m>=\u001b[0m \u001b[1;36m0\u001b[0m\u001b[1;33m)\u001b[0m\u001b[1;33m[\u001b[0m\u001b[1;36m0\u001b[0m\u001b[1;33m]\u001b[0m\u001b[1;33m.\u001b[0m\u001b[0mshape\u001b[0m\u001b[1;33m[\u001b[0m\u001b[1;36m0\u001b[0m\u001b[1;33m]\u001b[0m\u001b[1;33m\u001b[0m\u001b[1;33m\u001b[0m\u001b[0m\n\u001b[1;32m--> 278\u001b[1;33m                 \u001b[0mn_tree\u001b[0m \u001b[1;33m=\u001b[0m \u001b[0mself\u001b[0m\u001b[1;33m.\u001b[0m\u001b[0m_get_tree_num\u001b[0m\u001b[1;33m(\u001b[0m\u001b[0mnot_rejected\u001b[0m\u001b[1;33m)\u001b[0m\u001b[1;33m\u001b[0m\u001b[1;33m\u001b[0m\u001b[0m\n\u001b[0m\u001b[0;32m    279\u001b[0m                 \u001b[0mself\u001b[0m\u001b[1;33m.\u001b[0m\u001b[0mestimator\u001b[0m\u001b[1;33m.\u001b[0m\u001b[0mset_params\u001b[0m\u001b[1;33m(\u001b[0m\u001b[0mn_estimators\u001b[0m\u001b[1;33m=\u001b[0m\u001b[0mn_tree\u001b[0m\u001b[1;33m)\u001b[0m\u001b[1;33m\u001b[0m\u001b[1;33m\u001b[0m\u001b[0m\n\u001b[0;32m    280\u001b[0m \u001b[1;33m\u001b[0m\u001b[0m\n",
      "\u001b[1;32m~\\anaconda3\\envs\\ml_projects\\lib\\site-packages\\boruta\\boruta_py.py\u001b[0m in \u001b[0;36m_get_tree_num\u001b[1;34m(self, n_feat)\u001b[0m\n\u001b[0;32m    370\u001b[0m \u001b[1;33m\u001b[0m\u001b[0m\n\u001b[0;32m    371\u001b[0m     \u001b[1;32mdef\u001b[0m \u001b[0m_get_tree_num\u001b[0m\u001b[1;33m(\u001b[0m\u001b[0mself\u001b[0m\u001b[1;33m,\u001b[0m \u001b[0mn_feat\u001b[0m\u001b[1;33m)\u001b[0m\u001b[1;33m:\u001b[0m\u001b[1;33m\u001b[0m\u001b[1;33m\u001b[0m\u001b[0m\n\u001b[1;32m--> 372\u001b[1;33m         \u001b[0mdepth\u001b[0m \u001b[1;33m=\u001b[0m \u001b[0mself\u001b[0m\u001b[1;33m.\u001b[0m\u001b[0mestimator\u001b[0m\u001b[1;33m.\u001b[0m\u001b[0mget_params\u001b[0m\u001b[1;33m(\u001b[0m\u001b[1;33m)\u001b[0m\u001b[1;33m[\u001b[0m\u001b[1;34m'max_depth'\u001b[0m\u001b[1;33m]\u001b[0m\u001b[1;33m\u001b[0m\u001b[1;33m\u001b[0m\u001b[0m\n\u001b[0m\u001b[0;32m    373\u001b[0m         \u001b[1;32mif\u001b[0m \u001b[0mdepth\u001b[0m \u001b[1;33m==\u001b[0m \u001b[1;32mNone\u001b[0m\u001b[1;33m:\u001b[0m\u001b[1;33m\u001b[0m\u001b[1;33m\u001b[0m\u001b[0m\n\u001b[0;32m    374\u001b[0m             \u001b[0mdepth\u001b[0m \u001b[1;33m=\u001b[0m \u001b[1;36m10\u001b[0m\u001b[1;33m\u001b[0m\u001b[1;33m\u001b[0m\u001b[0m\n",
      "\u001b[1;31mKeyError\u001b[0m: 'max_depth'"
     ]
    }
   ],
   "source": [
    "rfc = KNeighborsClassifier()\n",
    "boruta_selector = BorutaPy(rfc, n_estimators='auto', verbose=2, random_state=1)   # initialize the boruta selector\n",
    "boruta_selector.fit(np.array(X_train), np.array(y_train))       # fitting the boruta selector to get all relavent features. \n",
    "# NOTE: BorutaPy accepts numpy arrays only."
   ]
  },
  {
   "cell_type": "code",
   "execution_count": null,
   "metadata": {},
   "outputs": [],
   "source": []
  }
 ],
 "metadata": {
  "kernelspec": {
   "display_name": "Python 3",
   "language": "python",
   "name": "python3"
  },
  "language_info": {
   "codemirror_mode": {
    "name": "ipython",
    "version": 3
   },
   "file_extension": ".py",
   "mimetype": "text/x-python",
   "name": "python",
   "nbconvert_exporter": "python",
   "pygments_lexer": "ipython3",
   "version": "3.8.5"
  }
 },
 "nbformat": 4,
 "nbformat_minor": 4
}
