{
 "metadata": {
  "language_info": {
   "codemirror_mode": {
    "name": "ipython",
    "version": 3
   },
   "file_extension": ".py",
   "mimetype": "text/x-python",
   "name": "python",
   "nbconvert_exporter": "python",
   "pygments_lexer": "ipython3",
   "version": "3.8.5-final"
  },
  "orig_nbformat": 2,
  "kernelspec": {
   "name": "python3",
   "display_name": "Python 3",
   "language": "python"
  }
 },
 "nbformat": 4,
 "nbformat_minor": 2,
 "cells": [
  {
   "cell_type": "code",
   "execution_count": 4,
   "metadata": {},
   "outputs": [],
   "source": [
    "import pandas as pd\n",
    "import numpy as np\n",
    "import matplotlib.pyplot as plt\n",
    "import seaborn as sns\n",
    "from sklearn.model_selection import *\n",
    "from sklearn.metrics import *\n",
    "from sklearn.preprocessing import *\n",
    "from sklearn.linear_model import LinearRegression\n",
    "from sklearn.tree import DecisionTreeRegressor\n",
    "from sklearn.neighbors import KNeighborsRegressor\n",
    "from sklearn.svm import SVR\n",
    "from sklearn.ensemble import RandomForestRegressor\n",
    "from sklearn.ensemble import VotingRegressor\n",
    "#from xgboost import XGBRegressor"
   ]
  },
  {
   "source": [
    "### Loading Dataset"
   ],
   "cell_type": "markdown",
   "metadata": {}
  },
  {
   "cell_type": "code",
   "execution_count": 5,
   "metadata": {},
   "outputs": [],
   "source": [
    "auction_data = pd.read_csv(\"https://raw.githubusercontent.com/dphi-official/Datasets/master/auction_data/train_set_label.csv\" )\n",
    "test_data = pd.read_csv('https://raw.githubusercontent.com/dphi-official/Datasets/master/auction_data/test_set_label.csv')"
   ]
  },
  {
   "cell_type": "code",
   "execution_count": 6,
   "metadata": {},
   "outputs": [
    {
     "output_type": "execute_result",
     "data": {
      "text/plain": [
       "    auctionid     bid   bidtime             bidder  bidderrate  openbid  \\\n",
       "0  1644594033   493.0  6.999456       boraborabora          67     9.99   \n",
       "1  1639309309    30.0  1.669618             aclbjc           0     1.00   \n",
       "2  1644109746  3103.0  6.917986          nelsoncpm           7     1.00   \n",
       "3  1649858595   175.0  3.107014             pialu9           4     7.99   \n",
       "4  1647846714   226.0  2.721319  geemeetee@aol.com          17     1.00   \n",
       "\n",
       "     price  \n",
       "0   498.00  \n",
       "1   374.99  \n",
       "2  3103.00  \n",
       "3   202.50  \n",
       "4   905.45  "
      ],
      "text/html": "<div>\n<style scoped>\n    .dataframe tbody tr th:only-of-type {\n        vertical-align: middle;\n    }\n\n    .dataframe tbody tr th {\n        vertical-align: top;\n    }\n\n    .dataframe thead th {\n        text-align: right;\n    }\n</style>\n<table border=\"1\" class=\"dataframe\">\n  <thead>\n    <tr style=\"text-align: right;\">\n      <th></th>\n      <th>auctionid</th>\n      <th>bid</th>\n      <th>bidtime</th>\n      <th>bidder</th>\n      <th>bidderrate</th>\n      <th>openbid</th>\n      <th>price</th>\n    </tr>\n  </thead>\n  <tbody>\n    <tr>\n      <th>0</th>\n      <td>1644594033</td>\n      <td>493.0</td>\n      <td>6.999456</td>\n      <td>boraborabora</td>\n      <td>67</td>\n      <td>9.99</td>\n      <td>498.00</td>\n    </tr>\n    <tr>\n      <th>1</th>\n      <td>1639309309</td>\n      <td>30.0</td>\n      <td>1.669618</td>\n      <td>aclbjc</td>\n      <td>0</td>\n      <td>1.00</td>\n      <td>374.99</td>\n    </tr>\n    <tr>\n      <th>2</th>\n      <td>1644109746</td>\n      <td>3103.0</td>\n      <td>6.917986</td>\n      <td>nelsoncpm</td>\n      <td>7</td>\n      <td>1.00</td>\n      <td>3103.00</td>\n    </tr>\n    <tr>\n      <th>3</th>\n      <td>1649858595</td>\n      <td>175.0</td>\n      <td>3.107014</td>\n      <td>pialu9</td>\n      <td>4</td>\n      <td>7.99</td>\n      <td>202.50</td>\n    </tr>\n    <tr>\n      <th>4</th>\n      <td>1647846714</td>\n      <td>226.0</td>\n      <td>2.721319</td>\n      <td>geemeetee@aol.com</td>\n      <td>17</td>\n      <td>1.00</td>\n      <td>905.45</td>\n    </tr>\n  </tbody>\n</table>\n</div>"
     },
     "metadata": {},
     "execution_count": 6
    }
   ],
   "source": [
    "auction_data.head()"
   ]
  },
  {
   "cell_type": "code",
   "execution_count": 7,
   "metadata": {},
   "outputs": [
    {
     "output_type": "execute_result",
     "data": {
      "text/plain": [
       "          auctionid          bid      bidtime   bidderrate      openbid  \\\n",
       "count  1.213000e+03  1213.000000  1213.000000  1213.000000  1213.000000   \n",
       "mean   1.644577e+09   647.652539     4.078951    31.807914   159.142852   \n",
       "std    3.566101e+06   701.003386     2.505148    79.112571   388.456626   \n",
       "min    1.638844e+09     1.000000     0.007535    -4.000000     0.010000   \n",
       "25%    1.641784e+09   161.000000     1.578866     1.000000     1.000000   \n",
       "50%    1.644139e+09   400.000000     4.302025     5.000000     7.990000   \n",
       "75%    1.647847e+09   895.000000     6.777083    30.000000   175.000000   \n",
       "max    1.650986e+09  5400.000000     6.999965  1303.000000  5000.000000   \n",
       "\n",
       "             price  \n",
       "count  1213.000000  \n",
       "mean   1010.246076  \n",
       "std     832.676139  \n",
       "min     103.500000  \n",
       "25%     374.990000  \n",
       "50%     680.000000  \n",
       "75%    1600.000000  \n",
       "max    5400.000000  "
      ],
      "text/html": "<div>\n<style scoped>\n    .dataframe tbody tr th:only-of-type {\n        vertical-align: middle;\n    }\n\n    .dataframe tbody tr th {\n        vertical-align: top;\n    }\n\n    .dataframe thead th {\n        text-align: right;\n    }\n</style>\n<table border=\"1\" class=\"dataframe\">\n  <thead>\n    <tr style=\"text-align: right;\">\n      <th></th>\n      <th>auctionid</th>\n      <th>bid</th>\n      <th>bidtime</th>\n      <th>bidderrate</th>\n      <th>openbid</th>\n      <th>price</th>\n    </tr>\n  </thead>\n  <tbody>\n    <tr>\n      <th>count</th>\n      <td>1.213000e+03</td>\n      <td>1213.000000</td>\n      <td>1213.000000</td>\n      <td>1213.000000</td>\n      <td>1213.000000</td>\n      <td>1213.000000</td>\n    </tr>\n    <tr>\n      <th>mean</th>\n      <td>1.644577e+09</td>\n      <td>647.652539</td>\n      <td>4.078951</td>\n      <td>31.807914</td>\n      <td>159.142852</td>\n      <td>1010.246076</td>\n    </tr>\n    <tr>\n      <th>std</th>\n      <td>3.566101e+06</td>\n      <td>701.003386</td>\n      <td>2.505148</td>\n      <td>79.112571</td>\n      <td>388.456626</td>\n      <td>832.676139</td>\n    </tr>\n    <tr>\n      <th>min</th>\n      <td>1.638844e+09</td>\n      <td>1.000000</td>\n      <td>0.007535</td>\n      <td>-4.000000</td>\n      <td>0.010000</td>\n      <td>103.500000</td>\n    </tr>\n    <tr>\n      <th>25%</th>\n      <td>1.641784e+09</td>\n      <td>161.000000</td>\n      <td>1.578866</td>\n      <td>1.000000</td>\n      <td>1.000000</td>\n      <td>374.990000</td>\n    </tr>\n    <tr>\n      <th>50%</th>\n      <td>1.644139e+09</td>\n      <td>400.000000</td>\n      <td>4.302025</td>\n      <td>5.000000</td>\n      <td>7.990000</td>\n      <td>680.000000</td>\n    </tr>\n    <tr>\n      <th>75%</th>\n      <td>1.647847e+09</td>\n      <td>895.000000</td>\n      <td>6.777083</td>\n      <td>30.000000</td>\n      <td>175.000000</td>\n      <td>1600.000000</td>\n    </tr>\n    <tr>\n      <th>max</th>\n      <td>1.650986e+09</td>\n      <td>5400.000000</td>\n      <td>6.999965</td>\n      <td>1303.000000</td>\n      <td>5000.000000</td>\n      <td>5400.000000</td>\n    </tr>\n  </tbody>\n</table>\n</div>"
     },
     "metadata": {},
     "execution_count": 7
    }
   ],
   "source": [
    "auction_data.describe()"
   ]
  },
  {
   "cell_type": "code",
   "execution_count": 8,
   "metadata": {},
   "outputs": [
    {
     "output_type": "stream",
     "name": "stdout",
     "text": [
      "<class 'pandas.core.frame.DataFrame'>\nRangeIndex: 1213 entries, 0 to 1212\nData columns (total 7 columns):\n #   Column      Non-Null Count  Dtype  \n---  ------      --------------  -----  \n 0   auctionid   1213 non-null   int64  \n 1   bid         1213 non-null   float64\n 2   bidtime     1213 non-null   float64\n 3   bidder      1213 non-null   object \n 4   bidderrate  1213 non-null   int64  \n 5   openbid     1213 non-null   float64\n 6   price       1213 non-null   float64\ndtypes: float64(4), int64(2), object(1)\nmemory usage: 66.5+ KB\n"
     ]
    }
   ],
   "source": [
    "auction_data.info()"
   ]
  },
  {
   "source": [
    "# Building Models"
   ],
   "cell_type": "markdown",
   "metadata": {}
  },
  {
   "cell_type": "code",
   "execution_count": 9,
   "metadata": {},
   "outputs": [],
   "source": [
    "features = ['bid','bidtime','bidderrate','openbid','auctionid']\n",
    "X = auction_data[features]\n",
    "y = auction_data['price']"
   ]
  },
  {
   "cell_type": "code",
   "execution_count": 10,
   "metadata": {},
   "outputs": [],
   "source": [
    "X_train, X_test, y_train, y_test = train_test_split(X,y,test_size=0.27,random_state=9)"
   ]
  },
  {
   "cell_type": "code",
   "execution_count": 11,
   "metadata": {},
   "outputs": [],
   "source": [
    "models = {'LR' : LinearRegression(),\n",
    "'DT' : DecisionTreeRegressor(),\n",
    "'KNN': KNeighborsRegressor(),\n",
    "'SVR': SVR(),\n",
    "'RF' : RandomForestRegressor()}"
   ]
  },
  {
   "cell_type": "code",
   "execution_count": 13,
   "metadata": {},
   "outputs": [],
   "source": [
    "def models_perfomance(X_train,X_test,y_train,y_test):\n",
    "    results = {}\n",
    "    for name, model in models.items():\n",
    "        model.fit(X_train,y_train)\n",
    "        rmse = mean_squared_error(y_test,model.predict(X_test), squared= False)\n",
    "        results[name] = rmse\n",
    "    \n",
    "    return results"
   ]
  },
  {
   "cell_type": "code",
   "execution_count": 14,
   "metadata": {},
   "outputs": [
    {
     "output_type": "execute_result",
     "data": {
      "text/plain": [
       "{'LR': 394.965939700408,\n",
       " 'DT': 359.4755182482071,\n",
       " 'KNN': 124.87796929949596,\n",
       " 'SVR': 861.0176013627166,\n",
       " 'RF': 297.54777710435997}"
      ]
     },
     "metadata": {},
     "execution_count": 14
    }
   ],
   "source": [
    "models_perfomance(X_train,X_test,y_train,y_test)"
   ]
  },
  {
   "cell_type": "code",
   "execution_count": 15,
   "metadata": {},
   "outputs": [
    {
     "output_type": "execute_result",
     "data": {
      "text/plain": [
       "287.027938144053"
      ]
     },
     "metadata": {},
     "execution_count": 15
    }
   ],
   "source": [
    "my_model = RandomForestRegressor(n_estimators=400)\n",
    "my_model.fit(X_train,y_train)\n",
    "mean_squared_error(y_test,my_model.predict(X_test), squared= False)"
   ]
  },
  {
   "cell_type": "code",
   "execution_count": 20,
   "metadata": {},
   "outputs": [
    {
     "output_type": "execute_result",
     "data": {
      "text/plain": [
       "56.65137287639628"
      ]
     },
     "metadata": {},
     "execution_count": 20
    }
   ],
   "source": [
    "my_model3 = KNeighborsRegressor(n_neighbors=1)\n",
    "my_model3.fit(X_train,y_train)\n",
    "mean_squared_error(y_test,my_model3.predict(X_test), squared= False)"
   ]
  },
  {
   "source": [
    "# Predicting the Test Dataset"
   ],
   "cell_type": "markdown",
   "metadata": {}
  },
  {
   "cell_type": "code",
   "execution_count": 22,
   "metadata": {},
   "outputs": [
    {
     "output_type": "execute_result",
     "data": {
      "text/plain": [
       "    auctionid     bid   bidtime          bidder  bidderrate  openbid\n",
       "0  1640550476  175.00  4.329410   simonho2001sg           8      1.0\n",
       "1  1644343468  111.11  0.587164  tab999@msn.com          84      1.0\n",
       "2  1639979107  103.50  6.999572       inyerdrms           2      5.0\n",
       "3  1649718196  620.00  2.750775         kjr2306          24      1.0\n",
       "4  1644077820   60.00  1.393611       chevysred          -1      1.0"
      ],
      "text/html": "<div>\n<style scoped>\n    .dataframe tbody tr th:only-of-type {\n        vertical-align: middle;\n    }\n\n    .dataframe tbody tr th {\n        vertical-align: top;\n    }\n\n    .dataframe thead th {\n        text-align: right;\n    }\n</style>\n<table border=\"1\" class=\"dataframe\">\n  <thead>\n    <tr style=\"text-align: right;\">\n      <th></th>\n      <th>auctionid</th>\n      <th>bid</th>\n      <th>bidtime</th>\n      <th>bidder</th>\n      <th>bidderrate</th>\n      <th>openbid</th>\n    </tr>\n  </thead>\n  <tbody>\n    <tr>\n      <th>0</th>\n      <td>1640550476</td>\n      <td>175.00</td>\n      <td>4.329410</td>\n      <td>simonho2001sg</td>\n      <td>8</td>\n      <td>1.0</td>\n    </tr>\n    <tr>\n      <th>1</th>\n      <td>1644343468</td>\n      <td>111.11</td>\n      <td>0.587164</td>\n      <td>tab999@msn.com</td>\n      <td>84</td>\n      <td>1.0</td>\n    </tr>\n    <tr>\n      <th>2</th>\n      <td>1639979107</td>\n      <td>103.50</td>\n      <td>6.999572</td>\n      <td>inyerdrms</td>\n      <td>2</td>\n      <td>5.0</td>\n    </tr>\n    <tr>\n      <th>3</th>\n      <td>1649718196</td>\n      <td>620.00</td>\n      <td>2.750775</td>\n      <td>kjr2306</td>\n      <td>24</td>\n      <td>1.0</td>\n    </tr>\n    <tr>\n      <th>4</th>\n      <td>1644077820</td>\n      <td>60.00</td>\n      <td>1.393611</td>\n      <td>chevysred</td>\n      <td>-1</td>\n      <td>1.0</td>\n    </tr>\n  </tbody>\n</table>\n</div>"
     },
     "metadata": {},
     "execution_count": 22
    }
   ],
   "source": [
    "test_data.head()"
   ]
  },
  {
   "cell_type": "code",
   "execution_count": 23,
   "metadata": {},
   "outputs": [],
   "source": [
    "test_data = test_data[features]"
   ]
  },
  {
   "cell_type": "code",
   "execution_count": 24,
   "metadata": {},
   "outputs": [],
   "source": [
    "target = my_model3.predict(test_data)"
   ]
  },
  {
   "cell_type": "code",
   "execution_count": 25,
   "metadata": {},
   "outputs": [],
   "source": [
    "res = pd.DataFrame(target) #target is nothing but the final predictions of your model on input features of your new unseen test data\n",
    "res.index = test_data.index # its important for comparison. Here \"test_new\" is your new test dataset\n",
    "res.columns = [\"prediction\"]\n",
    "res.to_csv(\"submission.csv\",index=False) # the csv file will be saved locally on the same location where this notebook is located."
   ]
  },
  {
   "cell_type": "code",
   "execution_count": null,
   "metadata": {},
   "outputs": [],
   "source": []
  }
 ]
}