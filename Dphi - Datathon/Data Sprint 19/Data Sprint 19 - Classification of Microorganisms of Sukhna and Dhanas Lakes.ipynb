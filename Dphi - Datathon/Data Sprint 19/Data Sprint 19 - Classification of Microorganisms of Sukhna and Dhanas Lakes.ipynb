{
 "cells": [
  {
   "cell_type": "code",
   "execution_count": 1,
   "metadata": {},
   "outputs": [],
   "source": [
    "# libraries for numerical\n",
    "import pandas as pd  \n",
    "import numpy as np\n",
    "\n",
    "# libraries for visualization\n",
    "import matplotlib.pyplot as plt  \n",
    "import seaborn as sns\n",
    "\n",
    "# libraries for machine learning\n",
    "from sklearn.model_selection import train_test_split \n",
    "from sklearn.tree import DecisionTreeClassifier\n",
    "from sklearn.metrics import mean_squared_error, r2_score\n",
    "from sklearn import metrics\n",
    "\n",
    "# to plot the diagrams within the cells\n",
    "%matplotlib inline"
   ]
  },
  {
   "cell_type": "code",
   "execution_count": 2,
   "metadata": {},
   "outputs": [
    {
     "data": {
      "text/html": [
       "<div>\n",
       "<style scoped>\n",
       "    .dataframe tbody tr th:only-of-type {\n",
       "        vertical-align: middle;\n",
       "    }\n",
       "\n",
       "    .dataframe tbody tr th {\n",
       "        vertical-align: top;\n",
       "    }\n",
       "\n",
       "    .dataframe thead th {\n",
       "        text-align: right;\n",
       "    }\n",
       "</style>\n",
       "<table border=\"1\" class=\"dataframe\">\n",
       "  <thead>\n",
       "    <tr style=\"text-align: right;\">\n",
       "      <th></th>\n",
       "      <th>Solidity</th>\n",
       "      <th>Eccentricity</th>\n",
       "      <th>EquivDiameter</th>\n",
       "      <th>Extrema</th>\n",
       "      <th>FilledArea</th>\n",
       "      <th>Extent</th>\n",
       "      <th>Orientation</th>\n",
       "      <th>EulerNumber</th>\n",
       "      <th>BoundingBox1</th>\n",
       "      <th>BoundingBox2</th>\n",
       "      <th>...</th>\n",
       "      <th>ConvexHull3</th>\n",
       "      <th>ConvexHull4</th>\n",
       "      <th>MajorAxisLength</th>\n",
       "      <th>MinorAxisLength</th>\n",
       "      <th>Perimeter</th>\n",
       "      <th>ConvexArea</th>\n",
       "      <th>Centroid1</th>\n",
       "      <th>Centroid2</th>\n",
       "      <th>Area</th>\n",
       "      <th>microorganism</th>\n",
       "    </tr>\n",
       "  </thead>\n",
       "  <tbody>\n",
       "    <tr>\n",
       "      <th>0</th>\n",
       "      <td>0.711636</td>\n",
       "      <td>0.673498</td>\n",
       "      <td>0.109069</td>\n",
       "      <td>0.870544</td>\n",
       "      <td>0.010808</td>\n",
       "      <td>0.660599</td>\n",
       "      <td>0.094353</td>\n",
       "      <td>0.987915</td>\n",
       "      <td>0.870476</td>\n",
       "      <td>0.447276</td>\n",
       "      <td>...</td>\n",
       "      <td>0.877460</td>\n",
       "      <td>0.871746</td>\n",
       "      <td>0.025669</td>\n",
       "      <td>0.028256</td>\n",
       "      <td>0.010776</td>\n",
       "      <td>0.001776</td>\n",
       "      <td>0.878873</td>\n",
       "      <td>0.453973</td>\n",
       "      <td>0.020195</td>\n",
       "      <td>1</td>\n",
       "    </tr>\n",
       "    <tr>\n",
       "      <th>1</th>\n",
       "      <td>0.184271</td>\n",
       "      <td>0.865533</td>\n",
       "      <td>0.181675</td>\n",
       "      <td>0.306442</td>\n",
       "      <td>0.021235</td>\n",
       "      <td>0.183804</td>\n",
       "      <td>0.484926</td>\n",
       "      <td>0.974488</td>\n",
       "      <td>0.284444</td>\n",
       "      <td>0.345343</td>\n",
       "      <td>...</td>\n",
       "      <td>0.295238</td>\n",
       "      <td>0.290794</td>\n",
       "      <td>0.128062</td>\n",
       "      <td>0.077815</td>\n",
       "      <td>0.044747</td>\n",
       "      <td>0.016309</td>\n",
       "      <td>0.325508</td>\n",
       "      <td>0.360384</td>\n",
       "      <td>0.045702</td>\n",
       "      <td>2</td>\n",
       "    </tr>\n",
       "    <tr>\n",
       "      <th>2</th>\n",
       "      <td>0.431175</td>\n",
       "      <td>0.679469</td>\n",
       "      <td>0.172644</td>\n",
       "      <td>0.750469</td>\n",
       "      <td>0.020929</td>\n",
       "      <td>0.380940</td>\n",
       "      <td>0.891717</td>\n",
       "      <td>0.946626</td>\n",
       "      <td>0.707302</td>\n",
       "      <td>0.227592</td>\n",
       "      <td>...</td>\n",
       "      <td>0.729524</td>\n",
       "      <td>0.723810</td>\n",
       "      <td>0.065495</td>\n",
       "      <td>0.062696</td>\n",
       "      <td>0.049242</td>\n",
       "      <td>0.006400</td>\n",
       "      <td>0.739531</td>\n",
       "      <td>0.255860</td>\n",
       "      <td>0.042004</td>\n",
       "      <td>2</td>\n",
       "    </tr>\n",
       "    <tr>\n",
       "      <th>3</th>\n",
       "      <td>0.712849</td>\n",
       "      <td>0.991839</td>\n",
       "      <td>0.240241</td>\n",
       "      <td>0.271420</td>\n",
       "      <td>0.036976</td>\n",
       "      <td>0.700643</td>\n",
       "      <td>0.016835</td>\n",
       "      <td>0.975159</td>\n",
       "      <td>0.268571</td>\n",
       "      <td>0.468366</td>\n",
       "      <td>...</td>\n",
       "      <td>0.269841</td>\n",
       "      <td>0.268571</td>\n",
       "      <td>0.146561</td>\n",
       "      <td>0.020286</td>\n",
       "      <td>0.035455</td>\n",
       "      <td>0.006678</td>\n",
       "      <td>0.267614</td>\n",
       "      <td>0.568813</td>\n",
       "      <td>0.073303</td>\n",
       "      <td>4</td>\n",
       "    </tr>\n",
       "    <tr>\n",
       "      <th>4</th>\n",
       "      <td>0.338077</td>\n",
       "      <td>0.996782</td>\n",
       "      <td>0.123578</td>\n",
       "      <td>0.045654</td>\n",
       "      <td>0.011389</td>\n",
       "      <td>0.088682</td>\n",
       "      <td>0.219150</td>\n",
       "      <td>0.982544</td>\n",
       "      <td>0.041905</td>\n",
       "      <td>0.630931</td>\n",
       "      <td>...</td>\n",
       "      <td>0.041905</td>\n",
       "      <td>0.041905</td>\n",
       "      <td>0.134704</td>\n",
       "      <td>0.011038</td>\n",
       "      <td>0.034491</td>\n",
       "      <td>0.004833</td>\n",
       "      <td>0.071762</td>\n",
       "      <td>0.699979</td>\n",
       "      <td>0.024521</td>\n",
       "      <td>2</td>\n",
       "    </tr>\n",
       "  </tbody>\n",
       "</table>\n",
       "<p>5 rows × 24 columns</p>\n",
       "</div>"
      ],
      "text/plain": [
       "   Solidity  Eccentricity  EquivDiameter   Extrema  FilledArea    Extent  \\\n",
       "0  0.711636      0.673498       0.109069  0.870544    0.010808  0.660599   \n",
       "1  0.184271      0.865533       0.181675  0.306442    0.021235  0.183804   \n",
       "2  0.431175      0.679469       0.172644  0.750469    0.020929  0.380940   \n",
       "3  0.712849      0.991839       0.240241  0.271420    0.036976  0.700643   \n",
       "4  0.338077      0.996782       0.123578  0.045654    0.011389  0.088682   \n",
       "\n",
       "   Orientation  EulerNumber  BoundingBox1  BoundingBox2  ...  ConvexHull3  \\\n",
       "0     0.094353     0.987915      0.870476      0.447276  ...     0.877460   \n",
       "1     0.484926     0.974488      0.284444      0.345343  ...     0.295238   \n",
       "2     0.891717     0.946626      0.707302      0.227592  ...     0.729524   \n",
       "3     0.016835     0.975159      0.268571      0.468366  ...     0.269841   \n",
       "4     0.219150     0.982544      0.041905      0.630931  ...     0.041905   \n",
       "\n",
       "   ConvexHull4  MajorAxisLength  MinorAxisLength  Perimeter  ConvexArea  \\\n",
       "0     0.871746         0.025669         0.028256   0.010776    0.001776   \n",
       "1     0.290794         0.128062         0.077815   0.044747    0.016309   \n",
       "2     0.723810         0.065495         0.062696   0.049242    0.006400   \n",
       "3     0.268571         0.146561         0.020286   0.035455    0.006678   \n",
       "4     0.041905         0.134704         0.011038   0.034491    0.004833   \n",
       "\n",
       "   Centroid1  Centroid2      Area  microorganism  \n",
       "0   0.878873   0.453973  0.020195              1  \n",
       "1   0.325508   0.360384  0.045702              2  \n",
       "2   0.739531   0.255860  0.042004              2  \n",
       "3   0.267614   0.568813  0.073303              4  \n",
       "4   0.071762   0.699979  0.024521              2  \n",
       "\n",
       "[5 rows x 24 columns]"
      ]
     },
     "execution_count": 2,
     "metadata": {},
     "output_type": "execute_result"
    }
   ],
   "source": [
    "data = pd.read_csv(\"https://raw.githubusercontent.com/dphi-official/Datasets/master/sukhna_dhanas/train_set_label.csv\" )\n",
    "data.head()"
   ]
  },
  {
   "cell_type": "code",
   "execution_count": 3,
   "metadata": {},
   "outputs": [
    {
     "data": {
      "text/plain": [
       "Solidity           0\n",
       "Eccentricity       0\n",
       "EquivDiameter      0\n",
       "Extrema            0\n",
       "FilledArea         0\n",
       "Extent             0\n",
       "Orientation        0\n",
       "EulerNumber        0\n",
       "BoundingBox1       0\n",
       "BoundingBox2       0\n",
       "BoundingBox3       0\n",
       "BoundingBox4       0\n",
       "ConvexHull1        0\n",
       "ConvexHull2        0\n",
       "ConvexHull3        0\n",
       "ConvexHull4        0\n",
       "MajorAxisLength    0\n",
       "MinorAxisLength    0\n",
       "Perimeter          0\n",
       "ConvexArea         0\n",
       "Centroid1          0\n",
       "Centroid2          0\n",
       "Area               0\n",
       "microorganism      0\n",
       "dtype: int64"
      ]
     },
     "execution_count": 3,
     "metadata": {},
     "output_type": "execute_result"
    }
   ],
   "source": [
    "data.isnull().sum()"
   ]
  },
  {
   "cell_type": "code",
   "execution_count": 4,
   "metadata": {},
   "outputs": [],
   "source": [
    "X = data.drop('microorganism', axis=1)\n",
    "y = data['microorganism']"
   ]
  },
  {
   "cell_type": "code",
   "execution_count": 5,
   "metadata": {},
   "outputs": [],
   "source": [
    "X_train, X_test, y_train, y_test = train_test_split(X, y, test_size=0.2, random_state=42)"
   ]
  },
  {
   "cell_type": "code",
   "execution_count": 9,
   "metadata": {},
   "outputs": [],
   "source": [
    "from sklearn.ensemble import RandomForestClassifier\n",
    "model = RandomForestClassifier(criterion='gini', n_estimators=27)\n",
    "model.fit(X_train, y_train)\n",
    "prediction = model.predict(X_test)"
   ]
  },
  {
   "cell_type": "code",
   "execution_count": 10,
   "metadata": {},
   "outputs": [
    {
     "data": {
      "text/plain": [
       "0.9916817359855334"
      ]
     },
     "execution_count": 10,
     "metadata": {},
     "output_type": "execute_result"
    }
   ],
   "source": [
    "model.score(X_test, y_test)"
   ]
  },
  {
   "cell_type": "code",
   "execution_count": 11,
   "metadata": {},
   "outputs": [
    {
     "name": "stdout",
     "output_type": "stream",
     "text": [
      "[[661   4   7   1]\n",
      " [  0 719   1   0]\n",
      " [  7   3 673   0]\n",
      " [  0   0   0 689]]\n",
      "0.9916817359855334\n",
      "              precision    recall  f1-score   support\n",
      "\n",
      "           1       0.99      0.98      0.99       673\n",
      "           2       0.99      1.00      0.99       720\n",
      "           3       0.99      0.99      0.99       683\n",
      "           4       1.00      1.00      1.00       689\n",
      "\n",
      "    accuracy                           0.99      2765\n",
      "   macro avg       0.99      0.99      0.99      2765\n",
      "weighted avg       0.99      0.99      0.99      2765\n",
      "\n"
     ]
    }
   ],
   "source": [
    "from sklearn.metrics import confusion_matrix,classification_report,accuracy_score\n",
    "print(confusion_matrix(y_test,prediction))\n",
    "print(accuracy_score(y_test,prediction))\n",
    "print(classification_report(y_test,prediction))"
   ]
  },
  {
   "cell_type": "code",
   "execution_count": 12,
   "metadata": {},
   "outputs": [
    {
     "name": "stdout",
     "output_type": "stream",
     "text": [
      "[[629  20  23   1]\n",
      " [  0 719   1   0]\n",
      " [  9  15 658   1]\n",
      " [  0   1   0 688]]\n",
      "0.9743218806509946\n",
      "              precision    recall  f1-score   support\n",
      "\n",
      "           1       0.99      0.93      0.96       673\n",
      "           2       0.95      1.00      0.97       720\n",
      "           3       0.96      0.96      0.96       683\n",
      "           4       1.00      1.00      1.00       689\n",
      "\n",
      "    accuracy                           0.97      2765\n",
      "   macro avg       0.98      0.97      0.97      2765\n",
      "weighted avg       0.97      0.97      0.97      2765\n",
      "\n"
     ]
    }
   ],
   "source": [
    "### Manual Hyperparameter Tuning\n",
    "model=RandomForestClassifier(n_estimators=300,criterion='entropy',\n",
    "                             max_features='sqrt',min_samples_leaf=10,random_state=100).fit(X_train,y_train)\n",
    "predictions=model.predict(X_test)\n",
    "print(confusion_matrix(y_test,predictions))\n",
    "print(accuracy_score(y_test,predictions))\n",
    "print(classification_report(y_test,predictions))"
   ]
  },
  {
   "cell_type": "markdown",
   "metadata": {},
   "source": [
    "### Randomized Search CV"
   ]
  },
  {
   "cell_type": "code",
   "execution_count": 13,
   "metadata": {},
   "outputs": [
    {
     "name": "stdout",
     "output_type": "stream",
     "text": [
      "{'n_estimators': [200, 400, 600, 800, 1000, 1200, 1400, 1600, 1800, 2000], 'max_features': ['auto', 'sqrt', 'log2'], 'max_depth': [10, 120, 230, 340, 450, 560, 670, 780, 890, 1000], 'min_samples_split': [2, 5, 10, 14], 'min_samples_leaf': [1, 2, 4, 6, 8], 'criterion': ['entropy', 'gini']}\n"
     ]
    }
   ],
   "source": [
    "import numpy as np\n",
    "from sklearn.model_selection import RandomizedSearchCV\n",
    "# Number of trees in random forest\n",
    "n_estimators = [int(x) for x in np.linspace(start = 200, stop = 2000, num = 10)]\n",
    "# Number of features to consider at every split\n",
    "max_features = ['auto', 'sqrt','log2']\n",
    "# Maximum number of levels in tree\n",
    "max_depth = [int(x) for x in np.linspace(10, 1000,10)]\n",
    "# Minimum number of samples required to split a node\n",
    "min_samples_split = [2, 5, 10,14]\n",
    "# Minimum number of samples required at each leaf node\n",
    "min_samples_leaf = [1, 2, 4,6,8]\n",
    "# Create the random grid\n",
    "random_grid = {'n_estimators': n_estimators,\n",
    "               'max_features': max_features,\n",
    "               'max_depth': max_depth,\n",
    "               'min_samples_split': min_samples_split,\n",
    "               'min_samples_leaf': min_samples_leaf,\n",
    "              'criterion':['entropy','gini']}\n",
    "print(random_grid)"
   ]
  },
  {
   "cell_type": "code",
   "execution_count": 14,
   "metadata": {},
   "outputs": [
    {
     "name": "stdout",
     "output_type": "stream",
     "text": [
      "Fitting 3 folds for each of 100 candidates, totalling 300 fits\n"
     ]
    },
    {
     "name": "stderr",
     "output_type": "stream",
     "text": [
      "[Parallel(n_jobs=-1)]: Using backend LokyBackend with 4 concurrent workers.\n",
      "[Parallel(n_jobs=-1)]: Done  33 tasks      | elapsed:  8.0min\n",
      "[Parallel(n_jobs=-1)]: Done 154 tasks      | elapsed: 36.1min\n",
      "[Parallel(n_jobs=-1)]: Done 300 out of 300 | elapsed: 67.7min finished\n"
     ]
    },
    {
     "data": {
      "text/plain": [
       "RandomizedSearchCV(cv=3, estimator=RandomForestClassifier(), n_iter=100,\n",
       "                   n_jobs=-1,\n",
       "                   param_distributions={'criterion': ['entropy', 'gini'],\n",
       "                                        'max_depth': [10, 120, 230, 340, 450,\n",
       "                                                      560, 670, 780, 890,\n",
       "                                                      1000],\n",
       "                                        'max_features': ['auto', 'sqrt',\n",
       "                                                         'log2'],\n",
       "                                        'min_samples_leaf': [1, 2, 4, 6, 8],\n",
       "                                        'min_samples_split': [2, 5, 10, 14],\n",
       "                                        'n_estimators': [200, 400, 600, 800,\n",
       "                                                         1000, 1200, 1400, 1600,\n",
       "                                                         1800, 2000]},\n",
       "                   random_state=100, verbose=2)"
      ]
     },
     "execution_count": 14,
     "metadata": {},
     "output_type": "execute_result"
    }
   ],
   "source": [
    "rf=RandomForestClassifier()\n",
    "rf_randomcv=RandomizedSearchCV(estimator=rf,param_distributions=random_grid,n_iter=100,cv=3,verbose=2,\n",
    "                               random_state=100,n_jobs=-1)\n",
    "### fit the randomized model\n",
    "rf_randomcv.fit(X_train,y_train)"
   ]
  },
  {
   "cell_type": "code",
   "execution_count": 15,
   "metadata": {},
   "outputs": [
    {
     "data": {
      "text/plain": [
       "{'n_estimators': 600,\n",
       " 'min_samples_split': 2,\n",
       " 'min_samples_leaf': 1,\n",
       " 'max_features': 'sqrt',\n",
       " 'max_depth': 120,\n",
       " 'criterion': 'entropy'}"
      ]
     },
     "execution_count": 15,
     "metadata": {},
     "output_type": "execute_result"
    }
   ],
   "source": [
    " rf_randomcv.best_params_"
   ]
  },
  {
   "cell_type": "code",
   "execution_count": 16,
   "metadata": {},
   "outputs": [
    {
     "data": {
      "text/plain": [
       "RandomizedSearchCV(cv=3, estimator=RandomForestClassifier(), n_iter=100,\n",
       "                   n_jobs=-1,\n",
       "                   param_distributions={'criterion': ['entropy', 'gini'],\n",
       "                                        'max_depth': [10, 120, 230, 340, 450,\n",
       "                                                      560, 670, 780, 890,\n",
       "                                                      1000],\n",
       "                                        'max_features': ['auto', 'sqrt',\n",
       "                                                         'log2'],\n",
       "                                        'min_samples_leaf': [1, 2, 4, 6, 8],\n",
       "                                        'min_samples_split': [2, 5, 10, 14],\n",
       "                                        'n_estimators': [200, 400, 600, 800,\n",
       "                                                         1000, 1200, 1400, 1600,\n",
       "                                                         1800, 2000]},\n",
       "                   random_state=100, verbose=2)"
      ]
     },
     "execution_count": 16,
     "metadata": {},
     "output_type": "execute_result"
    }
   ],
   "source": [
    "rf_randomcv"
   ]
  },
  {
   "cell_type": "code",
   "execution_count": 17,
   "metadata": {},
   "outputs": [],
   "source": [
    "best_random_grid=rf_randomcv.best_estimator_"
   ]
  },
  {
   "cell_type": "code",
   "execution_count": 26,
   "metadata": {},
   "outputs": [
    {
     "data": {
      "text/plain": [
       "RandomForestClassifier(criterion='entropy', max_depth=120, max_features='sqrt',\n",
       "                       n_estimators=600)"
      ]
     },
     "execution_count": 26,
     "metadata": {},
     "output_type": "execute_result"
    }
   ],
   "source": [
    "best_random_grid"
   ]
  },
  {
   "cell_type": "code",
   "execution_count": 18,
   "metadata": {},
   "outputs": [
    {
     "name": "stdout",
     "output_type": "stream",
     "text": [
      "[[662   3   7   1]\n",
      " [  0 719   1   0]\n",
      " [  5   3 675   0]\n",
      " [  0   0   0 689]]\n",
      "Accuracy Score 0.9927667269439421\n",
      "Classification report:               precision    recall  f1-score   support\n",
      "\n",
      "           1       0.99      0.98      0.99       673\n",
      "           2       0.99      1.00      1.00       720\n",
      "           3       0.99      0.99      0.99       683\n",
      "           4       1.00      1.00      1.00       689\n",
      "\n",
      "    accuracy                           0.99      2765\n",
      "   macro avg       0.99      0.99      0.99      2765\n",
      "weighted avg       0.99      0.99      0.99      2765\n",
      "\n"
     ]
    }
   ],
   "source": [
    "from sklearn.metrics import accuracy_score\n",
    "y_pred=best_random_grid.predict(X_test)\n",
    "print(confusion_matrix(y_test,y_pred))\n",
    "print(\"Accuracy Score {}\".format(accuracy_score(y_test,y_pred)))\n",
    "print(\"Classification report: {}\".format(classification_report(y_test,y_pred)))"
   ]
  },
  {
   "cell_type": "code",
   "execution_count": 21,
   "metadata": {},
   "outputs": [
    {
     "data": {
      "text/plain": [
       "0.9927667269439421"
      ]
     },
     "execution_count": 21,
     "metadata": {},
     "output_type": "execute_result"
    }
   ],
   "source": [
    "best_random_grid.score(X_test, y_test)"
   ]
  },
  {
   "cell_type": "code",
   "execution_count": 22,
   "metadata": {},
   "outputs": [
    {
     "data": {
      "text/html": [
       "<div>\n",
       "<style scoped>\n",
       "    .dataframe tbody tr th:only-of-type {\n",
       "        vertical-align: middle;\n",
       "    }\n",
       "\n",
       "    .dataframe tbody tr th {\n",
       "        vertical-align: top;\n",
       "    }\n",
       "\n",
       "    .dataframe thead th {\n",
       "        text-align: right;\n",
       "    }\n",
       "</style>\n",
       "<table border=\"1\" class=\"dataframe\">\n",
       "  <thead>\n",
       "    <tr style=\"text-align: right;\">\n",
       "      <th></th>\n",
       "      <th>Solidity</th>\n",
       "      <th>Eccentricity</th>\n",
       "      <th>EquivDiameter</th>\n",
       "      <th>Extrema</th>\n",
       "      <th>FilledArea</th>\n",
       "      <th>Extent</th>\n",
       "      <th>Orientation</th>\n",
       "      <th>EulerNumber</th>\n",
       "      <th>BoundingBox1</th>\n",
       "      <th>BoundingBox2</th>\n",
       "      <th>...</th>\n",
       "      <th>ConvexHull2</th>\n",
       "      <th>ConvexHull3</th>\n",
       "      <th>ConvexHull4</th>\n",
       "      <th>MajorAxisLength</th>\n",
       "      <th>MinorAxisLength</th>\n",
       "      <th>Perimeter</th>\n",
       "      <th>ConvexArea</th>\n",
       "      <th>Centroid1</th>\n",
       "      <th>Centroid2</th>\n",
       "      <th>Area</th>\n",
       "    </tr>\n",
       "  </thead>\n",
       "  <tbody>\n",
       "    <tr>\n",
       "      <th>0</th>\n",
       "      <td>0.226508</td>\n",
       "      <td>0.919736</td>\n",
       "      <td>0.396523</td>\n",
       "      <td>0.821764</td>\n",
       "      <td>0.124955</td>\n",
       "      <td>0.182526</td>\n",
       "      <td>0.625360</td>\n",
       "      <td>0.880161</td>\n",
       "      <td>0.593651</td>\n",
       "      <td>0.130053</td>\n",
       "      <td>...</td>\n",
       "      <td>0.592030</td>\n",
       "      <td>0.593651</td>\n",
       "      <td>0.594286</td>\n",
       "      <td>0.246947</td>\n",
       "      <td>0.114904</td>\n",
       "      <td>0.258217</td>\n",
       "      <td>0.050894</td>\n",
       "      <td>0.735949</td>\n",
       "      <td>0.224618</td>\n",
       "      <td>0.177666</td>\n",
       "    </tr>\n",
       "    <tr>\n",
       "      <th>1</th>\n",
       "      <td>0.131249</td>\n",
       "      <td>0.839202</td>\n",
       "      <td>0.189765</td>\n",
       "      <td>0.779862</td>\n",
       "      <td>0.024801</td>\n",
       "      <td>0.102111</td>\n",
       "      <td>0.903063</td>\n",
       "      <td>0.930178</td>\n",
       "      <td>0.697143</td>\n",
       "      <td>0.148506</td>\n",
       "      <td>...</td>\n",
       "      <td>0.755218</td>\n",
       "      <td>0.698413</td>\n",
       "      <td>0.697143</td>\n",
       "      <td>0.168388</td>\n",
       "      <td>0.110807</td>\n",
       "      <td>0.086619</td>\n",
       "      <td>0.024327</td>\n",
       "      <td>0.782927</td>\n",
       "      <td>0.277804</td>\n",
       "      <td>0.049141</td>\n",
       "    </tr>\n",
       "    <tr>\n",
       "      <th>2</th>\n",
       "      <td>0.356525</td>\n",
       "      <td>0.950434</td>\n",
       "      <td>0.115916</td>\n",
       "      <td>0.711069</td>\n",
       "      <td>0.010689</td>\n",
       "      <td>0.218164</td>\n",
       "      <td>0.860724</td>\n",
       "      <td>0.969789</td>\n",
       "      <td>0.674286</td>\n",
       "      <td>0.324253</td>\n",
       "      <td>...</td>\n",
       "      <td>0.719165</td>\n",
       "      <td>0.679365</td>\n",
       "      <td>0.676190</td>\n",
       "      <td>0.077268</td>\n",
       "      <td>0.027995</td>\n",
       "      <td>0.023458</td>\n",
       "      <td>0.004147</td>\n",
       "      <td>0.683484</td>\n",
       "      <td>0.365322</td>\n",
       "      <td>0.022188</td>\n",
       "    </tr>\n",
       "    <tr>\n",
       "      <th>3</th>\n",
       "      <td>0.338935</td>\n",
       "      <td>0.828545</td>\n",
       "      <td>0.029171</td>\n",
       "      <td>0.450281</td>\n",
       "      <td>0.001548</td>\n",
       "      <td>0.256960</td>\n",
       "      <td>0.188719</td>\n",
       "      <td>0.995300</td>\n",
       "      <td>0.440635</td>\n",
       "      <td>0.533392</td>\n",
       "      <td>...</td>\n",
       "      <td>0.452245</td>\n",
       "      <td>0.451429</td>\n",
       "      <td>0.448889</td>\n",
       "      <td>0.020454</td>\n",
       "      <td>0.016625</td>\n",
       "      <td>0.010399</td>\n",
       "      <td>0.000735</td>\n",
       "      <td>0.439275</td>\n",
       "      <td>0.530411</td>\n",
       "      <td>0.003269</td>\n",
       "    </tr>\n",
       "    <tr>\n",
       "      <th>4</th>\n",
       "      <td>0.532809</td>\n",
       "      <td>0.747284</td>\n",
       "      <td>0.139494</td>\n",
       "      <td>0.813557</td>\n",
       "      <td>0.019737</td>\n",
       "      <td>0.485427</td>\n",
       "      <td>0.205856</td>\n",
       "      <td>0.973289</td>\n",
       "      <td>0.805078</td>\n",
       "      <td>0.815014</td>\n",
       "      <td>...</td>\n",
       "      <td>0.806157</td>\n",
       "      <td>0.806001</td>\n",
       "      <td>0.805078</td>\n",
       "      <td>0.042423</td>\n",
       "      <td>0.038444</td>\n",
       "      <td>0.019337</td>\n",
       "      <td>0.003800</td>\n",
       "      <td>0.825515</td>\n",
       "      <td>0.826488</td>\n",
       "      <td>0.031852</td>\n",
       "    </tr>\n",
       "    <tr>\n",
       "      <th>...</th>\n",
       "      <td>...</td>\n",
       "      <td>...</td>\n",
       "      <td>...</td>\n",
       "      <td>...</td>\n",
       "      <td>...</td>\n",
       "      <td>...</td>\n",
       "      <td>...</td>\n",
       "      <td>...</td>\n",
       "      <td>...</td>\n",
       "      <td>...</td>\n",
       "      <td>...</td>\n",
       "      <td>...</td>\n",
       "      <td>...</td>\n",
       "      <td>...</td>\n",
       "      <td>...</td>\n",
       "      <td>...</td>\n",
       "      <td>...</td>\n",
       "      <td>...</td>\n",
       "      <td>...</td>\n",
       "      <td>...</td>\n",
       "      <td>...</td>\n",
       "    </tr>\n",
       "    <tr>\n",
       "      <th>3451</th>\n",
       "      <td>0.577456</td>\n",
       "      <td>0.449211</td>\n",
       "      <td>0.085694</td>\n",
       "      <td>0.211382</td>\n",
       "      <td>0.008245</td>\n",
       "      <td>0.492650</td>\n",
       "      <td>0.093201</td>\n",
       "      <td>0.988251</td>\n",
       "      <td>0.198095</td>\n",
       "      <td>0.588752</td>\n",
       "      <td>...</td>\n",
       "      <td>0.208096</td>\n",
       "      <td>0.200635</td>\n",
       "      <td>0.200000</td>\n",
       "      <td>0.017503</td>\n",
       "      <td>0.026957</td>\n",
       "      <td>0.015475</td>\n",
       "      <td>0.001547</td>\n",
       "      <td>0.196821</td>\n",
       "      <td>0.589611</td>\n",
       "      <td>0.014035</td>\n",
       "    </tr>\n",
       "    <tr>\n",
       "      <th>3452</th>\n",
       "      <td>0.205350</td>\n",
       "      <td>0.918622</td>\n",
       "      <td>0.215054</td>\n",
       "      <td>0.367730</td>\n",
       "      <td>0.034283</td>\n",
       "      <td>0.161805</td>\n",
       "      <td>0.868846</td>\n",
       "      <td>0.966096</td>\n",
       "      <td>0.298413</td>\n",
       "      <td>0.378735</td>\n",
       "      <td>...</td>\n",
       "      <td>0.332068</td>\n",
       "      <td>0.328889</td>\n",
       "      <td>0.303492</td>\n",
       "      <td>0.141463</td>\n",
       "      <td>0.066615</td>\n",
       "      <td>0.107457</td>\n",
       "      <td>0.019348</td>\n",
       "      <td>0.336157</td>\n",
       "      <td>0.471557</td>\n",
       "      <td>0.060664</td>\n",
       "    </tr>\n",
       "    <tr>\n",
       "      <th>3453</th>\n",
       "      <td>0.607913</td>\n",
       "      <td>0.972458</td>\n",
       "      <td>0.213403</td>\n",
       "      <td>0.766104</td>\n",
       "      <td>0.030132</td>\n",
       "      <td>0.297875</td>\n",
       "      <td>0.184385</td>\n",
       "      <td>0.962068</td>\n",
       "      <td>0.762540</td>\n",
       "      <td>0.567663</td>\n",
       "      <td>...</td>\n",
       "      <td>0.760911</td>\n",
       "      <td>0.762540</td>\n",
       "      <td>0.762540</td>\n",
       "      <td>0.099135</td>\n",
       "      <td>0.026033</td>\n",
       "      <td>0.046843</td>\n",
       "      <td>0.006414</td>\n",
       "      <td>0.794550</td>\n",
       "      <td>0.612553</td>\n",
       "      <td>0.059877</td>\n",
       "    </tr>\n",
       "    <tr>\n",
       "      <th>3454</th>\n",
       "      <td>0.376952</td>\n",
       "      <td>0.978037</td>\n",
       "      <td>0.079065</td>\n",
       "      <td>0.685428</td>\n",
       "      <td>0.005677</td>\n",
       "      <td>0.166046</td>\n",
       "      <td>0.187657</td>\n",
       "      <td>0.990265</td>\n",
       "      <td>0.693333</td>\n",
       "      <td>0.492091</td>\n",
       "      <td>...</td>\n",
       "      <td>0.693232</td>\n",
       "      <td>0.695238</td>\n",
       "      <td>0.694603</td>\n",
       "      <td>0.071858</td>\n",
       "      <td>0.016113</td>\n",
       "      <td>0.018262</td>\n",
       "      <td>0.002228</td>\n",
       "      <td>0.705078</td>\n",
       "      <td>0.528020</td>\n",
       "      <td>0.012470</td>\n",
       "    </tr>\n",
       "    <tr>\n",
       "      <th>3455</th>\n",
       "      <td>0.459837</td>\n",
       "      <td>0.986321</td>\n",
       "      <td>0.036371</td>\n",
       "      <td>0.388368</td>\n",
       "      <td>0.002076</td>\n",
       "      <td>0.495041</td>\n",
       "      <td>0.010601</td>\n",
       "      <td>0.990265</td>\n",
       "      <td>0.386667</td>\n",
       "      <td>0.452548</td>\n",
       "      <td>...</td>\n",
       "      <td>0.385832</td>\n",
       "      <td>0.386667</td>\n",
       "      <td>0.386667</td>\n",
       "      <td>0.033718</td>\n",
       "      <td>0.004367</td>\n",
       "      <td>0.009350</td>\n",
       "      <td>0.000622</td>\n",
       "      <td>0.377029</td>\n",
       "      <td>0.459269</td>\n",
       "      <td>0.004316</td>\n",
       "    </tr>\n",
       "  </tbody>\n",
       "</table>\n",
       "<p>3456 rows × 23 columns</p>\n",
       "</div>"
      ],
      "text/plain": [
       "      Solidity  Eccentricity  EquivDiameter   Extrema  FilledArea    Extent  \\\n",
       "0     0.226508      0.919736       0.396523  0.821764    0.124955  0.182526   \n",
       "1     0.131249      0.839202       0.189765  0.779862    0.024801  0.102111   \n",
       "2     0.356525      0.950434       0.115916  0.711069    0.010689  0.218164   \n",
       "3     0.338935      0.828545       0.029171  0.450281    0.001548  0.256960   \n",
       "4     0.532809      0.747284       0.139494  0.813557    0.019737  0.485427   \n",
       "...        ...           ...            ...       ...         ...       ...   \n",
       "3451  0.577456      0.449211       0.085694  0.211382    0.008245  0.492650   \n",
       "3452  0.205350      0.918622       0.215054  0.367730    0.034283  0.161805   \n",
       "3453  0.607913      0.972458       0.213403  0.766104    0.030132  0.297875   \n",
       "3454  0.376952      0.978037       0.079065  0.685428    0.005677  0.166046   \n",
       "3455  0.459837      0.986321       0.036371  0.388368    0.002076  0.495041   \n",
       "\n",
       "      Orientation  EulerNumber  BoundingBox1  BoundingBox2  ...  ConvexHull2  \\\n",
       "0        0.625360     0.880161      0.593651      0.130053  ...     0.592030   \n",
       "1        0.903063     0.930178      0.697143      0.148506  ...     0.755218   \n",
       "2        0.860724     0.969789      0.674286      0.324253  ...     0.719165   \n",
       "3        0.188719     0.995300      0.440635      0.533392  ...     0.452245   \n",
       "4        0.205856     0.973289      0.805078      0.815014  ...     0.806157   \n",
       "...           ...          ...           ...           ...  ...          ...   \n",
       "3451     0.093201     0.988251      0.198095      0.588752  ...     0.208096   \n",
       "3452     0.868846     0.966096      0.298413      0.378735  ...     0.332068   \n",
       "3453     0.184385     0.962068      0.762540      0.567663  ...     0.760911   \n",
       "3454     0.187657     0.990265      0.693333      0.492091  ...     0.693232   \n",
       "3455     0.010601     0.990265      0.386667      0.452548  ...     0.385832   \n",
       "\n",
       "      ConvexHull3  ConvexHull4  MajorAxisLength  MinorAxisLength  Perimeter  \\\n",
       "0        0.593651     0.594286         0.246947         0.114904   0.258217   \n",
       "1        0.698413     0.697143         0.168388         0.110807   0.086619   \n",
       "2        0.679365     0.676190         0.077268         0.027995   0.023458   \n",
       "3        0.451429     0.448889         0.020454         0.016625   0.010399   \n",
       "4        0.806001     0.805078         0.042423         0.038444   0.019337   \n",
       "...           ...          ...              ...              ...        ...   \n",
       "3451     0.200635     0.200000         0.017503         0.026957   0.015475   \n",
       "3452     0.328889     0.303492         0.141463         0.066615   0.107457   \n",
       "3453     0.762540     0.762540         0.099135         0.026033   0.046843   \n",
       "3454     0.695238     0.694603         0.071858         0.016113   0.018262   \n",
       "3455     0.386667     0.386667         0.033718         0.004367   0.009350   \n",
       "\n",
       "      ConvexArea  Centroid1  Centroid2      Area  \n",
       "0       0.050894   0.735949   0.224618  0.177666  \n",
       "1       0.024327   0.782927   0.277804  0.049141  \n",
       "2       0.004147   0.683484   0.365322  0.022188  \n",
       "3       0.000735   0.439275   0.530411  0.003269  \n",
       "4       0.003800   0.825515   0.826488  0.031852  \n",
       "...          ...        ...        ...       ...  \n",
       "3451    0.001547   0.196821   0.589611  0.014035  \n",
       "3452    0.019348   0.336157   0.471557  0.060664  \n",
       "3453    0.006414   0.794550   0.612553  0.059877  \n",
       "3454    0.002228   0.705078   0.528020  0.012470  \n",
       "3455    0.000622   0.377029   0.459269  0.004316  \n",
       "\n",
       "[3456 rows x 23 columns]"
      ]
     },
     "execution_count": 22,
     "metadata": {},
     "output_type": "execute_result"
    }
   ],
   "source": [
    "test_data = pd.read_csv('https://raw.githubusercontent.com/dphi-official/Datasets/master/sukhna_dhanas/test_set_label.csv')\n",
    "test_data"
   ]
  },
  {
   "cell_type": "code",
   "execution_count": 23,
   "metadata": {},
   "outputs": [
    {
     "data": {
      "text/plain": [
       "Solidity           0\n",
       "Eccentricity       0\n",
       "EquivDiameter      0\n",
       "Extrema            0\n",
       "FilledArea         0\n",
       "Extent             0\n",
       "Orientation        0\n",
       "EulerNumber        0\n",
       "BoundingBox1       0\n",
       "BoundingBox2       0\n",
       "BoundingBox3       0\n",
       "BoundingBox4       0\n",
       "ConvexHull1        0\n",
       "ConvexHull2        0\n",
       "ConvexHull3        0\n",
       "ConvexHull4        0\n",
       "MajorAxisLength    0\n",
       "MinorAxisLength    0\n",
       "Perimeter          0\n",
       "ConvexArea         0\n",
       "Centroid1          0\n",
       "Centroid2          0\n",
       "Area               0\n",
       "dtype: int64"
      ]
     },
     "execution_count": 23,
     "metadata": {},
     "output_type": "execute_result"
    }
   ],
   "source": [
    "test_data.isnull().sum()"
   ]
  },
  {
   "cell_type": "code",
   "execution_count": 24,
   "metadata": {},
   "outputs": [
    {
     "data": {
      "text/plain": [
       "array([3, 2, 2, ..., 4, 2, 1], dtype=int64)"
      ]
     },
     "execution_count": 24,
     "metadata": {},
     "output_type": "execute_result"
    }
   ],
   "source": [
    "y_pred = best_random_grid.predict(test_data)\n",
    "y_pred"
   ]
  },
  {
   "cell_type": "code",
   "execution_count": 25,
   "metadata": {},
   "outputs": [],
   "source": [
    "res = pd.DataFrame(y_pred) #target is nothing but the final predictions of your model on input features of your new unseen test data\n",
    "#res.index = test_data.index # its important for comparison. Here \"test_new\" is your new test dataset\n",
    "res.columns = [\"prediction\"]\n",
    "res.to_csv(\"submission_rfc.csv\")      # the csv file will be saved locally on the same location where this notebook is located."
   ]
  },
  {
   "cell_type": "markdown",
   "metadata": {},
   "source": [
    "## GridSearch CV"
   ]
  },
  {
   "cell_type": "code",
   "execution_count": 27,
   "metadata": {},
   "outputs": [
    {
     "data": {
      "text/plain": [
       "{'n_estimators': 600,\n",
       " 'min_samples_split': 2,\n",
       " 'min_samples_leaf': 1,\n",
       " 'max_features': 'sqrt',\n",
       " 'max_depth': 120,\n",
       " 'criterion': 'entropy'}"
      ]
     },
     "execution_count": 27,
     "metadata": {},
     "output_type": "execute_result"
    }
   ],
   "source": [
    "rf_randomcv.best_params_"
   ]
  },
  {
   "cell_type": "code",
   "execution_count": 28,
   "metadata": {},
   "outputs": [
    {
     "name": "stdout",
     "output_type": "stream",
     "text": [
      "{'criterion': ['entropy'], 'max_depth': [120], 'max_features': ['sqrt'], 'min_samples_leaf': [1, 3, 5], 'min_samples_split': [0, 1, 2, 3, 4], 'n_estimators': [400, 500, 600, 700, 800]}\n"
     ]
    }
   ],
   "source": [
    "from sklearn.model_selection import GridSearchCV\n",
    "\n",
    "param_grid = {\n",
    "    'criterion': [rf_randomcv.best_params_['criterion']],\n",
    "    'max_depth': [rf_randomcv.best_params_['max_depth']],\n",
    "    'max_features': [rf_randomcv.best_params_['max_features']],\n",
    "    'min_samples_leaf': [rf_randomcv.best_params_['min_samples_leaf'], \n",
    "                         rf_randomcv.best_params_['min_samples_leaf']+2, \n",
    "                         rf_randomcv.best_params_['min_samples_leaf'] + 4],\n",
    "    'min_samples_split': [rf_randomcv.best_params_['min_samples_split'] - 2,\n",
    "                          rf_randomcv.best_params_['min_samples_split'] - 1,\n",
    "                          rf_randomcv.best_params_['min_samples_split'], \n",
    "                          rf_randomcv.best_params_['min_samples_split'] +1,\n",
    "                          rf_randomcv.best_params_['min_samples_split'] + 2],\n",
    "    'n_estimators': [rf_randomcv.best_params_['n_estimators'] - 200, rf_randomcv.best_params_['n_estimators'] - 100, \n",
    "                     rf_randomcv.best_params_['n_estimators'], \n",
    "                     rf_randomcv.best_params_['n_estimators'] + 100, rf_randomcv.best_params_['n_estimators'] + 200]\n",
    "}\n",
    "\n",
    "print(param_grid)"
   ]
  },
  {
   "cell_type": "code",
   "execution_count": 29,
   "metadata": {},
   "outputs": [
    {
     "name": "stdout",
     "output_type": "stream",
     "text": [
      "Fitting 10 folds for each of 75 candidates, totalling 750 fits\n"
     ]
    },
    {
     "name": "stderr",
     "output_type": "stream",
     "text": [
      "[Parallel(n_jobs=-1)]: Using backend LokyBackend with 4 concurrent workers.\n",
      "[Parallel(n_jobs=-1)]: Done  33 tasks      | elapsed:    7.1s\n",
      "[Parallel(n_jobs=-1)]: Done 154 tasks      | elapsed:  8.5min\n",
      "[Parallel(n_jobs=-1)]: Done 357 tasks      | elapsed: 26.5min\n",
      "[Parallel(n_jobs=-1)]: Done 640 tasks      | elapsed: 57.1min\n",
      "[Parallel(n_jobs=-1)]: Done 750 out of 750 | elapsed: 74.9min finished\n"
     ]
    },
    {
     "data": {
      "text/plain": [
       "GridSearchCV(cv=10, estimator=RandomForestClassifier(), n_jobs=-1,\n",
       "             param_grid={'criterion': ['entropy'], 'max_depth': [120],\n",
       "                         'max_features': ['sqrt'],\n",
       "                         'min_samples_leaf': [1, 3, 5],\n",
       "                         'min_samples_split': [0, 1, 2, 3, 4],\n",
       "                         'n_estimators': [400, 500, 600, 700, 800]},\n",
       "             verbose=2)"
      ]
     },
     "execution_count": 29,
     "metadata": {},
     "output_type": "execute_result"
    }
   ],
   "source": [
    "#### Fit the grid_search to the data\n",
    "rf=RandomForestClassifier()\n",
    "grid_search=GridSearchCV(estimator=rf,param_grid=param_grid,cv=10,n_jobs=-1,verbose=2)\n",
    "grid_search.fit(X_train,y_train)"
   ]
  },
  {
   "cell_type": "code",
   "execution_count": 30,
   "metadata": {},
   "outputs": [
    {
     "data": {
      "text/plain": [
       "RandomForestClassifier(criterion='entropy', max_depth=120, max_features='sqrt',\n",
       "                       n_estimators=600)"
      ]
     },
     "execution_count": 30,
     "metadata": {},
     "output_type": "execute_result"
    }
   ],
   "source": [
    "grid_search.best_estimator_"
   ]
  },
  {
   "cell_type": "code",
   "execution_count": 31,
   "metadata": {},
   "outputs": [],
   "source": [
    "best_grid=grid_search.best_estimator_"
   ]
  },
  {
   "cell_type": "code",
   "execution_count": 32,
   "metadata": {},
   "outputs": [
    {
     "data": {
      "text/plain": [
       "RandomForestClassifier(criterion='entropy', max_depth=120, max_features='sqrt',\n",
       "                       n_estimators=600)"
      ]
     },
     "execution_count": 32,
     "metadata": {},
     "output_type": "execute_result"
    }
   ],
   "source": [
    "best_grid"
   ]
  },
  {
   "cell_type": "code",
   "execution_count": 33,
   "metadata": {},
   "outputs": [
    {
     "name": "stdout",
     "output_type": "stream",
     "text": [
      "[[662   4   6   1]\n",
      " [  0 719   1   0]\n",
      " [  5   3 675   0]\n",
      " [  0   0   0 689]]\n",
      "Accuracy Score 0.9927667269439421\n",
      "Classification report:               precision    recall  f1-score   support\n",
      "\n",
      "           1       0.99      0.98      0.99       673\n",
      "           2       0.99      1.00      0.99       720\n",
      "           3       0.99      0.99      0.99       683\n",
      "           4       1.00      1.00      1.00       689\n",
      "\n",
      "    accuracy                           0.99      2765\n",
      "   macro avg       0.99      0.99      0.99      2765\n",
      "weighted avg       0.99      0.99      0.99      2765\n",
      "\n"
     ]
    }
   ],
   "source": [
    "y_pred=best_grid.predict(X_test)\n",
    "print(confusion_matrix(y_test,y_pred))\n",
    "print(\"Accuracy Score {}\".format(accuracy_score(y_test,y_pred)))\n",
    "print(\"Classification report: {}\".format(classification_report(y_test,y_pred)))"
   ]
  },
  {
   "cell_type": "code",
   "execution_count": 35,
   "metadata": {},
   "outputs": [
    {
     "data": {
      "text/plain": [
       "0.9927667269439421"
      ]
     },
     "execution_count": 35,
     "metadata": {},
     "output_type": "execute_result"
    }
   ],
   "source": [
    "best_grid.score(X_test, y_test)"
   ]
  },
  {
   "cell_type": "code",
   "execution_count": 36,
   "metadata": {},
   "outputs": [
    {
     "data": {
      "text/plain": [
       "array([3, 2, 2, ..., 4, 2, 1], dtype=int64)"
      ]
     },
     "execution_count": 36,
     "metadata": {},
     "output_type": "execute_result"
    }
   ],
   "source": [
    "y_pred = best_grid.predict(test_data)\n",
    "y_pred"
   ]
  },
  {
   "cell_type": "code",
   "execution_count": 37,
   "metadata": {},
   "outputs": [],
   "source": [
    "res_gscv = pd.DataFrame(y_pred) #target is nothing but the final predictions of your model on input features of your new unseen test data\n",
    "#res.index = test_data.index # its important for comparison. Here \"test_new\" is your new test dataset\n",
    "res_gscv.columns = [\"prediction\"]\n",
    "res_gscv.to_csv(\"submission_rfc_gscv.csv\")      # the csv file will be saved locally on the same location where this notebook is located."
   ]
  },
  {
   "cell_type": "markdown",
   "metadata": {},
   "source": [
    "### Using Logistic Regression"
   ]
  },
  {
   "cell_type": "code",
   "execution_count": 38,
   "metadata": {},
   "outputs": [],
   "source": [
    "from sklearn.linear_model import LogisticRegression\n",
    "from sklearn.svm import SVC, LinearSVC\n",
    "from sklearn.neighbors import KNeighborsClassifier\n",
    "from sklearn.tree import DecisionTreeClassifier\n",
    "from sklearn.ensemble import RandomForestClassifier\n",
    "from sklearn.naive_bayes import GaussianNB\n",
    "from sklearn.linear_model import Perceptron\n",
    "from sklearn.linear_model import SGDClassifier"
   ]
  },
  {
   "cell_type": "code",
   "execution_count": 39,
   "metadata": {},
   "outputs": [
    {
     "name": "stdout",
     "output_type": "stream",
     "text": [
      "Train Accuracy: 77.39%\n"
     ]
    },
    {
     "name": "stderr",
     "output_type": "stream",
     "text": [
      "C:\\Users\\Dell\\anaconda3\\envs\\ml_projects\\lib\\site-packages\\sklearn\\linear_model\\_logistic.py:762: ConvergenceWarning: lbfgs failed to converge (status=1):\n",
      "STOP: TOTAL NO. of ITERATIONS REACHED LIMIT.\n",
      "\n",
      "Increase the number of iterations (max_iter) or scale the data as shown in:\n",
      "    https://scikit-learn.org/stable/modules/preprocessing.html\n",
      "Please also refer to the documentation for alternative solver options:\n",
      "    https://scikit-learn.org/stable/modules/linear_model.html#logistic-regression\n",
      "  n_iter_i = _check_optimize_result(\n"
     ]
    }
   ],
   "source": [
    "### Logistic Regression\n",
    "\n",
    "clf = LogisticRegression()\n",
    "clf.fit(X_train, y_train)\n",
    "y_pred_log_reg = clf.predict(X_test)\n",
    "acc_log_reg = round( clf.score(X_train, y_train) * 100, 2)\n",
    "print (\"Train Accuracy: \" + str(acc_log_reg) + '%')"
   ]
  },
  {
   "cell_type": "code",
   "execution_count": 40,
   "metadata": {},
   "outputs": [
    {
     "name": "stdout",
     "output_type": "stream",
     "text": [
      "Train Accuracy: 84.02%\n"
     ]
    }
   ],
   "source": [
    "### Support Vector Machine\n",
    "\n",
    "clf = SVC()\n",
    "clf.fit(X_train, y_train)\n",
    "y_pred_svc = clf.predict(X_test)\n",
    "acc_svc = round(clf.score(X_train, y_train) * 100, 2)\n",
    "print (\"Train Accuracy: \" + str(acc_svc) + '%')"
   ]
  },
  {
   "cell_type": "code",
   "execution_count": 49,
   "metadata": {},
   "outputs": [
    {
     "name": "stdout",
     "output_type": "stream",
     "text": [
      "Train Accuracy: 99.78%\n"
     ]
    }
   ],
   "source": [
    "### k -Nearest Neighbors\n",
    "clf_kn = KNeighborsClassifier(n_neighbors = 3)\n",
    "clf_kn.fit(X_train, y_train)\n",
    "y_pred_knn = clf_kn.predict(X_test)\n",
    "acc_knn = round(clf_kn.score(X_train, y_train) * 100, 2)\n",
    "print (\"Train Accuracy: \" + str(acc_knn) + '%')"
   ]
  },
  {
   "cell_type": "code",
   "execution_count": 46,
   "metadata": {},
   "outputs": [
    {
     "data": {
      "text/plain": [
       "array([3, 2, 2, ..., 4, 2, 1], dtype=int64)"
      ]
     },
     "execution_count": 46,
     "metadata": {},
     "output_type": "execute_result"
    }
   ],
   "source": [
    "y_pred = clf_kn.predict(test_data)\n",
    "y_pred"
   ]
  },
  {
   "cell_type": "code",
   "execution_count": 47,
   "metadata": {},
   "outputs": [],
   "source": [
    "res_knn = pd.DataFrame(y_pred) #target is nothing but the final predictions of your model on input features of your new unseen test data\n",
    "#res.index = test_data.index # its important for comparison. Here \"test_new\" is your new test dataset\n",
    "res_knn.columns = [\"prediction\"]\n",
    "res_knn.to_csv(\"submission_rfc_res_knn.csv\")      # the csv file will be saved locally on the same location where this notebook is located."
   ]
  },
  {
   "cell_type": "code",
   "execution_count": null,
   "metadata": {},
   "outputs": [],
   "source": []
  }
 ],
 "metadata": {
  "kernelspec": {
   "display_name": "Python 3",
   "language": "python",
   "name": "python3"
  },
  "language_info": {
   "codemirror_mode": {
    "name": "ipython",
    "version": 3
   },
   "file_extension": ".py",
   "mimetype": "text/x-python",
   "name": "python",
   "nbconvert_exporter": "python",
   "pygments_lexer": "ipython3",
   "version": "3.8.5"
  }
 },
 "nbformat": 4,
 "nbformat_minor": 4
}
