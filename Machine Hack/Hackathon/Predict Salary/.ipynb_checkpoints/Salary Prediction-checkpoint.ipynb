{
 "cells": [
  {
   "cell_type": "code",
   "execution_count": 148,
   "metadata": {},
   "outputs": [],
   "source": [
    "import pandas as pd   # package for data analysis\n",
    "import numpy as np    # package for numerical computations\n",
    "\n",
    "# libraries for visualization\n",
    "import matplotlib.pyplot as plt\n",
    "import seaborn as sns\n",
    "\n",
    "# to ignore warnings\n",
    "import warnings\n",
    "warnings.filterwarnings('ignore')\n",
    "\n",
    "# For Preprocessing, ML models and Evaluation\n",
    "from sklearn.model_selection import train_test_split   # To split the dataset into train and test set\n",
    "\n",
    "from sklearn.linear_model import LogisticRegression, LinearRegression     # Logistic regression model\n",
    "from sklearn.ensemble import RandomForestClassifier\n",
    "\n",
    "from sklearn import preprocessing\n",
    "from sklearn.preprocessing import LabelEncoder    # for converting categorical to numerical\n",
    "\n",
    "from sklearn.metrics import f1_score    # for model evaluation"
   ]
  },
  {
   "cell_type": "code",
   "execution_count": 99,
   "metadata": {},
   "outputs": [
    {
     "data": {
      "text/html": [
       "<div>\n",
       "<style scoped>\n",
       "    .dataframe tbody tr th:only-of-type {\n",
       "        vertical-align: middle;\n",
       "    }\n",
       "\n",
       "    .dataframe tbody tr th {\n",
       "        vertical-align: top;\n",
       "    }\n",
       "\n",
       "    .dataframe thead th {\n",
       "        text-align: right;\n",
       "    }\n",
       "</style>\n",
       "<table border=\"1\" class=\"dataframe\">\n",
       "  <thead>\n",
       "    <tr style=\"text-align: right;\">\n",
       "      <th></th>\n",
       "      <th>Unnamed: 0</th>\n",
       "      <th>experience</th>\n",
       "      <th>job_description</th>\n",
       "      <th>job_desig</th>\n",
       "      <th>job_type</th>\n",
       "      <th>key_skills</th>\n",
       "      <th>location</th>\n",
       "      <th>salary</th>\n",
       "      <th>company_name_encoded</th>\n",
       "    </tr>\n",
       "  </thead>\n",
       "  <tbody>\n",
       "    <tr>\n",
       "      <th>0</th>\n",
       "      <td>0</td>\n",
       "      <td>5-7 yrs</td>\n",
       "      <td>Exp: Minimum 5 years;Good understanding of IOC...</td>\n",
       "      <td>Senior Exploit and Vulnerability Researcher</td>\n",
       "      <td>NaN</td>\n",
       "      <td>team skills, communication skills, analytical ...</td>\n",
       "      <td>Delhi NCR(Vikas Puri)</td>\n",
       "      <td>6to10</td>\n",
       "      <td>3687</td>\n",
       "    </tr>\n",
       "    <tr>\n",
       "      <th>1</th>\n",
       "      <td>1</td>\n",
       "      <td>10-17 yrs</td>\n",
       "      <td>He should have handled a team of atleast 5-6 d...</td>\n",
       "      <td>Head SCM</td>\n",
       "      <td>NaN</td>\n",
       "      <td>ppc, logistics, inventory management, supply c...</td>\n",
       "      <td>Sonepat</td>\n",
       "      <td>10to15</td>\n",
       "      <td>458</td>\n",
       "    </tr>\n",
       "    <tr>\n",
       "      <th>2</th>\n",
       "      <td>2</td>\n",
       "      <td>5-9 yrs</td>\n",
       "      <td>Must be an effective communicator (written &amp; s...</td>\n",
       "      <td>Deputy Manager - Talent Management &amp; Leadershi...</td>\n",
       "      <td>Analytics</td>\n",
       "      <td>HR Analytics, Employee Engagement, Training, S...</td>\n",
       "      <td>Delhi NCR</td>\n",
       "      <td>15to25</td>\n",
       "      <td>4195</td>\n",
       "    </tr>\n",
       "    <tr>\n",
       "      <th>3</th>\n",
       "      <td>3</td>\n",
       "      <td>7-10 yrs</td>\n",
       "      <td>7  -  10 years of overall experience in data e...</td>\n",
       "      <td>Associate Manager Data Engineering</td>\n",
       "      <td>Analytics</td>\n",
       "      <td>SQL, Javascript, Automation, Python, Ruby, Ana...</td>\n",
       "      <td>Bengaluru</td>\n",
       "      <td>10to15</td>\n",
       "      <td>313</td>\n",
       "    </tr>\n",
       "    <tr>\n",
       "      <th>4</th>\n",
       "      <td>4</td>\n",
       "      <td>1-3 yrs</td>\n",
       "      <td>Chartered Accountancy degree or MBA in Finance...</td>\n",
       "      <td>TS- GSA- Senior Analyst</td>\n",
       "      <td>NaN</td>\n",
       "      <td>accounting, finance, cash flow, financial plan...</td>\n",
       "      <td>Gurgaon</td>\n",
       "      <td>3to6</td>\n",
       "      <td>1305</td>\n",
       "    </tr>\n",
       "  </tbody>\n",
       "</table>\n",
       "</div>"
      ],
      "text/plain": [
       "   Unnamed: 0 experience                                    job_description  \\\n",
       "0           0    5-7 yrs  Exp: Minimum 5 years;Good understanding of IOC...   \n",
       "1           1  10-17 yrs  He should have handled a team of atleast 5-6 d...   \n",
       "2           2    5-9 yrs  Must be an effective communicator (written & s...   \n",
       "3           3   7-10 yrs  7  -  10 years of overall experience in data e...   \n",
       "4           4    1-3 yrs  Chartered Accountancy degree or MBA in Finance...   \n",
       "\n",
       "                                           job_desig   job_type  \\\n",
       "0        Senior Exploit and Vulnerability Researcher        NaN   \n",
       "1                                           Head SCM        NaN   \n",
       "2  Deputy Manager - Talent Management & Leadershi...  Analytics   \n",
       "3                 Associate Manager Data Engineering  Analytics   \n",
       "4                            TS- GSA- Senior Analyst        NaN   \n",
       "\n",
       "                                          key_skills               location  \\\n",
       "0  team skills, communication skills, analytical ...  Delhi NCR(Vikas Puri)   \n",
       "1  ppc, logistics, inventory management, supply c...                Sonepat   \n",
       "2  HR Analytics, Employee Engagement, Training, S...              Delhi NCR   \n",
       "3  SQL, Javascript, Automation, Python, Ruby, Ana...              Bengaluru   \n",
       "4  accounting, finance, cash flow, financial plan...                Gurgaon   \n",
       "\n",
       "   salary  company_name_encoded  \n",
       "0   6to10                  3687  \n",
       "1  10to15                   458  \n",
       "2  15to25                  4195  \n",
       "3  10to15                   313  \n",
       "4    3to6                  1305  "
      ]
     },
     "execution_count": 99,
     "metadata": {},
     "output_type": "execute_result"
    }
   ],
   "source": [
    "train_data = pd.read_csv('Final_Train_Dataset.csv')\n",
    "train_data.head()"
   ]
  },
  {
   "cell_type": "code",
   "execution_count": 100,
   "metadata": {},
   "outputs": [
    {
     "data": {
      "text/html": [
       "<div>\n",
       "<style scoped>\n",
       "    .dataframe tbody tr th:only-of-type {\n",
       "        vertical-align: middle;\n",
       "    }\n",
       "\n",
       "    .dataframe tbody tr th {\n",
       "        vertical-align: top;\n",
       "    }\n",
       "\n",
       "    .dataframe thead th {\n",
       "        text-align: right;\n",
       "    }\n",
       "</style>\n",
       "<table border=\"1\" class=\"dataframe\">\n",
       "  <thead>\n",
       "    <tr style=\"text-align: right;\">\n",
       "      <th></th>\n",
       "      <th>experience</th>\n",
       "      <th>job_description</th>\n",
       "      <th>job_desig</th>\n",
       "      <th>job_type</th>\n",
       "      <th>key_skills</th>\n",
       "      <th>location</th>\n",
       "      <th>company_name_encoded</th>\n",
       "    </tr>\n",
       "  </thead>\n",
       "  <tbody>\n",
       "    <tr>\n",
       "      <th>0</th>\n",
       "      <td>7-12 yrs</td>\n",
       "      <td>Professional experience in Java/J2EE based ser...</td>\n",
       "      <td>IT Technology Senior Consultant/java/ J2ee/ Se...</td>\n",
       "      <td>NaN</td>\n",
       "      <td>Java, J2Ee, Tomcat, JBoss, Weblogic, Oracle, E...</td>\n",
       "      <td>Bengaluru</td>\n",
       "      <td>2066</td>\n",
       "    </tr>\n",
       "    <tr>\n",
       "      <th>1</th>\n",
       "      <td>0-5 yrs</td>\n",
       "      <td>We are looking for 20+ Fresher/Experienced Can...</td>\n",
       "      <td>Medical Billing Process | International KPO | ...</td>\n",
       "      <td>NaN</td>\n",
       "      <td>Medical Billing, Insurance Processing</td>\n",
       "      <td>Ahmedabad(Sola)</td>\n",
       "      <td>2629</td>\n",
       "    </tr>\n",
       "    <tr>\n",
       "      <th>2</th>\n",
       "      <td>3-6 yrs</td>\n",
       "      <td>Should understand overall integration framewor...</td>\n",
       "      <td>Oracle Sales Cloud Functional Consultant</td>\n",
       "      <td>NaN</td>\n",
       "      <td>Oracle Sales, Functional Consultancy, Troubles...</td>\n",
       "      <td>Bengaluru</td>\n",
       "      <td>2448</td>\n",
       "    </tr>\n",
       "    <tr>\n",
       "      <th>3</th>\n",
       "      <td>0-3 yrs</td>\n",
       "      <td>NaN</td>\n",
       "      <td>Looking For Freshers WHO WANT To Work WITH US</td>\n",
       "      <td>NaN</td>\n",
       "      <td>offline, online, internet, part time, home bas...</td>\n",
       "      <td>Delhi NCR, Chennai, Hyderabad, Gurgaon, Luckno...</td>\n",
       "      <td>2711</td>\n",
       "    </tr>\n",
       "    <tr>\n",
       "      <th>4</th>\n",
       "      <td>0-5 yrs</td>\n",
       "      <td>NaN</td>\n",
       "      <td>Process Associate / Sr Process Associate / Tec...</td>\n",
       "      <td>NaN</td>\n",
       "      <td>voice support, analytical skills, Process asso...</td>\n",
       "      <td>Hyderabad</td>\n",
       "      <td>40</td>\n",
       "    </tr>\n",
       "  </tbody>\n",
       "</table>\n",
       "</div>"
      ],
      "text/plain": [
       "  experience                                    job_description  \\\n",
       "0   7-12 yrs  Professional experience in Java/J2EE based ser...   \n",
       "1    0-5 yrs  We are looking for 20+ Fresher/Experienced Can...   \n",
       "2    3-6 yrs  Should understand overall integration framewor...   \n",
       "3    0-3 yrs                                                NaN   \n",
       "4    0-5 yrs                                                NaN   \n",
       "\n",
       "                                           job_desig job_type  \\\n",
       "0  IT Technology Senior Consultant/java/ J2ee/ Se...      NaN   \n",
       "1  Medical Billing Process | International KPO | ...      NaN   \n",
       "2           Oracle Sales Cloud Functional Consultant      NaN   \n",
       "3      Looking For Freshers WHO WANT To Work WITH US      NaN   \n",
       "4  Process Associate / Sr Process Associate / Tec...      NaN   \n",
       "\n",
       "                                          key_skills  \\\n",
       "0  Java, J2Ee, Tomcat, JBoss, Weblogic, Oracle, E...   \n",
       "1              Medical Billing, Insurance Processing   \n",
       "2  Oracle Sales, Functional Consultancy, Troubles...   \n",
       "3  offline, online, internet, part time, home bas...   \n",
       "4  voice support, analytical skills, Process asso...   \n",
       "\n",
       "                                            location  company_name_encoded  \n",
       "0                                          Bengaluru                  2066  \n",
       "1                                    Ahmedabad(Sola)                  2629  \n",
       "2                                          Bengaluru                  2448  \n",
       "3  Delhi NCR, Chennai, Hyderabad, Gurgaon, Luckno...                  2711  \n",
       "4                                          Hyderabad                    40  "
      ]
     },
     "execution_count": 100,
     "metadata": {},
     "output_type": "execute_result"
    }
   ],
   "source": [
    "test_data = pd.read_csv('Final_Test_Dataset.csv')\n",
    "test_data.head()"
   ]
  },
  {
   "cell_type": "code",
   "execution_count": 101,
   "metadata": {},
   "outputs": [
    {
     "name": "stdout",
     "output_type": "stream",
     "text": [
      "<class 'pandas.core.frame.DataFrame'>\n",
      "RangeIndex: 19802 entries, 0 to 19801\n",
      "Data columns (total 9 columns):\n",
      " #   Column                Non-Null Count  Dtype \n",
      "---  ------                --------------  ----- \n",
      " 0   Unnamed: 0            19802 non-null  int64 \n",
      " 1   experience            19802 non-null  object\n",
      " 2   job_description       15384 non-null  object\n",
      " 3   job_desig             19802 non-null  object\n",
      " 4   job_type              4797 non-null   object\n",
      " 5   key_skills            19801 non-null  object\n",
      " 6   location              19802 non-null  object\n",
      " 7   salary                19802 non-null  object\n",
      " 8   company_name_encoded  19802 non-null  int64 \n",
      "dtypes: int64(2), object(7)\n",
      "memory usage: 1.4+ MB\n"
     ]
    }
   ],
   "source": [
    "train_data.info()"
   ]
  },
  {
   "cell_type": "code",
   "execution_count": 102,
   "metadata": {},
   "outputs": [
    {
     "name": "stdout",
     "output_type": "stream",
     "text": [
      "<class 'pandas.core.frame.DataFrame'>\n",
      "RangeIndex: 19802 entries, 0 to 19801\n",
      "Data columns (total 5 columns):\n",
      " #   Column                Non-Null Count  Dtype \n",
      "---  ------                --------------  ----- \n",
      " 0   experience            19802 non-null  object\n",
      " 1   job_type              4797 non-null   object\n",
      " 2   location              19802 non-null  object\n",
      " 3   salary                19802 non-null  object\n",
      " 4   company_name_encoded  19802 non-null  int64 \n",
      "dtypes: int64(1), object(4)\n",
      "memory usage: 773.6+ KB\n"
     ]
    }
   ],
   "source": [
    "train_data.drop(['Unnamed: 0', 'job_description', 'job_desig', 'key_skills'], axis=1, inplace=True)\n",
    "train_data.info()"
   ]
  },
  {
   "cell_type": "code",
   "execution_count": 103,
   "metadata": {},
   "outputs": [
    {
     "name": "stdout",
     "output_type": "stream",
     "text": [
      "<class 'pandas.core.frame.DataFrame'>\n",
      "RangeIndex: 6601 entries, 0 to 6600\n",
      "Data columns (total 4 columns):\n",
      " #   Column                Non-Null Count  Dtype \n",
      "---  ------                --------------  ----- \n",
      " 0   experience            6601 non-null   object\n",
      " 1   job_type              1637 non-null   object\n",
      " 2   location              6601 non-null   object\n",
      " 3   company_name_encoded  6601 non-null   int64 \n",
      "dtypes: int64(1), object(3)\n",
      "memory usage: 206.4+ KB\n"
     ]
    }
   ],
   "source": [
    "test_data.drop(['job_description', 'job_desig', 'key_skills'], axis=1, inplace=True)\n",
    "test_data.info()"
   ]
  },
  {
   "cell_type": "markdown",
   "metadata": {},
   "source": [
    "### Dealing with missing values"
   ]
  },
  {
   "cell_type": "code",
   "execution_count": 104,
   "metadata": {},
   "outputs": [
    {
     "data": {
      "text/plain": [
       "Analytics    3747\n",
       "analytics     921\n",
       "ANALYTICS      77\n",
       "analytic       32\n",
       "Analytic       20\n",
       "Name: job_type, dtype: int64"
      ]
     },
     "execution_count": 104,
     "metadata": {},
     "output_type": "execute_result"
    }
   ],
   "source": [
    "train_data['job_type'].value_counts()"
   ]
  },
  {
   "cell_type": "code",
   "execution_count": 105,
   "metadata": {},
   "outputs": [
    {
     "data": {
      "text/plain": [
       "ANALYTICS    4797\n",
       "Name: job_type, dtype: int64"
      ]
     },
     "execution_count": 105,
     "metadata": {},
     "output_type": "execute_result"
    }
   ],
   "source": [
    "train_data['job_type'] = train_data['job_type'].replace(to_replace=\n",
    "                            ['Analytics', 'analytics', 'ANALYTICS', 'analytic', 'Analytic'], value='ANALYTICS')\n",
    "train_data['job_type'].value_counts()"
   ]
  },
  {
   "cell_type": "code",
   "execution_count": 106,
   "metadata": {},
   "outputs": [
    {
     "data": {
      "text/plain": [
       "ANALYTICS    1637\n",
       "Name: job_type, dtype: int64"
      ]
     },
     "execution_count": 106,
     "metadata": {},
     "output_type": "execute_result"
    }
   ],
   "source": [
    "test_data['job_type'] = test_data['job_type'].replace(to_replace=\n",
    "                            ['Analytics', 'analytics', 'ANALYTICS', 'analytic', 'Analytic'], value='ANALYTICS')\n",
    "test_data['job_type'].value_counts()"
   ]
  },
  {
   "cell_type": "code",
   "execution_count": 107,
   "metadata": {},
   "outputs": [
    {
     "data": {
      "text/plain": [
       "True     15005\n",
       "False     4797\n",
       "Name: job_type, dtype: int64"
      ]
     },
     "execution_count": 107,
     "metadata": {},
     "output_type": "execute_result"
    }
   ],
   "source": [
    "train_data['job_type'].isnull().value_counts()"
   ]
  },
  {
   "cell_type": "code",
   "execution_count": 108,
   "metadata": {},
   "outputs": [
    {
     "data": {
      "text/plain": [
       "True     4964\n",
       "False    1637\n",
       "Name: job_type, dtype: int64"
      ]
     },
     "execution_count": 108,
     "metadata": {},
     "output_type": "execute_result"
    }
   ],
   "source": [
    "test_data['job_type'].isnull().value_counts()"
   ]
  },
  {
   "cell_type": "code",
   "execution_count": 109,
   "metadata": {},
   "outputs": [],
   "source": [
    "train_data['job_type'].replace(np.nan, 'NON-ANALYTICS', inplace=True )"
   ]
  },
  {
   "cell_type": "code",
   "execution_count": 110,
   "metadata": {},
   "outputs": [],
   "source": [
    "test_data['job_type'].replace(np.nan, 'NON-ANALYTICS', inplace=True )"
   ]
  },
  {
   "cell_type": "code",
   "execution_count": 111,
   "metadata": {},
   "outputs": [
    {
     "data": {
      "text/plain": [
       "False    19802\n",
       "Name: job_type, dtype: int64"
      ]
     },
     "execution_count": 111,
     "metadata": {},
     "output_type": "execute_result"
    }
   ],
   "source": [
    "train_data['job_type'].isnull().value_counts()"
   ]
  },
  {
   "cell_type": "code",
   "execution_count": 112,
   "metadata": {},
   "outputs": [
    {
     "data": {
      "text/plain": [
       "False    6601\n",
       "Name: job_type, dtype: int64"
      ]
     },
     "execution_count": 112,
     "metadata": {},
     "output_type": "execute_result"
    }
   ],
   "source": [
    "test_data['job_type'].isnull().value_counts()"
   ]
  },
  {
   "cell_type": "code",
   "execution_count": 113,
   "metadata": {},
   "outputs": [
    {
     "data": {
      "text/plain": [
       "experience              0\n",
       "job_type                0\n",
       "location                0\n",
       "salary                  0\n",
       "company_name_encoded    0\n",
       "dtype: int64"
      ]
     },
     "execution_count": 113,
     "metadata": {},
     "output_type": "execute_result"
    }
   ],
   "source": [
    "train_data.isnull().sum()"
   ]
  },
  {
   "cell_type": "code",
   "execution_count": 114,
   "metadata": {},
   "outputs": [
    {
     "data": {
      "text/plain": [
       "experience              0\n",
       "job_type                0\n",
       "location                0\n",
       "company_name_encoded    0\n",
       "dtype: int64"
      ]
     },
     "execution_count": 114,
     "metadata": {},
     "output_type": "execute_result"
    }
   ],
   "source": [
    "test_data.isnull().sum()"
   ]
  },
  {
   "cell_type": "code",
   "execution_count": 115,
   "metadata": {},
   "outputs": [
    {
     "data": {
      "text/html": [
       "<div>\n",
       "<style scoped>\n",
       "    .dataframe tbody tr th:only-of-type {\n",
       "        vertical-align: middle;\n",
       "    }\n",
       "\n",
       "    .dataframe tbody tr th {\n",
       "        vertical-align: top;\n",
       "    }\n",
       "\n",
       "    .dataframe thead th {\n",
       "        text-align: right;\n",
       "    }\n",
       "</style>\n",
       "<table border=\"1\" class=\"dataframe\">\n",
       "  <thead>\n",
       "    <tr style=\"text-align: right;\">\n",
       "      <th></th>\n",
       "      <th>experience</th>\n",
       "      <th>job_type</th>\n",
       "      <th>location</th>\n",
       "      <th>salary</th>\n",
       "      <th>company_name_encoded</th>\n",
       "    </tr>\n",
       "  </thead>\n",
       "  <tbody>\n",
       "    <tr>\n",
       "      <th>0</th>\n",
       "      <td>5-7 yrs</td>\n",
       "      <td>NON-ANALYTICS</td>\n",
       "      <td>Delhi NCR(Vikas Puri)</td>\n",
       "      <td>6to10</td>\n",
       "      <td>3687</td>\n",
       "    </tr>\n",
       "    <tr>\n",
       "      <th>1</th>\n",
       "      <td>10-17 yrs</td>\n",
       "      <td>NON-ANALYTICS</td>\n",
       "      <td>Sonepat</td>\n",
       "      <td>10to15</td>\n",
       "      <td>458</td>\n",
       "    </tr>\n",
       "    <tr>\n",
       "      <th>2</th>\n",
       "      <td>5-9 yrs</td>\n",
       "      <td>ANALYTICS</td>\n",
       "      <td>Delhi NCR</td>\n",
       "      <td>15to25</td>\n",
       "      <td>4195</td>\n",
       "    </tr>\n",
       "    <tr>\n",
       "      <th>3</th>\n",
       "      <td>7-10 yrs</td>\n",
       "      <td>ANALYTICS</td>\n",
       "      <td>Bengaluru</td>\n",
       "      <td>10to15</td>\n",
       "      <td>313</td>\n",
       "    </tr>\n",
       "    <tr>\n",
       "      <th>4</th>\n",
       "      <td>1-3 yrs</td>\n",
       "      <td>NON-ANALYTICS</td>\n",
       "      <td>Gurgaon</td>\n",
       "      <td>3to6</td>\n",
       "      <td>1305</td>\n",
       "    </tr>\n",
       "  </tbody>\n",
       "</table>\n",
       "</div>"
      ],
      "text/plain": [
       "  experience       job_type               location  salary  \\\n",
       "0    5-7 yrs  NON-ANALYTICS  Delhi NCR(Vikas Puri)   6to10   \n",
       "1  10-17 yrs  NON-ANALYTICS                Sonepat  10to15   \n",
       "2    5-9 yrs      ANALYTICS              Delhi NCR  15to25   \n",
       "3   7-10 yrs      ANALYTICS              Bengaluru  10to15   \n",
       "4    1-3 yrs  NON-ANALYTICS                Gurgaon    3to6   \n",
       "\n",
       "   company_name_encoded  \n",
       "0                  3687  \n",
       "1                   458  \n",
       "2                  4195  \n",
       "3                   313  \n",
       "4                  1305  "
      ]
     },
     "execution_count": 115,
     "metadata": {},
     "output_type": "execute_result"
    }
   ],
   "source": [
    "train_data.head()"
   ]
  },
  {
   "cell_type": "code",
   "execution_count": 116,
   "metadata": {},
   "outputs": [
    {
     "data": {
      "text/plain": [
       "5-10 yrs     1274\n",
       "2-5 yrs      1188\n",
       "3-8 yrs       922\n",
       "2-7 yrs       832\n",
       "4-9 yrs       678\n",
       "             ... \n",
       "8-8 yrs         1\n",
       "17-25 yrs       1\n",
       "20-25 yrs       1\n",
       "20-26 yrs       1\n",
       "12-13 yrs       1\n",
       "Name: experience, Length: 129, dtype: int64"
      ]
     },
     "execution_count": 116,
     "metadata": {},
     "output_type": "execute_result"
    }
   ],
   "source": [
    "train_data.experience.value_counts().sort_values(ascending=False)"
   ]
  },
  {
   "cell_type": "code",
   "execution_count": 117,
   "metadata": {},
   "outputs": [
    {
     "data": {
      "text/plain": [
       "5-10 yrs     419\n",
       "2-5 yrs      416\n",
       "3-8 yrs      336\n",
       "2-7 yrs      267\n",
       "3-5 yrs      249\n",
       "            ... \n",
       "20-25 yrs      1\n",
       "2-2 yrs        1\n",
       "20-22 yrs      1\n",
       "25-30 yrs      1\n",
       "17-19 yrs      1\n",
       "Name: experience, Length: 110, dtype: int64"
      ]
     },
     "execution_count": 117,
     "metadata": {},
     "output_type": "execute_result"
    }
   ],
   "source": [
    "test_data.experience.value_counts().sort_values(ascending=False)"
   ]
  },
  {
   "cell_type": "code",
   "execution_count": 118,
   "metadata": {},
   "outputs": [
    {
     "data": {
      "text/plain": [
       "8.5"
      ]
     },
     "execution_count": 118,
     "metadata": {},
     "output_type": "execute_result"
    }
   ],
   "source": [
    "years = train_data.experience[0].split(' ')[0]\n",
    "int(years[0]) + int(years[2]) / 2"
   ]
  },
  {
   "cell_type": "code",
   "execution_count": 119,
   "metadata": {},
   "outputs": [],
   "source": [
    "def convert_years(x):\n",
    "    years = x.split(' ')[0]\n",
    "    years = years.split('-')\n",
    "    return int(years[0]) + int(years[1]) / 2"
   ]
  },
  {
   "cell_type": "code",
   "execution_count": 120,
   "metadata": {},
   "outputs": [],
   "source": [
    "def convert_exp_years(x):\n",
    "    years = x.split(' ')[0]\n",
    "    years = years.split('-')\n",
    "    return int(years[0]) + int(years[1]) / 2"
   ]
  },
  {
   "cell_type": "code",
   "execution_count": 121,
   "metadata": {},
   "outputs": [
    {
     "name": "stdout",
     "output_type": "stream",
     "text": [
      "13.0\n"
     ]
    }
   ],
   "source": [
    "print(convert_exp_years(test_data.experience[0]))"
   ]
  },
  {
   "cell_type": "code",
   "execution_count": 122,
   "metadata": {},
   "outputs": [],
   "source": [
    "train_data['experience'] = train_data.experience.apply(lambda x: convert_years(x))"
   ]
  },
  {
   "cell_type": "code",
   "execution_count": 123,
   "metadata": {},
   "outputs": [],
   "source": [
    "test_data['experience'] = test_data.experience.apply(lambda x: convert_exp_years(x))"
   ]
  },
  {
   "cell_type": "code",
   "execution_count": 124,
   "metadata": {},
   "outputs": [
    {
     "data": {
      "text/html": [
       "<div>\n",
       "<style scoped>\n",
       "    .dataframe tbody tr th:only-of-type {\n",
       "        vertical-align: middle;\n",
       "    }\n",
       "\n",
       "    .dataframe tbody tr th {\n",
       "        vertical-align: top;\n",
       "    }\n",
       "\n",
       "    .dataframe thead th {\n",
       "        text-align: right;\n",
       "    }\n",
       "</style>\n",
       "<table border=\"1\" class=\"dataframe\">\n",
       "  <thead>\n",
       "    <tr style=\"text-align: right;\">\n",
       "      <th></th>\n",
       "      <th>experience</th>\n",
       "      <th>job_type</th>\n",
       "      <th>location</th>\n",
       "      <th>salary</th>\n",
       "      <th>company_name_encoded</th>\n",
       "    </tr>\n",
       "  </thead>\n",
       "  <tbody>\n",
       "    <tr>\n",
       "      <th>0</th>\n",
       "      <td>8.5</td>\n",
       "      <td>NON-ANALYTICS</td>\n",
       "      <td>Delhi NCR(Vikas Puri)</td>\n",
       "      <td>6to10</td>\n",
       "      <td>3687</td>\n",
       "    </tr>\n",
       "    <tr>\n",
       "      <th>1</th>\n",
       "      <td>18.5</td>\n",
       "      <td>NON-ANALYTICS</td>\n",
       "      <td>Sonepat</td>\n",
       "      <td>10to15</td>\n",
       "      <td>458</td>\n",
       "    </tr>\n",
       "    <tr>\n",
       "      <th>2</th>\n",
       "      <td>9.5</td>\n",
       "      <td>ANALYTICS</td>\n",
       "      <td>Delhi NCR</td>\n",
       "      <td>15to25</td>\n",
       "      <td>4195</td>\n",
       "    </tr>\n",
       "    <tr>\n",
       "      <th>3</th>\n",
       "      <td>12.0</td>\n",
       "      <td>ANALYTICS</td>\n",
       "      <td>Bengaluru</td>\n",
       "      <td>10to15</td>\n",
       "      <td>313</td>\n",
       "    </tr>\n",
       "    <tr>\n",
       "      <th>4</th>\n",
       "      <td>2.5</td>\n",
       "      <td>NON-ANALYTICS</td>\n",
       "      <td>Gurgaon</td>\n",
       "      <td>3to6</td>\n",
       "      <td>1305</td>\n",
       "    </tr>\n",
       "  </tbody>\n",
       "</table>\n",
       "</div>"
      ],
      "text/plain": [
       "   experience       job_type               location  salary  \\\n",
       "0         8.5  NON-ANALYTICS  Delhi NCR(Vikas Puri)   6to10   \n",
       "1        18.5  NON-ANALYTICS                Sonepat  10to15   \n",
       "2         9.5      ANALYTICS              Delhi NCR  15to25   \n",
       "3        12.0      ANALYTICS              Bengaluru  10to15   \n",
       "4         2.5  NON-ANALYTICS                Gurgaon    3to6   \n",
       "\n",
       "   company_name_encoded  \n",
       "0                  3687  \n",
       "1                   458  \n",
       "2                  4195  \n",
       "3                   313  \n",
       "4                  1305  "
      ]
     },
     "execution_count": 124,
     "metadata": {},
     "output_type": "execute_result"
    }
   ],
   "source": [
    "train_data.head()"
   ]
  },
  {
   "cell_type": "code",
   "execution_count": 125,
   "metadata": {},
   "outputs": [
    {
     "data": {
      "text/html": [
       "<div>\n",
       "<style scoped>\n",
       "    .dataframe tbody tr th:only-of-type {\n",
       "        vertical-align: middle;\n",
       "    }\n",
       "\n",
       "    .dataframe tbody tr th {\n",
       "        vertical-align: top;\n",
       "    }\n",
       "\n",
       "    .dataframe thead th {\n",
       "        text-align: right;\n",
       "    }\n",
       "</style>\n",
       "<table border=\"1\" class=\"dataframe\">\n",
       "  <thead>\n",
       "    <tr style=\"text-align: right;\">\n",
       "      <th></th>\n",
       "      <th>experience</th>\n",
       "      <th>job_type</th>\n",
       "      <th>location</th>\n",
       "      <th>company_name_encoded</th>\n",
       "    </tr>\n",
       "  </thead>\n",
       "  <tbody>\n",
       "    <tr>\n",
       "      <th>0</th>\n",
       "      <td>13.0</td>\n",
       "      <td>NON-ANALYTICS</td>\n",
       "      <td>Bengaluru</td>\n",
       "      <td>2066</td>\n",
       "    </tr>\n",
       "    <tr>\n",
       "      <th>1</th>\n",
       "      <td>2.5</td>\n",
       "      <td>NON-ANALYTICS</td>\n",
       "      <td>Ahmedabad(Sola)</td>\n",
       "      <td>2629</td>\n",
       "    </tr>\n",
       "    <tr>\n",
       "      <th>2</th>\n",
       "      <td>6.0</td>\n",
       "      <td>NON-ANALYTICS</td>\n",
       "      <td>Bengaluru</td>\n",
       "      <td>2448</td>\n",
       "    </tr>\n",
       "    <tr>\n",
       "      <th>3</th>\n",
       "      <td>1.5</td>\n",
       "      <td>NON-ANALYTICS</td>\n",
       "      <td>Delhi NCR, Chennai, Hyderabad, Gurgaon, Luckno...</td>\n",
       "      <td>2711</td>\n",
       "    </tr>\n",
       "    <tr>\n",
       "      <th>4</th>\n",
       "      <td>2.5</td>\n",
       "      <td>NON-ANALYTICS</td>\n",
       "      <td>Hyderabad</td>\n",
       "      <td>40</td>\n",
       "    </tr>\n",
       "  </tbody>\n",
       "</table>\n",
       "</div>"
      ],
      "text/plain": [
       "   experience       job_type  \\\n",
       "0        13.0  NON-ANALYTICS   \n",
       "1         2.5  NON-ANALYTICS   \n",
       "2         6.0  NON-ANALYTICS   \n",
       "3         1.5  NON-ANALYTICS   \n",
       "4         2.5  NON-ANALYTICS   \n",
       "\n",
       "                                            location  company_name_encoded  \n",
       "0                                          Bengaluru                  2066  \n",
       "1                                    Ahmedabad(Sola)                  2629  \n",
       "2                                          Bengaluru                  2448  \n",
       "3  Delhi NCR, Chennai, Hyderabad, Gurgaon, Luckno...                  2711  \n",
       "4                                          Hyderabad                    40  "
      ]
     },
     "execution_count": 125,
     "metadata": {},
     "output_type": "execute_result"
    }
   ],
   "source": [
    "test_data.head()"
   ]
  },
  {
   "cell_type": "code",
   "execution_count": 126,
   "metadata": {},
   "outputs": [
    {
     "data": {
      "text/plain": [
       "10to15    4500\n",
       "15to25    4125\n",
       "6to10     3533\n",
       "0to3      3245\n",
       "3to6      2824\n",
       "25to50    1575\n",
       "Name: salary, dtype: int64"
      ]
     },
     "execution_count": 126,
     "metadata": {},
     "output_type": "execute_result"
    }
   ],
   "source": [
    "train_data.salary.value_counts()"
   ]
  },
  {
   "cell_type": "code",
   "execution_count": 127,
   "metadata": {},
   "outputs": [
    {
     "data": {
      "text/plain": [
       "1    4500\n",
       "2    4125\n",
       "3    3533\n",
       "4    3245\n",
       "5    2824\n",
       "6    1575\n",
       "Name: salary, dtype: int64"
      ]
     },
     "execution_count": 127,
     "metadata": {},
     "output_type": "execute_result"
    }
   ],
   "source": [
    "salary_map  = {'10to15':1,\n",
    "              '15to25':2,\n",
    "              '6to10':3,\n",
    "              '0to3':4,\n",
    "              '3to6':5,\n",
    "              '25to50':6}\n",
    "train_data['salary'] = train_data.salary.map(salary_map)\n",
    "train_data.salary.value_counts()"
   ]
  },
  {
   "cell_type": "code",
   "execution_count": 27,
   "metadata": {},
   "outputs": [],
   "source": [
    "def convert_salary(x):\n",
    "    salary = x.split('to')\n",
    "    return (int(salary[0]) + int(salary[1]) / 2) * 100000"
   ]
  },
  {
   "cell_type": "code",
   "execution_count": 28,
   "metadata": {},
   "outputs": [],
   "source": [
    "train_data['salary'] = train_data['salary'].apply(lambda x: convert_salary(x))"
   ]
  },
  {
   "cell_type": "code",
   "execution_count": 29,
   "metadata": {},
   "outputs": [
    {
     "data": {
      "text/plain": [
       "1750000.0    4500\n",
       "2750000.0    4125\n",
       "1100000.0    3533\n",
       "150000.0     3245\n",
       "600000.0     2824\n",
       "5000000.0    1575\n",
       "Name: salary, dtype: int64"
      ]
     },
     "execution_count": 29,
     "metadata": {},
     "output_type": "execute_result"
    }
   ],
   "source": [
    "train_data.salary.value_counts()"
   ]
  },
  {
   "cell_type": "code",
   "execution_count": 128,
   "metadata": {},
   "outputs": [
    {
     "data": {
      "text/html": [
       "<div>\n",
       "<style scoped>\n",
       "    .dataframe tbody tr th:only-of-type {\n",
       "        vertical-align: middle;\n",
       "    }\n",
       "\n",
       "    .dataframe tbody tr th {\n",
       "        vertical-align: top;\n",
       "    }\n",
       "\n",
       "    .dataframe thead th {\n",
       "        text-align: right;\n",
       "    }\n",
       "</style>\n",
       "<table border=\"1\" class=\"dataframe\">\n",
       "  <thead>\n",
       "    <tr style=\"text-align: right;\">\n",
       "      <th></th>\n",
       "      <th>experience</th>\n",
       "      <th>job_type</th>\n",
       "      <th>location</th>\n",
       "      <th>salary</th>\n",
       "      <th>company_name_encoded</th>\n",
       "    </tr>\n",
       "  </thead>\n",
       "  <tbody>\n",
       "    <tr>\n",
       "      <th>0</th>\n",
       "      <td>8.5</td>\n",
       "      <td>NON-ANALYTICS</td>\n",
       "      <td>Delhi NCR(Vikas Puri)</td>\n",
       "      <td>3</td>\n",
       "      <td>3687</td>\n",
       "    </tr>\n",
       "    <tr>\n",
       "      <th>1</th>\n",
       "      <td>18.5</td>\n",
       "      <td>NON-ANALYTICS</td>\n",
       "      <td>Sonepat</td>\n",
       "      <td>1</td>\n",
       "      <td>458</td>\n",
       "    </tr>\n",
       "    <tr>\n",
       "      <th>2</th>\n",
       "      <td>9.5</td>\n",
       "      <td>ANALYTICS</td>\n",
       "      <td>Delhi NCR</td>\n",
       "      <td>2</td>\n",
       "      <td>4195</td>\n",
       "    </tr>\n",
       "    <tr>\n",
       "      <th>3</th>\n",
       "      <td>12.0</td>\n",
       "      <td>ANALYTICS</td>\n",
       "      <td>Bengaluru</td>\n",
       "      <td>1</td>\n",
       "      <td>313</td>\n",
       "    </tr>\n",
       "    <tr>\n",
       "      <th>4</th>\n",
       "      <td>2.5</td>\n",
       "      <td>NON-ANALYTICS</td>\n",
       "      <td>Gurgaon</td>\n",
       "      <td>5</td>\n",
       "      <td>1305</td>\n",
       "    </tr>\n",
       "  </tbody>\n",
       "</table>\n",
       "</div>"
      ],
      "text/plain": [
       "   experience       job_type               location  salary  \\\n",
       "0         8.5  NON-ANALYTICS  Delhi NCR(Vikas Puri)       3   \n",
       "1        18.5  NON-ANALYTICS                Sonepat       1   \n",
       "2         9.5      ANALYTICS              Delhi NCR       2   \n",
       "3        12.0      ANALYTICS              Bengaluru       1   \n",
       "4         2.5  NON-ANALYTICS                Gurgaon       5   \n",
       "\n",
       "   company_name_encoded  \n",
       "0                  3687  \n",
       "1                   458  \n",
       "2                  4195  \n",
       "3                   313  \n",
       "4                  1305  "
      ]
     },
     "execution_count": 128,
     "metadata": {},
     "output_type": "execute_result"
    }
   ],
   "source": [
    "train_data.head()"
   ]
  },
  {
   "cell_type": "code",
   "execution_count": 82,
   "metadata": {},
   "outputs": [
    {
     "data": {
      "text/plain": [
       "Noida(Sector-144 Noida)                                                                         1\n",
       "Coimbatore, Kochi, Mysore                                                                       1\n",
       "Delhi NCR, Bengaluru, Chennai, Hyderabad, Kolkata                                               1\n",
       "Hyderabad(Begumpet+1)                                                                           1\n",
       "alipurduar, bankura, barddhaman, birbhum, balurghat, darjiling, howrah, hugli, jalpaiguri       1\n",
       "                                                                                             ... \n",
       "Hyderabad                                                                                    1083\n",
       "Pune                                                                                         1193\n",
       "Gurgaon                                                                                      1644\n",
       "Mumbai                                                                                       2508\n",
       "Bengaluru                                                                                    4168\n",
       "Name: location, Length: 1504, dtype: int64"
      ]
     },
     "execution_count": 82,
     "metadata": {},
     "output_type": "execute_result"
    }
   ],
   "source": [
    "train_data.location.value_counts(ascending=True)"
   ]
  },
  {
   "cell_type": "code",
   "execution_count": 129,
   "metadata": {},
   "outputs": [
    {
     "data": {
      "text/plain": [
       "array([ 597, 1412,  525, ...,  324,   65, 1117])"
      ]
     },
     "execution_count": 129,
     "metadata": {},
     "output_type": "execute_result"
    }
   ],
   "source": [
    "# Import label encoder \n",
    "from sklearn import preprocessing \n",
    "  \n",
    "# label_encoder object knows how to understand word labels. \n",
    "label_encoder = preprocessing.LabelEncoder() \n",
    "  \n",
    "# Encode labels in column 'location' in train data. \n",
    "train_data['location']= label_encoder.fit_transform(train_data['location']) \n",
    "  \n",
    "train_data['location'].unique()"
   ]
  },
  {
   "cell_type": "code",
   "execution_count": 130,
   "metadata": {},
   "outputs": [
    {
     "data": {
      "text/plain": [
       "array([ 56,  17, 321, 453, 194, 421, 793, 207, 546, 495, 232, 272, 439,\n",
       "       704, 347, 413, 283, 303, 662, 667, 120, 628, 104, 271, 309, 365,\n",
       "       336, 348, 212,  67, 632, 459, 408, 595, 516, 677, 265, 192, 422,\n",
       "       190, 719, 565, 440, 138, 769,  15, 731, 326, 198, 751, 706, 466,\n",
       "       467, 612, 732, 148, 123, 727, 779, 730, 101, 113, 131,  21, 545,\n",
       "       340, 537, 534, 308,  60, 394, 796, 785, 737, 238, 405, 418, 226,\n",
       "       181, 616, 512, 794, 221,  39, 211, 657, 629, 140, 475, 470,   4,\n",
       "       563, 171, 330, 122,  73, 708,  53, 579, 367, 549, 747, 410, 111,\n",
       "       588, 346, 485, 509,  44, 718, 536, 634, 331, 317, 318,  38, 357,\n",
       "       761, 716, 332, 569, 748,   0, 322, 345, 598, 169, 778,   6, 266,\n",
       "       765, 600, 184, 488, 699, 548, 547, 477, 768, 575, 275, 481, 191,\n",
       "       788, 766,  97, 472, 582, 692, 143, 368, 576,  83, 615, 176, 542,\n",
       "       776, 682,  48, 361, 596, 183, 524, 229, 556, 188, 508, 254, 772,\n",
       "       220, 399, 126, 222,  34, 419, 301, 518, 312, 750, 432, 568, 298,\n",
       "       132, 784,  85, 749, 531, 289,  76, 655,  19, 456,   2, 560, 740,\n",
       "       520,  92,  42, 378, 458, 535, 659, 649, 389, 678,  50, 489,  58,\n",
       "       743,  41, 674, 763, 683, 523, 128, 774, 205, 617, 218, 452, 248,\n",
       "       583,  47, 641, 777, 199, 290, 307, 443, 287, 255,  20, 645, 197,\n",
       "        14, 800, 134, 136, 180,  46, 500, 733, 374, 480, 147, 141, 163,\n",
       "       552, 557, 276, 269, 775, 728, 551, 609,  84, 608, 543, 292,  70,\n",
       "       484,  81, 216, 170, 679, 328, 591, 570, 320, 493,  89,  79, 372,\n",
       "       601, 402, 606, 235, 427, 286, 277, 799, 668,   1, 695, 441, 259,\n",
       "       102, 263, 460, 404, 604, 446, 688, 454, 639, 401, 304, 633,  64,\n",
       "       445,  40, 670, 656, 627, 447, 219, 172, 311, 344, 507, 425, 294,\n",
       "       711, 589, 666, 498,  45, 801, 386, 261, 599, 624,  87, 593, 127,\n",
       "       293,  72, 174, 186, 442, 586, 105, 762, 165,  86,  10, 760, 705,\n",
       "       700, 112, 517, 393, 250, 234, 539, 697, 268, 795, 256, 464, 675,\n",
       "       267, 592, 735,  77, 462, 108, 239, 491, 362,  18, 159, 237, 538,\n",
       "       213, 142, 676, 468, 566, 713, 406, 262, 381, 502, 621, 515,  63,\n",
       "       646, 630, 153, 387, 474, 746, 160, 636, 164, 618, 653, 463, 353,\n",
       "       258, 529, 544, 798,  57, 257, 672, 315, 465,  99, 594, 313, 121,\n",
       "       613, 690,  65, 285, 562, 724, 741, 150, 694, 510, 114, 242, 125,\n",
       "       185, 223, 224, 533, 106,  49, 755, 729, 396, 578, 654, 206, 354,\n",
       "       390, 499, 540, 369,  61, 200, 698, 227, 513, 635, 783, 526, 680,\n",
       "        32, 647, 782, 217, 243, 246,  75, 279, 614, 555, 135,   7, 584,\n",
       "       370, 398, 182, 151, 319, 149, 371, 202,   9, 681, 158,  68, 175,\n",
       "       391, 355, 710, 429, 177, 787, 241, 424, 503,  91,  30, 684,  93,\n",
       "       117, 109, 247, 752, 736, 376, 397,  51, 473, 611, 767, 204, 686,\n",
       "       721, 658, 409, 607, 403, 178, 511, 561, 428, 325, 118, 451, 622,\n",
       "       559, 145, 433, 522, 195, 642,  23,  90, 605, 154, 100, 506, 519,\n",
       "       323,  22, 664, 215, 300, 130,  54, 156, 377, 280, 314, 717, 155,\n",
       "       722, 337,   3, 189, 103, 581, 541, 299, 228, 252, 689, 305, 284,\n",
       "       162,   5, 590, 342, 602,  82, 712, 270, 723, 773,  74, 638,  66,\n",
       "       426, 350, 492, 167, 789, 650, 571, 434, 478,  94, 356, 496, 758,\n",
       "       471, 673, 173, 764, 349, 244, 625, 490,  35, 701, 720, 663, 757,\n",
       "        29, 585, 572, 196, 567, 709,  24, 437,  25, 251, 384, 264, 770,\n",
       "       652, 637, 580, 139, 448, 532, 366, 281, 685,  98,  12, 482, 395,\n",
       "       360, 528, 780, 550, 364, 306, 479, 504, 116, 623, 759, 644, 554,\n",
       "       791, 417, 203, 564, 400, 157, 469, 626, 231, 497, 335, 245, 483,\n",
       "       573, 423, 797, 201, 756, 661, 597,  26, 297, 382, 790, 302, 449,\n",
       "       669, 379,  69, 168, 553, 486, 388, 436, 161, 742, 420, 260, 430,\n",
       "       514, 385, 230, 461, 702, 193, 214, 660, 651, 351, 435,  31, 476,\n",
       "       380, 288, 110, 665, 450, 115, 295, 521, 338, 253, 144, 707, 703,\n",
       "       505, 640,  43,  80, 375, 341, 487, 610, 771, 233,  88, 137, 631,\n",
       "       291,  55, 152, 179, 310, 407, 282, 693,  78,  11, 146, 643, 392,\n",
       "       786, 329, 577, 358, 415, 414, 603, 166, 753, 133, 225, 411, 383,\n",
       "       208, 734,  28,   8,  95, 359, 525, 744, 124, 444, 494, 457, 363,\n",
       "        52, 412, 373, 574, 236,  62, 352, 333, 691, 715, 416, 687, 527,\n",
       "       296, 754,  37, 781, 530, 210, 316,  13, 249, 558, 334, 620, 278,\n",
       "       107, 619, 714, 726, 725, 587,  71, 327, 671, 209, 274,  59, 339,\n",
       "       696, 802, 343, 438, 792, 324,  36, 455, 273,  16, 745, 648, 119,\n",
       "        96,  33, 431, 501, 187,  27, 129, 738, 240, 739])"
      ]
     },
     "execution_count": 130,
     "metadata": {},
     "output_type": "execute_result"
    }
   ],
   "source": [
    "# Encode labels in column 'location' in test data. \n",
    "test_data['location']= label_encoder.fit_transform(test_data['location']) \n",
    "  \n",
    "test_data['location'].unique()"
   ]
  },
  {
   "cell_type": "code",
   "execution_count": 131,
   "metadata": {},
   "outputs": [
    {
     "data": {
      "text/plain": [
       "114     4168\n",
       "1027    2508\n",
       "811     1644\n",
       "1301    1193\n",
       "863     1083\n",
       "        ... \n",
       "1205       1\n",
       "1189       1\n",
       "1173       1\n",
       "1211       1\n",
       "1495       1\n",
       "Name: location, Length: 1504, dtype: int64"
      ]
     },
     "execution_count": 131,
     "metadata": {},
     "output_type": "execute_result"
    }
   ],
   "source": [
    "train_data.location.value_counts()"
   ]
  },
  {
   "cell_type": "code",
   "execution_count": 132,
   "metadata": {},
   "outputs": [
    {
     "data": {
      "text/html": [
       "<div>\n",
       "<style scoped>\n",
       "    .dataframe tbody tr th:only-of-type {\n",
       "        vertical-align: middle;\n",
       "    }\n",
       "\n",
       "    .dataframe tbody tr th {\n",
       "        vertical-align: top;\n",
       "    }\n",
       "\n",
       "    .dataframe thead th {\n",
       "        text-align: right;\n",
       "    }\n",
       "</style>\n",
       "<table border=\"1\" class=\"dataframe\">\n",
       "  <thead>\n",
       "    <tr style=\"text-align: right;\">\n",
       "      <th></th>\n",
       "      <th>experience</th>\n",
       "      <th>job_type</th>\n",
       "      <th>location</th>\n",
       "      <th>salary</th>\n",
       "      <th>company_name_encoded</th>\n",
       "    </tr>\n",
       "  </thead>\n",
       "  <tbody>\n",
       "    <tr>\n",
       "      <th>0</th>\n",
       "      <td>8.5</td>\n",
       "      <td>NON-ANALYTICS</td>\n",
       "      <td>597</td>\n",
       "      <td>3</td>\n",
       "      <td>3687</td>\n",
       "    </tr>\n",
       "    <tr>\n",
       "      <th>1</th>\n",
       "      <td>18.5</td>\n",
       "      <td>NON-ANALYTICS</td>\n",
       "      <td>1412</td>\n",
       "      <td>1</td>\n",
       "      <td>458</td>\n",
       "    </tr>\n",
       "    <tr>\n",
       "      <th>2</th>\n",
       "      <td>9.5</td>\n",
       "      <td>ANALYTICS</td>\n",
       "      <td>525</td>\n",
       "      <td>2</td>\n",
       "      <td>4195</td>\n",
       "    </tr>\n",
       "    <tr>\n",
       "      <th>3</th>\n",
       "      <td>12.0</td>\n",
       "      <td>ANALYTICS</td>\n",
       "      <td>114</td>\n",
       "      <td>1</td>\n",
       "      <td>313</td>\n",
       "    </tr>\n",
       "    <tr>\n",
       "      <th>4</th>\n",
       "      <td>2.5</td>\n",
       "      <td>NON-ANALYTICS</td>\n",
       "      <td>811</td>\n",
       "      <td>5</td>\n",
       "      <td>1305</td>\n",
       "    </tr>\n",
       "  </tbody>\n",
       "</table>\n",
       "</div>"
      ],
      "text/plain": [
       "   experience       job_type  location  salary  company_name_encoded\n",
       "0         8.5  NON-ANALYTICS       597       3                  3687\n",
       "1        18.5  NON-ANALYTICS      1412       1                   458\n",
       "2         9.5      ANALYTICS       525       2                  4195\n",
       "3        12.0      ANALYTICS       114       1                   313\n",
       "4         2.5  NON-ANALYTICS       811       5                  1305"
      ]
     },
     "execution_count": 132,
     "metadata": {},
     "output_type": "execute_result"
    }
   ],
   "source": [
    "train_data.head()"
   ]
  },
  {
   "cell_type": "code",
   "execution_count": 133,
   "metadata": {},
   "outputs": [
    {
     "data": {
      "text/html": [
       "<div>\n",
       "<style scoped>\n",
       "    .dataframe tbody tr th:only-of-type {\n",
       "        vertical-align: middle;\n",
       "    }\n",
       "\n",
       "    .dataframe tbody tr th {\n",
       "        vertical-align: top;\n",
       "    }\n",
       "\n",
       "    .dataframe thead th {\n",
       "        text-align: right;\n",
       "    }\n",
       "</style>\n",
       "<table border=\"1\" class=\"dataframe\">\n",
       "  <thead>\n",
       "    <tr style=\"text-align: right;\">\n",
       "      <th></th>\n",
       "      <th>experience</th>\n",
       "      <th>job_type</th>\n",
       "      <th>location</th>\n",
       "      <th>company_name_encoded</th>\n",
       "    </tr>\n",
       "  </thead>\n",
       "  <tbody>\n",
       "    <tr>\n",
       "      <th>0</th>\n",
       "      <td>13.0</td>\n",
       "      <td>NON-ANALYTICS</td>\n",
       "      <td>56</td>\n",
       "      <td>2066</td>\n",
       "    </tr>\n",
       "    <tr>\n",
       "      <th>1</th>\n",
       "      <td>2.5</td>\n",
       "      <td>NON-ANALYTICS</td>\n",
       "      <td>17</td>\n",
       "      <td>2629</td>\n",
       "    </tr>\n",
       "    <tr>\n",
       "      <th>2</th>\n",
       "      <td>6.0</td>\n",
       "      <td>NON-ANALYTICS</td>\n",
       "      <td>56</td>\n",
       "      <td>2448</td>\n",
       "    </tr>\n",
       "    <tr>\n",
       "      <th>3</th>\n",
       "      <td>1.5</td>\n",
       "      <td>NON-ANALYTICS</td>\n",
       "      <td>321</td>\n",
       "      <td>2711</td>\n",
       "    </tr>\n",
       "    <tr>\n",
       "      <th>4</th>\n",
       "      <td>2.5</td>\n",
       "      <td>NON-ANALYTICS</td>\n",
       "      <td>453</td>\n",
       "      <td>40</td>\n",
       "    </tr>\n",
       "  </tbody>\n",
       "</table>\n",
       "</div>"
      ],
      "text/plain": [
       "   experience       job_type  location  company_name_encoded\n",
       "0        13.0  NON-ANALYTICS        56                  2066\n",
       "1         2.5  NON-ANALYTICS        17                  2629\n",
       "2         6.0  NON-ANALYTICS        56                  2448\n",
       "3         1.5  NON-ANALYTICS       321                  2711\n",
       "4         2.5  NON-ANALYTICS       453                    40"
      ]
     },
     "execution_count": 133,
     "metadata": {},
     "output_type": "execute_result"
    }
   ],
   "source": [
    "test_data.head()"
   ]
  },
  {
   "cell_type": "code",
   "execution_count": 134,
   "metadata": {},
   "outputs": [
    {
     "data": {
      "text/html": [
       "<div>\n",
       "<style scoped>\n",
       "    .dataframe tbody tr th:only-of-type {\n",
       "        vertical-align: middle;\n",
       "    }\n",
       "\n",
       "    .dataframe tbody tr th {\n",
       "        vertical-align: top;\n",
       "    }\n",
       "\n",
       "    .dataframe thead th {\n",
       "        text-align: right;\n",
       "    }\n",
       "</style>\n",
       "<table border=\"1\" class=\"dataframe\">\n",
       "  <thead>\n",
       "    <tr style=\"text-align: right;\">\n",
       "      <th></th>\n",
       "      <th>experience</th>\n",
       "      <th>job_type</th>\n",
       "      <th>location</th>\n",
       "      <th>salary</th>\n",
       "      <th>company_name_encoded</th>\n",
       "      <th>ANALYTICS</th>\n",
       "    </tr>\n",
       "  </thead>\n",
       "  <tbody>\n",
       "    <tr>\n",
       "      <th>0</th>\n",
       "      <td>8.5</td>\n",
       "      <td>NON-ANALYTICS</td>\n",
       "      <td>597</td>\n",
       "      <td>3</td>\n",
       "      <td>3687</td>\n",
       "      <td>0</td>\n",
       "    </tr>\n",
       "    <tr>\n",
       "      <th>1</th>\n",
       "      <td>18.5</td>\n",
       "      <td>NON-ANALYTICS</td>\n",
       "      <td>1412</td>\n",
       "      <td>1</td>\n",
       "      <td>458</td>\n",
       "      <td>0</td>\n",
       "    </tr>\n",
       "    <tr>\n",
       "      <th>2</th>\n",
       "      <td>9.5</td>\n",
       "      <td>ANALYTICS</td>\n",
       "      <td>525</td>\n",
       "      <td>2</td>\n",
       "      <td>4195</td>\n",
       "      <td>1</td>\n",
       "    </tr>\n",
       "    <tr>\n",
       "      <th>3</th>\n",
       "      <td>12.0</td>\n",
       "      <td>ANALYTICS</td>\n",
       "      <td>114</td>\n",
       "      <td>1</td>\n",
       "      <td>313</td>\n",
       "      <td>1</td>\n",
       "    </tr>\n",
       "    <tr>\n",
       "      <th>4</th>\n",
       "      <td>2.5</td>\n",
       "      <td>NON-ANALYTICS</td>\n",
       "      <td>811</td>\n",
       "      <td>5</td>\n",
       "      <td>1305</td>\n",
       "      <td>0</td>\n",
       "    </tr>\n",
       "  </tbody>\n",
       "</table>\n",
       "</div>"
      ],
      "text/plain": [
       "   experience       job_type  location  salary  company_name_encoded  \\\n",
       "0         8.5  NON-ANALYTICS       597       3                  3687   \n",
       "1        18.5  NON-ANALYTICS      1412       1                   458   \n",
       "2         9.5      ANALYTICS       525       2                  4195   \n",
       "3        12.0      ANALYTICS       114       1                   313   \n",
       "4         2.5  NON-ANALYTICS       811       5                  1305   \n",
       "\n",
       "   ANALYTICS  \n",
       "0          0  \n",
       "1          0  \n",
       "2          1  \n",
       "3          1  \n",
       "4          0  "
      ]
     },
     "execution_count": 134,
     "metadata": {},
     "output_type": "execute_result"
    }
   ],
   "source": [
    "dummies = pd.get_dummies(train_data.job_type)\n",
    "train_data = pd.concat([train_data,dummies.drop('NON-ANALYTICS',axis='columns')],axis='columns')\n",
    "train_data.head()"
   ]
  },
  {
   "cell_type": "code",
   "execution_count": 135,
   "metadata": {},
   "outputs": [
    {
     "data": {
      "text/html": [
       "<div>\n",
       "<style scoped>\n",
       "    .dataframe tbody tr th:only-of-type {\n",
       "        vertical-align: middle;\n",
       "    }\n",
       "\n",
       "    .dataframe tbody tr th {\n",
       "        vertical-align: top;\n",
       "    }\n",
       "\n",
       "    .dataframe thead th {\n",
       "        text-align: right;\n",
       "    }\n",
       "</style>\n",
       "<table border=\"1\" class=\"dataframe\">\n",
       "  <thead>\n",
       "    <tr style=\"text-align: right;\">\n",
       "      <th></th>\n",
       "      <th>experience</th>\n",
       "      <th>job_type</th>\n",
       "      <th>location</th>\n",
       "      <th>company_name_encoded</th>\n",
       "      <th>ANALYTICS</th>\n",
       "    </tr>\n",
       "  </thead>\n",
       "  <tbody>\n",
       "    <tr>\n",
       "      <th>0</th>\n",
       "      <td>13.0</td>\n",
       "      <td>NON-ANALYTICS</td>\n",
       "      <td>56</td>\n",
       "      <td>2066</td>\n",
       "      <td>0</td>\n",
       "    </tr>\n",
       "    <tr>\n",
       "      <th>1</th>\n",
       "      <td>2.5</td>\n",
       "      <td>NON-ANALYTICS</td>\n",
       "      <td>17</td>\n",
       "      <td>2629</td>\n",
       "      <td>0</td>\n",
       "    </tr>\n",
       "    <tr>\n",
       "      <th>2</th>\n",
       "      <td>6.0</td>\n",
       "      <td>NON-ANALYTICS</td>\n",
       "      <td>56</td>\n",
       "      <td>2448</td>\n",
       "      <td>0</td>\n",
       "    </tr>\n",
       "    <tr>\n",
       "      <th>3</th>\n",
       "      <td>1.5</td>\n",
       "      <td>NON-ANALYTICS</td>\n",
       "      <td>321</td>\n",
       "      <td>2711</td>\n",
       "      <td>0</td>\n",
       "    </tr>\n",
       "    <tr>\n",
       "      <th>4</th>\n",
       "      <td>2.5</td>\n",
       "      <td>NON-ANALYTICS</td>\n",
       "      <td>453</td>\n",
       "      <td>40</td>\n",
       "      <td>0</td>\n",
       "    </tr>\n",
       "  </tbody>\n",
       "</table>\n",
       "</div>"
      ],
      "text/plain": [
       "   experience       job_type  location  company_name_encoded  ANALYTICS\n",
       "0        13.0  NON-ANALYTICS        56                  2066          0\n",
       "1         2.5  NON-ANALYTICS        17                  2629          0\n",
       "2         6.0  NON-ANALYTICS        56                  2448          0\n",
       "3         1.5  NON-ANALYTICS       321                  2711          0\n",
       "4         2.5  NON-ANALYTICS       453                    40          0"
      ]
     },
     "execution_count": 135,
     "metadata": {},
     "output_type": "execute_result"
    }
   ],
   "source": [
    "dummies = pd.get_dummies(test_data.job_type)\n",
    "test_data = pd.concat([test_data,dummies.drop('NON-ANALYTICS',axis='columns')],axis='columns')\n",
    "test_data.head()"
   ]
  },
  {
   "cell_type": "code",
   "execution_count": 39,
   "metadata": {},
   "outputs": [
    {
     "name": "stdout",
     "output_type": "stream",
     "text": [
      "<class 'pandas.core.frame.DataFrame'>\n",
      "RangeIndex: 19802 entries, 0 to 19801\n",
      "Data columns (total 6 columns):\n",
      " #   Column                Non-Null Count  Dtype  \n",
      "---  ------                --------------  -----  \n",
      " 0   experience            19802 non-null  float64\n",
      " 1   job_type              19802 non-null  object \n",
      " 2   location              19802 non-null  int32  \n",
      " 3   salary                19802 non-null  float64\n",
      " 4   company_name_encoded  19802 non-null  int64  \n",
      " 5   ANALYTICS             19802 non-null  uint8  \n",
      "dtypes: float64(2), int32(1), int64(1), object(1), uint8(1)\n",
      "memory usage: 715.6+ KB\n"
     ]
    }
   ],
   "source": [
    "train_data.info()"
   ]
  },
  {
   "cell_type": "code",
   "execution_count": 136,
   "metadata": {},
   "outputs": [],
   "source": [
    "train_data.drop(['job_type'], axis=1, inplace=True)"
   ]
  },
  {
   "cell_type": "code",
   "execution_count": 137,
   "metadata": {},
   "outputs": [],
   "source": [
    "test_data.drop(['job_type'], axis=1, inplace=True)"
   ]
  },
  {
   "cell_type": "code",
   "execution_count": 138,
   "metadata": {},
   "outputs": [],
   "source": [
    "X = train_data.drop('salary', axis=1)\n",
    "y = train_data['salary']"
   ]
  },
  {
   "cell_type": "code",
   "execution_count": 139,
   "metadata": {},
   "outputs": [],
   "source": [
    "X_train, X_test, y_train, y_test = train_test_split(X, y, test_size=0.2, random_state=9)"
   ]
  },
  {
   "cell_type": "code",
   "execution_count": 140,
   "metadata": {},
   "outputs": [
    {
     "data": {
      "text/plain": [
       "LinearRegression()"
      ]
     },
     "execution_count": 140,
     "metadata": {},
     "output_type": "execute_result"
    }
   ],
   "source": [
    "model = LinearRegression()\n",
    "model.fit(X_train, y_train)"
   ]
  },
  {
   "cell_type": "code",
   "execution_count": 141,
   "metadata": {},
   "outputs": [
    {
     "data": {
      "text/plain": [
       "0.01965957700329346"
      ]
     },
     "execution_count": 141,
     "metadata": {},
     "output_type": "execute_result"
    }
   ],
   "source": [
    "model.score(X_test, y_test)"
   ]
  },
  {
   "cell_type": "code",
   "execution_count": 142,
   "metadata": {},
   "outputs": [
    {
     "data": {
      "text/plain": [
       "LogisticRegression()"
      ]
     },
     "execution_count": 142,
     "metadata": {},
     "output_type": "execute_result"
    }
   ],
   "source": [
    "log_model = LogisticRegression()\n",
    "log_model.fit(X_train, y_train)"
   ]
  },
  {
   "cell_type": "code",
   "execution_count": 143,
   "metadata": {},
   "outputs": [
    {
     "data": {
      "text/plain": [
       "0.3281999495077001"
      ]
     },
     "execution_count": 143,
     "metadata": {},
     "output_type": "execute_result"
    }
   ],
   "source": [
    "log_model.score(X_test, y_test)"
   ]
  },
  {
   "cell_type": "code",
   "execution_count": 149,
   "metadata": {},
   "outputs": [
    {
     "data": {
      "text/plain": [
       "RandomForestClassifier()"
      ]
     },
     "execution_count": 149,
     "metadata": {},
     "output_type": "execute_result"
    }
   ],
   "source": [
    "rfg_model = RandomForestClassifier()\n",
    "rfg_model.fit(X_train, y_train)"
   ]
  },
  {
   "cell_type": "code",
   "execution_count": 150,
   "metadata": {},
   "outputs": [
    {
     "data": {
      "text/plain": [
       "0.3673314819490028"
      ]
     },
     "execution_count": 150,
     "metadata": {},
     "output_type": "execute_result"
    }
   ],
   "source": [
    "rfg_model.score(X_test, y_test)"
   ]
  },
  {
   "cell_type": "code",
   "execution_count": 151,
   "metadata": {},
   "outputs": [],
   "source": [
    "y_rfc = rfg_model.predict(X_test)"
   ]
  },
  {
   "cell_type": "code",
   "execution_count": 152,
   "metadata": {},
   "outputs": [
    {
     "data": {
      "text/plain": [
       "array([2, 4, 1, ..., 6, 2, 4], dtype=int64)"
      ]
     },
     "execution_count": 152,
     "metadata": {},
     "output_type": "execute_result"
    }
   ],
   "source": [
    "test_predict = rfg_model.predict(test_data)\n",
    "test_predict"
   ]
  },
  {
   "cell_type": "code",
   "execution_count": 153,
   "metadata": {},
   "outputs": [],
   "source": [
    "y_test_pred = pd.DataFrame(test_predict,columns=[   'SECTION'   ])\n",
    "y_test_pred.to_csv('submission.csv', index=False)"
   ]
  },
  {
   "cell_type": "code",
   "execution_count": 154,
   "metadata": {},
   "outputs": [
    {
     "data": {
      "text/html": [
       "<div>\n",
       "<style scoped>\n",
       "    .dataframe tbody tr th:only-of-type {\n",
       "        vertical-align: middle;\n",
       "    }\n",
       "\n",
       "    .dataframe tbody tr th {\n",
       "        vertical-align: top;\n",
       "    }\n",
       "\n",
       "    .dataframe thead th {\n",
       "        text-align: right;\n",
       "    }\n",
       "</style>\n",
       "<table border=\"1\" class=\"dataframe\">\n",
       "  <thead>\n",
       "    <tr style=\"text-align: right;\">\n",
       "      <th></th>\n",
       "      <th>SECTION</th>\n",
       "    </tr>\n",
       "  </thead>\n",
       "  <tbody>\n",
       "    <tr>\n",
       "      <th>0</th>\n",
       "      <td>2</td>\n",
       "    </tr>\n",
       "    <tr>\n",
       "      <th>1</th>\n",
       "      <td>4</td>\n",
       "    </tr>\n",
       "    <tr>\n",
       "      <th>2</th>\n",
       "      <td>1</td>\n",
       "    </tr>\n",
       "    <tr>\n",
       "      <th>3</th>\n",
       "      <td>4</td>\n",
       "    </tr>\n",
       "    <tr>\n",
       "      <th>4</th>\n",
       "      <td>4</td>\n",
       "    </tr>\n",
       "  </tbody>\n",
       "</table>\n",
       "</div>"
      ],
      "text/plain": [
       "   SECTION\n",
       "0        2\n",
       "1        4\n",
       "2        1\n",
       "3        4\n",
       "4        4"
      ]
     },
     "execution_count": 154,
     "metadata": {},
     "output_type": "execute_result"
    }
   ],
   "source": [
    "pred_data = pd.read_csv('submission.csv')\n",
    "pred_data.head()"
   ]
  },
  {
   "cell_type": "code",
   "execution_count": 157,
   "metadata": {},
   "outputs": [
    {
     "data": {
      "text/html": [
       "<div>\n",
       "<style scoped>\n",
       "    .dataframe tbody tr th:only-of-type {\n",
       "        vertical-align: middle;\n",
       "    }\n",
       "\n",
       "    .dataframe tbody tr th {\n",
       "        vertical-align: top;\n",
       "    }\n",
       "\n",
       "    .dataframe thead th {\n",
       "        text-align: right;\n",
       "    }\n",
       "</style>\n",
       "<table border=\"1\" class=\"dataframe\">\n",
       "  <thead>\n",
       "    <tr style=\"text-align: right;\">\n",
       "      <th></th>\n",
       "      <th>SECTION</th>\n",
       "    </tr>\n",
       "  </thead>\n",
       "  <tbody>\n",
       "    <tr>\n",
       "      <th>0</th>\n",
       "      <td>15to25</td>\n",
       "    </tr>\n",
       "    <tr>\n",
       "      <th>1</th>\n",
       "      <td>0to3</td>\n",
       "    </tr>\n",
       "    <tr>\n",
       "      <th>2</th>\n",
       "      <td>10to15</td>\n",
       "    </tr>\n",
       "    <tr>\n",
       "      <th>3</th>\n",
       "      <td>0to3</td>\n",
       "    </tr>\n",
       "    <tr>\n",
       "      <th>4</th>\n",
       "      <td>0to3</td>\n",
       "    </tr>\n",
       "  </tbody>\n",
       "</table>\n",
       "</div>"
      ],
      "text/plain": [
       "  SECTION\n",
       "0  15to25\n",
       "1    0to3\n",
       "2  10to15\n",
       "3    0to3\n",
       "4    0to3"
      ]
     },
     "execution_count": 157,
     "metadata": {},
     "output_type": "execute_result"
    }
   ],
   "source": [
    "salary_map  = {1:'10to15',\n",
    "               2:'15to25',\n",
    "               3:'6to10',\n",
    "               4:'0to3',\n",
    "               5:'3to6',\n",
    "               6:'25to50'}\n",
    "y_test_pred[   'SECTION'   ] = y_test_pred[   'SECTION'   ].map(salary_map)\n",
    "y_test_pred.head()"
   ]
  },
  {
   "cell_type": "code",
   "execution_count": 160,
   "metadata": {},
   "outputs": [],
   "source": [
    "y_test_pred.columns = [   'salary'   ]\n",
    "y_test_pred.to_csv(\"submission.csv\")"
   ]
  },
  {
   "cell_type": "code",
   "execution_count": null,
   "metadata": {},
   "outputs": [],
   "source": []
  }
 ],
 "metadata": {
  "kernelspec": {
   "display_name": "Python 3",
   "language": "python",
   "name": "python3"
  },
  "language_info": {
   "codemirror_mode": {
    "name": "ipython",
    "version": 3
   },
   "file_extension": ".py",
   "mimetype": "text/x-python",
   "name": "python",
   "nbconvert_exporter": "python",
   "pygments_lexer": "ipython3",
   "version": "3.8.5"
  }
 },
 "nbformat": 4,
 "nbformat_minor": 4
}
