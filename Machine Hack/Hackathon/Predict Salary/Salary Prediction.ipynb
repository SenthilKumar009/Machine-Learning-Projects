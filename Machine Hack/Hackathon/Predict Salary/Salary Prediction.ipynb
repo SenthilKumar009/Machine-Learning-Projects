{
 "cells": [
  {
   "cell_type": "code",
   "execution_count": 1,
   "metadata": {},
   "outputs": [],
   "source": [
    "import pandas as pd   # package for data analysis\n",
    "import numpy as np    # package for numerical computations\n",
    "\n",
    "# libraries for visualization\n",
    "import matplotlib.pyplot as plt\n",
    "import seaborn as sns\n",
    "\n",
    "# to ignore warnings\n",
    "import warnings\n",
    "warnings.filterwarnings('ignore')\n",
    "\n",
    "# For Preprocessing, ML models and Evaluation\n",
    "from sklearn.model_selection import train_test_split   # To split the dataset into train and test set\n",
    "\n",
    "from sklearn import preprocessing\n",
    "from sklearn.preprocessing import LabelEncoder    # for converting categorical to numerical\n",
    "\n",
    "from sklearn.metrics import f1_score    # for model evaluation"
   ]
  },
  {
   "cell_type": "code",
   "execution_count": 15,
   "metadata": {},
   "outputs": [
    {
     "data": {
      "text/html": [
       "<div>\n",
       "<style scoped>\n",
       "    .dataframe tbody tr th:only-of-type {\n",
       "        vertical-align: middle;\n",
       "    }\n",
       "\n",
       "    .dataframe tbody tr th {\n",
       "        vertical-align: top;\n",
       "    }\n",
       "\n",
       "    .dataframe thead th {\n",
       "        text-align: right;\n",
       "    }\n",
       "</style>\n",
       "<table border=\"1\" class=\"dataframe\">\n",
       "  <thead>\n",
       "    <tr style=\"text-align: right;\">\n",
       "      <th></th>\n",
       "      <th>Unnamed: 0</th>\n",
       "      <th>experience</th>\n",
       "      <th>job_description</th>\n",
       "      <th>job_desig</th>\n",
       "      <th>job_type</th>\n",
       "      <th>key_skills</th>\n",
       "      <th>location</th>\n",
       "      <th>salary</th>\n",
       "      <th>company_name_encoded</th>\n",
       "    </tr>\n",
       "  </thead>\n",
       "  <tbody>\n",
       "    <tr>\n",
       "      <th>0</th>\n",
       "      <td>0</td>\n",
       "      <td>5-7 yrs</td>\n",
       "      <td>Exp: Minimum 5 years;Good understanding of IOC...</td>\n",
       "      <td>Senior Exploit and Vulnerability Researcher</td>\n",
       "      <td>NaN</td>\n",
       "      <td>team skills, communication skills, analytical ...</td>\n",
       "      <td>Delhi NCR(Vikas Puri)</td>\n",
       "      <td>6to10</td>\n",
       "      <td>3687</td>\n",
       "    </tr>\n",
       "    <tr>\n",
       "      <th>1</th>\n",
       "      <td>1</td>\n",
       "      <td>10-17 yrs</td>\n",
       "      <td>He should have handled a team of atleast 5-6 d...</td>\n",
       "      <td>Head SCM</td>\n",
       "      <td>NaN</td>\n",
       "      <td>ppc, logistics, inventory management, supply c...</td>\n",
       "      <td>Sonepat</td>\n",
       "      <td>10to15</td>\n",
       "      <td>458</td>\n",
       "    </tr>\n",
       "    <tr>\n",
       "      <th>2</th>\n",
       "      <td>2</td>\n",
       "      <td>5-9 yrs</td>\n",
       "      <td>Must be an effective communicator (written &amp; s...</td>\n",
       "      <td>Deputy Manager - Talent Management &amp; Leadershi...</td>\n",
       "      <td>Analytics</td>\n",
       "      <td>HR Analytics, Employee Engagement, Training, S...</td>\n",
       "      <td>Delhi NCR</td>\n",
       "      <td>15to25</td>\n",
       "      <td>4195</td>\n",
       "    </tr>\n",
       "    <tr>\n",
       "      <th>3</th>\n",
       "      <td>3</td>\n",
       "      <td>7-10 yrs</td>\n",
       "      <td>7  -  10 years of overall experience in data e...</td>\n",
       "      <td>Associate Manager Data Engineering</td>\n",
       "      <td>Analytics</td>\n",
       "      <td>SQL, Javascript, Automation, Python, Ruby, Ana...</td>\n",
       "      <td>Bengaluru</td>\n",
       "      <td>10to15</td>\n",
       "      <td>313</td>\n",
       "    </tr>\n",
       "    <tr>\n",
       "      <th>4</th>\n",
       "      <td>4</td>\n",
       "      <td>1-3 yrs</td>\n",
       "      <td>Chartered Accountancy degree or MBA in Finance...</td>\n",
       "      <td>TS- GSA- Senior Analyst</td>\n",
       "      <td>NaN</td>\n",
       "      <td>accounting, finance, cash flow, financial plan...</td>\n",
       "      <td>Gurgaon</td>\n",
       "      <td>3to6</td>\n",
       "      <td>1305</td>\n",
       "    </tr>\n",
       "  </tbody>\n",
       "</table>\n",
       "</div>"
      ],
      "text/plain": [
       "   Unnamed: 0 experience                                    job_description  \\\n",
       "0           0    5-7 yrs  Exp: Minimum 5 years;Good understanding of IOC...   \n",
       "1           1  10-17 yrs  He should have handled a team of atleast 5-6 d...   \n",
       "2           2    5-9 yrs  Must be an effective communicator (written & s...   \n",
       "3           3   7-10 yrs  7  -  10 years of overall experience in data e...   \n",
       "4           4    1-3 yrs  Chartered Accountancy degree or MBA in Finance...   \n",
       "\n",
       "                                           job_desig   job_type  \\\n",
       "0        Senior Exploit and Vulnerability Researcher        NaN   \n",
       "1                                           Head SCM        NaN   \n",
       "2  Deputy Manager - Talent Management & Leadershi...  Analytics   \n",
       "3                 Associate Manager Data Engineering  Analytics   \n",
       "4                            TS- GSA- Senior Analyst        NaN   \n",
       "\n",
       "                                          key_skills               location  \\\n",
       "0  team skills, communication skills, analytical ...  Delhi NCR(Vikas Puri)   \n",
       "1  ppc, logistics, inventory management, supply c...                Sonepat   \n",
       "2  HR Analytics, Employee Engagement, Training, S...              Delhi NCR   \n",
       "3  SQL, Javascript, Automation, Python, Ruby, Ana...              Bengaluru   \n",
       "4  accounting, finance, cash flow, financial plan...                Gurgaon   \n",
       "\n",
       "   salary  company_name_encoded  \n",
       "0   6to10                  3687  \n",
       "1  10to15                   458  \n",
       "2  15to25                  4195  \n",
       "3  10to15                   313  \n",
       "4    3to6                  1305  "
      ]
     },
     "execution_count": 15,
     "metadata": {},
     "output_type": "execute_result"
    }
   ],
   "source": [
    "train_data = pd.read_csv('Final_Train_Dataset.csv')\n",
    "train_data.head()"
   ]
  },
  {
   "cell_type": "code",
   "execution_count": 16,
   "metadata": {},
   "outputs": [
    {
     "data": {
      "text/html": [
       "<div>\n",
       "<style scoped>\n",
       "    .dataframe tbody tr th:only-of-type {\n",
       "        vertical-align: middle;\n",
       "    }\n",
       "\n",
       "    .dataframe tbody tr th {\n",
       "        vertical-align: top;\n",
       "    }\n",
       "\n",
       "    .dataframe thead th {\n",
       "        text-align: right;\n",
       "    }\n",
       "</style>\n",
       "<table border=\"1\" class=\"dataframe\">\n",
       "  <thead>\n",
       "    <tr style=\"text-align: right;\">\n",
       "      <th></th>\n",
       "      <th>experience</th>\n",
       "      <th>job_description</th>\n",
       "      <th>job_desig</th>\n",
       "      <th>job_type</th>\n",
       "      <th>key_skills</th>\n",
       "      <th>location</th>\n",
       "      <th>company_name_encoded</th>\n",
       "    </tr>\n",
       "  </thead>\n",
       "  <tbody>\n",
       "    <tr>\n",
       "      <th>0</th>\n",
       "      <td>7-12 yrs</td>\n",
       "      <td>Professional experience in Java/J2EE based ser...</td>\n",
       "      <td>IT Technology Senior Consultant/java/ J2ee/ Se...</td>\n",
       "      <td>NaN</td>\n",
       "      <td>Java, J2Ee, Tomcat, JBoss, Weblogic, Oracle, E...</td>\n",
       "      <td>Bengaluru</td>\n",
       "      <td>2066</td>\n",
       "    </tr>\n",
       "    <tr>\n",
       "      <th>1</th>\n",
       "      <td>0-5 yrs</td>\n",
       "      <td>We are looking for 20+ Fresher/Experienced Can...</td>\n",
       "      <td>Medical Billing Process | International KPO | ...</td>\n",
       "      <td>NaN</td>\n",
       "      <td>Medical Billing, Insurance Processing</td>\n",
       "      <td>Ahmedabad(Sola)</td>\n",
       "      <td>2629</td>\n",
       "    </tr>\n",
       "    <tr>\n",
       "      <th>2</th>\n",
       "      <td>3-6 yrs</td>\n",
       "      <td>Should understand overall integration framewor...</td>\n",
       "      <td>Oracle Sales Cloud Functional Consultant</td>\n",
       "      <td>NaN</td>\n",
       "      <td>Oracle Sales, Functional Consultancy, Troubles...</td>\n",
       "      <td>Bengaluru</td>\n",
       "      <td>2448</td>\n",
       "    </tr>\n",
       "    <tr>\n",
       "      <th>3</th>\n",
       "      <td>0-3 yrs</td>\n",
       "      <td>NaN</td>\n",
       "      <td>Looking For Freshers WHO WANT To Work WITH US</td>\n",
       "      <td>NaN</td>\n",
       "      <td>offline, online, internet, part time, home bas...</td>\n",
       "      <td>Delhi NCR, Chennai, Hyderabad, Gurgaon, Luckno...</td>\n",
       "      <td>2711</td>\n",
       "    </tr>\n",
       "    <tr>\n",
       "      <th>4</th>\n",
       "      <td>0-5 yrs</td>\n",
       "      <td>NaN</td>\n",
       "      <td>Process Associate / Sr Process Associate / Tec...</td>\n",
       "      <td>NaN</td>\n",
       "      <td>voice support, analytical skills, Process asso...</td>\n",
       "      <td>Hyderabad</td>\n",
       "      <td>40</td>\n",
       "    </tr>\n",
       "  </tbody>\n",
       "</table>\n",
       "</div>"
      ],
      "text/plain": [
       "  experience                                    job_description  \\\n",
       "0   7-12 yrs  Professional experience in Java/J2EE based ser...   \n",
       "1    0-5 yrs  We are looking for 20+ Fresher/Experienced Can...   \n",
       "2    3-6 yrs  Should understand overall integration framewor...   \n",
       "3    0-3 yrs                                                NaN   \n",
       "4    0-5 yrs                                                NaN   \n",
       "\n",
       "                                           job_desig job_type  \\\n",
       "0  IT Technology Senior Consultant/java/ J2ee/ Se...      NaN   \n",
       "1  Medical Billing Process | International KPO | ...      NaN   \n",
       "2           Oracle Sales Cloud Functional Consultant      NaN   \n",
       "3      Looking For Freshers WHO WANT To Work WITH US      NaN   \n",
       "4  Process Associate / Sr Process Associate / Tec...      NaN   \n",
       "\n",
       "                                          key_skills  \\\n",
       "0  Java, J2Ee, Tomcat, JBoss, Weblogic, Oracle, E...   \n",
       "1              Medical Billing, Insurance Processing   \n",
       "2  Oracle Sales, Functional Consultancy, Troubles...   \n",
       "3  offline, online, internet, part time, home bas...   \n",
       "4  voice support, analytical skills, Process asso...   \n",
       "\n",
       "                                            location  company_name_encoded  \n",
       "0                                          Bengaluru                  2066  \n",
       "1                                    Ahmedabad(Sola)                  2629  \n",
       "2                                          Bengaluru                  2448  \n",
       "3  Delhi NCR, Chennai, Hyderabad, Gurgaon, Luckno...                  2711  \n",
       "4                                          Hyderabad                    40  "
      ]
     },
     "execution_count": 16,
     "metadata": {},
     "output_type": "execute_result"
    }
   ],
   "source": [
    "test_data = pd.read_csv('Final_Test_Dataset.csv')\n",
    "test_data.head()"
   ]
  },
  {
   "cell_type": "code",
   "execution_count": 17,
   "metadata": {},
   "outputs": [
    {
     "name": "stdout",
     "output_type": "stream",
     "text": [
      "<class 'pandas.core.frame.DataFrame'>\n",
      "RangeIndex: 19802 entries, 0 to 19801\n",
      "Data columns (total 9 columns):\n",
      " #   Column                Non-Null Count  Dtype \n",
      "---  ------                --------------  ----- \n",
      " 0   Unnamed: 0            19802 non-null  int64 \n",
      " 1   experience            19802 non-null  object\n",
      " 2   job_description       15384 non-null  object\n",
      " 3   job_desig             19802 non-null  object\n",
      " 4   job_type              4797 non-null   object\n",
      " 5   key_skills            19801 non-null  object\n",
      " 6   location              19802 non-null  object\n",
      " 7   salary                19802 non-null  object\n",
      " 8   company_name_encoded  19802 non-null  int64 \n",
      "dtypes: int64(2), object(7)\n",
      "memory usage: 1.4+ MB\n"
     ]
    }
   ],
   "source": [
    "train_data.info()"
   ]
  },
  {
   "cell_type": "code",
   "execution_count": 18,
   "metadata": {},
   "outputs": [
    {
     "name": "stdout",
     "output_type": "stream",
     "text": [
      "<class 'pandas.core.frame.DataFrame'>\n",
      "RangeIndex: 19802 entries, 0 to 19801\n",
      "Data columns (total 5 columns):\n",
      " #   Column                Non-Null Count  Dtype \n",
      "---  ------                --------------  ----- \n",
      " 0   experience            19802 non-null  object\n",
      " 1   job_type              4797 non-null   object\n",
      " 2   location              19802 non-null  object\n",
      " 3   salary                19802 non-null  object\n",
      " 4   company_name_encoded  19802 non-null  int64 \n",
      "dtypes: int64(1), object(4)\n",
      "memory usage: 773.6+ KB\n"
     ]
    }
   ],
   "source": [
    "train_data.drop(['Unnamed: 0', 'job_description', 'job_desig', 'key_skills'], axis=1, inplace=True)\n",
    "train_data.info()"
   ]
  },
  {
   "cell_type": "code",
   "execution_count": 19,
   "metadata": {},
   "outputs": [
    {
     "name": "stdout",
     "output_type": "stream",
     "text": [
      "<class 'pandas.core.frame.DataFrame'>\n",
      "RangeIndex: 6601 entries, 0 to 6600\n",
      "Data columns (total 4 columns):\n",
      " #   Column                Non-Null Count  Dtype \n",
      "---  ------                --------------  ----- \n",
      " 0   experience            6601 non-null   object\n",
      " 1   job_type              1637 non-null   object\n",
      " 2   location              6601 non-null   object\n",
      " 3   company_name_encoded  6601 non-null   int64 \n",
      "dtypes: int64(1), object(3)\n",
      "memory usage: 206.4+ KB\n"
     ]
    }
   ],
   "source": [
    "test_data.drop(['job_description', 'job_desig', 'key_skills'], axis=1, inplace=True)\n",
    "test_data.info()"
   ]
  },
  {
   "cell_type": "markdown",
   "metadata": {},
   "source": [
    "### Dealing with missing values"
   ]
  },
  {
   "cell_type": "code",
   "execution_count": 20,
   "metadata": {},
   "outputs": [
    {
     "data": {
      "text/plain": [
       "Analytics    3747\n",
       "analytics     921\n",
       "ANALYTICS      77\n",
       "analytic       32\n",
       "Analytic       20\n",
       "Name: job_type, dtype: int64"
      ]
     },
     "execution_count": 20,
     "metadata": {},
     "output_type": "execute_result"
    }
   ],
   "source": [
    "train_data['job_type'].value_counts()"
   ]
  },
  {
   "cell_type": "code",
   "execution_count": 21,
   "metadata": {},
   "outputs": [
    {
     "data": {
      "text/plain": [
       "ANALYTICS    4797\n",
       "Name: job_type, dtype: int64"
      ]
     },
     "execution_count": 21,
     "metadata": {},
     "output_type": "execute_result"
    }
   ],
   "source": [
    "train_data['job_type'] = train_data['job_type'].replace(to_replace=\n",
    "                            ['Analytics', 'analytics', 'ANALYTICS', 'analytic', 'Analytic'], value='ANALYTICS')\n",
    "train_data['job_type'].value_counts()"
   ]
  },
  {
   "cell_type": "code",
   "execution_count": 22,
   "metadata": {},
   "outputs": [
    {
     "data": {
      "text/plain": [
       "ANALYTICS    1637\n",
       "Name: job_type, dtype: int64"
      ]
     },
     "execution_count": 22,
     "metadata": {},
     "output_type": "execute_result"
    }
   ],
   "source": [
    "test_data['job_type'] = test_data['job_type'].replace(to_replace=\n",
    "                            ['Analytics', 'analytics', 'ANALYTICS', 'analytic', 'Analytic'], value='ANALYTICS')\n",
    "test_data['job_type'].value_counts()"
   ]
  },
  {
   "cell_type": "code",
   "execution_count": 23,
   "metadata": {},
   "outputs": [
    {
     "data": {
      "text/plain": [
       "True     15005\n",
       "False     4797\n",
       "Name: job_type, dtype: int64"
      ]
     },
     "execution_count": 23,
     "metadata": {},
     "output_type": "execute_result"
    }
   ],
   "source": [
    "train_data['job_type'].isnull().value_counts()"
   ]
  },
  {
   "cell_type": "code",
   "execution_count": 24,
   "metadata": {},
   "outputs": [
    {
     "data": {
      "text/plain": [
       "True     4964\n",
       "False    1637\n",
       "Name: job_type, dtype: int64"
      ]
     },
     "execution_count": 24,
     "metadata": {},
     "output_type": "execute_result"
    }
   ],
   "source": [
    "test_data['job_type'].isnull().value_counts()"
   ]
  },
  {
   "cell_type": "code",
   "execution_count": 25,
   "metadata": {},
   "outputs": [],
   "source": [
    "#train_data['job_type'].replace(np.nan, 'NON-ANALYTICS', inplace=True )\n",
    "train_data.dropna(inplace=True)"
   ]
  },
  {
   "cell_type": "code",
   "execution_count": 26,
   "metadata": {},
   "outputs": [],
   "source": [
    "#test_data['job_type'].replace(np.nan, 'NON-ANALYTICS', inplace=True )\n",
    "test_data.dropna(inplace=True)"
   ]
  },
  {
   "cell_type": "code",
   "execution_count": 27,
   "metadata": {},
   "outputs": [
    {
     "data": {
      "text/plain": [
       "False    4797\n",
       "Name: job_type, dtype: int64"
      ]
     },
     "execution_count": 27,
     "metadata": {},
     "output_type": "execute_result"
    }
   ],
   "source": [
    "train_data['job_type'].isnull().value_counts()"
   ]
  },
  {
   "cell_type": "code",
   "execution_count": 28,
   "metadata": {},
   "outputs": [
    {
     "data": {
      "text/plain": [
       "False    1637\n",
       "Name: job_type, dtype: int64"
      ]
     },
     "execution_count": 28,
     "metadata": {},
     "output_type": "execute_result"
    }
   ],
   "source": [
    "test_data['job_type'].isnull().value_counts()"
   ]
  },
  {
   "cell_type": "code",
   "execution_count": 29,
   "metadata": {},
   "outputs": [
    {
     "data": {
      "text/plain": [
       "experience              0\n",
       "job_type                0\n",
       "location                0\n",
       "salary                  0\n",
       "company_name_encoded    0\n",
       "dtype: int64"
      ]
     },
     "execution_count": 29,
     "metadata": {},
     "output_type": "execute_result"
    }
   ],
   "source": [
    "train_data.isnull().sum()"
   ]
  },
  {
   "cell_type": "code",
   "execution_count": 30,
   "metadata": {},
   "outputs": [
    {
     "data": {
      "text/plain": [
       "experience              0\n",
       "job_type                0\n",
       "location                0\n",
       "company_name_encoded    0\n",
       "dtype: int64"
      ]
     },
     "execution_count": 30,
     "metadata": {},
     "output_type": "execute_result"
    }
   ],
   "source": [
    "test_data.isnull().sum()"
   ]
  },
  {
   "cell_type": "code",
   "execution_count": 31,
   "metadata": {},
   "outputs": [
    {
     "data": {
      "text/html": [
       "<div>\n",
       "<style scoped>\n",
       "    .dataframe tbody tr th:only-of-type {\n",
       "        vertical-align: middle;\n",
       "    }\n",
       "\n",
       "    .dataframe tbody tr th {\n",
       "        vertical-align: top;\n",
       "    }\n",
       "\n",
       "    .dataframe thead th {\n",
       "        text-align: right;\n",
       "    }\n",
       "</style>\n",
       "<table border=\"1\" class=\"dataframe\">\n",
       "  <thead>\n",
       "    <tr style=\"text-align: right;\">\n",
       "      <th></th>\n",
       "      <th>experience</th>\n",
       "      <th>job_type</th>\n",
       "      <th>location</th>\n",
       "      <th>salary</th>\n",
       "      <th>company_name_encoded</th>\n",
       "    </tr>\n",
       "  </thead>\n",
       "  <tbody>\n",
       "    <tr>\n",
       "      <th>2</th>\n",
       "      <td>5-9 yrs</td>\n",
       "      <td>ANALYTICS</td>\n",
       "      <td>Delhi NCR</td>\n",
       "      <td>15to25</td>\n",
       "      <td>4195</td>\n",
       "    </tr>\n",
       "    <tr>\n",
       "      <th>3</th>\n",
       "      <td>7-10 yrs</td>\n",
       "      <td>ANALYTICS</td>\n",
       "      <td>Bengaluru</td>\n",
       "      <td>10to15</td>\n",
       "      <td>313</td>\n",
       "    </tr>\n",
       "    <tr>\n",
       "      <th>6</th>\n",
       "      <td>13-15 yrs</td>\n",
       "      <td>ANALYTICS</td>\n",
       "      <td>Delhi NCR</td>\n",
       "      <td>25to50</td>\n",
       "      <td>1988</td>\n",
       "    </tr>\n",
       "    <tr>\n",
       "      <th>11</th>\n",
       "      <td>10-12 yrs</td>\n",
       "      <td>ANALYTICS</td>\n",
       "      <td>Delhi NCR, Gurgaon</td>\n",
       "      <td>10to15</td>\n",
       "      <td>1969</td>\n",
       "    </tr>\n",
       "    <tr>\n",
       "      <th>12</th>\n",
       "      <td>2-6 yrs</td>\n",
       "      <td>ANALYTICS</td>\n",
       "      <td>Pune(Kharadi)</td>\n",
       "      <td>10to15</td>\n",
       "      <td>3692</td>\n",
       "    </tr>\n",
       "  </tbody>\n",
       "</table>\n",
       "</div>"
      ],
      "text/plain": [
       "   experience   job_type            location  salary  company_name_encoded\n",
       "2     5-9 yrs  ANALYTICS           Delhi NCR  15to25                  4195\n",
       "3    7-10 yrs  ANALYTICS           Bengaluru  10to15                   313\n",
       "6   13-15 yrs  ANALYTICS           Delhi NCR  25to50                  1988\n",
       "11  10-12 yrs  ANALYTICS  Delhi NCR, Gurgaon  10to15                  1969\n",
       "12    2-6 yrs  ANALYTICS       Pune(Kharadi)  10to15                  3692"
      ]
     },
     "execution_count": 31,
     "metadata": {},
     "output_type": "execute_result"
    }
   ],
   "source": [
    "train_data.head()"
   ]
  },
  {
   "cell_type": "code",
   "execution_count": 32,
   "metadata": {},
   "outputs": [
    {
     "data": {
      "text/plain": [
       "2-5 yrs      362\n",
       "5-10 yrs     292\n",
       "7-12 yrs     215\n",
       "3-8 yrs      210\n",
       "2-7 yrs      192\n",
       "            ... \n",
       "14-20 yrs      1\n",
       "14-16 yrs      1\n",
       "13-17 yrs      1\n",
       "16-22 yrs      1\n",
       "12-19 yrs      1\n",
       "Name: experience, Length: 98, dtype: int64"
      ]
     },
     "execution_count": 32,
     "metadata": {},
     "output_type": "execute_result"
    }
   ],
   "source": [
    "train_data.experience.value_counts().sort_values(ascending=False)"
   ]
  },
  {
   "cell_type": "code",
   "execution_count": 33,
   "metadata": {},
   "outputs": [
    {
     "data": {
      "text/plain": [
       "2-5 yrs      127\n",
       "5-10 yrs      92\n",
       "7-12 yrs      91\n",
       "3-8 yrs       89\n",
       "1-5 yrs       64\n",
       "            ... \n",
       "9-13 yrs       1\n",
       "12-16 yrs      1\n",
       "14-16 yrs      1\n",
       "13-17 yrs      1\n",
       "6-7 yrs        1\n",
       "Name: experience, Length: 82, dtype: int64"
      ]
     },
     "execution_count": 33,
     "metadata": {},
     "output_type": "execute_result"
    }
   ],
   "source": [
    "test_data.experience.value_counts().sort_values(ascending=False)"
   ]
  },
  {
   "cell_type": "code",
   "execution_count": 35,
   "metadata": {},
   "outputs": [],
   "source": [
    "def convert_years(x):\n",
    "    years = x.split(' ')[0]\n",
    "    years = years.split('-')\n",
    "    return int(years[0]) + int(years[1]) / 2"
   ]
  },
  {
   "cell_type": "code",
   "execution_count": 36,
   "metadata": {},
   "outputs": [],
   "source": [
    "def convert_exp_years(x):\n",
    "    years = x.split(' ')[0]\n",
    "    years = years.split('-')\n",
    "    return int(years[0]) + int(years[1]) / 2"
   ]
  },
  {
   "cell_type": "code",
   "execution_count": 38,
   "metadata": {},
   "outputs": [],
   "source": [
    "train_data['experience'] = train_data.experience.apply(lambda x: convert_years(x))"
   ]
  },
  {
   "cell_type": "code",
   "execution_count": 39,
   "metadata": {},
   "outputs": [],
   "source": [
    "test_data['experience'] = test_data.experience.apply(lambda x: convert_exp_years(x))"
   ]
  },
  {
   "cell_type": "code",
   "execution_count": 40,
   "metadata": {},
   "outputs": [
    {
     "data": {
      "text/html": [
       "<div>\n",
       "<style scoped>\n",
       "    .dataframe tbody tr th:only-of-type {\n",
       "        vertical-align: middle;\n",
       "    }\n",
       "\n",
       "    .dataframe tbody tr th {\n",
       "        vertical-align: top;\n",
       "    }\n",
       "\n",
       "    .dataframe thead th {\n",
       "        text-align: right;\n",
       "    }\n",
       "</style>\n",
       "<table border=\"1\" class=\"dataframe\">\n",
       "  <thead>\n",
       "    <tr style=\"text-align: right;\">\n",
       "      <th></th>\n",
       "      <th>experience</th>\n",
       "      <th>job_type</th>\n",
       "      <th>location</th>\n",
       "      <th>salary</th>\n",
       "      <th>company_name_encoded</th>\n",
       "    </tr>\n",
       "  </thead>\n",
       "  <tbody>\n",
       "    <tr>\n",
       "      <th>2</th>\n",
       "      <td>9.5</td>\n",
       "      <td>ANALYTICS</td>\n",
       "      <td>Delhi NCR</td>\n",
       "      <td>15to25</td>\n",
       "      <td>4195</td>\n",
       "    </tr>\n",
       "    <tr>\n",
       "      <th>3</th>\n",
       "      <td>12.0</td>\n",
       "      <td>ANALYTICS</td>\n",
       "      <td>Bengaluru</td>\n",
       "      <td>10to15</td>\n",
       "      <td>313</td>\n",
       "    </tr>\n",
       "    <tr>\n",
       "      <th>6</th>\n",
       "      <td>20.5</td>\n",
       "      <td>ANALYTICS</td>\n",
       "      <td>Delhi NCR</td>\n",
       "      <td>25to50</td>\n",
       "      <td>1988</td>\n",
       "    </tr>\n",
       "    <tr>\n",
       "      <th>11</th>\n",
       "      <td>16.0</td>\n",
       "      <td>ANALYTICS</td>\n",
       "      <td>Delhi NCR, Gurgaon</td>\n",
       "      <td>10to15</td>\n",
       "      <td>1969</td>\n",
       "    </tr>\n",
       "    <tr>\n",
       "      <th>12</th>\n",
       "      <td>5.0</td>\n",
       "      <td>ANALYTICS</td>\n",
       "      <td>Pune(Kharadi)</td>\n",
       "      <td>10to15</td>\n",
       "      <td>3692</td>\n",
       "    </tr>\n",
       "  </tbody>\n",
       "</table>\n",
       "</div>"
      ],
      "text/plain": [
       "    experience   job_type            location  salary  company_name_encoded\n",
       "2          9.5  ANALYTICS           Delhi NCR  15to25                  4195\n",
       "3         12.0  ANALYTICS           Bengaluru  10to15                   313\n",
       "6         20.5  ANALYTICS           Delhi NCR  25to50                  1988\n",
       "11        16.0  ANALYTICS  Delhi NCR, Gurgaon  10to15                  1969\n",
       "12         5.0  ANALYTICS       Pune(Kharadi)  10to15                  3692"
      ]
     },
     "execution_count": 40,
     "metadata": {},
     "output_type": "execute_result"
    }
   ],
   "source": [
    "train_data.head()"
   ]
  },
  {
   "cell_type": "code",
   "execution_count": 41,
   "metadata": {},
   "outputs": [
    {
     "data": {
      "text/html": [
       "<div>\n",
       "<style scoped>\n",
       "    .dataframe tbody tr th:only-of-type {\n",
       "        vertical-align: middle;\n",
       "    }\n",
       "\n",
       "    .dataframe tbody tr th {\n",
       "        vertical-align: top;\n",
       "    }\n",
       "\n",
       "    .dataframe thead th {\n",
       "        text-align: right;\n",
       "    }\n",
       "</style>\n",
       "<table border=\"1\" class=\"dataframe\">\n",
       "  <thead>\n",
       "    <tr style=\"text-align: right;\">\n",
       "      <th></th>\n",
       "      <th>experience</th>\n",
       "      <th>job_type</th>\n",
       "      <th>location</th>\n",
       "      <th>company_name_encoded</th>\n",
       "    </tr>\n",
       "  </thead>\n",
       "  <tbody>\n",
       "    <tr>\n",
       "      <th>5</th>\n",
       "      <td>7.0</td>\n",
       "      <td>ANALYTICS</td>\n",
       "      <td>Chennai</td>\n",
       "      <td>831</td>\n",
       "    </tr>\n",
       "    <tr>\n",
       "      <th>13</th>\n",
       "      <td>14.0</td>\n",
       "      <td>ANALYTICS</td>\n",
       "      <td>Gurgaon</td>\n",
       "      <td>1125</td>\n",
       "    </tr>\n",
       "    <tr>\n",
       "      <th>14</th>\n",
       "      <td>6.0</td>\n",
       "      <td>ANALYTICS</td>\n",
       "      <td>Jaipur</td>\n",
       "      <td>715</td>\n",
       "    </tr>\n",
       "    <tr>\n",
       "      <th>22</th>\n",
       "      <td>4.0</td>\n",
       "      <td>ANALYTICS</td>\n",
       "      <td>Gurgaon, Delhi, Noida</td>\n",
       "      <td>2517</td>\n",
       "    </tr>\n",
       "    <tr>\n",
       "      <th>28</th>\n",
       "      <td>13.0</td>\n",
       "      <td>ANALYTICS</td>\n",
       "      <td>Mumbai</td>\n",
       "      <td>970</td>\n",
       "    </tr>\n",
       "  </tbody>\n",
       "</table>\n",
       "</div>"
      ],
      "text/plain": [
       "    experience   job_type               location  company_name_encoded\n",
       "5          7.0  ANALYTICS                Chennai                   831\n",
       "13        14.0  ANALYTICS                Gurgaon                  1125\n",
       "14         6.0  ANALYTICS                 Jaipur                   715\n",
       "22         4.0  ANALYTICS  Gurgaon, Delhi, Noida                  2517\n",
       "28        13.0  ANALYTICS                 Mumbai                   970"
      ]
     },
     "execution_count": 41,
     "metadata": {},
     "output_type": "execute_result"
    }
   ],
   "source": [
    "test_data.head()"
   ]
  },
  {
   "cell_type": "code",
   "execution_count": 42,
   "metadata": {},
   "outputs": [
    {
     "data": {
      "text/plain": [
       "15to25    1071\n",
       "6to10     1047\n",
       "10to15     926\n",
       "3to6       876\n",
       "25to50     632\n",
       "0to3       245\n",
       "Name: salary, dtype: int64"
      ]
     },
     "execution_count": 42,
     "metadata": {},
     "output_type": "execute_result"
    }
   ],
   "source": [
    "train_data.salary.value_counts()"
   ]
  },
  {
   "cell_type": "code",
   "execution_count": 43,
   "metadata": {},
   "outputs": [
    {
     "data": {
      "text/plain": [
       "2    1071\n",
       "3    1047\n",
       "1     926\n",
       "5     876\n",
       "6     632\n",
       "4     245\n",
       "Name: salary, dtype: int64"
      ]
     },
     "execution_count": 43,
     "metadata": {},
     "output_type": "execute_result"
    }
   ],
   "source": [
    "salary_map  = {'10to15':1,\n",
    "              '15to25':2,\n",
    "              '6to10':3,\n",
    "              '0to3':4,\n",
    "              '3to6':5,\n",
    "              '25to50':6}\n",
    "train_data['salary'] = train_data.salary.map(salary_map)\n",
    "train_data.salary.value_counts()"
   ]
  },
  {
   "cell_type": "code",
   "execution_count": null,
   "metadata": {},
   "outputs": [],
   "source": [
    "def convert_salary(x):\n",
    "    salary = x.split('to')\n",
    "    return (int(salary[0]) + int(salary[1]) / 2) * 100000"
   ]
  },
  {
   "cell_type": "code",
   "execution_count": null,
   "metadata": {},
   "outputs": [],
   "source": [
    "train_data['salary'] = train_data['salary'].apply(lambda x: convert_salary(x))"
   ]
  },
  {
   "cell_type": "code",
   "execution_count": 44,
   "metadata": {},
   "outputs": [
    {
     "data": {
      "text/plain": [
       "2    1071\n",
       "3    1047\n",
       "1     926\n",
       "5     876\n",
       "6     632\n",
       "4     245\n",
       "Name: salary, dtype: int64"
      ]
     },
     "execution_count": 44,
     "metadata": {},
     "output_type": "execute_result"
    }
   ],
   "source": [
    "train_data.salary.value_counts()"
   ]
  },
  {
   "cell_type": "code",
   "execution_count": 45,
   "metadata": {},
   "outputs": [
    {
     "data": {
      "text/html": [
       "<div>\n",
       "<style scoped>\n",
       "    .dataframe tbody tr th:only-of-type {\n",
       "        vertical-align: middle;\n",
       "    }\n",
       "\n",
       "    .dataframe tbody tr th {\n",
       "        vertical-align: top;\n",
       "    }\n",
       "\n",
       "    .dataframe thead th {\n",
       "        text-align: right;\n",
       "    }\n",
       "</style>\n",
       "<table border=\"1\" class=\"dataframe\">\n",
       "  <thead>\n",
       "    <tr style=\"text-align: right;\">\n",
       "      <th></th>\n",
       "      <th>experience</th>\n",
       "      <th>job_type</th>\n",
       "      <th>location</th>\n",
       "      <th>salary</th>\n",
       "      <th>company_name_encoded</th>\n",
       "    </tr>\n",
       "  </thead>\n",
       "  <tbody>\n",
       "    <tr>\n",
       "      <th>2</th>\n",
       "      <td>9.5</td>\n",
       "      <td>ANALYTICS</td>\n",
       "      <td>Delhi NCR</td>\n",
       "      <td>2</td>\n",
       "      <td>4195</td>\n",
       "    </tr>\n",
       "    <tr>\n",
       "      <th>3</th>\n",
       "      <td>12.0</td>\n",
       "      <td>ANALYTICS</td>\n",
       "      <td>Bengaluru</td>\n",
       "      <td>1</td>\n",
       "      <td>313</td>\n",
       "    </tr>\n",
       "    <tr>\n",
       "      <th>6</th>\n",
       "      <td>20.5</td>\n",
       "      <td>ANALYTICS</td>\n",
       "      <td>Delhi NCR</td>\n",
       "      <td>6</td>\n",
       "      <td>1988</td>\n",
       "    </tr>\n",
       "    <tr>\n",
       "      <th>11</th>\n",
       "      <td>16.0</td>\n",
       "      <td>ANALYTICS</td>\n",
       "      <td>Delhi NCR, Gurgaon</td>\n",
       "      <td>1</td>\n",
       "      <td>1969</td>\n",
       "    </tr>\n",
       "    <tr>\n",
       "      <th>12</th>\n",
       "      <td>5.0</td>\n",
       "      <td>ANALYTICS</td>\n",
       "      <td>Pune(Kharadi)</td>\n",
       "      <td>1</td>\n",
       "      <td>3692</td>\n",
       "    </tr>\n",
       "  </tbody>\n",
       "</table>\n",
       "</div>"
      ],
      "text/plain": [
       "    experience   job_type            location  salary  company_name_encoded\n",
       "2          9.5  ANALYTICS           Delhi NCR       2                  4195\n",
       "3         12.0  ANALYTICS           Bengaluru       1                   313\n",
       "6         20.5  ANALYTICS           Delhi NCR       6                  1988\n",
       "11        16.0  ANALYTICS  Delhi NCR, Gurgaon       1                  1969\n",
       "12         5.0  ANALYTICS       Pune(Kharadi)       1                  3692"
      ]
     },
     "execution_count": 45,
     "metadata": {},
     "output_type": "execute_result"
    }
   ],
   "source": [
    "train_data.head()"
   ]
  },
  {
   "cell_type": "code",
   "execution_count": null,
   "metadata": {},
   "outputs": [],
   "source": [
    "train_data.location.value_counts(ascending=True)"
   ]
  },
  {
   "cell_type": "code",
   "execution_count": null,
   "metadata": {},
   "outputs": [],
   "source": [
    "# Import label encoder \n",
    "from sklearn import preprocessing \n",
    "  \n",
    "# label_encoder object knows how to understand word labels. \n",
    "label_encoder = preprocessing.LabelEncoder() \n",
    "  \n",
    "# Encode labels in column 'location' in train data. \n",
    "train_data['location']= label_encoder.fit_transform(train_data['location']) \n",
    "  \n",
    "train_data['location'].unique()"
   ]
  },
  {
   "cell_type": "code",
   "execution_count": null,
   "metadata": {},
   "outputs": [],
   "source": [
    "# Encode labels in column 'location' in test data. \n",
    "test_data['location']= label_encoder.fit_transform(test_data['location']) \n",
    "  \n",
    "test_data['location'].unique()"
   ]
  },
  {
   "cell_type": "code",
   "execution_count": null,
   "metadata": {},
   "outputs": [],
   "source": [
    "train_data.location.value_counts()"
   ]
  },
  {
   "cell_type": "code",
   "execution_count": null,
   "metadata": {},
   "outputs": [],
   "source": [
    "train_data.head()"
   ]
  },
  {
   "cell_type": "code",
   "execution_count": null,
   "metadata": {},
   "outputs": [],
   "source": [
    "test_data.head()"
   ]
  },
  {
   "cell_type": "code",
   "execution_count": null,
   "metadata": {},
   "outputs": [],
   "source": [
    "dummies = pd.get_dummies(train_data.job_type)\n",
    "train_data = pd.concat([train_data,dummies.drop('NON-ANALYTICS',axis='columns')],axis='columns')\n",
    "train_data.head()"
   ]
  },
  {
   "cell_type": "code",
   "execution_count": null,
   "metadata": {},
   "outputs": [],
   "source": [
    "dummies = pd.get_dummies(test_data.job_type)\n",
    "test_data = pd.concat([test_data,dummies.drop('NON-ANALYTICS',axis='columns')],axis='columns')\n",
    "test_data.head()"
   ]
  },
  {
   "cell_type": "code",
   "execution_count": null,
   "metadata": {},
   "outputs": [],
   "source": [
    "train_data.info()"
   ]
  },
  {
   "cell_type": "code",
   "execution_count": 46,
   "metadata": {},
   "outputs": [],
   "source": [
    "train_data.drop(['job_type', 'location'], axis=1, inplace=True)"
   ]
  },
  {
   "cell_type": "code",
   "execution_count": 47,
   "metadata": {},
   "outputs": [],
   "source": [
    "test_data.drop(['job_type', 'location'], axis=1, inplace=True)"
   ]
  },
  {
   "cell_type": "code",
   "execution_count": 48,
   "metadata": {},
   "outputs": [
    {
     "data": {
      "text/html": [
       "<div>\n",
       "<style scoped>\n",
       "    .dataframe tbody tr th:only-of-type {\n",
       "        vertical-align: middle;\n",
       "    }\n",
       "\n",
       "    .dataframe tbody tr th {\n",
       "        vertical-align: top;\n",
       "    }\n",
       "\n",
       "    .dataframe thead th {\n",
       "        text-align: right;\n",
       "    }\n",
       "</style>\n",
       "<table border=\"1\" class=\"dataframe\">\n",
       "  <thead>\n",
       "    <tr style=\"text-align: right;\">\n",
       "      <th></th>\n",
       "      <th>experience</th>\n",
       "      <th>salary</th>\n",
       "      <th>company_name_encoded</th>\n",
       "    </tr>\n",
       "  </thead>\n",
       "  <tbody>\n",
       "    <tr>\n",
       "      <th>2</th>\n",
       "      <td>9.5</td>\n",
       "      <td>2</td>\n",
       "      <td>4195</td>\n",
       "    </tr>\n",
       "    <tr>\n",
       "      <th>3</th>\n",
       "      <td>12.0</td>\n",
       "      <td>1</td>\n",
       "      <td>313</td>\n",
       "    </tr>\n",
       "    <tr>\n",
       "      <th>6</th>\n",
       "      <td>20.5</td>\n",
       "      <td>6</td>\n",
       "      <td>1988</td>\n",
       "    </tr>\n",
       "    <tr>\n",
       "      <th>11</th>\n",
       "      <td>16.0</td>\n",
       "      <td>1</td>\n",
       "      <td>1969</td>\n",
       "    </tr>\n",
       "    <tr>\n",
       "      <th>12</th>\n",
       "      <td>5.0</td>\n",
       "      <td>1</td>\n",
       "      <td>3692</td>\n",
       "    </tr>\n",
       "  </tbody>\n",
       "</table>\n",
       "</div>"
      ],
      "text/plain": [
       "    experience  salary  company_name_encoded\n",
       "2          9.5       2                  4195\n",
       "3         12.0       1                   313\n",
       "6         20.5       6                  1988\n",
       "11        16.0       1                  1969\n",
       "12         5.0       1                  3692"
      ]
     },
     "execution_count": 48,
     "metadata": {},
     "output_type": "execute_result"
    }
   ],
   "source": [
    "train_data.head()"
   ]
  },
  {
   "cell_type": "code",
   "execution_count": 49,
   "metadata": {},
   "outputs": [],
   "source": [
    "X = train_data.drop('salary', axis=1)\n",
    "y = train_data['salary']"
   ]
  },
  {
   "cell_type": "code",
   "execution_count": 78,
   "metadata": {},
   "outputs": [],
   "source": [
    "X_train, X_test, y_train, y_test = train_test_split(X, y, test_size=0.3, random_state=9)"
   ]
  },
  {
   "cell_type": "code",
   "execution_count": 94,
   "metadata": {},
   "outputs": [],
   "source": [
    "from sklearn.linear_model import LogisticRegression, LinearRegression\n",
    "from sklearn.svm import SVC, LinearSVC\n",
    "from sklearn.neighbors import KNeighborsClassifier\n",
    "from sklearn.tree import DecisionTreeClassifier\n",
    "from sklearn.ensemble import RandomForestClassifier\n",
    "from sklearn.naive_bayes import GaussianNB\n",
    "from sklearn.linear_model import Perceptron\n",
    "from sklearn.linear_model import SGDClassifier\n",
    "from catboost import CatBoostClassifier"
   ]
  },
  {
   "cell_type": "code",
   "execution_count": 80,
   "metadata": {},
   "outputs": [
    {
     "name": "stdout",
     "output_type": "stream",
     "text": [
      "Train Accuracy: 0.95%\n",
      "Test Accuracy: 0.82%\n"
     ]
    }
   ],
   "source": [
    "### Linear Regression\n",
    "lr = LinearRegression()\n",
    "lr.fit(X_train, y_train)\n",
    "y_pred_lr = lr.predict(X_test)\n",
    "lr_train_acc = round(lr.score(X_train, y_train) * 100, 2)\n",
    "print (\"Train Accuracy: \" + str(lr_train_acc) + '%')\n",
    "\n",
    "lr_test_acc = round(lr.score(X_test, y_test) * 100, 2)\n",
    "print (\"Test Accuracy: \" + str(lr_test_acc) + '%')"
   ]
  },
  {
   "cell_type": "code",
   "execution_count": 81,
   "metadata": {},
   "outputs": [
    {
     "name": "stdout",
     "output_type": "stream",
     "text": [
      "Train Accuracy: 25.38%\n",
      "Test Accuracy: 27.43%\n"
     ]
    }
   ],
   "source": [
    "### Logistic Regression\n",
    "logr = LogisticRegression()\n",
    "logr.fit(X_train, y_train)\n",
    "y_pred_lr = logr.predict(X_test)\n",
    "logr_train_acc = round(logr.score(X_train, y_train) * 100, 2)\n",
    "print (\"Train Accuracy: \" + str(logr_train_acc) + '%')\n",
    "\n",
    "logr_test_acc = round(logr.score(X_test, y_test) * 100, 2)\n",
    "print (\"Test Accuracy: \" + str(logr_test_acc) + '%')"
   ]
  },
  {
   "cell_type": "code",
   "execution_count": 82,
   "metadata": {},
   "outputs": [
    {
     "name": "stdout",
     "output_type": "stream",
     "text": [
      "Train Accuracy: 26.72%\n",
      "Test Accuracy: 27.85%\n"
     ]
    }
   ],
   "source": [
    "### Support Vector\n",
    "clf = SVC()\n",
    "clf.fit(X_train, y_train)\n",
    "y_pred_svc = clf.predict(X_test)\n",
    "acc_svc = round(clf.score(X_train, y_train) * 100, 2)\n",
    "print (\"Train Accuracy: \" + str(acc_svc) + '%')\n",
    "\n",
    "acc_svc = round(clf.score(X_test, y_test) * 100, 2)\n",
    "print (\"Test Accuracy: \" + str(acc_svc) + '%')"
   ]
  },
  {
   "cell_type": "code",
   "execution_count": 83,
   "metadata": {},
   "outputs": [
    {
     "name": "stdout",
     "output_type": "stream",
     "text": [
      "Train Accuracy: 24.9%\n",
      "Test Accuracy: 25.62%\n"
     ]
    }
   ],
   "source": [
    "# Linear SVC\n",
    "clf = LinearSVC()\n",
    "clf.fit(X_train, y_train)\n",
    "y_pred_linear_svc = clf.predict(X_test)\n",
    "acc_linear_svc = round(clf.score(X_train, y_train) * 100, 2)\n",
    "print (\"Train Accuracy: \" + str(acc_linear_svc) + '%')\n",
    "\n",
    "acc_linear_svc = round(clf.score(X_test, y_test) * 100, 2)\n",
    "print (\"Test Accuracy: \" + str(acc_linear_svc) + '%')"
   ]
  },
  {
   "cell_type": "code",
   "execution_count": 84,
   "metadata": {},
   "outputs": [
    {
     "name": "stdout",
     "output_type": "stream",
     "text": [
      "Train Accuracy: 61.57%\n",
      "Test Accuracy: 39.58%\n"
     ]
    }
   ],
   "source": [
    "# KN Neighbors\n",
    "kn_clf = KNeighborsClassifier(n_neighbors = 2)\n",
    "kn_clf.fit(X_train, y_train)\n",
    "y_pred_knn = kn_clf.predict(X_test)\n",
    "acc_knn = round(kn_clf.score(X_train, y_train) * 100, 2)\n",
    "print (\"Train Accuracy: \" + str(acc_knn) + '%')\n",
    "\n",
    "acc_knn = round(kn_clf.score(X_test, y_test) * 100, 2)\n",
    "print (\"Test Accuracy: \" + str(acc_knn) + '%')"
   ]
  },
  {
   "cell_type": "code",
   "execution_count": 85,
   "metadata": {},
   "outputs": [
    {
     "name": "stdout",
     "output_type": "stream",
     "text": [
      "Train Accuracy: 76.65%\n",
      "Test Accuracy: 39.58%\n"
     ]
    }
   ],
   "source": [
    "# Decision Tree Classifier\n",
    "dt_clf = DecisionTreeClassifier()\n",
    "dt_clf.fit(X_train, y_train)\n",
    "y_pred_dt = dt_clf.predict(X_test)\n",
    "acc_dt = round(dt_clf.score(X_train, y_train) * 100, 2)\n",
    "print (\"Train Accuracy: \" + str(acc_dt) + '%')\n",
    "\n",
    "acc_knn = round(kn_clf.score(X_test, y_test) * 100, 2)\n",
    "print (\"Test Accuracy: \" + str(acc_knn) + '%')"
   ]
  },
  {
   "cell_type": "code",
   "execution_count": 86,
   "metadata": {},
   "outputs": [
    {
     "name": "stdout",
     "output_type": "stream",
     "text": [
      "Train Accuracy: 76.65%\n",
      "Test Accuracy: 40.9%\n"
     ]
    }
   ],
   "source": [
    "# Random Forest Classifier\n",
    "rf_clf = RandomForestClassifier()\n",
    "rf_clf.fit(X_train, y_train)\n",
    "y_pred_rf = rf_clf.predict(X_test)\n",
    "acc_rf = round(rf_clf.score(X_train, y_train) * 100, 2)\n",
    "print (\"Train Accuracy: \" + str(acc_rf) + '%')\n",
    "\n",
    "acc_rf = round(rf_clf.score(X_test, y_test) * 100, 2)\n",
    "print (\"Test Accuracy: \" + str(acc_rf) + '%')"
   ]
  },
  {
   "cell_type": "code",
   "execution_count": 87,
   "metadata": {},
   "outputs": [
    {
     "name": "stdout",
     "output_type": "stream",
     "text": [
      "Train Accuracy: 36.22%\n",
      "Test Accuracy: 40.9%\n"
     ]
    }
   ],
   "source": [
    "# GaussionNB Classifier\n",
    "gb_clf = GaussianNB()\n",
    "gb_clf.fit(X_train, y_train)\n",
    "y_pred_gb = gb_clf.predict(X_test)\n",
    "acc_gb = round(gb_clf.score(X_train, y_train) * 100, 2)\n",
    "print (\"Train Accuracy: \" + str(acc_gb) + '%')\n",
    "\n",
    "acc_gb = round(rf_clf.score(X_test, y_test) * 100, 2)\n",
    "print (\"Test Accuracy: \" + str(acc_gb) + '%')"
   ]
  },
  {
   "cell_type": "code",
   "execution_count": 95,
   "metadata": {},
   "outputs": [
    {
     "ename": "NameError",
     "evalue": "name 'CatBoostClassifiert' is not defined",
     "output_type": "error",
     "traceback": [
      "\u001b[1;31m---------------------------------------------------------------------------\u001b[0m",
      "\u001b[1;31mNameError\u001b[0m                                 Traceback (most recent call last)",
      "\u001b[1;32m<ipython-input-95-426700dba74b>\u001b[0m in \u001b[0;36m<module>\u001b[1;34m\u001b[0m\n\u001b[0;32m      1\u001b[0m \u001b[1;31m# CatBoost Classification\u001b[0m\u001b[1;33m\u001b[0m\u001b[1;33m\u001b[0m\u001b[1;33m\u001b[0m\u001b[0m\n\u001b[0;32m      2\u001b[0m \u001b[1;31m#from catboost import CatBoostClassifier\u001b[0m\u001b[1;33m\u001b[0m\u001b[1;33m\u001b[0m\u001b[1;33m\u001b[0m\u001b[0m\n\u001b[1;32m----> 3\u001b[1;33m \u001b[0mcb_clf\u001b[0m \u001b[1;33m=\u001b[0m \u001b[0mCatBoostClassifiert\u001b[0m\u001b[1;33m(\u001b[0m\u001b[1;33m)\u001b[0m\u001b[1;33m\u001b[0m\u001b[1;33m\u001b[0m\u001b[0m\n\u001b[0m\u001b[0;32m      4\u001b[0m \u001b[0mcb_clf\u001b[0m\u001b[1;33m.\u001b[0m\u001b[0mfit\u001b[0m\u001b[1;33m(\u001b[0m\u001b[0mX_train\u001b[0m\u001b[1;33m,\u001b[0m \u001b[0my_train\u001b[0m\u001b[1;33m)\u001b[0m\u001b[1;33m\u001b[0m\u001b[1;33m\u001b[0m\u001b[0m\n\u001b[0;32m      5\u001b[0m \u001b[0my_pred_cb\u001b[0m \u001b[1;33m=\u001b[0m \u001b[0mcb_clf\u001b[0m\u001b[1;33m.\u001b[0m\u001b[0mpredict\u001b[0m\u001b[1;33m(\u001b[0m\u001b[0mX_test\u001b[0m\u001b[1;33m)\u001b[0m\u001b[1;33m\u001b[0m\u001b[1;33m\u001b[0m\u001b[0m\n",
      "\u001b[1;31mNameError\u001b[0m: name 'CatBoostClassifiert' is not defined"
     ]
    }
   ],
   "source": [
    "# CatBoost Classification\n",
    "#from catboost import CatBoostClassifier\n",
    "cb_clf = CatBoostClassifiert()\n",
    "cb_clf.fit(X_train, y_train)\n",
    "y_pred_cb = cb_clf.predict(X_test)\n",
    "acc_cb = round(cb_clf.score(X_train, y_train) * 100, 2)\n",
    "print (\"Train Accuracy: \" + str(acc_cb) + '%')\n",
    "\n",
    "acc_cb = round(mnb_clf.score(X_test, y_test) * 100, 2)\n",
    "print (\"Test Accuracy: \" + str(acc_cb) + '%')"
   ]
  },
  {
   "cell_type": "code",
   "execution_count": null,
   "metadata": {},
   "outputs": [],
   "source": [
    "# MultinomialNB\n",
    "from sklearn.naive_bayes import MultinomialNB\n",
    "mnb_clf = MultinomialNB()\n",
    "mnb_clf.fit(X_train, y_train)\n",
    "y_pred_mnb = mnb_clf.predict(X_test)\n",
    "acc_mnb = round(mnb_clf.score(X_train, y_train) * 100, 2)\n",
    "print (\"Train Accuracy: \" + str(acc_mnb) + '%')\n",
    "\n",
    "acc_mnb = round(mnb_clf.score(X_test, y_test) * 100, 2)\n",
    "print (\"Test Accuracy: \" + str(acc_mnb) + '%')"
   ]
  },
  {
   "cell_type": "code",
   "execution_count": 89,
   "metadata": {},
   "outputs": [
    {
     "data": {
      "text/plain": [
       "array([3, 1, 5, ..., 1, 2, 1], dtype=int64)"
      ]
     },
     "execution_count": 89,
     "metadata": {},
     "output_type": "execute_result"
    }
   ],
   "source": [
    "test_predict = rf_clf.predict(test_data)\n",
    "test_predict"
   ]
  },
  {
   "cell_type": "code",
   "execution_count": 90,
   "metadata": {},
   "outputs": [
    {
     "data": {
      "text/html": [
       "<div>\n",
       "<style scoped>\n",
       "    .dataframe tbody tr th:only-of-type {\n",
       "        vertical-align: middle;\n",
       "    }\n",
       "\n",
       "    .dataframe tbody tr th {\n",
       "        vertical-align: top;\n",
       "    }\n",
       "\n",
       "    .dataframe thead th {\n",
       "        text-align: right;\n",
       "    }\n",
       "</style>\n",
       "<table border=\"1\" class=\"dataframe\">\n",
       "  <thead>\n",
       "    <tr style=\"text-align: right;\">\n",
       "      <th></th>\n",
       "      <th>salary</th>\n",
       "    </tr>\n",
       "  </thead>\n",
       "  <tbody>\n",
       "    <tr>\n",
       "      <th>0</th>\n",
       "      <td>3</td>\n",
       "    </tr>\n",
       "    <tr>\n",
       "      <th>1</th>\n",
       "      <td>1</td>\n",
       "    </tr>\n",
       "    <tr>\n",
       "      <th>2</th>\n",
       "      <td>5</td>\n",
       "    </tr>\n",
       "    <tr>\n",
       "      <th>3</th>\n",
       "      <td>3</td>\n",
       "    </tr>\n",
       "    <tr>\n",
       "      <th>4</th>\n",
       "      <td>3</td>\n",
       "    </tr>\n",
       "  </tbody>\n",
       "</table>\n",
       "</div>"
      ],
      "text/plain": [
       "   salary\n",
       "0       3\n",
       "1       1\n",
       "2       5\n",
       "3       3\n",
       "4       3"
      ]
     },
     "execution_count": 90,
     "metadata": {},
     "output_type": "execute_result"
    }
   ],
   "source": [
    "y_test_pred = pd.DataFrame(test_predict,columns=[   'salary'   ])\n",
    "y_test_pred.to_csv('submission_rf.csv', index=False)\n",
    "pred_data = pd.read_csv('submission_rf.csv')\n",
    "pred_data.head()"
   ]
  },
  {
   "cell_type": "code",
   "execution_count": 91,
   "metadata": {},
   "outputs": [
    {
     "data": {
      "text/html": [
       "<div>\n",
       "<style scoped>\n",
       "    .dataframe tbody tr th:only-of-type {\n",
       "        vertical-align: middle;\n",
       "    }\n",
       "\n",
       "    .dataframe tbody tr th {\n",
       "        vertical-align: top;\n",
       "    }\n",
       "\n",
       "    .dataframe thead th {\n",
       "        text-align: right;\n",
       "    }\n",
       "</style>\n",
       "<table border=\"1\" class=\"dataframe\">\n",
       "  <thead>\n",
       "    <tr style=\"text-align: right;\">\n",
       "      <th></th>\n",
       "      <th>salary</th>\n",
       "    </tr>\n",
       "  </thead>\n",
       "  <tbody>\n",
       "    <tr>\n",
       "      <th>0</th>\n",
       "      <td>6to10</td>\n",
       "    </tr>\n",
       "    <tr>\n",
       "      <th>1</th>\n",
       "      <td>10to15</td>\n",
       "    </tr>\n",
       "    <tr>\n",
       "      <th>2</th>\n",
       "      <td>3to6</td>\n",
       "    </tr>\n",
       "    <tr>\n",
       "      <th>3</th>\n",
       "      <td>6to10</td>\n",
       "    </tr>\n",
       "    <tr>\n",
       "      <th>4</th>\n",
       "      <td>6to10</td>\n",
       "    </tr>\n",
       "  </tbody>\n",
       "</table>\n",
       "</div>"
      ],
      "text/plain": [
       "   salary\n",
       "0   6to10\n",
       "1  10to15\n",
       "2    3to6\n",
       "3   6to10\n",
       "4   6to10"
      ]
     },
     "execution_count": 91,
     "metadata": {},
     "output_type": "execute_result"
    }
   ],
   "source": [
    "salary_map  = {1:'10to15',\n",
    "               2:'15to25',\n",
    "               3:'6to10',\n",
    "               4:'0to3',\n",
    "               5:'3to6',\n",
    "               6:'25to50'}\n",
    "y_test_pred[   'salary'   ] = y_test_pred[   'salary'   ].map(salary_map)\n",
    "y_test_pred.head()"
   ]
  },
  {
   "cell_type": "code",
   "execution_count": 92,
   "metadata": {},
   "outputs": [],
   "source": [
    "y_test_pred.columns = [   'salary'   ]\n",
    "y_test_pred.to_csv(\"submission_rf.csv\")"
   ]
  },
  {
   "cell_type": "code",
   "execution_count": null,
   "metadata": {},
   "outputs": [],
   "source": [
    "### Manual Hyperparameter Tuning\n",
    "from sklearn.metrics import confusion_matrix,classification_report,accuracy_score\n",
    "model=RandomForestClassifier(n_estimators=300,criterion='entropy',\n",
    "                             max_features='sqrt',min_samples_leaf=10,random_state=100).fit(X_train,y_train)\n",
    "predictions=model.predict(X_test)\n",
    "\n",
    "print(confusion_matrix(y_test,predictions))\n",
    "print(accuracy_score(y_test,predictions))\n",
    "print(classification_report(y_test,predictions))"
   ]
  },
  {
   "cell_type": "code",
   "execution_count": null,
   "metadata": {},
   "outputs": [],
   "source": [
    "import numpy as np\n",
    "from sklearn.model_selection import RandomizedSearchCV\n",
    "# Number of trees in random forest\n",
    "n_estimators = [int(x) for x in np.linspace(start = 100, stop = 500, num = 10)]\n",
    "# Number of features to consider at every split\n",
    "max_features = ['auto', 'sqrt','log2']\n",
    "# Maximum number of levels in tree\n",
    "max_depth = [int(x) for x in np.linspace(10, 100,10)]\n",
    "# Minimum number of samples required to split a node\n",
    "min_samples_split = [3, 6, 9]\n",
    "# Minimum number of samples required at each leaf node\n",
    "min_samples_leaf = [1, 2, 4, 6, 8]\n",
    "# Create the random grid\n",
    "random_grid = {'n_estimators': n_estimators,\n",
    "               'max_features': max_features,\n",
    "               'max_depth': max_depth,\n",
    "               'min_samples_split': min_samples_split,\n",
    "               'min_samples_leaf': min_samples_leaf,\n",
    "              'criterion':['entropy','gini']}\n",
    "print(random_grid)"
   ]
  },
  {
   "cell_type": "code",
   "execution_count": null,
   "metadata": {},
   "outputs": [],
   "source": [
    "rf=RandomForestClassifier()\n",
    "rf_randomcv=RandomizedSearchCV(estimator=rf,param_distributions=random_grid,n_iter=100,cv=3,verbose=2,\n",
    "                               random_state=100,n_jobs=-1)\n",
    "### fit the randomized model\n",
    "rf_randomcv.fit(X_train,y_train)"
   ]
  },
  {
   "cell_type": "code",
   "execution_count": null,
   "metadata": {},
   "outputs": [],
   "source": [
    " rf_randomcv.best_params_"
   ]
  },
  {
   "cell_type": "code",
   "execution_count": null,
   "metadata": {},
   "outputs": [],
   "source": [
    "rf_randomcv"
   ]
  },
  {
   "cell_type": "code",
   "execution_count": null,
   "metadata": {},
   "outputs": [],
   "source": [
    "best_random_grid=rf_randomcv.best_estimator_"
   ]
  },
  {
   "cell_type": "code",
   "execution_count": null,
   "metadata": {},
   "outputs": [],
   "source": [
    "best_random_grid"
   ]
  },
  {
   "cell_type": "code",
   "execution_count": null,
   "metadata": {},
   "outputs": [],
   "source": [
    "from sklearn.metrics import accuracy_score\n",
    "y_pred=best_random_grid.predict(X_test)\n",
    "print(confusion_matrix(y_test,y_pred))\n",
    "print(\"Accuracy Score {}\".format(accuracy_score(y_test,y_pred)))\n",
    "print(\"Classification report: {}\".format(classification_report(y_test,y_pred)))"
   ]
  },
  {
   "cell_type": "code",
   "execution_count": null,
   "metadata": {},
   "outputs": [],
   "source": [
    "best_random_grid.score(X_test, y_test)"
   ]
  },
  {
   "cell_type": "code",
   "execution_count": null,
   "metadata": {},
   "outputs": [],
   "source": [
    "y_rfc = best_random_grid.predict(X_test)"
   ]
  },
  {
   "cell_type": "code",
   "execution_count": null,
   "metadata": {},
   "outputs": [],
   "source": [
    "y_rfc"
   ]
  },
  {
   "cell_type": "code",
   "execution_count": null,
   "metadata": {},
   "outputs": [],
   "source": [
    "test_predict = best_random_grid.predict(test_data)\n",
    "test_predict"
   ]
  },
  {
   "cell_type": "code",
   "execution_count": null,
   "metadata": {},
   "outputs": [],
   "source": [
    "y_test_pred = pd.DataFrame(test_predict,columns=[   'SECTION'   ])\n",
    "y_test_pred.to_csv('submission.csv', index=False)"
   ]
  },
  {
   "cell_type": "code",
   "execution_count": null,
   "metadata": {},
   "outputs": [],
   "source": [
    "pred_data = pd.read_csv('submission.csv')\n",
    "pred_data.head()"
   ]
  },
  {
   "cell_type": "code",
   "execution_count": null,
   "metadata": {},
   "outputs": [],
   "source": [
    "salary_map  = {1:'10to15',\n",
    "               2:'15to25',\n",
    "               3:'6to10',\n",
    "               4:'0to3',\n",
    "               5:'3to6',\n",
    "               6:'25to50'}\n",
    "y_test_pred[   'SECTION'   ] = y_test_pred[   'SECTION'   ].map(salary_map)\n",
    "y_test_pred.head()"
   ]
  },
  {
   "cell_type": "code",
   "execution_count": null,
   "metadata": {},
   "outputs": [],
   "source": [
    "y_test_pred.columns = [   'salary'   ]\n",
    "y_test_pred.to_csv(\"submission.csv\")"
   ]
  },
  {
   "cell_type": "code",
   "execution_count": null,
   "metadata": {},
   "outputs": [],
   "source": [
    "from sklearn.model_selectjion import GridSearchCV"
   ]
  },
  {
   "cell_type": "code",
   "execution_count": null,
   "metadata": {},
   "outputs": [],
   "source": [
    "param_grid = {\n",
    "    'criterion': [rf_randomcv.best_params_['criterion']],\n",
    "    'max_depth': [rf_randomcv.best_params_['max_depth']],\n",
    "    'max_features': [rf_randomcv.best_params_['max_features']],\n",
    "    'min_samples_leaf': [rf_randomcv.best_params_['min_samples_leaf'], \n",
    "                         rf_randomcv.best_params_['min_samples_leaf']+2, \n",
    "                         rf_randomcv.best_params_['min_samples_leaf'] + 4],\n",
    "    'min_samples_split': [rf_randomcv.best_params_['min_samples_split'] - 2,\n",
    "                          rf_randomcv.best_params_['min_samples_split'] - 1,\n",
    "                          rf_randomcv.best_params_['min_samples_split'], \n",
    "                          rf_randomcv.best_params_['min_samples_split'] +1,\n",
    "                          rf_randomcv.best_params_['min_samples_split'] + 2],\n",
    "    'n_estimators': [rf_randomcv.best_params_['n_estimators'] - 200, rf_randomcv.best_params_['n_estimators'] - 100, \n",
    "                     rf_randomcv.best_params_['n_estimators'], \n",
    "                     rf_randomcv.best_params_['n_estimators'] + 100, rf_randomcv.best_params_['n_estimators'] + 200]\n",
    "}\n",
    "\n",
    "print(param_grid)"
   ]
  },
  {
   "cell_type": "code",
   "execution_count": null,
   "metadata": {},
   "outputs": [],
   "source": [
    "#### Fit the grid_search to the data\n",
    "rf=RandomForestClassifier()\n",
    "grid_search=GridSearchCV(estimator=rf,param_grid=param_grid,cv=10,n_jobs=-1,verbose=2)\n",
    "grid_search.fit(X_train,y_train)"
   ]
  },
  {
   "cell_type": "code",
   "execution_count": null,
   "metadata": {},
   "outputs": [],
   "source": [
    "grid_search.best_estimator_"
   ]
  },
  {
   "cell_type": "code",
   "execution_count": null,
   "metadata": {},
   "outputs": [],
   "source": [
    "best_grid=grid_search.best_estimator_"
   ]
  },
  {
   "cell_type": "code",
   "execution_count": null,
   "metadata": {},
   "outputs": [],
   "source": [
    "best_grid"
   ]
  },
  {
   "cell_type": "code",
   "execution_count": null,
   "metadata": {},
   "outputs": [],
   "source": [
    "y_pred=best_grid.predict(X_test)\n",
    "print(confusion_matrix(y_test,y_pred))\n",
    "print(\"Accuracy Score {}\".format(accuracy_score(y_test,y_pred)))\n",
    "print(\"Classification report: {}\".format(classification_report(y_test,y_pred)))"
   ]
  },
  {
   "cell_type": "code",
   "execution_count": null,
   "metadata": {},
   "outputs": [],
   "source": [
    "best_grid.score(X_test, y_test)"
   ]
  },
  {
   "cell_type": "code",
   "execution_count": null,
   "metadata": {},
   "outputs": [],
   "source": [
    "y_pred = best_grid.predict(test_data)\n",
    "y_pred"
   ]
  },
  {
   "cell_type": "code",
   "execution_count": null,
   "metadata": {},
   "outputs": [],
   "source": [
    "y_test_pred = pd.DataFrame(y_pred,columns=[   'SECTION'   ])\n",
    "y_test_pred.to_csv('submission.csv', index=False)\n",
    "pred_data = pd.read_csv('submission.csv')\n",
    "pred_data.head()"
   ]
  },
  {
   "cell_type": "code",
   "execution_count": null,
   "metadata": {},
   "outputs": [],
   "source": [
    "salary_map  = {1:'10to15',\n",
    "               2:'15to25',\n",
    "               3:'6to10',\n",
    "               4:'0to3',\n",
    "               5:'3to6',\n",
    "               6:'25to50'}\n",
    "y_test_pred[   'SECTION'   ] = y_test_pred[   'SECTION'   ].map(salary_map)\n",
    "y_test_pred.head()"
   ]
  },
  {
   "cell_type": "code",
   "execution_count": null,
   "metadata": {},
   "outputs": [],
   "source": [
    "y_test_pred.columns = [   'salary'   ]\n",
    "y_test_pred.to_csv(\"submission.csv\")"
   ]
  },
  {
   "cell_type": "code",
   "execution_count": 96,
   "metadata": {},
   "outputs": [],
   "source": [
    "from catboost import CatBoostClassifier"
   ]
  },
  {
   "cell_type": "code",
   "execution_count": 97,
   "metadata": {},
   "outputs": [
    {
     "name": "stdout",
     "output_type": "stream",
     "text": [
      "Learning rate set to 0.084168\n",
      "0:\tlearn: 1.7365830\ttotal: 88.6ms\tremaining: 1m 28s\n",
      "1:\tlearn: 1.6932042\ttotal: 117ms\tremaining: 58.5s\n",
      "2:\tlearn: 1.6594066\ttotal: 131ms\tremaining: 43.6s\n",
      "3:\tlearn: 1.6266826\ttotal: 148ms\tremaining: 37s\n",
      "4:\tlearn: 1.5965390\ttotal: 166ms\tremaining: 33s\n",
      "5:\tlearn: 1.5683122\ttotal: 186ms\tremaining: 30.8s\n",
      "6:\tlearn: 1.5467310\ttotal: 206ms\tremaining: 29.2s\n",
      "7:\tlearn: 1.5275103\ttotal: 219ms\tremaining: 27.2s\n",
      "8:\tlearn: 1.5105472\ttotal: 231ms\tremaining: 25.4s\n",
      "9:\tlearn: 1.4941726\ttotal: 246ms\tremaining: 24.4s\n",
      "10:\tlearn: 1.4782473\ttotal: 259ms\tremaining: 23.2s\n",
      "11:\tlearn: 1.4657310\ttotal: 270ms\tremaining: 22.2s\n",
      "12:\tlearn: 1.4539527\ttotal: 281ms\tremaining: 21.3s\n",
      "13:\tlearn: 1.4434768\ttotal: 292ms\tremaining: 20.6s\n",
      "14:\tlearn: 1.4337688\ttotal: 303ms\tremaining: 19.9s\n",
      "15:\tlearn: 1.4246963\ttotal: 314ms\tremaining: 19.3s\n",
      "16:\tlearn: 1.4152176\ttotal: 325ms\tremaining: 18.8s\n",
      "17:\tlearn: 1.4073608\ttotal: 337ms\tremaining: 18.4s\n",
      "18:\tlearn: 1.4009868\ttotal: 349ms\tremaining: 18s\n",
      "19:\tlearn: 1.3953648\ttotal: 359ms\tremaining: 17.6s\n",
      "20:\tlearn: 1.3898714\ttotal: 370ms\tremaining: 17.3s\n",
      "21:\tlearn: 1.3848646\ttotal: 382ms\tremaining: 17s\n",
      "22:\tlearn: 1.3805920\ttotal: 389ms\tremaining: 16.5s\n",
      "23:\tlearn: 1.3772535\ttotal: 396ms\tremaining: 16.1s\n",
      "24:\tlearn: 1.3735532\ttotal: 404ms\tremaining: 15.8s\n",
      "25:\tlearn: 1.3695652\ttotal: 413ms\tremaining: 15.5s\n",
      "26:\tlearn: 1.3651031\ttotal: 423ms\tremaining: 15.2s\n",
      "27:\tlearn: 1.3620479\ttotal: 433ms\tremaining: 15s\n",
      "28:\tlearn: 1.3580434\ttotal: 443ms\tremaining: 14.8s\n",
      "29:\tlearn: 1.3564282\ttotal: 454ms\tremaining: 14.7s\n",
      "30:\tlearn: 1.3538835\ttotal: 464ms\tremaining: 14.5s\n",
      "31:\tlearn: 1.3511609\ttotal: 475ms\tremaining: 14.4s\n",
      "32:\tlearn: 1.3489176\ttotal: 485ms\tremaining: 14.2s\n",
      "33:\tlearn: 1.3472315\ttotal: 496ms\tremaining: 14.1s\n",
      "34:\tlearn: 1.3445149\ttotal: 507ms\tremaining: 14s\n",
      "35:\tlearn: 1.3426067\ttotal: 517ms\tremaining: 13.8s\n",
      "36:\tlearn: 1.3402106\ttotal: 527ms\tremaining: 13.7s\n",
      "37:\tlearn: 1.3390764\ttotal: 536ms\tremaining: 13.6s\n",
      "38:\tlearn: 1.3368198\ttotal: 547ms\tremaining: 13.5s\n",
      "39:\tlearn: 1.3336718\ttotal: 558ms\tremaining: 13.4s\n",
      "40:\tlearn: 1.3321601\ttotal: 568ms\tremaining: 13.3s\n",
      "41:\tlearn: 1.3302685\ttotal: 576ms\tremaining: 13.1s\n",
      "42:\tlearn: 1.3293371\ttotal: 580ms\tremaining: 12.9s\n",
      "43:\tlearn: 1.3276477\ttotal: 587ms\tremaining: 12.8s\n",
      "44:\tlearn: 1.3261971\ttotal: 594ms\tremaining: 12.6s\n",
      "45:\tlearn: 1.3247686\ttotal: 602ms\tremaining: 12.5s\n",
      "46:\tlearn: 1.3232721\ttotal: 610ms\tremaining: 12.4s\n",
      "47:\tlearn: 1.3211913\ttotal: 618ms\tremaining: 12.3s\n",
      "48:\tlearn: 1.3198139\ttotal: 627ms\tremaining: 12.2s\n",
      "49:\tlearn: 1.3190864\ttotal: 638ms\tremaining: 12.1s\n",
      "50:\tlearn: 1.3176946\ttotal: 649ms\tremaining: 12.1s\n",
      "51:\tlearn: 1.3160808\ttotal: 658ms\tremaining: 12s\n",
      "52:\tlearn: 1.3142590\ttotal: 667ms\tremaining: 11.9s\n",
      "53:\tlearn: 1.3127784\ttotal: 674ms\tremaining: 11.8s\n",
      "54:\tlearn: 1.3116264\ttotal: 684ms\tremaining: 11.7s\n",
      "55:\tlearn: 1.3109547\ttotal: 694ms\tremaining: 11.7s\n",
      "56:\tlearn: 1.3097420\ttotal: 704ms\tremaining: 11.6s\n",
      "57:\tlearn: 1.3089802\ttotal: 715ms\tremaining: 11.6s\n",
      "58:\tlearn: 1.3081706\ttotal: 726ms\tremaining: 11.6s\n",
      "59:\tlearn: 1.3072515\ttotal: 737ms\tremaining: 11.5s\n",
      "60:\tlearn: 1.3061939\ttotal: 749ms\tremaining: 11.5s\n",
      "61:\tlearn: 1.3042772\ttotal: 759ms\tremaining: 11.5s\n",
      "62:\tlearn: 1.3032893\ttotal: 767ms\tremaining: 11.4s\n",
      "63:\tlearn: 1.3027939\ttotal: 774ms\tremaining: 11.3s\n",
      "64:\tlearn: 1.3023763\ttotal: 779ms\tremaining: 11.2s\n",
      "65:\tlearn: 1.3014601\ttotal: 785ms\tremaining: 11.1s\n",
      "66:\tlearn: 1.3006214\ttotal: 792ms\tremaining: 11s\n",
      "67:\tlearn: 1.2999137\ttotal: 801ms\tremaining: 11s\n",
      "68:\tlearn: 1.2994993\ttotal: 811ms\tremaining: 10.9s\n",
      "69:\tlearn: 1.2984057\ttotal: 821ms\tremaining: 10.9s\n",
      "70:\tlearn: 1.2976303\ttotal: 830ms\tremaining: 10.9s\n",
      "71:\tlearn: 1.2967446\ttotal: 840ms\tremaining: 10.8s\n",
      "72:\tlearn: 1.2963425\ttotal: 851ms\tremaining: 10.8s\n",
      "73:\tlearn: 1.2957453\ttotal: 861ms\tremaining: 10.8s\n",
      "74:\tlearn: 1.2949206\ttotal: 872ms\tremaining: 10.8s\n",
      "75:\tlearn: 1.2939799\ttotal: 886ms\tremaining: 10.8s\n",
      "76:\tlearn: 1.2926780\ttotal: 897ms\tremaining: 10.8s\n",
      "77:\tlearn: 1.2906386\ttotal: 907ms\tremaining: 10.7s\n",
      "78:\tlearn: 1.2901576\ttotal: 916ms\tremaining: 10.7s\n",
      "79:\tlearn: 1.2896631\ttotal: 925ms\tremaining: 10.6s\n",
      "80:\tlearn: 1.2886434\ttotal: 936ms\tremaining: 10.6s\n",
      "81:\tlearn: 1.2879208\ttotal: 945ms\tremaining: 10.6s\n",
      "82:\tlearn: 1.2863142\ttotal: 955ms\tremaining: 10.6s\n",
      "83:\tlearn: 1.2853473\ttotal: 962ms\tremaining: 10.5s\n",
      "84:\tlearn: 1.2846141\ttotal: 968ms\tremaining: 10.4s\n",
      "85:\tlearn: 1.2840861\ttotal: 975ms\tremaining: 10.4s\n",
      "86:\tlearn: 1.2835591\ttotal: 981ms\tremaining: 10.3s\n",
      "87:\tlearn: 1.2829735\ttotal: 990ms\tremaining: 10.3s\n",
      "88:\tlearn: 1.2813660\ttotal: 1s\tremaining: 10.2s\n",
      "89:\tlearn: 1.2807524\ttotal: 1.01s\tremaining: 10.2s\n",
      "90:\tlearn: 1.2802973\ttotal: 1.02s\tremaining: 10.2s\n",
      "91:\tlearn: 1.2795300\ttotal: 1.03s\tremaining: 10.2s\n",
      "92:\tlearn: 1.2788521\ttotal: 1.04s\tremaining: 10.2s\n",
      "93:\tlearn: 1.2785032\ttotal: 1.05s\tremaining: 10.1s\n",
      "94:\tlearn: 1.2778834\ttotal: 1.06s\tremaining: 10.1s\n",
      "95:\tlearn: 1.2762660\ttotal: 1.07s\tremaining: 10.1s\n",
      "96:\tlearn: 1.2754427\ttotal: 1.08s\tremaining: 10.1s\n",
      "97:\tlearn: 1.2750125\ttotal: 1.09s\tremaining: 10.1s\n",
      "98:\tlearn: 1.2746934\ttotal: 1.1s\tremaining: 10s\n",
      "99:\tlearn: 1.2739692\ttotal: 1.11s\tremaining: 10s\n",
      "100:\tlearn: 1.2729453\ttotal: 1.12s\tremaining: 9.98s\n",
      "101:\tlearn: 1.2714982\ttotal: 1.13s\tremaining: 9.97s\n",
      "102:\tlearn: 1.2701651\ttotal: 1.14s\tremaining: 9.96s\n",
      "103:\tlearn: 1.2697282\ttotal: 1.15s\tremaining: 9.94s\n",
      "104:\tlearn: 1.2676419\ttotal: 1.16s\tremaining: 9.88s\n",
      "105:\tlearn: 1.2669371\ttotal: 1.16s\tremaining: 9.82s\n",
      "106:\tlearn: 1.2656947\ttotal: 1.17s\tremaining: 9.77s\n",
      "107:\tlearn: 1.2649511\ttotal: 1.18s\tremaining: 9.73s\n",
      "108:\tlearn: 1.2634079\ttotal: 1.19s\tremaining: 9.73s\n",
      "109:\tlearn: 1.2619062\ttotal: 1.2s\tremaining: 9.71s\n",
      "110:\tlearn: 1.2601704\ttotal: 1.21s\tremaining: 9.69s\n",
      "111:\tlearn: 1.2583469\ttotal: 1.22s\tremaining: 9.68s\n",
      "112:\tlearn: 1.2577626\ttotal: 1.23s\tremaining: 9.67s\n",
      "113:\tlearn: 1.2570403\ttotal: 1.24s\tremaining: 9.66s\n",
      "114:\tlearn: 1.2566934\ttotal: 1.25s\tremaining: 9.64s\n",
      "115:\tlearn: 1.2560208\ttotal: 1.26s\tremaining: 9.63s\n",
      "116:\tlearn: 1.2552480\ttotal: 1.27s\tremaining: 9.61s\n",
      "117:\tlearn: 1.2548249\ttotal: 1.28s\tremaining: 9.6s\n",
      "118:\tlearn: 1.2538976\ttotal: 1.29s\tremaining: 9.58s\n",
      "119:\tlearn: 1.2534724\ttotal: 1.3s\tremaining: 9.57s\n",
      "120:\tlearn: 1.2530674\ttotal: 1.32s\tremaining: 9.56s\n",
      "121:\tlearn: 1.2523855\ttotal: 1.33s\tremaining: 9.55s\n",
      "122:\tlearn: 1.2519726\ttotal: 1.33s\tremaining: 9.52s\n",
      "123:\tlearn: 1.2513762\ttotal: 1.34s\tremaining: 9.48s\n",
      "124:\tlearn: 1.2509166\ttotal: 1.35s\tremaining: 9.45s\n",
      "125:\tlearn: 1.2501205\ttotal: 1.36s\tremaining: 9.42s\n",
      "126:\tlearn: 1.2495736\ttotal: 1.36s\tremaining: 9.37s\n",
      "127:\tlearn: 1.2489457\ttotal: 1.37s\tremaining: 9.34s\n",
      "128:\tlearn: 1.2484108\ttotal: 1.38s\tremaining: 9.3s\n",
      "129:\tlearn: 1.2477034\ttotal: 1.39s\tremaining: 9.28s\n",
      "130:\tlearn: 1.2470805\ttotal: 1.39s\tremaining: 9.24s\n",
      "131:\tlearn: 1.2467494\ttotal: 1.4s\tremaining: 9.19s\n",
      "132:\tlearn: 1.2458672\ttotal: 1.4s\tremaining: 9.15s\n",
      "133:\tlearn: 1.2455197\ttotal: 1.41s\tremaining: 9.13s\n",
      "134:\tlearn: 1.2442904\ttotal: 1.42s\tremaining: 9.1s\n",
      "135:\tlearn: 1.2437826\ttotal: 1.43s\tremaining: 9.09s\n",
      "136:\tlearn: 1.2428676\ttotal: 1.44s\tremaining: 9.07s\n",
      "137:\tlearn: 1.2423340\ttotal: 1.45s\tremaining: 9.06s\n",
      "138:\tlearn: 1.2414468\ttotal: 1.46s\tremaining: 9.04s\n",
      "139:\tlearn: 1.2405479\ttotal: 1.47s\tremaining: 9.03s\n",
      "140:\tlearn: 1.2400580\ttotal: 1.48s\tremaining: 9.02s\n",
      "141:\tlearn: 1.2389013\ttotal: 1.49s\tremaining: 9.01s\n",
      "142:\tlearn: 1.2384728\ttotal: 1.5s\tremaining: 8.99s\n",
      "143:\tlearn: 1.2371469\ttotal: 1.51s\tremaining: 8.98s\n",
      "144:\tlearn: 1.2368643\ttotal: 1.52s\tremaining: 8.97s\n",
      "145:\tlearn: 1.2361513\ttotal: 1.53s\tremaining: 8.96s\n",
      "146:\tlearn: 1.2350318\ttotal: 1.54s\tremaining: 8.92s\n",
      "147:\tlearn: 1.2344178\ttotal: 1.54s\tremaining: 8.89s\n",
      "148:\tlearn: 1.2334313\ttotal: 1.55s\tremaining: 8.86s\n",
      "149:\tlearn: 1.2329987\ttotal: 1.56s\tremaining: 8.85s\n",
      "150:\tlearn: 1.2325730\ttotal: 1.57s\tremaining: 8.84s\n",
      "151:\tlearn: 1.2321959\ttotal: 1.58s\tremaining: 8.82s\n",
      "152:\tlearn: 1.2313089\ttotal: 1.59s\tremaining: 8.81s\n",
      "153:\tlearn: 1.2305754\ttotal: 1.6s\tremaining: 8.8s\n",
      "154:\tlearn: 1.2300553\ttotal: 1.61s\tremaining: 8.79s\n",
      "155:\tlearn: 1.2289104\ttotal: 1.62s\tremaining: 8.77s\n",
      "156:\tlearn: 1.2278046\ttotal: 1.63s\tremaining: 8.77s\n",
      "157:\tlearn: 1.2272859\ttotal: 1.64s\tremaining: 8.73s\n",
      "158:\tlearn: 1.2266421\ttotal: 1.65s\tremaining: 8.71s\n",
      "159:\tlearn: 1.2261612\ttotal: 1.66s\tremaining: 8.7s\n",
      "160:\tlearn: 1.2249900\ttotal: 1.67s\tremaining: 8.69s\n",
      "161:\tlearn: 1.2244893\ttotal: 1.68s\tremaining: 8.69s\n",
      "162:\tlearn: 1.2240546\ttotal: 1.69s\tremaining: 8.68s\n",
      "163:\tlearn: 1.2237244\ttotal: 1.7s\tremaining: 8.68s\n",
      "164:\tlearn: 1.2229517\ttotal: 1.71s\tremaining: 8.67s\n"
     ]
    },
    {
     "name": "stdout",
     "output_type": "stream",
     "text": [
      "165:\tlearn: 1.2225803\ttotal: 1.72s\tremaining: 8.65s\n",
      "166:\tlearn: 1.2218289\ttotal: 1.73s\tremaining: 8.62s\n",
      "167:\tlearn: 1.2210240\ttotal: 1.74s\tremaining: 8.59s\n",
      "168:\tlearn: 1.2202554\ttotal: 1.74s\tremaining: 8.57s\n",
      "169:\tlearn: 1.2197321\ttotal: 1.75s\tremaining: 8.55s\n",
      "170:\tlearn: 1.2184133\ttotal: 1.76s\tremaining: 8.54s\n",
      "171:\tlearn: 1.2179345\ttotal: 1.77s\tremaining: 8.53s\n",
      "172:\tlearn: 1.2171311\ttotal: 1.78s\tremaining: 8.52s\n",
      "173:\tlearn: 1.2166820\ttotal: 1.79s\tremaining: 8.51s\n",
      "174:\tlearn: 1.2156801\ttotal: 1.8s\tremaining: 8.51s\n",
      "175:\tlearn: 1.2152311\ttotal: 1.81s\tremaining: 8.5s\n",
      "176:\tlearn: 1.2149611\ttotal: 1.82s\tremaining: 8.49s\n",
      "177:\tlearn: 1.2141341\ttotal: 1.83s\tremaining: 8.47s\n",
      "178:\tlearn: 1.2136300\ttotal: 1.84s\tremaining: 8.46s\n",
      "179:\tlearn: 1.2129936\ttotal: 1.85s\tremaining: 8.45s\n",
      "180:\tlearn: 1.2120260\ttotal: 1.87s\tremaining: 8.45s\n",
      "181:\tlearn: 1.2113958\ttotal: 1.88s\tremaining: 8.43s\n",
      "182:\tlearn: 1.2109848\ttotal: 1.88s\tremaining: 8.4s\n",
      "183:\tlearn: 1.2105569\ttotal: 1.89s\tremaining: 8.39s\n",
      "184:\tlearn: 1.2098780\ttotal: 1.9s\tremaining: 8.38s\n",
      "185:\tlearn: 1.2095289\ttotal: 1.91s\tremaining: 8.36s\n",
      "186:\tlearn: 1.2089367\ttotal: 1.92s\tremaining: 8.34s\n",
      "187:\tlearn: 1.2082849\ttotal: 1.93s\tremaining: 8.32s\n",
      "188:\tlearn: 1.2071770\ttotal: 1.93s\tremaining: 8.3s\n",
      "189:\tlearn: 1.2066950\ttotal: 1.94s\tremaining: 8.28s\n",
      "190:\tlearn: 1.2057254\ttotal: 1.95s\tremaining: 8.27s\n",
      "191:\tlearn: 1.2048234\ttotal: 1.96s\tremaining: 8.26s\n",
      "192:\tlearn: 1.2043862\ttotal: 1.97s\tremaining: 8.24s\n",
      "193:\tlearn: 1.2038898\ttotal: 1.98s\tremaining: 8.24s\n",
      "194:\tlearn: 1.2033920\ttotal: 1.99s\tremaining: 8.23s\n",
      "195:\tlearn: 1.2029322\ttotal: 2s\tremaining: 8.22s\n",
      "196:\tlearn: 1.2026680\ttotal: 2.01s\tremaining: 8.21s\n",
      "197:\tlearn: 1.2023570\ttotal: 2.02s\tremaining: 8.21s\n",
      "198:\tlearn: 1.2016095\ttotal: 2.04s\tremaining: 8.2s\n",
      "199:\tlearn: 1.2011459\ttotal: 2.05s\tremaining: 8.19s\n",
      "200:\tlearn: 1.2007470\ttotal: 2.06s\tremaining: 8.18s\n",
      "201:\tlearn: 1.2005118\ttotal: 2.07s\tremaining: 8.17s\n",
      "202:\tlearn: 1.2001416\ttotal: 2.08s\tremaining: 8.16s\n",
      "203:\tlearn: 1.1995273\ttotal: 2.08s\tremaining: 8.14s\n",
      "204:\tlearn: 1.1992596\ttotal: 2.09s\tremaining: 8.11s\n",
      "205:\tlearn: 1.1988288\ttotal: 2.1s\tremaining: 8.08s\n",
      "206:\tlearn: 1.1982955\ttotal: 2.11s\tremaining: 8.07s\n",
      "207:\tlearn: 1.1978665\ttotal: 2.12s\tremaining: 8.06s\n",
      "208:\tlearn: 1.1972253\ttotal: 2.13s\tremaining: 8.05s\n",
      "209:\tlearn: 1.1967543\ttotal: 2.14s\tremaining: 8.04s\n",
      "210:\tlearn: 1.1964253\ttotal: 2.15s\tremaining: 8.03s\n",
      "211:\tlearn: 1.1959614\ttotal: 2.16s\tremaining: 8.02s\n",
      "212:\tlearn: 1.1952750\ttotal: 2.17s\tremaining: 8.01s\n",
      "213:\tlearn: 1.1945398\ttotal: 2.18s\tremaining: 8s\n",
      "214:\tlearn: 1.1939856\ttotal: 2.19s\tremaining: 8s\n",
      "215:\tlearn: 1.1936179\ttotal: 2.2s\tremaining: 7.99s\n",
      "216:\tlearn: 1.1932792\ttotal: 2.21s\tremaining: 7.98s\n",
      "217:\tlearn: 1.1929825\ttotal: 2.22s\tremaining: 7.97s\n",
      "218:\tlearn: 1.1927418\ttotal: 2.23s\tremaining: 7.96s\n",
      "219:\tlearn: 1.1921081\ttotal: 2.24s\tremaining: 7.96s\n",
      "220:\tlearn: 1.1918403\ttotal: 2.25s\tremaining: 7.95s\n",
      "221:\tlearn: 1.1916593\ttotal: 2.27s\tremaining: 7.94s\n",
      "222:\tlearn: 1.1914237\ttotal: 2.27s\tremaining: 7.92s\n",
      "223:\tlearn: 1.1912331\ttotal: 2.28s\tremaining: 7.9s\n",
      "224:\tlearn: 1.1906013\ttotal: 2.29s\tremaining: 7.88s\n",
      "225:\tlearn: 1.1904448\ttotal: 2.3s\tremaining: 7.87s\n",
      "226:\tlearn: 1.1898341\ttotal: 2.31s\tremaining: 7.86s\n",
      "227:\tlearn: 1.1893632\ttotal: 2.32s\tremaining: 7.86s\n",
      "228:\tlearn: 1.1888250\ttotal: 2.33s\tremaining: 7.84s\n",
      "229:\tlearn: 1.1884641\ttotal: 2.34s\tremaining: 7.83s\n",
      "230:\tlearn: 1.1880394\ttotal: 2.35s\tremaining: 7.82s\n",
      "231:\tlearn: 1.1876250\ttotal: 2.36s\tremaining: 7.81s\n",
      "232:\tlearn: 1.1872174\ttotal: 2.37s\tremaining: 7.8s\n",
      "233:\tlearn: 1.1869990\ttotal: 2.38s\tremaining: 7.79s\n",
      "234:\tlearn: 1.1865076\ttotal: 2.39s\tremaining: 7.78s\n",
      "235:\tlearn: 1.1861339\ttotal: 2.4s\tremaining: 7.76s\n",
      "236:\tlearn: 1.1858573\ttotal: 2.41s\tremaining: 7.75s\n",
      "237:\tlearn: 1.1856853\ttotal: 2.42s\tremaining: 7.74s\n",
      "238:\tlearn: 1.1853583\ttotal: 2.43s\tremaining: 7.74s\n",
      "239:\tlearn: 1.1850578\ttotal: 2.44s\tremaining: 7.72s\n",
      "240:\tlearn: 1.1845957\ttotal: 2.45s\tremaining: 7.71s\n",
      "241:\tlearn: 1.1839692\ttotal: 2.46s\tremaining: 7.7s\n",
      "242:\tlearn: 1.1837635\ttotal: 2.47s\tremaining: 7.68s\n",
      "243:\tlearn: 1.1833206\ttotal: 2.47s\tremaining: 7.66s\n",
      "244:\tlearn: 1.1829325\ttotal: 2.48s\tremaining: 7.65s\n",
      "245:\tlearn: 1.1823758\ttotal: 2.49s\tremaining: 7.63s\n",
      "246:\tlearn: 1.1819309\ttotal: 2.5s\tremaining: 7.63s\n",
      "247:\tlearn: 1.1817562\ttotal: 2.51s\tremaining: 7.62s\n",
      "248:\tlearn: 1.1812865\ttotal: 2.52s\tremaining: 7.61s\n",
      "249:\tlearn: 1.1811161\ttotal: 2.53s\tremaining: 7.59s\n",
      "250:\tlearn: 1.1807626\ttotal: 2.54s\tremaining: 7.59s\n",
      "251:\tlearn: 1.1804869\ttotal: 2.55s\tremaining: 7.58s\n",
      "252:\tlearn: 1.1801885\ttotal: 2.56s\tremaining: 7.57s\n",
      "253:\tlearn: 1.1794040\ttotal: 2.57s\tremaining: 7.56s\n",
      "254:\tlearn: 1.1789289\ttotal: 2.58s\tremaining: 7.55s\n",
      "255:\tlearn: 1.1783949\ttotal: 2.59s\tremaining: 7.54s\n",
      "256:\tlearn: 1.1779780\ttotal: 2.6s\tremaining: 7.53s\n",
      "257:\tlearn: 1.1774977\ttotal: 2.61s\tremaining: 7.51s\n",
      "258:\tlearn: 1.1772496\ttotal: 2.62s\tremaining: 7.49s\n",
      "259:\tlearn: 1.1770442\ttotal: 2.63s\tremaining: 7.48s\n",
      "260:\tlearn: 1.1766236\ttotal: 2.64s\tremaining: 7.47s\n",
      "261:\tlearn: 1.1763460\ttotal: 2.65s\tremaining: 7.46s\n",
      "262:\tlearn: 1.1758456\ttotal: 2.65s\tremaining: 7.44s\n",
      "263:\tlearn: 1.1752181\ttotal: 2.66s\tremaining: 7.41s\n",
      "264:\tlearn: 1.1749791\ttotal: 2.67s\tremaining: 7.39s\n",
      "265:\tlearn: 1.1746268\ttotal: 2.67s\tremaining: 7.38s\n",
      "266:\tlearn: 1.1739324\ttotal: 2.68s\tremaining: 7.37s\n",
      "267:\tlearn: 1.1735331\ttotal: 2.69s\tremaining: 7.36s\n",
      "268:\tlearn: 1.1731275\ttotal: 2.7s\tremaining: 7.35s\n",
      "269:\tlearn: 1.1728542\ttotal: 2.71s\tremaining: 7.34s\n",
      "270:\tlearn: 1.1725757\ttotal: 2.73s\tremaining: 7.33s\n",
      "271:\tlearn: 1.1722348\ttotal: 2.74s\tremaining: 7.33s\n",
      "272:\tlearn: 1.1720461\ttotal: 2.75s\tremaining: 7.32s\n",
      "273:\tlearn: 1.1715189\ttotal: 2.76s\tremaining: 7.31s\n",
      "274:\tlearn: 1.1711038\ttotal: 2.77s\tremaining: 7.3s\n",
      "275:\tlearn: 1.1707414\ttotal: 2.78s\tremaining: 7.29s\n",
      "276:\tlearn: 1.1704711\ttotal: 2.79s\tremaining: 7.28s\n",
      "277:\tlearn: 1.1701653\ttotal: 2.8s\tremaining: 7.27s\n",
      "278:\tlearn: 1.1699183\ttotal: 2.81s\tremaining: 7.26s\n",
      "279:\tlearn: 1.1697278\ttotal: 2.82s\tremaining: 7.25s\n",
      "280:\tlearn: 1.1693646\ttotal: 2.83s\tremaining: 7.24s\n",
      "281:\tlearn: 1.1687243\ttotal: 2.83s\tremaining: 7.22s\n",
      "282:\tlearn: 1.1684502\ttotal: 2.84s\tremaining: 7.2s\n",
      "283:\tlearn: 1.1678794\ttotal: 2.85s\tremaining: 7.18s\n",
      "284:\tlearn: 1.1677034\ttotal: 2.86s\tremaining: 7.17s\n",
      "285:\tlearn: 1.1675007\ttotal: 2.87s\tremaining: 7.16s\n",
      "286:\tlearn: 1.1670044\ttotal: 2.88s\tremaining: 7.15s\n",
      "287:\tlearn: 1.1666598\ttotal: 2.89s\tremaining: 7.14s\n",
      "288:\tlearn: 1.1663202\ttotal: 2.9s\tremaining: 7.13s\n",
      "289:\tlearn: 1.1661532\ttotal: 2.91s\tremaining: 7.12s\n",
      "290:\tlearn: 1.1655192\ttotal: 2.92s\tremaining: 7.11s\n",
      "291:\tlearn: 1.1649594\ttotal: 2.93s\tremaining: 7.1s\n",
      "292:\tlearn: 1.1644447\ttotal: 2.94s\tremaining: 7.09s\n",
      "293:\tlearn: 1.1639400\ttotal: 2.95s\tremaining: 7.08s\n",
      "294:\tlearn: 1.1635984\ttotal: 2.96s\tremaining: 7.08s\n",
      "295:\tlearn: 1.1630905\ttotal: 2.97s\tremaining: 7.07s\n",
      "296:\tlearn: 1.1626038\ttotal: 2.98s\tremaining: 7.06s\n",
      "297:\tlearn: 1.1620556\ttotal: 2.99s\tremaining: 7.05s\n",
      "298:\tlearn: 1.1617740\ttotal: 3s\tremaining: 7.04s\n",
      "299:\tlearn: 1.1614345\ttotal: 3.01s\tremaining: 7.03s\n",
      "300:\tlearn: 1.1605715\ttotal: 3.02s\tremaining: 7.01s\n",
      "301:\tlearn: 1.1600198\ttotal: 3.02s\tremaining: 6.99s\n",
      "302:\tlearn: 1.1596186\ttotal: 3.03s\tremaining: 6.98s\n",
      "303:\tlearn: 1.1593239\ttotal: 3.04s\tremaining: 6.97s\n",
      "304:\tlearn: 1.1589440\ttotal: 3.05s\tremaining: 6.96s\n",
      "305:\tlearn: 1.1585760\ttotal: 3.06s\tremaining: 6.95s\n",
      "306:\tlearn: 1.1580715\ttotal: 3.08s\tremaining: 6.94s\n",
      "307:\tlearn: 1.1576585\ttotal: 3.09s\tremaining: 6.93s\n",
      "308:\tlearn: 1.1574551\ttotal: 3.1s\tremaining: 6.92s\n",
      "309:\tlearn: 1.1572634\ttotal: 3.11s\tremaining: 6.91s\n",
      "310:\tlearn: 1.1569053\ttotal: 3.12s\tremaining: 6.9s\n",
      "311:\tlearn: 1.1567176\ttotal: 3.13s\tremaining: 6.89s\n",
      "312:\tlearn: 1.1561307\ttotal: 3.14s\tremaining: 6.89s\n",
      "313:\tlearn: 1.1558083\ttotal: 3.15s\tremaining: 6.88s\n",
      "314:\tlearn: 1.1553758\ttotal: 3.16s\tremaining: 6.87s\n",
      "315:\tlearn: 1.1551099\ttotal: 3.17s\tremaining: 6.86s\n",
      "316:\tlearn: 1.1545257\ttotal: 3.18s\tremaining: 6.85s\n",
      "317:\tlearn: 1.1542187\ttotal: 3.19s\tremaining: 6.84s\n",
      "318:\tlearn: 1.1537902\ttotal: 3.2s\tremaining: 6.83s\n",
      "319:\tlearn: 1.1535146\ttotal: 3.21s\tremaining: 6.81s\n",
      "320:\tlearn: 1.1533392\ttotal: 3.21s\tremaining: 6.79s\n",
      "321:\tlearn: 1.1528919\ttotal: 3.22s\tremaining: 6.78s\n",
      "322:\tlearn: 1.1525945\ttotal: 3.23s\tremaining: 6.77s\n",
      "323:\tlearn: 1.1520177\ttotal: 3.24s\tremaining: 6.77s\n",
      "324:\tlearn: 1.1517598\ttotal: 3.25s\tremaining: 6.76s\n",
      "325:\tlearn: 1.1513630\ttotal: 3.26s\tremaining: 6.75s\n",
      "326:\tlearn: 1.1508996\ttotal: 3.27s\tremaining: 6.74s\n",
      "327:\tlearn: 1.1506151\ttotal: 3.29s\tremaining: 6.73s\n",
      "328:\tlearn: 1.1501908\ttotal: 3.3s\tremaining: 6.73s\n",
      "329:\tlearn: 1.1498211\ttotal: 3.31s\tremaining: 6.72s\n",
      "330:\tlearn: 1.1492581\ttotal: 3.32s\tremaining: 6.71s\n",
      "331:\tlearn: 1.1490950\ttotal: 3.33s\tremaining: 6.7s\n",
      "332:\tlearn: 1.1488029\ttotal: 3.34s\tremaining: 6.69s\n",
      "333:\tlearn: 1.1482725\ttotal: 3.35s\tremaining: 6.68s\n",
      "334:\tlearn: 1.1480572\ttotal: 3.36s\tremaining: 6.68s\n",
      "335:\tlearn: 1.1475773\ttotal: 3.37s\tremaining: 6.67s\n",
      "336:\tlearn: 1.1473458\ttotal: 3.38s\tremaining: 6.66s\n"
     ]
    },
    {
     "name": "stdout",
     "output_type": "stream",
     "text": [
      "337:\tlearn: 1.1470492\ttotal: 3.39s\tremaining: 6.65s\n",
      "338:\tlearn: 1.1465838\ttotal: 3.4s\tremaining: 6.63s\n",
      "339:\tlearn: 1.1461468\ttotal: 3.41s\tremaining: 6.62s\n",
      "340:\tlearn: 1.1458912\ttotal: 3.42s\tremaining: 6.6s\n",
      "341:\tlearn: 1.1455141\ttotal: 3.42s\tremaining: 6.59s\n",
      "342:\tlearn: 1.1451512\ttotal: 3.44s\tremaining: 6.58s\n",
      "343:\tlearn: 1.1446788\ttotal: 3.44s\tremaining: 6.57s\n",
      "344:\tlearn: 1.1442414\ttotal: 3.45s\tremaining: 6.55s\n",
      "345:\tlearn: 1.1440272\ttotal: 3.46s\tremaining: 6.55s\n",
      "346:\tlearn: 1.1437689\ttotal: 3.47s\tremaining: 6.54s\n",
      "347:\tlearn: 1.1434681\ttotal: 3.48s\tremaining: 6.53s\n",
      "348:\tlearn: 1.1432295\ttotal: 3.49s\tremaining: 6.52s\n",
      "349:\tlearn: 1.1425076\ttotal: 3.5s\tremaining: 6.51s\n",
      "350:\tlearn: 1.1422019\ttotal: 3.52s\tremaining: 6.5s\n",
      "351:\tlearn: 1.1419020\ttotal: 3.53s\tremaining: 6.49s\n",
      "352:\tlearn: 1.1416453\ttotal: 3.54s\tremaining: 6.49s\n",
      "353:\tlearn: 1.1412398\ttotal: 3.55s\tremaining: 6.48s\n",
      "354:\tlearn: 1.1407721\ttotal: 3.56s\tremaining: 6.47s\n",
      "355:\tlearn: 1.1402052\ttotal: 3.57s\tremaining: 6.46s\n",
      "356:\tlearn: 1.1399193\ttotal: 3.58s\tremaining: 6.45s\n",
      "357:\tlearn: 1.1394548\ttotal: 3.59s\tremaining: 6.43s\n",
      "358:\tlearn: 1.1390313\ttotal: 3.6s\tremaining: 6.42s\n",
      "359:\tlearn: 1.1386329\ttotal: 3.6s\tremaining: 6.41s\n",
      "360:\tlearn: 1.1383921\ttotal: 3.61s\tremaining: 6.39s\n",
      "361:\tlearn: 1.1381963\ttotal: 3.62s\tremaining: 6.38s\n",
      "362:\tlearn: 1.1377663\ttotal: 3.63s\tremaining: 6.38s\n",
      "363:\tlearn: 1.1373928\ttotal: 3.64s\tremaining: 6.37s\n",
      "364:\tlearn: 1.1369495\ttotal: 3.65s\tremaining: 6.36s\n",
      "365:\tlearn: 1.1366698\ttotal: 3.67s\tremaining: 6.35s\n",
      "366:\tlearn: 1.1361504\ttotal: 3.67s\tremaining: 6.34s\n",
      "367:\tlearn: 1.1358420\ttotal: 3.68s\tremaining: 6.33s\n",
      "368:\tlearn: 1.1352741\ttotal: 3.69s\tremaining: 6.32s\n",
      "369:\tlearn: 1.1351083\ttotal: 3.7s\tremaining: 6.3s\n",
      "370:\tlearn: 1.1347260\ttotal: 3.71s\tremaining: 6.29s\n",
      "371:\tlearn: 1.1342498\ttotal: 3.72s\tremaining: 6.29s\n",
      "372:\tlearn: 1.1340188\ttotal: 3.73s\tremaining: 6.28s\n",
      "373:\tlearn: 1.1338706\ttotal: 3.75s\tremaining: 6.27s\n",
      "374:\tlearn: 1.1334226\ttotal: 3.75s\tremaining: 6.26s\n",
      "375:\tlearn: 1.1332692\ttotal: 3.77s\tremaining: 6.25s\n",
      "376:\tlearn: 1.1328905\ttotal: 3.77s\tremaining: 6.24s\n",
      "377:\tlearn: 1.1324565\ttotal: 3.78s\tremaining: 6.22s\n",
      "378:\tlearn: 1.1319224\ttotal: 3.79s\tremaining: 6.21s\n",
      "379:\tlearn: 1.1315946\ttotal: 3.8s\tremaining: 6.2s\n",
      "380:\tlearn: 1.1314244\ttotal: 3.81s\tremaining: 6.19s\n",
      "381:\tlearn: 1.1311777\ttotal: 3.82s\tremaining: 6.18s\n",
      "382:\tlearn: 1.1307997\ttotal: 3.83s\tremaining: 6.17s\n",
      "383:\tlearn: 1.1305692\ttotal: 3.84s\tremaining: 6.16s\n",
      "384:\tlearn: 1.1302899\ttotal: 3.85s\tremaining: 6.15s\n",
      "385:\tlearn: 1.1301437\ttotal: 3.86s\tremaining: 6.14s\n",
      "386:\tlearn: 1.1299800\ttotal: 3.87s\tremaining: 6.13s\n",
      "387:\tlearn: 1.1297915\ttotal: 3.88s\tremaining: 6.13s\n",
      "388:\tlearn: 1.1293463\ttotal: 3.89s\tremaining: 6.12s\n",
      "389:\tlearn: 1.1289631\ttotal: 3.9s\tremaining: 6.11s\n",
      "390:\tlearn: 1.1286714\ttotal: 3.91s\tremaining: 6.1s\n",
      "391:\tlearn: 1.1285330\ttotal: 3.92s\tremaining: 6.09s\n",
      "392:\tlearn: 1.1281516\ttotal: 3.94s\tremaining: 6.08s\n",
      "393:\tlearn: 1.1279663\ttotal: 3.95s\tremaining: 6.07s\n",
      "394:\tlearn: 1.1276687\ttotal: 3.96s\tremaining: 6.06s\n",
      "395:\tlearn: 1.1273568\ttotal: 3.96s\tremaining: 6.04s\n",
      "396:\tlearn: 1.1271843\ttotal: 3.97s\tremaining: 6.03s\n",
      "397:\tlearn: 1.1266444\ttotal: 3.98s\tremaining: 6.02s\n",
      "398:\tlearn: 1.1264631\ttotal: 3.99s\tremaining: 6.01s\n",
      "399:\tlearn: 1.1261199\ttotal: 4s\tremaining: 6s\n",
      "400:\tlearn: 1.1257512\ttotal: 4.01s\tremaining: 5.99s\n",
      "401:\tlearn: 1.1255025\ttotal: 4.02s\tremaining: 5.98s\n",
      "402:\tlearn: 1.1252770\ttotal: 4.03s\tremaining: 5.97s\n",
      "403:\tlearn: 1.1251158\ttotal: 4.04s\tremaining: 5.96s\n",
      "404:\tlearn: 1.1247424\ttotal: 4.05s\tremaining: 5.95s\n",
      "405:\tlearn: 1.1243643\ttotal: 4.06s\tremaining: 5.94s\n",
      "406:\tlearn: 1.1242230\ttotal: 4.07s\tremaining: 5.93s\n",
      "407:\tlearn: 1.1239318\ttotal: 4.08s\tremaining: 5.92s\n",
      "408:\tlearn: 1.1235296\ttotal: 4.09s\tremaining: 5.92s\n",
      "409:\tlearn: 1.1230792\ttotal: 4.11s\tremaining: 5.91s\n",
      "410:\tlearn: 1.1228883\ttotal: 4.12s\tremaining: 5.9s\n",
      "411:\tlearn: 1.1225220\ttotal: 4.13s\tremaining: 5.89s\n",
      "412:\tlearn: 1.1222416\ttotal: 4.14s\tremaining: 5.88s\n",
      "413:\tlearn: 1.1219968\ttotal: 4.14s\tremaining: 5.86s\n",
      "414:\tlearn: 1.1218088\ttotal: 4.15s\tremaining: 5.85s\n",
      "415:\tlearn: 1.1215554\ttotal: 4.16s\tremaining: 5.84s\n",
      "416:\tlearn: 1.1214083\ttotal: 4.17s\tremaining: 5.83s\n",
      "417:\tlearn: 1.1209999\ttotal: 4.18s\tremaining: 5.82s\n",
      "418:\tlearn: 1.1208455\ttotal: 4.19s\tremaining: 5.81s\n",
      "419:\tlearn: 1.1205241\ttotal: 4.2s\tremaining: 5.8s\n",
      "420:\tlearn: 1.1202308\ttotal: 4.21s\tremaining: 5.79s\n",
      "421:\tlearn: 1.1198588\ttotal: 4.22s\tremaining: 5.78s\n",
      "422:\tlearn: 1.1196215\ttotal: 4.23s\tremaining: 5.77s\n",
      "423:\tlearn: 1.1193721\ttotal: 4.24s\tremaining: 5.76s\n",
      "424:\tlearn: 1.1190451\ttotal: 4.25s\tremaining: 5.75s\n",
      "425:\tlearn: 1.1187992\ttotal: 4.26s\tremaining: 5.74s\n",
      "426:\tlearn: 1.1184129\ttotal: 4.27s\tremaining: 5.73s\n",
      "427:\tlearn: 1.1181830\ttotal: 4.28s\tremaining: 5.72s\n",
      "428:\tlearn: 1.1180378\ttotal: 4.29s\tremaining: 5.71s\n",
      "429:\tlearn: 1.1178407\ttotal: 4.3s\tremaining: 5.69s\n",
      "430:\tlearn: 1.1176174\ttotal: 4.31s\tremaining: 5.69s\n",
      "431:\tlearn: 1.1173443\ttotal: 4.32s\tremaining: 5.67s\n",
      "432:\tlearn: 1.1171397\ttotal: 4.32s\tremaining: 5.66s\n",
      "433:\tlearn: 1.1168632\ttotal: 4.33s\tremaining: 5.64s\n",
      "434:\tlearn: 1.1166802\ttotal: 4.34s\tremaining: 5.63s\n",
      "435:\tlearn: 1.1165001\ttotal: 4.35s\tremaining: 5.62s\n",
      "436:\tlearn: 1.1162483\ttotal: 4.36s\tremaining: 5.61s\n",
      "437:\tlearn: 1.1158170\ttotal: 4.37s\tremaining: 5.61s\n",
      "438:\tlearn: 1.1154847\ttotal: 4.38s\tremaining: 5.6s\n",
      "439:\tlearn: 1.1151986\ttotal: 4.39s\tremaining: 5.59s\n",
      "440:\tlearn: 1.1148607\ttotal: 4.4s\tremaining: 5.58s\n",
      "441:\tlearn: 1.1144070\ttotal: 4.41s\tremaining: 5.57s\n",
      "442:\tlearn: 1.1141202\ttotal: 4.42s\tremaining: 5.56s\n",
      "443:\tlearn: 1.1137549\ttotal: 4.43s\tremaining: 5.55s\n",
      "444:\tlearn: 1.1134611\ttotal: 4.44s\tremaining: 5.54s\n",
      "445:\tlearn: 1.1131558\ttotal: 4.45s\tremaining: 5.53s\n",
      "446:\tlearn: 1.1128768\ttotal: 4.46s\tremaining: 5.52s\n",
      "447:\tlearn: 1.1124262\ttotal: 4.47s\tremaining: 5.51s\n",
      "448:\tlearn: 1.1121652\ttotal: 4.48s\tremaining: 5.5s\n",
      "449:\tlearn: 1.1119252\ttotal: 4.5s\tremaining: 5.49s\n",
      "450:\tlearn: 1.1115751\ttotal: 4.5s\tremaining: 5.48s\n",
      "451:\tlearn: 1.1112951\ttotal: 4.51s\tremaining: 5.47s\n",
      "452:\tlearn: 1.1110781\ttotal: 4.51s\tremaining: 5.45s\n",
      "453:\tlearn: 1.1107089\ttotal: 4.52s\tremaining: 5.44s\n",
      "454:\tlearn: 1.1104825\ttotal: 4.53s\tremaining: 5.43s\n",
      "455:\tlearn: 1.1102235\ttotal: 4.54s\tremaining: 5.42s\n",
      "456:\tlearn: 1.1098629\ttotal: 4.55s\tremaining: 5.41s\n",
      "457:\tlearn: 1.1097100\ttotal: 4.56s\tremaining: 5.39s\n",
      "458:\tlearn: 1.1094330\ttotal: 4.56s\tremaining: 5.38s\n",
      "459:\tlearn: 1.1092787\ttotal: 4.57s\tremaining: 5.37s\n",
      "460:\tlearn: 1.1090428\ttotal: 4.58s\tremaining: 5.36s\n",
      "461:\tlearn: 1.1086625\ttotal: 4.59s\tremaining: 5.35s\n",
      "462:\tlearn: 1.1082375\ttotal: 4.61s\tremaining: 5.34s\n",
      "463:\tlearn: 1.1079132\ttotal: 4.62s\tremaining: 5.33s\n",
      "464:\tlearn: 1.1077691\ttotal: 4.63s\tremaining: 5.32s\n",
      "465:\tlearn: 1.1074955\ttotal: 4.64s\tremaining: 5.31s\n",
      "466:\tlearn: 1.1073306\ttotal: 4.65s\tremaining: 5.3s\n",
      "467:\tlearn: 1.1069854\ttotal: 4.66s\tremaining: 5.29s\n",
      "468:\tlearn: 1.1065608\ttotal: 4.67s\tremaining: 5.29s\n",
      "469:\tlearn: 1.1062235\ttotal: 4.68s\tremaining: 5.28s\n",
      "470:\tlearn: 1.1059770\ttotal: 4.69s\tremaining: 5.26s\n",
      "471:\tlearn: 1.1057575\ttotal: 4.69s\tremaining: 5.25s\n",
      "472:\tlearn: 1.1055840\ttotal: 4.7s\tremaining: 5.24s\n",
      "473:\tlearn: 1.1054480\ttotal: 4.71s\tremaining: 5.22s\n",
      "474:\tlearn: 1.1051037\ttotal: 4.71s\tremaining: 5.21s\n",
      "475:\tlearn: 1.1047065\ttotal: 4.72s\tremaining: 5.2s\n",
      "476:\tlearn: 1.1044324\ttotal: 4.73s\tremaining: 5.19s\n",
      "477:\tlearn: 1.1041226\ttotal: 4.74s\tremaining: 5.18s\n",
      "478:\tlearn: 1.1038395\ttotal: 4.75s\tremaining: 5.17s\n",
      "479:\tlearn: 1.1037825\ttotal: 4.76s\tremaining: 5.16s\n",
      "480:\tlearn: 1.1035840\ttotal: 4.77s\tremaining: 5.15s\n",
      "481:\tlearn: 1.1034479\ttotal: 4.78s\tremaining: 5.14s\n",
      "482:\tlearn: 1.1032182\ttotal: 4.79s\tremaining: 5.13s\n",
      "483:\tlearn: 1.1029659\ttotal: 4.8s\tremaining: 5.12s\n",
      "484:\tlearn: 1.1024241\ttotal: 4.81s\tremaining: 5.11s\n",
      "485:\tlearn: 1.1021235\ttotal: 4.82s\tremaining: 5.1s\n",
      "486:\tlearn: 1.1019945\ttotal: 4.83s\tremaining: 5.09s\n",
      "487:\tlearn: 1.1016495\ttotal: 4.84s\tremaining: 5.08s\n",
      "488:\tlearn: 1.1014815\ttotal: 4.85s\tremaining: 5.07s\n",
      "489:\tlearn: 1.1012105\ttotal: 4.87s\tremaining: 5.06s\n",
      "490:\tlearn: 1.1009531\ttotal: 4.87s\tremaining: 5.05s\n",
      "491:\tlearn: 1.1007304\ttotal: 4.88s\tremaining: 5.04s\n",
      "492:\tlearn: 1.1003639\ttotal: 4.89s\tremaining: 5.03s\n",
      "493:\tlearn: 1.1000822\ttotal: 4.89s\tremaining: 5.01s\n",
      "494:\tlearn: 1.0995631\ttotal: 4.9s\tremaining: 5s\n",
      "495:\tlearn: 1.0992398\ttotal: 4.91s\tremaining: 4.99s\n",
      "496:\tlearn: 1.0991531\ttotal: 4.92s\tremaining: 4.98s\n",
      "497:\tlearn: 1.0988800\ttotal: 4.93s\tremaining: 4.97s\n",
      "498:\tlearn: 1.0985341\ttotal: 4.94s\tremaining: 4.96s\n",
      "499:\tlearn: 1.0983675\ttotal: 4.95s\tremaining: 4.95s\n",
      "500:\tlearn: 1.0982105\ttotal: 4.96s\tremaining: 4.94s\n",
      "501:\tlearn: 1.0978949\ttotal: 4.97s\tremaining: 4.93s\n",
      "502:\tlearn: 1.0975561\ttotal: 4.99s\tremaining: 4.93s\n",
      "503:\tlearn: 1.0974099\ttotal: 5s\tremaining: 4.92s\n",
      "504:\tlearn: 1.0972583\ttotal: 5s\tremaining: 4.91s\n",
      "505:\tlearn: 1.0970614\ttotal: 5.01s\tremaining: 4.9s\n",
      "506:\tlearn: 1.0967781\ttotal: 5.03s\tremaining: 4.89s\n",
      "507:\tlearn: 1.0964551\ttotal: 5.04s\tremaining: 4.88s\n",
      "508:\tlearn: 1.0962556\ttotal: 5.05s\tremaining: 4.87s\n",
      "509:\tlearn: 1.0960770\ttotal: 5.06s\tremaining: 4.86s\n"
     ]
    },
    {
     "name": "stdout",
     "output_type": "stream",
     "text": [
      "510:\tlearn: 1.0956845\ttotal: 5.06s\tremaining: 4.85s\n",
      "511:\tlearn: 1.0954292\ttotal: 5.07s\tremaining: 4.84s\n",
      "512:\tlearn: 1.0952192\ttotal: 5.08s\tremaining: 4.82s\n",
      "513:\tlearn: 1.0947067\ttotal: 5.09s\tremaining: 4.81s\n",
      "514:\tlearn: 1.0944074\ttotal: 5.1s\tremaining: 4.8s\n",
      "515:\tlearn: 1.0940644\ttotal: 5.11s\tremaining: 4.79s\n",
      "516:\tlearn: 1.0938195\ttotal: 5.12s\tremaining: 4.78s\n",
      "517:\tlearn: 1.0933522\ttotal: 5.13s\tremaining: 4.77s\n",
      "518:\tlearn: 1.0931186\ttotal: 5.14s\tremaining: 4.76s\n",
      "519:\tlearn: 1.0930465\ttotal: 5.15s\tremaining: 4.75s\n",
      "520:\tlearn: 1.0926865\ttotal: 5.16s\tremaining: 4.75s\n",
      "521:\tlearn: 1.0923029\ttotal: 5.17s\tremaining: 4.74s\n",
      "522:\tlearn: 1.0918769\ttotal: 5.18s\tremaining: 4.72s\n",
      "523:\tlearn: 1.0916624\ttotal: 5.19s\tremaining: 4.71s\n",
      "524:\tlearn: 1.0913135\ttotal: 5.2s\tremaining: 4.71s\n",
      "525:\tlearn: 1.0910443\ttotal: 5.21s\tremaining: 4.7s\n",
      "526:\tlearn: 1.0908682\ttotal: 5.22s\tremaining: 4.69s\n",
      "527:\tlearn: 1.0906889\ttotal: 5.23s\tremaining: 4.68s\n",
      "528:\tlearn: 1.0903788\ttotal: 5.24s\tremaining: 4.67s\n",
      "529:\tlearn: 1.0902276\ttotal: 5.25s\tremaining: 4.66s\n",
      "530:\tlearn: 1.0898792\ttotal: 5.26s\tremaining: 4.64s\n",
      "531:\tlearn: 1.0896999\ttotal: 5.26s\tremaining: 4.63s\n",
      "532:\tlearn: 1.0894780\ttotal: 5.27s\tremaining: 4.62s\n",
      "533:\tlearn: 1.0892453\ttotal: 5.28s\tremaining: 4.61s\n",
      "534:\tlearn: 1.0890998\ttotal: 5.29s\tremaining: 4.6s\n",
      "535:\tlearn: 1.0889775\ttotal: 5.3s\tremaining: 4.59s\n",
      "536:\tlearn: 1.0888985\ttotal: 5.31s\tremaining: 4.58s\n",
      "537:\tlearn: 1.0885885\ttotal: 5.32s\tremaining: 4.57s\n",
      "538:\tlearn: 1.0884170\ttotal: 5.33s\tremaining: 4.56s\n",
      "539:\tlearn: 1.0880840\ttotal: 5.34s\tremaining: 4.55s\n",
      "540:\tlearn: 1.0877039\ttotal: 5.35s\tremaining: 4.54s\n",
      "541:\tlearn: 1.0875192\ttotal: 5.37s\tremaining: 4.53s\n",
      "542:\tlearn: 1.0873118\ttotal: 5.38s\tremaining: 4.52s\n",
      "543:\tlearn: 1.0872019\ttotal: 5.39s\tremaining: 4.51s\n",
      "544:\tlearn: 1.0869654\ttotal: 5.4s\tremaining: 4.5s\n",
      "545:\tlearn: 1.0867636\ttotal: 5.41s\tremaining: 4.5s\n",
      "546:\tlearn: 1.0866277\ttotal: 5.42s\tremaining: 4.49s\n",
      "547:\tlearn: 1.0863778\ttotal: 5.43s\tremaining: 4.48s\n",
      "548:\tlearn: 1.0861220\ttotal: 5.44s\tremaining: 4.47s\n",
      "549:\tlearn: 1.0857309\ttotal: 5.45s\tremaining: 4.46s\n",
      "550:\tlearn: 1.0855298\ttotal: 5.45s\tremaining: 4.44s\n",
      "551:\tlearn: 1.0853460\ttotal: 5.46s\tremaining: 4.43s\n",
      "552:\tlearn: 1.0851884\ttotal: 5.47s\tremaining: 4.42s\n",
      "553:\tlearn: 1.0850591\ttotal: 5.48s\tremaining: 4.41s\n",
      "554:\tlearn: 1.0846970\ttotal: 5.49s\tremaining: 4.4s\n",
      "555:\tlearn: 1.0844587\ttotal: 5.5s\tremaining: 4.39s\n",
      "556:\tlearn: 1.0842357\ttotal: 5.51s\tremaining: 4.38s\n",
      "557:\tlearn: 1.0839313\ttotal: 5.52s\tremaining: 4.37s\n",
      "558:\tlearn: 1.0837397\ttotal: 5.53s\tremaining: 4.36s\n",
      "559:\tlearn: 1.0835588\ttotal: 5.53s\tremaining: 4.35s\n",
      "560:\tlearn: 1.0833032\ttotal: 5.54s\tremaining: 4.34s\n",
      "561:\tlearn: 1.0831760\ttotal: 5.55s\tremaining: 4.33s\n",
      "562:\tlearn: 1.0828266\ttotal: 5.56s\tremaining: 4.32s\n",
      "563:\tlearn: 1.0824787\ttotal: 5.58s\tremaining: 4.31s\n",
      "564:\tlearn: 1.0822620\ttotal: 5.59s\tremaining: 4.3s\n",
      "565:\tlearn: 1.0819672\ttotal: 5.6s\tremaining: 4.29s\n",
      "566:\tlearn: 1.0817862\ttotal: 5.61s\tremaining: 4.28s\n",
      "567:\tlearn: 1.0815285\ttotal: 5.62s\tremaining: 4.27s\n",
      "568:\tlearn: 1.0814607\ttotal: 5.63s\tremaining: 4.26s\n",
      "569:\tlearn: 1.0813357\ttotal: 5.63s\tremaining: 4.25s\n",
      "570:\tlearn: 1.0810936\ttotal: 5.64s\tremaining: 4.24s\n",
      "571:\tlearn: 1.0809362\ttotal: 5.65s\tremaining: 4.23s\n",
      "572:\tlearn: 1.0807859\ttotal: 5.66s\tremaining: 4.22s\n",
      "573:\tlearn: 1.0803873\ttotal: 5.67s\tremaining: 4.21s\n",
      "574:\tlearn: 1.0801778\ttotal: 5.68s\tremaining: 4.2s\n",
      "575:\tlearn: 1.0800882\ttotal: 5.69s\tremaining: 4.19s\n",
      "576:\tlearn: 1.0798575\ttotal: 5.7s\tremaining: 4.18s\n",
      "577:\tlearn: 1.0795787\ttotal: 5.71s\tremaining: 4.17s\n",
      "578:\tlearn: 1.0793632\ttotal: 5.72s\tremaining: 4.16s\n",
      "579:\tlearn: 1.0792419\ttotal: 5.73s\tremaining: 4.15s\n",
      "580:\tlearn: 1.0789852\ttotal: 5.74s\tremaining: 4.14s\n",
      "581:\tlearn: 1.0786894\ttotal: 5.75s\tremaining: 4.13s\n",
      "582:\tlearn: 1.0783401\ttotal: 5.76s\tremaining: 4.12s\n",
      "583:\tlearn: 1.0782171\ttotal: 5.77s\tremaining: 4.11s\n",
      "584:\tlearn: 1.0780845\ttotal: 5.78s\tremaining: 4.1s\n",
      "585:\tlearn: 1.0777909\ttotal: 5.79s\tremaining: 4.09s\n",
      "586:\tlearn: 1.0775447\ttotal: 5.8s\tremaining: 4.08s\n",
      "587:\tlearn: 1.0774006\ttotal: 5.81s\tremaining: 4.07s\n",
      "588:\tlearn: 1.0771298\ttotal: 5.82s\tremaining: 4.06s\n",
      "589:\tlearn: 1.0769620\ttotal: 5.83s\tremaining: 4.05s\n",
      "590:\tlearn: 1.0768073\ttotal: 5.84s\tremaining: 4.04s\n",
      "591:\tlearn: 1.0766487\ttotal: 5.85s\tremaining: 4.03s\n",
      "592:\tlearn: 1.0763871\ttotal: 5.86s\tremaining: 4.02s\n",
      "593:\tlearn: 1.0762624\ttotal: 5.87s\tremaining: 4.01s\n",
      "594:\tlearn: 1.0761164\ttotal: 5.88s\tremaining: 4s\n",
      "595:\tlearn: 1.0759835\ttotal: 5.89s\tremaining: 3.99s\n",
      "596:\tlearn: 1.0757448\ttotal: 5.9s\tremaining: 3.98s\n",
      "597:\tlearn: 1.0754846\ttotal: 5.91s\tremaining: 3.98s\n",
      "598:\tlearn: 1.0753306\ttotal: 5.92s\tremaining: 3.97s\n",
      "599:\tlearn: 1.0752518\ttotal: 5.93s\tremaining: 3.96s\n",
      "600:\tlearn: 1.0750946\ttotal: 5.94s\tremaining: 3.95s\n",
      "601:\tlearn: 1.0748940\ttotal: 5.96s\tremaining: 3.94s\n",
      "602:\tlearn: 1.0747605\ttotal: 5.97s\tremaining: 3.93s\n",
      "603:\tlearn: 1.0745901\ttotal: 5.98s\tremaining: 3.92s\n",
      "604:\tlearn: 1.0743461\ttotal: 5.99s\tremaining: 3.91s\n",
      "605:\tlearn: 1.0740190\ttotal: 6s\tremaining: 3.9s\n",
      "606:\tlearn: 1.0737017\ttotal: 6.01s\tremaining: 3.89s\n",
      "607:\tlearn: 1.0734544\ttotal: 6.01s\tremaining: 3.88s\n",
      "608:\tlearn: 1.0731140\ttotal: 6.02s\tremaining: 3.87s\n",
      "609:\tlearn: 1.0729578\ttotal: 6.03s\tremaining: 3.86s\n",
      "610:\tlearn: 1.0727086\ttotal: 6.04s\tremaining: 3.85s\n",
      "611:\tlearn: 1.0724797\ttotal: 6.05s\tremaining: 3.84s\n",
      "612:\tlearn: 1.0723744\ttotal: 6.06s\tremaining: 3.83s\n",
      "613:\tlearn: 1.0720639\ttotal: 6.07s\tremaining: 3.82s\n",
      "614:\tlearn: 1.0719428\ttotal: 6.08s\tremaining: 3.81s\n",
      "615:\tlearn: 1.0716767\ttotal: 6.09s\tremaining: 3.8s\n",
      "616:\tlearn: 1.0715328\ttotal: 6.11s\tremaining: 3.79s\n",
      "617:\tlearn: 1.0714082\ttotal: 6.12s\tremaining: 3.78s\n",
      "618:\tlearn: 1.0712190\ttotal: 6.13s\tremaining: 3.77s\n",
      "619:\tlearn: 1.0710570\ttotal: 6.14s\tremaining: 3.76s\n",
      "620:\tlearn: 1.0707217\ttotal: 6.15s\tremaining: 3.75s\n",
      "621:\tlearn: 1.0705577\ttotal: 6.16s\tremaining: 3.74s\n",
      "622:\tlearn: 1.0703899\ttotal: 6.17s\tremaining: 3.73s\n",
      "623:\tlearn: 1.0701516\ttotal: 6.18s\tremaining: 3.72s\n",
      "624:\tlearn: 1.0699649\ttotal: 6.19s\tremaining: 3.71s\n",
      "625:\tlearn: 1.0697967\ttotal: 6.2s\tremaining: 3.7s\n",
      "626:\tlearn: 1.0695570\ttotal: 6.21s\tremaining: 3.69s\n",
      "627:\tlearn: 1.0692552\ttotal: 6.21s\tremaining: 3.68s\n",
      "628:\tlearn: 1.0691454\ttotal: 6.22s\tremaining: 3.67s\n",
      "629:\tlearn: 1.0690196\ttotal: 6.23s\tremaining: 3.66s\n",
      "630:\tlearn: 1.0687917\ttotal: 6.24s\tremaining: 3.65s\n",
      "631:\tlearn: 1.0685227\ttotal: 6.25s\tremaining: 3.64s\n",
      "632:\tlearn: 1.0682190\ttotal: 6.26s\tremaining: 3.63s\n",
      "633:\tlearn: 1.0680372\ttotal: 6.27s\tremaining: 3.62s\n",
      "634:\tlearn: 1.0679504\ttotal: 6.28s\tremaining: 3.61s\n",
      "635:\tlearn: 1.0677174\ttotal: 6.29s\tremaining: 3.6s\n",
      "636:\tlearn: 1.0674686\ttotal: 6.3s\tremaining: 3.59s\n",
      "637:\tlearn: 1.0672992\ttotal: 6.31s\tremaining: 3.58s\n",
      "638:\tlearn: 1.0670162\ttotal: 6.32s\tremaining: 3.57s\n",
      "639:\tlearn: 1.0668792\ttotal: 6.33s\tremaining: 3.56s\n",
      "640:\tlearn: 1.0666978\ttotal: 6.34s\tremaining: 3.55s\n",
      "641:\tlearn: 1.0665342\ttotal: 6.35s\tremaining: 3.54s\n",
      "642:\tlearn: 1.0664190\ttotal: 6.36s\tremaining: 3.53s\n",
      "643:\tlearn: 1.0661982\ttotal: 6.37s\tremaining: 3.52s\n",
      "644:\tlearn: 1.0659089\ttotal: 6.38s\tremaining: 3.51s\n",
      "645:\tlearn: 1.0658454\ttotal: 6.4s\tremaining: 3.5s\n",
      "646:\tlearn: 1.0655984\ttotal: 6.41s\tremaining: 3.49s\n",
      "647:\tlearn: 1.0653534\ttotal: 6.41s\tremaining: 3.48s\n",
      "648:\tlearn: 1.0650881\ttotal: 6.42s\tremaining: 3.47s\n",
      "649:\tlearn: 1.0648771\ttotal: 6.42s\tremaining: 3.46s\n",
      "650:\tlearn: 1.0646664\ttotal: 6.43s\tremaining: 3.45s\n",
      "651:\tlearn: 1.0644482\ttotal: 6.44s\tremaining: 3.44s\n",
      "652:\tlearn: 1.0643528\ttotal: 6.45s\tremaining: 3.43s\n",
      "653:\tlearn: 1.0642515\ttotal: 6.46s\tremaining: 3.42s\n",
      "654:\tlearn: 1.0640280\ttotal: 6.47s\tremaining: 3.41s\n",
      "655:\tlearn: 1.0639391\ttotal: 6.48s\tremaining: 3.4s\n",
      "656:\tlearn: 1.0637598\ttotal: 6.49s\tremaining: 3.39s\n",
      "657:\tlearn: 1.0635731\ttotal: 6.5s\tremaining: 3.38s\n",
      "658:\tlearn: 1.0634076\ttotal: 6.51s\tremaining: 3.37s\n",
      "659:\tlearn: 1.0632211\ttotal: 6.51s\tremaining: 3.35s\n",
      "660:\tlearn: 1.0630276\ttotal: 6.52s\tremaining: 3.34s\n",
      "661:\tlearn: 1.0627637\ttotal: 6.53s\tremaining: 3.33s\n",
      "662:\tlearn: 1.0625717\ttotal: 6.53s\tremaining: 3.32s\n",
      "663:\tlearn: 1.0624021\ttotal: 6.54s\tremaining: 3.31s\n",
      "664:\tlearn: 1.0621704\ttotal: 6.55s\tremaining: 3.3s\n",
      "665:\tlearn: 1.0620290\ttotal: 6.55s\tremaining: 3.29s\n",
      "666:\tlearn: 1.0618708\ttotal: 6.56s\tremaining: 3.28s\n",
      "667:\tlearn: 1.0617740\ttotal: 6.57s\tremaining: 3.27s\n",
      "668:\tlearn: 1.0616286\ttotal: 6.58s\tremaining: 3.26s\n",
      "669:\tlearn: 1.0613951\ttotal: 6.59s\tremaining: 3.25s\n"
     ]
    },
    {
     "name": "stdout",
     "output_type": "stream",
     "text": [
      "670:\tlearn: 1.0611456\ttotal: 6.6s\tremaining: 3.23s\n",
      "671:\tlearn: 1.0609918\ttotal: 6.6s\tremaining: 3.22s\n",
      "672:\tlearn: 1.0607480\ttotal: 6.61s\tremaining: 3.21s\n",
      "673:\tlearn: 1.0605995\ttotal: 6.62s\tremaining: 3.2s\n",
      "674:\tlearn: 1.0603613\ttotal: 6.62s\tremaining: 3.19s\n",
      "675:\tlearn: 1.0603099\ttotal: 6.63s\tremaining: 3.18s\n",
      "676:\tlearn: 1.0600967\ttotal: 6.64s\tremaining: 3.17s\n",
      "677:\tlearn: 1.0600023\ttotal: 6.65s\tremaining: 3.16s\n",
      "678:\tlearn: 1.0598086\ttotal: 6.66s\tremaining: 3.15s\n",
      "679:\tlearn: 1.0595880\ttotal: 6.67s\tremaining: 3.14s\n",
      "680:\tlearn: 1.0593859\ttotal: 6.67s\tremaining: 3.13s\n",
      "681:\tlearn: 1.0591217\ttotal: 6.68s\tremaining: 3.12s\n",
      "682:\tlearn: 1.0587874\ttotal: 6.69s\tremaining: 3.1s\n",
      "683:\tlearn: 1.0585933\ttotal: 6.7s\tremaining: 3.09s\n",
      "684:\tlearn: 1.0584278\ttotal: 6.71s\tremaining: 3.08s\n",
      "685:\tlearn: 1.0582925\ttotal: 6.71s\tremaining: 3.07s\n",
      "686:\tlearn: 1.0580358\ttotal: 6.72s\tremaining: 3.06s\n",
      "687:\tlearn: 1.0579277\ttotal: 6.73s\tremaining: 3.05s\n",
      "688:\tlearn: 1.0576372\ttotal: 6.74s\tremaining: 3.04s\n",
      "689:\tlearn: 1.0575270\ttotal: 6.75s\tremaining: 3.03s\n",
      "690:\tlearn: 1.0573153\ttotal: 6.75s\tremaining: 3.02s\n",
      "691:\tlearn: 1.0571348\ttotal: 6.76s\tremaining: 3.01s\n",
      "692:\tlearn: 1.0567573\ttotal: 6.77s\tremaining: 3s\n",
      "693:\tlearn: 1.0565618\ttotal: 6.78s\tremaining: 2.99s\n",
      "694:\tlearn: 1.0564048\ttotal: 6.78s\tremaining: 2.98s\n",
      "695:\tlearn: 1.0561846\ttotal: 6.79s\tremaining: 2.97s\n",
      "696:\tlearn: 1.0559116\ttotal: 6.8s\tremaining: 2.96s\n",
      "697:\tlearn: 1.0556847\ttotal: 6.81s\tremaining: 2.95s\n",
      "698:\tlearn: 1.0553818\ttotal: 6.82s\tremaining: 2.94s\n",
      "699:\tlearn: 1.0552649\ttotal: 6.83s\tremaining: 2.93s\n",
      "700:\tlearn: 1.0551560\ttotal: 6.83s\tremaining: 2.92s\n",
      "701:\tlearn: 1.0549795\ttotal: 6.84s\tremaining: 2.9s\n",
      "702:\tlearn: 1.0548028\ttotal: 6.85s\tremaining: 2.89s\n",
      "703:\tlearn: 1.0544217\ttotal: 6.86s\tremaining: 2.88s\n",
      "704:\tlearn: 1.0542598\ttotal: 6.87s\tremaining: 2.87s\n",
      "705:\tlearn: 1.0540140\ttotal: 6.87s\tremaining: 2.86s\n",
      "706:\tlearn: 1.0538875\ttotal: 6.88s\tremaining: 2.85s\n",
      "707:\tlearn: 1.0537179\ttotal: 6.89s\tremaining: 2.84s\n",
      "708:\tlearn: 1.0534826\ttotal: 6.9s\tremaining: 2.83s\n",
      "709:\tlearn: 1.0533313\ttotal: 6.91s\tremaining: 2.82s\n",
      "710:\tlearn: 1.0532041\ttotal: 6.92s\tremaining: 2.81s\n",
      "711:\tlearn: 1.0530294\ttotal: 6.93s\tremaining: 2.8s\n",
      "712:\tlearn: 1.0528645\ttotal: 6.94s\tremaining: 2.79s\n",
      "713:\tlearn: 1.0526421\ttotal: 6.94s\tremaining: 2.78s\n",
      "714:\tlearn: 1.0522345\ttotal: 6.95s\tremaining: 2.77s\n",
      "715:\tlearn: 1.0521030\ttotal: 6.96s\tremaining: 2.76s\n",
      "716:\tlearn: 1.0519577\ttotal: 6.97s\tremaining: 2.75s\n",
      "717:\tlearn: 1.0517834\ttotal: 6.97s\tremaining: 2.74s\n",
      "718:\tlearn: 1.0516420\ttotal: 6.98s\tremaining: 2.73s\n",
      "719:\tlearn: 1.0514713\ttotal: 6.99s\tremaining: 2.72s\n",
      "720:\tlearn: 1.0512701\ttotal: 7s\tremaining: 2.71s\n",
      "721:\tlearn: 1.0510302\ttotal: 7.01s\tremaining: 2.7s\n",
      "722:\tlearn: 1.0508861\ttotal: 7.02s\tremaining: 2.69s\n",
      "723:\tlearn: 1.0506334\ttotal: 7.03s\tremaining: 2.68s\n",
      "724:\tlearn: 1.0504582\ttotal: 7.04s\tremaining: 2.67s\n",
      "725:\tlearn: 1.0503823\ttotal: 7.05s\tremaining: 2.66s\n",
      "726:\tlearn: 1.0501354\ttotal: 7.06s\tremaining: 2.65s\n",
      "727:\tlearn: 1.0498897\ttotal: 7.07s\tremaining: 2.64s\n",
      "728:\tlearn: 1.0497228\ttotal: 7.08s\tremaining: 2.63s\n",
      "729:\tlearn: 1.0496244\ttotal: 7.09s\tremaining: 2.62s\n",
      "730:\tlearn: 1.0495135\ttotal: 7.1s\tremaining: 2.61s\n",
      "731:\tlearn: 1.0494630\ttotal: 7.12s\tremaining: 2.6s\n",
      "732:\tlearn: 1.0493377\ttotal: 7.12s\tremaining: 2.6s\n",
      "733:\tlearn: 1.0490349\ttotal: 7.14s\tremaining: 2.59s\n",
      "734:\tlearn: 1.0488320\ttotal: 7.14s\tremaining: 2.58s\n",
      "735:\tlearn: 1.0485695\ttotal: 7.15s\tremaining: 2.56s\n",
      "736:\tlearn: 1.0484069\ttotal: 7.16s\tremaining: 2.56s\n",
      "737:\tlearn: 1.0482461\ttotal: 7.17s\tremaining: 2.55s\n",
      "738:\tlearn: 1.0479965\ttotal: 7.18s\tremaining: 2.54s\n",
      "739:\tlearn: 1.0477426\ttotal: 7.19s\tremaining: 2.53s\n",
      "740:\tlearn: 1.0476268\ttotal: 7.21s\tremaining: 2.52s\n",
      "741:\tlearn: 1.0474001\ttotal: 7.21s\tremaining: 2.51s\n",
      "742:\tlearn: 1.0472940\ttotal: 7.23s\tremaining: 2.5s\n",
      "743:\tlearn: 1.0471706\ttotal: 7.24s\tremaining: 2.49s\n",
      "744:\tlearn: 1.0470052\ttotal: 7.25s\tremaining: 2.48s\n",
      "745:\tlearn: 1.0468018\ttotal: 7.26s\tremaining: 2.47s\n",
      "746:\tlearn: 1.0465932\ttotal: 7.27s\tremaining: 2.46s\n",
      "747:\tlearn: 1.0464449\ttotal: 7.28s\tremaining: 2.45s\n",
      "748:\tlearn: 1.0463291\ttotal: 7.29s\tremaining: 2.44s\n",
      "749:\tlearn: 1.0461219\ttotal: 7.3s\tremaining: 2.43s\n",
      "750:\tlearn: 1.0459003\ttotal: 7.31s\tremaining: 2.42s\n",
      "751:\tlearn: 1.0457132\ttotal: 7.32s\tremaining: 2.41s\n",
      "752:\tlearn: 1.0455591\ttotal: 7.33s\tremaining: 2.4s\n",
      "753:\tlearn: 1.0453070\ttotal: 7.34s\tremaining: 2.39s\n",
      "754:\tlearn: 1.0452439\ttotal: 7.34s\tremaining: 2.38s\n",
      "755:\tlearn: 1.0451327\ttotal: 7.35s\tremaining: 2.37s\n",
      "756:\tlearn: 1.0450339\ttotal: 7.36s\tremaining: 2.36s\n",
      "757:\tlearn: 1.0449305\ttotal: 7.37s\tremaining: 2.35s\n",
      "758:\tlearn: 1.0447503\ttotal: 7.38s\tremaining: 2.34s\n",
      "759:\tlearn: 1.0444670\ttotal: 7.39s\tremaining: 2.33s\n",
      "760:\tlearn: 1.0443001\ttotal: 7.4s\tremaining: 2.32s\n",
      "761:\tlearn: 1.0441562\ttotal: 7.41s\tremaining: 2.31s\n",
      "762:\tlearn: 1.0439988\ttotal: 7.41s\tremaining: 2.3s\n",
      "763:\tlearn: 1.0438416\ttotal: 7.42s\tremaining: 2.29s\n",
      "764:\tlearn: 1.0436593\ttotal: 7.43s\tremaining: 2.28s\n",
      "765:\tlearn: 1.0436190\ttotal: 7.43s\tremaining: 2.27s\n",
      "766:\tlearn: 1.0433641\ttotal: 7.44s\tremaining: 2.26s\n",
      "767:\tlearn: 1.0432178\ttotal: 7.45s\tremaining: 2.25s\n",
      "768:\tlearn: 1.0429700\ttotal: 7.45s\tremaining: 2.24s\n",
      "769:\tlearn: 1.0428218\ttotal: 7.46s\tremaining: 2.23s\n",
      "770:\tlearn: 1.0425821\ttotal: 7.47s\tremaining: 2.22s\n",
      "771:\tlearn: 1.0423978\ttotal: 7.47s\tremaining: 2.21s\n",
      "772:\tlearn: 1.0421829\ttotal: 7.48s\tremaining: 2.2s\n",
      "773:\tlearn: 1.0420317\ttotal: 7.49s\tremaining: 2.19s\n",
      "774:\tlearn: 1.0419399\ttotal: 7.49s\tremaining: 2.17s\n",
      "775:\tlearn: 1.0418070\ttotal: 7.5s\tremaining: 2.17s\n",
      "776:\tlearn: 1.0415841\ttotal: 7.51s\tremaining: 2.15s\n",
      "777:\tlearn: 1.0413125\ttotal: 7.51s\tremaining: 2.14s\n",
      "778:\tlearn: 1.0411840\ttotal: 7.53s\tremaining: 2.13s\n",
      "779:\tlearn: 1.0410863\ttotal: 7.53s\tremaining: 2.12s\n",
      "780:\tlearn: 1.0408384\ttotal: 7.54s\tremaining: 2.11s\n",
      "781:\tlearn: 1.0407031\ttotal: 7.54s\tremaining: 2.1s\n",
      "782:\tlearn: 1.0404947\ttotal: 7.55s\tremaining: 2.09s\n",
      "783:\tlearn: 1.0404446\ttotal: 7.56s\tremaining: 2.08s\n",
      "784:\tlearn: 1.0403711\ttotal: 7.56s\tremaining: 2.07s\n",
      "785:\tlearn: 1.0402032\ttotal: 7.57s\tremaining: 2.06s\n",
      "786:\tlearn: 1.0399400\ttotal: 7.58s\tremaining: 2.05s\n",
      "787:\tlearn: 1.0397363\ttotal: 7.58s\tremaining: 2.04s\n",
      "788:\tlearn: 1.0396098\ttotal: 7.59s\tremaining: 2.03s\n",
      "789:\tlearn: 1.0394102\ttotal: 7.6s\tremaining: 2.02s\n",
      "790:\tlearn: 1.0392663\ttotal: 7.61s\tremaining: 2.01s\n",
      "791:\tlearn: 1.0391596\ttotal: 7.61s\tremaining: 2s\n",
      "792:\tlearn: 1.0390060\ttotal: 7.62s\tremaining: 1.99s\n",
      "793:\tlearn: 1.0387465\ttotal: 7.63s\tremaining: 1.98s\n",
      "794:\tlearn: 1.0385704\ttotal: 7.63s\tremaining: 1.97s\n",
      "795:\tlearn: 1.0384485\ttotal: 7.64s\tremaining: 1.96s\n",
      "796:\tlearn: 1.0382573\ttotal: 7.64s\tremaining: 1.95s\n",
      "797:\tlearn: 1.0380030\ttotal: 7.65s\tremaining: 1.94s\n",
      "798:\tlearn: 1.0378498\ttotal: 7.66s\tremaining: 1.93s\n",
      "799:\tlearn: 1.0377468\ttotal: 7.67s\tremaining: 1.92s\n",
      "800:\tlearn: 1.0375976\ttotal: 7.67s\tremaining: 1.91s\n",
      "801:\tlearn: 1.0372468\ttotal: 7.68s\tremaining: 1.9s\n",
      "802:\tlearn: 1.0371022\ttotal: 7.69s\tremaining: 1.89s\n",
      "803:\tlearn: 1.0369292\ttotal: 7.7s\tremaining: 1.88s\n",
      "804:\tlearn: 1.0367503\ttotal: 7.71s\tremaining: 1.87s\n",
      "805:\tlearn: 1.0366571\ttotal: 7.71s\tremaining: 1.86s\n",
      "806:\tlearn: 1.0364976\ttotal: 7.72s\tremaining: 1.85s\n",
      "807:\tlearn: 1.0363833\ttotal: 7.73s\tremaining: 1.84s\n",
      "808:\tlearn: 1.0361521\ttotal: 7.73s\tremaining: 1.82s\n",
      "809:\tlearn: 1.0357043\ttotal: 7.74s\tremaining: 1.81s\n",
      "810:\tlearn: 1.0355346\ttotal: 7.75s\tremaining: 1.8s\n",
      "811:\tlearn: 1.0353035\ttotal: 7.75s\tremaining: 1.79s\n",
      "812:\tlearn: 1.0350082\ttotal: 7.76s\tremaining: 1.78s\n",
      "813:\tlearn: 1.0349181\ttotal: 7.77s\tremaining: 1.77s\n",
      "814:\tlearn: 1.0347809\ttotal: 7.77s\tremaining: 1.76s\n",
      "815:\tlearn: 1.0345125\ttotal: 7.78s\tremaining: 1.75s\n",
      "816:\tlearn: 1.0343328\ttotal: 7.79s\tremaining: 1.74s\n",
      "817:\tlearn: 1.0341755\ttotal: 7.8s\tremaining: 1.73s\n",
      "818:\tlearn: 1.0339819\ttotal: 7.8s\tremaining: 1.72s\n",
      "819:\tlearn: 1.0337613\ttotal: 7.81s\tremaining: 1.71s\n",
      "820:\tlearn: 1.0334290\ttotal: 7.82s\tremaining: 1.7s\n",
      "821:\tlearn: 1.0333165\ttotal: 7.82s\tremaining: 1.69s\n",
      "822:\tlearn: 1.0332226\ttotal: 7.83s\tremaining: 1.68s\n",
      "823:\tlearn: 1.0331023\ttotal: 7.84s\tremaining: 1.67s\n",
      "824:\tlearn: 1.0329153\ttotal: 7.84s\tremaining: 1.66s\n",
      "825:\tlearn: 1.0328440\ttotal: 7.85s\tremaining: 1.65s\n",
      "826:\tlearn: 1.0327562\ttotal: 7.86s\tremaining: 1.64s\n",
      "827:\tlearn: 1.0325505\ttotal: 7.87s\tremaining: 1.63s\n",
      "828:\tlearn: 1.0324864\ttotal: 7.87s\tremaining: 1.62s\n"
     ]
    },
    {
     "name": "stdout",
     "output_type": "stream",
     "text": [
      "829:\tlearn: 1.0322830\ttotal: 7.88s\tremaining: 1.61s\n",
      "830:\tlearn: 1.0320418\ttotal: 7.89s\tremaining: 1.6s\n",
      "831:\tlearn: 1.0319337\ttotal: 7.9s\tremaining: 1.59s\n",
      "832:\tlearn: 1.0317153\ttotal: 7.91s\tremaining: 1.58s\n",
      "833:\tlearn: 1.0315732\ttotal: 7.91s\tremaining: 1.57s\n",
      "834:\tlearn: 1.0313019\ttotal: 7.92s\tremaining: 1.56s\n",
      "835:\tlearn: 1.0310694\ttotal: 7.92s\tremaining: 1.55s\n",
      "836:\tlearn: 1.0309582\ttotal: 7.93s\tremaining: 1.54s\n",
      "837:\tlearn: 1.0308064\ttotal: 7.94s\tremaining: 1.53s\n",
      "838:\tlearn: 1.0307409\ttotal: 7.95s\tremaining: 1.52s\n",
      "839:\tlearn: 1.0305203\ttotal: 7.96s\tremaining: 1.52s\n",
      "840:\tlearn: 1.0302961\ttotal: 7.97s\tremaining: 1.51s\n",
      "841:\tlearn: 1.0301409\ttotal: 7.98s\tremaining: 1.5s\n",
      "842:\tlearn: 1.0300304\ttotal: 7.99s\tremaining: 1.49s\n",
      "843:\tlearn: 1.0298620\ttotal: 8s\tremaining: 1.48s\n",
      "844:\tlearn: 1.0297377\ttotal: 8.01s\tremaining: 1.47s\n",
      "845:\tlearn: 1.0295768\ttotal: 8.02s\tremaining: 1.46s\n",
      "846:\tlearn: 1.0294143\ttotal: 8.03s\tremaining: 1.45s\n",
      "847:\tlearn: 1.0290883\ttotal: 8.04s\tremaining: 1.44s\n",
      "848:\tlearn: 1.0289807\ttotal: 8.05s\tremaining: 1.43s\n",
      "849:\tlearn: 1.0288215\ttotal: 8.06s\tremaining: 1.42s\n",
      "850:\tlearn: 1.0286100\ttotal: 8.07s\tremaining: 1.41s\n",
      "851:\tlearn: 1.0284666\ttotal: 8.08s\tremaining: 1.4s\n",
      "852:\tlearn: 1.0283124\ttotal: 8.09s\tremaining: 1.39s\n",
      "853:\tlearn: 1.0281895\ttotal: 8.1s\tremaining: 1.38s\n",
      "854:\tlearn: 1.0280632\ttotal: 8.11s\tremaining: 1.38s\n",
      "855:\tlearn: 1.0279991\ttotal: 8.12s\tremaining: 1.36s\n",
      "856:\tlearn: 1.0279187\ttotal: 8.13s\tremaining: 1.36s\n",
      "857:\tlearn: 1.0277535\ttotal: 8.14s\tremaining: 1.35s\n",
      "858:\tlearn: 1.0275720\ttotal: 8.15s\tremaining: 1.34s\n",
      "859:\tlearn: 1.0274066\ttotal: 8.16s\tremaining: 1.33s\n",
      "860:\tlearn: 1.0271955\ttotal: 8.17s\tremaining: 1.32s\n",
      "861:\tlearn: 1.0270404\ttotal: 8.18s\tremaining: 1.31s\n",
      "862:\tlearn: 1.0267990\ttotal: 8.19s\tremaining: 1.3s\n",
      "863:\tlearn: 1.0265447\ttotal: 8.2s\tremaining: 1.29s\n",
      "864:\tlearn: 1.0263150\ttotal: 8.21s\tremaining: 1.28s\n",
      "865:\tlearn: 1.0260667\ttotal: 8.21s\tremaining: 1.27s\n",
      "866:\tlearn: 1.0259044\ttotal: 8.22s\tremaining: 1.26s\n",
      "867:\tlearn: 1.0257515\ttotal: 8.23s\tremaining: 1.25s\n",
      "868:\tlearn: 1.0255044\ttotal: 8.23s\tremaining: 1.24s\n",
      "869:\tlearn: 1.0252904\ttotal: 8.24s\tremaining: 1.23s\n",
      "870:\tlearn: 1.0251055\ttotal: 8.25s\tremaining: 1.22s\n",
      "871:\tlearn: 1.0249802\ttotal: 8.26s\tremaining: 1.21s\n",
      "872:\tlearn: 1.0248831\ttotal: 8.26s\tremaining: 1.2s\n",
      "873:\tlearn: 1.0247017\ttotal: 8.27s\tremaining: 1.19s\n",
      "874:\tlearn: 1.0246034\ttotal: 8.28s\tremaining: 1.18s\n",
      "875:\tlearn: 1.0244278\ttotal: 8.28s\tremaining: 1.17s\n",
      "876:\tlearn: 1.0242612\ttotal: 8.29s\tremaining: 1.16s\n",
      "877:\tlearn: 1.0240849\ttotal: 8.29s\tremaining: 1.15s\n",
      "878:\tlearn: 1.0238690\ttotal: 8.3s\tremaining: 1.14s\n",
      "879:\tlearn: 1.0237973\ttotal: 8.31s\tremaining: 1.13s\n",
      "880:\tlearn: 1.0236205\ttotal: 8.32s\tremaining: 1.12s\n",
      "881:\tlearn: 1.0235127\ttotal: 8.33s\tremaining: 1.11s\n",
      "882:\tlearn: 1.0232342\ttotal: 8.33s\tremaining: 1.1s\n",
      "883:\tlearn: 1.0230181\ttotal: 8.34s\tremaining: 1.09s\n",
      "884:\tlearn: 1.0228211\ttotal: 8.35s\tremaining: 1.08s\n",
      "885:\tlearn: 1.0226871\ttotal: 8.35s\tremaining: 1.07s\n",
      "886:\tlearn: 1.0225984\ttotal: 8.36s\tremaining: 1.06s\n",
      "887:\tlearn: 1.0225376\ttotal: 8.37s\tremaining: 1.05s\n",
      "888:\tlearn: 1.0223005\ttotal: 8.37s\tremaining: 1.04s\n",
      "889:\tlearn: 1.0221569\ttotal: 8.38s\tremaining: 1.03s\n",
      "890:\tlearn: 1.0220496\ttotal: 8.39s\tremaining: 1.03s\n",
      "891:\tlearn: 1.0218500\ttotal: 8.4s\tremaining: 1.02s\n",
      "892:\tlearn: 1.0216991\ttotal: 8.4s\tremaining: 1.01s\n",
      "893:\tlearn: 1.0215168\ttotal: 8.41s\tremaining: 997ms\n",
      "894:\tlearn: 1.0213538\ttotal: 8.42s\tremaining: 987ms\n",
      "895:\tlearn: 1.0212189\ttotal: 8.42s\tremaining: 978ms\n",
      "896:\tlearn: 1.0210382\ttotal: 8.43s\tremaining: 968ms\n",
      "897:\tlearn: 1.0208291\ttotal: 8.44s\tremaining: 959ms\n",
      "898:\tlearn: 1.0206818\ttotal: 8.45s\tremaining: 949ms\n",
      "899:\tlearn: 1.0204716\ttotal: 8.46s\tremaining: 939ms\n",
      "900:\tlearn: 1.0203223\ttotal: 8.46s\tremaining: 930ms\n",
      "901:\tlearn: 1.0202094\ttotal: 8.47s\tremaining: 920ms\n",
      "902:\tlearn: 1.0200550\ttotal: 8.48s\tremaining: 911ms\n",
      "903:\tlearn: 1.0198962\ttotal: 8.48s\tremaining: 901ms\n",
      "904:\tlearn: 1.0197671\ttotal: 8.49s\tremaining: 891ms\n",
      "905:\tlearn: 1.0196026\ttotal: 8.5s\tremaining: 882ms\n",
      "906:\tlearn: 1.0194486\ttotal: 8.51s\tremaining: 872ms\n",
      "907:\tlearn: 1.0192520\ttotal: 8.52s\tremaining: 863ms\n",
      "908:\tlearn: 1.0190658\ttotal: 8.53s\tremaining: 854ms\n",
      "909:\tlearn: 1.0189693\ttotal: 8.54s\tremaining: 844ms\n",
      "910:\tlearn: 1.0187238\ttotal: 8.55s\tremaining: 835ms\n",
      "911:\tlearn: 1.0186447\ttotal: 8.56s\tremaining: 826ms\n",
      "912:\tlearn: 1.0185205\ttotal: 8.57s\tremaining: 817ms\n",
      "913:\tlearn: 1.0183909\ttotal: 8.58s\tremaining: 807ms\n",
      "914:\tlearn: 1.0183497\ttotal: 8.59s\tremaining: 798ms\n",
      "915:\tlearn: 1.0182343\ttotal: 8.6s\tremaining: 789ms\n",
      "916:\tlearn: 1.0180894\ttotal: 8.61s\tremaining: 780ms\n",
      "917:\tlearn: 1.0179149\ttotal: 8.62s\tremaining: 770ms\n",
      "918:\tlearn: 1.0177703\ttotal: 8.63s\tremaining: 761ms\n",
      "919:\tlearn: 1.0175666\ttotal: 8.64s\tremaining: 751ms\n",
      "920:\tlearn: 1.0173385\ttotal: 8.65s\tremaining: 742ms\n",
      "921:\tlearn: 1.0170462\ttotal: 8.65s\tremaining: 732ms\n",
      "922:\tlearn: 1.0168946\ttotal: 8.66s\tremaining: 723ms\n",
      "923:\tlearn: 1.0166386\ttotal: 8.67s\tremaining: 713ms\n",
      "924:\tlearn: 1.0165502\ttotal: 8.68s\tremaining: 704ms\n",
      "925:\tlearn: 1.0164003\ttotal: 8.69s\tremaining: 694ms\n",
      "926:\tlearn: 1.0163119\ttotal: 8.7s\tremaining: 685ms\n",
      "927:\tlearn: 1.0161035\ttotal: 8.7s\tremaining: 675ms\n",
      "928:\tlearn: 1.0159039\ttotal: 8.71s\tremaining: 666ms\n",
      "929:\tlearn: 1.0158279\ttotal: 8.71s\tremaining: 656ms\n",
      "930:\tlearn: 1.0156215\ttotal: 8.72s\tremaining: 646ms\n",
      "931:\tlearn: 1.0153627\ttotal: 8.73s\tremaining: 637ms\n",
      "932:\tlearn: 1.0152569\ttotal: 8.73s\tremaining: 627ms\n",
      "933:\tlearn: 1.0150801\ttotal: 8.74s\tremaining: 618ms\n",
      "934:\tlearn: 1.0149452\ttotal: 8.75s\tremaining: 608ms\n",
      "935:\tlearn: 1.0148620\ttotal: 8.76s\tremaining: 599ms\n",
      "936:\tlearn: 1.0145520\ttotal: 8.76s\tremaining: 589ms\n",
      "937:\tlearn: 1.0144441\ttotal: 8.77s\tremaining: 580ms\n",
      "938:\tlearn: 1.0143138\ttotal: 8.78s\tremaining: 570ms\n",
      "939:\tlearn: 1.0142379\ttotal: 8.78s\tremaining: 561ms\n",
      "940:\tlearn: 1.0140133\ttotal: 8.79s\tremaining: 551ms\n",
      "941:\tlearn: 1.0137855\ttotal: 8.8s\tremaining: 542ms\n",
      "942:\tlearn: 1.0135997\ttotal: 8.8s\tremaining: 532ms\n",
      "943:\tlearn: 1.0133932\ttotal: 8.81s\tremaining: 523ms\n",
      "944:\tlearn: 1.0132536\ttotal: 8.82s\tremaining: 513ms\n",
      "945:\tlearn: 1.0129558\ttotal: 8.82s\tremaining: 504ms\n",
      "946:\tlearn: 1.0127413\ttotal: 8.83s\tremaining: 494ms\n",
      "947:\tlearn: 1.0125310\ttotal: 8.84s\tremaining: 485ms\n",
      "948:\tlearn: 1.0123607\ttotal: 8.84s\tremaining: 475ms\n",
      "949:\tlearn: 1.0122834\ttotal: 8.85s\tremaining: 466ms\n",
      "950:\tlearn: 1.0121509\ttotal: 8.86s\tremaining: 456ms\n",
      "951:\tlearn: 1.0119718\ttotal: 8.86s\tremaining: 447ms\n",
      "952:\tlearn: 1.0118913\ttotal: 8.87s\tremaining: 438ms\n",
      "953:\tlearn: 1.0117088\ttotal: 8.88s\tremaining: 428ms\n",
      "954:\tlearn: 1.0115723\ttotal: 8.88s\tremaining: 419ms\n",
      "955:\tlearn: 1.0114042\ttotal: 8.89s\tremaining: 409ms\n",
      "956:\tlearn: 1.0112192\ttotal: 8.9s\tremaining: 400ms\n",
      "957:\tlearn: 1.0111497\ttotal: 8.9s\tremaining: 390ms\n",
      "958:\tlearn: 1.0110310\ttotal: 8.91s\tremaining: 381ms\n",
      "959:\tlearn: 1.0109201\ttotal: 8.92s\tremaining: 372ms\n",
      "960:\tlearn: 1.0107185\ttotal: 8.92s\tremaining: 362ms\n",
      "961:\tlearn: 1.0105693\ttotal: 8.93s\tremaining: 353ms\n",
      "962:\tlearn: 1.0104194\ttotal: 8.94s\tremaining: 343ms\n",
      "963:\tlearn: 1.0102113\ttotal: 8.95s\tremaining: 334ms\n",
      "964:\tlearn: 1.0099663\ttotal: 8.96s\tremaining: 325ms\n",
      "965:\tlearn: 1.0098563\ttotal: 8.96s\tremaining: 315ms\n",
      "966:\tlearn: 1.0097496\ttotal: 8.97s\tremaining: 306ms\n",
      "967:\tlearn: 1.0096396\ttotal: 8.98s\tremaining: 297ms\n",
      "968:\tlearn: 1.0094735\ttotal: 8.98s\tremaining: 287ms\n",
      "969:\tlearn: 1.0093053\ttotal: 8.99s\tremaining: 278ms\n",
      "970:\tlearn: 1.0091405\ttotal: 9s\tremaining: 269ms\n",
      "971:\tlearn: 1.0089513\ttotal: 9.01s\tremaining: 259ms\n",
      "972:\tlearn: 1.0088151\ttotal: 9.01s\tremaining: 250ms\n",
      "973:\tlearn: 1.0087496\ttotal: 9.02s\tremaining: 241ms\n",
      "974:\tlearn: 1.0085865\ttotal: 9.03s\tremaining: 231ms\n",
      "975:\tlearn: 1.0084265\ttotal: 9.03s\tremaining: 222ms\n",
      "976:\tlearn: 1.0082495\ttotal: 9.04s\tremaining: 213ms\n",
      "977:\tlearn: 1.0081499\ttotal: 9.04s\tremaining: 203ms\n",
      "978:\tlearn: 1.0079852\ttotal: 9.05s\tremaining: 194ms\n",
      "979:\tlearn: 1.0078243\ttotal: 9.06s\tremaining: 185ms\n",
      "980:\tlearn: 1.0077197\ttotal: 9.07s\tremaining: 176ms\n",
      "981:\tlearn: 1.0075434\ttotal: 9.08s\tremaining: 166ms\n",
      "982:\tlearn: 1.0073811\ttotal: 9.09s\tremaining: 157ms\n",
      "983:\tlearn: 1.0072494\ttotal: 9.1s\tremaining: 148ms\n",
      "984:\tlearn: 1.0071193\ttotal: 9.1s\tremaining: 139ms\n",
      "985:\tlearn: 1.0068136\ttotal: 9.11s\tremaining: 129ms\n",
      "986:\tlearn: 1.0066520\ttotal: 9.12s\tremaining: 120ms\n",
      "987:\tlearn: 1.0065303\ttotal: 9.13s\tremaining: 111ms\n",
      "988:\tlearn: 1.0063568\ttotal: 9.14s\tremaining: 102ms\n",
      "989:\tlearn: 1.0062204\ttotal: 9.15s\tremaining: 92.5ms\n",
      "990:\tlearn: 1.0061288\ttotal: 9.17s\tremaining: 83.2ms\n",
      "991:\tlearn: 1.0060002\ttotal: 9.18s\tremaining: 74ms\n"
     ]
    },
    {
     "name": "stdout",
     "output_type": "stream",
     "text": [
      "992:\tlearn: 1.0059231\ttotal: 9.18s\tremaining: 64.7ms\n",
      "993:\tlearn: 1.0056741\ttotal: 9.19s\tremaining: 55.5ms\n",
      "994:\tlearn: 1.0055563\ttotal: 9.2s\tremaining: 46.2ms\n",
      "995:\tlearn: 1.0053973\ttotal: 9.2s\tremaining: 37ms\n",
      "996:\tlearn: 1.0052372\ttotal: 9.21s\tremaining: 27.7ms\n",
      "997:\tlearn: 1.0051513\ttotal: 9.22s\tremaining: 18.5ms\n",
      "998:\tlearn: 1.0050419\ttotal: 9.23s\tremaining: 9.24ms\n",
      "999:\tlearn: 1.0048672\ttotal: 9.24s\tremaining: 0us\n"
     ]
    },
    {
     "data": {
      "text/plain": [
       "<catboost.core.CatBoostClassifier at 0x27395f10100>"
      ]
     },
     "execution_count": 97,
     "metadata": {},
     "output_type": "execute_result"
    }
   ],
   "source": [
    "model = CatBoostClassifier()\n",
    "model.fit(X_train, y_train)"
   ]
  },
  {
   "cell_type": "code",
   "execution_count": 98,
   "metadata": {},
   "outputs": [
    {
     "data": {
      "text/plain": [
       "0.42986111111111114"
      ]
     },
     "execution_count": 98,
     "metadata": {},
     "output_type": "execute_result"
    }
   ],
   "source": [
    "model.score(X_test, y_test)"
   ]
  },
  {
   "cell_type": "code",
   "execution_count": 99,
   "metadata": {},
   "outputs": [
    {
     "data": {
      "text/plain": [
       "array([[3],\n",
       "       [2],\n",
       "       [5],\n",
       "       ...,\n",
       "       [2],\n",
       "       [2],\n",
       "       [2]], dtype=int64)"
      ]
     },
     "execution_count": 99,
     "metadata": {},
     "output_type": "execute_result"
    }
   ],
   "source": [
    "y_pred = model.predict(test_data)\n",
    "y_pred"
   ]
  },
  {
   "cell_type": "code",
   "execution_count": 100,
   "metadata": {},
   "outputs": [
    {
     "data": {
      "text/html": [
       "<div>\n",
       "<style scoped>\n",
       "    .dataframe tbody tr th:only-of-type {\n",
       "        vertical-align: middle;\n",
       "    }\n",
       "\n",
       "    .dataframe tbody tr th {\n",
       "        vertical-align: top;\n",
       "    }\n",
       "\n",
       "    .dataframe thead th {\n",
       "        text-align: right;\n",
       "    }\n",
       "</style>\n",
       "<table border=\"1\" class=\"dataframe\">\n",
       "  <thead>\n",
       "    <tr style=\"text-align: right;\">\n",
       "      <th></th>\n",
       "      <th>salary</th>\n",
       "    </tr>\n",
       "  </thead>\n",
       "  <tbody>\n",
       "    <tr>\n",
       "      <th>0</th>\n",
       "      <td>3</td>\n",
       "    </tr>\n",
       "    <tr>\n",
       "      <th>1</th>\n",
       "      <td>2</td>\n",
       "    </tr>\n",
       "    <tr>\n",
       "      <th>2</th>\n",
       "      <td>5</td>\n",
       "    </tr>\n",
       "    <tr>\n",
       "      <th>3</th>\n",
       "      <td>3</td>\n",
       "    </tr>\n",
       "    <tr>\n",
       "      <th>4</th>\n",
       "      <td>2</td>\n",
       "    </tr>\n",
       "  </tbody>\n",
       "</table>\n",
       "</div>"
      ],
      "text/plain": [
       "   salary\n",
       "0       3\n",
       "1       2\n",
       "2       5\n",
       "3       3\n",
       "4       2"
      ]
     },
     "execution_count": 100,
     "metadata": {},
     "output_type": "execute_result"
    }
   ],
   "source": [
    "y_test_pred = pd.DataFrame(y_pred,columns=[   'salary'   ])\n",
    "y_test_pred.to_csv('submission.csv', index=False)\n",
    "pred_data = pd.read_csv('submission.csv')\n",
    "pred_data.head()\n"
   ]
  },
  {
   "cell_type": "code",
   "execution_count": 101,
   "metadata": {},
   "outputs": [
    {
     "data": {
      "text/html": [
       "<div>\n",
       "<style scoped>\n",
       "    .dataframe tbody tr th:only-of-type {\n",
       "        vertical-align: middle;\n",
       "    }\n",
       "\n",
       "    .dataframe tbody tr th {\n",
       "        vertical-align: top;\n",
       "    }\n",
       "\n",
       "    .dataframe thead th {\n",
       "        text-align: right;\n",
       "    }\n",
       "</style>\n",
       "<table border=\"1\" class=\"dataframe\">\n",
       "  <thead>\n",
       "    <tr style=\"text-align: right;\">\n",
       "      <th></th>\n",
       "      <th>salary</th>\n",
       "    </tr>\n",
       "  </thead>\n",
       "  <tbody>\n",
       "    <tr>\n",
       "      <th>0</th>\n",
       "      <td>6to10</td>\n",
       "    </tr>\n",
       "    <tr>\n",
       "      <th>1</th>\n",
       "      <td>15to25</td>\n",
       "    </tr>\n",
       "    <tr>\n",
       "      <th>2</th>\n",
       "      <td>3to6</td>\n",
       "    </tr>\n",
       "    <tr>\n",
       "      <th>3</th>\n",
       "      <td>6to10</td>\n",
       "    </tr>\n",
       "    <tr>\n",
       "      <th>4</th>\n",
       "      <td>15to25</td>\n",
       "    </tr>\n",
       "  </tbody>\n",
       "</table>\n",
       "</div>"
      ],
      "text/plain": [
       "   salary\n",
       "0   6to10\n",
       "1  15to25\n",
       "2    3to6\n",
       "3   6to10\n",
       "4  15to25"
      ]
     },
     "execution_count": 101,
     "metadata": {},
     "output_type": "execute_result"
    }
   ],
   "source": [
    "salary_map  = {1:'10to15',\n",
    "               2:'15to25',\n",
    "               3:'6to10',\n",
    "               4:'0to3',\n",
    "               5:'3to6',\n",
    "               6:'25to50'}\n",
    "y_test_pred[   'salary'   ] = y_test_pred[   'salary'   ].map(salary_map)\n",
    "y_test_pred.head()"
   ]
  },
  {
   "cell_type": "code",
   "execution_count": 102,
   "metadata": {},
   "outputs": [],
   "source": [
    "y_test_pred.columns = [   'salary'   ]\n",
    "y_test_pred.to_csv(\"submission_cb.csv\")"
   ]
  },
  {
   "cell_type": "code",
   "execution_count": null,
   "metadata": {},
   "outputs": [],
   "source": []
  }
 ],
 "metadata": {
  "kernelspec": {
   "display_name": "Python 3",
   "language": "python",
   "name": "python3"
  },
  "language_info": {
   "codemirror_mode": {
    "name": "ipython",
    "version": 3
   },
   "file_extension": ".py",
   "mimetype": "text/x-python",
   "name": "python",
   "nbconvert_exporter": "python",
   "pygments_lexer": "ipython3",
   "version": "3.8.5"
  }
 },
 "nbformat": 4,
 "nbformat_minor": 4
}
