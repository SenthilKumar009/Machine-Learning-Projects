{
 "cells": [
  {
   "cell_type": "markdown",
   "metadata": {},
   "source": [
    "## Solution steps:\n",
    "\n",
    "1. Load data\n",
    "2. Understand your data: EDA\n",
    "3. Pre-process the data\n",
    "4. Prepare train and test datasets\n",
    "5. Choose a model\n",
    "6. Train your model\n",
    "7. Evaluate the model (F1-score calculation)\n",
    "8. Optimize: repeat steps 5 - 7"
   ]
  },
  {
   "cell_type": "markdown",
   "metadata": {},
   "source": [
    "### Load Libraries"
   ]
  },
  {
   "cell_type": "code",
   "execution_count": 1,
   "metadata": {},
   "outputs": [],
   "source": [
    "import pandas as pd   # package for data analysis\n",
    "import numpy as np    # package for numerical computations\n",
    "\n",
    "# libraries for visualization\n",
    "import matplotlib.pyplot as plt\n",
    "import seaborn as sns\n",
    "\n",
    "# to ignore warnings\n",
    "import warnings\n",
    "warnings.filterwarnings('ignore')\n",
    "\n",
    "# For Preprocessing, ML models and Evaluation\n",
    "from sklearn.model_selection import train_test_split   # To split the dataset into train and test set\n",
    "\n",
    "from sklearn.linear_model import LogisticRegression     # Logistic regression model\n",
    "\n",
    "from sklearn import preprocessing\n",
    "from sklearn.preprocessing import LabelEncoder    # for converting categorical to numerical\n",
    "\n",
    "from sklearn.metrics import f1_score    # for model evaluation"
   ]
  },
  {
   "cell_type": "code",
   "execution_count": 2,
   "metadata": {},
   "outputs": [
    {
     "data": {
      "text/html": [
       "<div>\n",
       "<style scoped>\n",
       "    .dataframe tbody tr th:only-of-type {\n",
       "        vertical-align: middle;\n",
       "    }\n",
       "\n",
       "    .dataframe tbody tr th {\n",
       "        vertical-align: top;\n",
       "    }\n",
       "\n",
       "    .dataframe thead th {\n",
       "        text-align: right;\n",
       "    }\n",
       "</style>\n",
       "<table border=\"1\" class=\"dataframe\">\n",
       "  <thead>\n",
       "    <tr style=\"text-align: right;\">\n",
       "      <th></th>\n",
       "      <th>ID_Patient_Care_Situation</th>\n",
       "      <th>Diagnosed_Condition</th>\n",
       "      <th>Patient_ID</th>\n",
       "      <th>Treated_with_drugs</th>\n",
       "      <th>Patient_Age</th>\n",
       "      <th>Patient_Body_Mass_Index</th>\n",
       "      <th>Patient_Smoker</th>\n",
       "      <th>Patient_Rural_Urban</th>\n",
       "      <th>Patient_mental_condition</th>\n",
       "      <th>A</th>\n",
       "      <th>B</th>\n",
       "      <th>C</th>\n",
       "      <th>D</th>\n",
       "      <th>E</th>\n",
       "      <th>F</th>\n",
       "      <th>Z</th>\n",
       "      <th>Number_of_prev_cond</th>\n",
       "      <th>Survived_1_year</th>\n",
       "    </tr>\n",
       "  </thead>\n",
       "  <tbody>\n",
       "    <tr>\n",
       "      <th>0</th>\n",
       "      <td>22374</td>\n",
       "      <td>8</td>\n",
       "      <td>3333</td>\n",
       "      <td>DX6</td>\n",
       "      <td>56</td>\n",
       "      <td>18.479385</td>\n",
       "      <td>YES</td>\n",
       "      <td>URBAN</td>\n",
       "      <td>Stable</td>\n",
       "      <td>1.0</td>\n",
       "      <td>0.0</td>\n",
       "      <td>0.0</td>\n",
       "      <td>0.0</td>\n",
       "      <td>1.0</td>\n",
       "      <td>0.0</td>\n",
       "      <td>0.0</td>\n",
       "      <td>2.0</td>\n",
       "      <td>0</td>\n",
       "    </tr>\n",
       "    <tr>\n",
       "      <th>1</th>\n",
       "      <td>18164</td>\n",
       "      <td>5</td>\n",
       "      <td>5740</td>\n",
       "      <td>DX2</td>\n",
       "      <td>36</td>\n",
       "      <td>22.945566</td>\n",
       "      <td>YES</td>\n",
       "      <td>RURAL</td>\n",
       "      <td>Stable</td>\n",
       "      <td>1.0</td>\n",
       "      <td>0.0</td>\n",
       "      <td>0.0</td>\n",
       "      <td>0.0</td>\n",
       "      <td>0.0</td>\n",
       "      <td>0.0</td>\n",
       "      <td>0.0</td>\n",
       "      <td>1.0</td>\n",
       "      <td>1</td>\n",
       "    </tr>\n",
       "    <tr>\n",
       "      <th>2</th>\n",
       "      <td>6283</td>\n",
       "      <td>23</td>\n",
       "      <td>10446</td>\n",
       "      <td>DX6</td>\n",
       "      <td>48</td>\n",
       "      <td>27.510027</td>\n",
       "      <td>YES</td>\n",
       "      <td>RURAL</td>\n",
       "      <td>Stable</td>\n",
       "      <td>1.0</td>\n",
       "      <td>0.0</td>\n",
       "      <td>0.0</td>\n",
       "      <td>0.0</td>\n",
       "      <td>0.0</td>\n",
       "      <td>0.0</td>\n",
       "      <td>0.0</td>\n",
       "      <td>1.0</td>\n",
       "      <td>0</td>\n",
       "    </tr>\n",
       "    <tr>\n",
       "      <th>3</th>\n",
       "      <td>5339</td>\n",
       "      <td>51</td>\n",
       "      <td>12011</td>\n",
       "      <td>DX1</td>\n",
       "      <td>5</td>\n",
       "      <td>19.130976</td>\n",
       "      <td>NO</td>\n",
       "      <td>URBAN</td>\n",
       "      <td>Stable</td>\n",
       "      <td>1.0</td>\n",
       "      <td>0.0</td>\n",
       "      <td>0.0</td>\n",
       "      <td>0.0</td>\n",
       "      <td>0.0</td>\n",
       "      <td>0.0</td>\n",
       "      <td>0.0</td>\n",
       "      <td>1.0</td>\n",
       "      <td>1</td>\n",
       "    </tr>\n",
       "    <tr>\n",
       "      <th>4</th>\n",
       "      <td>33012</td>\n",
       "      <td>0</td>\n",
       "      <td>12513</td>\n",
       "      <td>NaN</td>\n",
       "      <td>128</td>\n",
       "      <td>1.348400</td>\n",
       "      <td>Cannot say</td>\n",
       "      <td>RURAL</td>\n",
       "      <td>Stable</td>\n",
       "      <td>0.0</td>\n",
       "      <td>0.0</td>\n",
       "      <td>0.0</td>\n",
       "      <td>0.0</td>\n",
       "      <td>0.0</td>\n",
       "      <td>0.0</td>\n",
       "      <td>1.0</td>\n",
       "      <td>1.0</td>\n",
       "      <td>1</td>\n",
       "    </tr>\n",
       "  </tbody>\n",
       "</table>\n",
       "</div>"
      ],
      "text/plain": [
       "   ID_Patient_Care_Situation  Diagnosed_Condition  Patient_ID  \\\n",
       "0                      22374                    8        3333   \n",
       "1                      18164                    5        5740   \n",
       "2                       6283                   23       10446   \n",
       "3                       5339                   51       12011   \n",
       "4                      33012                    0       12513   \n",
       "\n",
       "  Treated_with_drugs  Patient_Age  Patient_Body_Mass_Index Patient_Smoker  \\\n",
       "0                DX6           56                18.479385            YES   \n",
       "1               DX2            36                22.945566            YES   \n",
       "2                DX6           48                27.510027            YES   \n",
       "3               DX1             5                19.130976             NO   \n",
       "4                NaN          128                 1.348400     Cannot say   \n",
       "\n",
       "  Patient_Rural_Urban Patient_mental_condition    A    B    C    D    E    F  \\\n",
       "0               URBAN                   Stable  1.0  0.0  0.0  0.0  1.0  0.0   \n",
       "1               RURAL                   Stable  1.0  0.0  0.0  0.0  0.0  0.0   \n",
       "2               RURAL                   Stable  1.0  0.0  0.0  0.0  0.0  0.0   \n",
       "3               URBAN                   Stable  1.0  0.0  0.0  0.0  0.0  0.0   \n",
       "4               RURAL                   Stable  0.0  0.0  0.0  0.0  0.0  0.0   \n",
       "\n",
       "     Z  Number_of_prev_cond  Survived_1_year  \n",
       "0  0.0                  2.0                0  \n",
       "1  0.0                  1.0                1  \n",
       "2  0.0                  1.0                0  \n",
       "3  0.0                  1.0                1  \n",
       "4  1.0                  1.0                1  "
      ]
     },
     "execution_count": 2,
     "metadata": {},
     "output_type": "execute_result"
    }
   ],
   "source": [
    "### Load data\n",
    "data = pd.read_csv('https://raw.githubusercontent.com/dphi-official/Datasets/master/pharma_data/Training_set_begs.csv')\n",
    "data.head()"
   ]
  },
  {
   "cell_type": "code",
   "execution_count": 3,
   "metadata": {},
   "outputs": [
    {
     "name": "stdout",
     "output_type": "stream",
     "text": [
      "<class 'pandas.core.frame.DataFrame'>\n",
      "RangeIndex: 23097 entries, 0 to 23096\n",
      "Data columns (total 18 columns):\n",
      " #   Column                     Non-Null Count  Dtype  \n",
      "---  ------                     --------------  -----  \n",
      " 0   ID_Patient_Care_Situation  23097 non-null  int64  \n",
      " 1   Diagnosed_Condition        23097 non-null  int64  \n",
      " 2   Patient_ID                 23097 non-null  int64  \n",
      " 3   Treated_with_drugs         23084 non-null  object \n",
      " 4   Patient_Age                23097 non-null  int64  \n",
      " 5   Patient_Body_Mass_Index    23097 non-null  float64\n",
      " 6   Patient_Smoker             23097 non-null  object \n",
      " 7   Patient_Rural_Urban        23097 non-null  object \n",
      " 8   Patient_mental_condition   23097 non-null  object \n",
      " 9   A                          21862 non-null  float64\n",
      " 10  B                          21862 non-null  float64\n",
      " 11  C                          21862 non-null  float64\n",
      " 12  D                          21862 non-null  float64\n",
      " 13  E                          21862 non-null  float64\n",
      " 14  F                          21862 non-null  float64\n",
      " 15  Z                          21862 non-null  float64\n",
      " 16  Number_of_prev_cond        21862 non-null  float64\n",
      " 17  Survived_1_year            23097 non-null  int64  \n",
      "dtypes: float64(9), int64(5), object(4)\n",
      "memory usage: 3.2+ MB\n"
     ]
    }
   ],
   "source": [
    "data.info()"
   ]
  },
  {
   "cell_type": "code",
   "execution_count": 4,
   "metadata": {},
   "outputs": [
    {
     "data": {
      "text/html": [
       "<div>\n",
       "<style scoped>\n",
       "    .dataframe tbody tr th:only-of-type {\n",
       "        vertical-align: middle;\n",
       "    }\n",
       "\n",
       "    .dataframe tbody tr th {\n",
       "        vertical-align: top;\n",
       "    }\n",
       "\n",
       "    .dataframe thead th {\n",
       "        text-align: right;\n",
       "    }\n",
       "</style>\n",
       "<table border=\"1\" class=\"dataframe\">\n",
       "  <thead>\n",
       "    <tr style=\"text-align: right;\">\n",
       "      <th></th>\n",
       "      <th>ID_Patient_Care_Situation</th>\n",
       "      <th>Diagnosed_Condition</th>\n",
       "      <th>Patient_ID</th>\n",
       "      <th>Patient_Age</th>\n",
       "      <th>Patient_Body_Mass_Index</th>\n",
       "      <th>A</th>\n",
       "      <th>B</th>\n",
       "      <th>C</th>\n",
       "      <th>D</th>\n",
       "      <th>E</th>\n",
       "      <th>F</th>\n",
       "      <th>Z</th>\n",
       "      <th>Number_of_prev_cond</th>\n",
       "      <th>Survived_1_year</th>\n",
       "    </tr>\n",
       "  </thead>\n",
       "  <tbody>\n",
       "    <tr>\n",
       "      <th>count</th>\n",
       "      <td>23097.000000</td>\n",
       "      <td>23097.000000</td>\n",
       "      <td>23097.000000</td>\n",
       "      <td>23097.000000</td>\n",
       "      <td>23097.000000</td>\n",
       "      <td>21862.000000</td>\n",
       "      <td>21862.000000</td>\n",
       "      <td>21862.000000</td>\n",
       "      <td>21862.000000</td>\n",
       "      <td>21862.000000</td>\n",
       "      <td>21862.000000</td>\n",
       "      <td>21862.000000</td>\n",
       "      <td>21862.000000</td>\n",
       "      <td>23097.000000</td>\n",
       "    </tr>\n",
       "    <tr>\n",
       "      <th>mean</th>\n",
       "      <td>16545.712041</td>\n",
       "      <td>26.413127</td>\n",
       "      <td>6261.280772</td>\n",
       "      <td>33.209768</td>\n",
       "      <td>23.454820</td>\n",
       "      <td>0.897905</td>\n",
       "      <td>0.136355</td>\n",
       "      <td>0.185070</td>\n",
       "      <td>0.083615</td>\n",
       "      <td>0.393239</td>\n",
       "      <td>0.053700</td>\n",
       "      <td>0.000595</td>\n",
       "      <td>1.750480</td>\n",
       "      <td>0.632247</td>\n",
       "    </tr>\n",
       "    <tr>\n",
       "      <th>std</th>\n",
       "      <td>9532.263503</td>\n",
       "      <td>15.030865</td>\n",
       "      <td>3595.990620</td>\n",
       "      <td>19.549882</td>\n",
       "      <td>3.807661</td>\n",
       "      <td>0.302780</td>\n",
       "      <td>0.343173</td>\n",
       "      <td>0.388363</td>\n",
       "      <td>0.276817</td>\n",
       "      <td>0.488480</td>\n",
       "      <td>0.225431</td>\n",
       "      <td>0.024379</td>\n",
       "      <td>0.770311</td>\n",
       "      <td>0.482204</td>\n",
       "    </tr>\n",
       "    <tr>\n",
       "      <th>min</th>\n",
       "      <td>2.000000</td>\n",
       "      <td>0.000000</td>\n",
       "      <td>1.000000</td>\n",
       "      <td>0.000000</td>\n",
       "      <td>1.089300</td>\n",
       "      <td>0.000000</td>\n",
       "      <td>0.000000</td>\n",
       "      <td>0.000000</td>\n",
       "      <td>0.000000</td>\n",
       "      <td>0.000000</td>\n",
       "      <td>0.000000</td>\n",
       "      <td>0.000000</td>\n",
       "      <td>1.000000</td>\n",
       "      <td>0.000000</td>\n",
       "    </tr>\n",
       "    <tr>\n",
       "      <th>25%</th>\n",
       "      <td>8280.000000</td>\n",
       "      <td>13.000000</td>\n",
       "      <td>3181.000000</td>\n",
       "      <td>16.000000</td>\n",
       "      <td>20.205550</td>\n",
       "      <td>1.000000</td>\n",
       "      <td>0.000000</td>\n",
       "      <td>0.000000</td>\n",
       "      <td>0.000000</td>\n",
       "      <td>0.000000</td>\n",
       "      <td>0.000000</td>\n",
       "      <td>0.000000</td>\n",
       "      <td>1.000000</td>\n",
       "      <td>0.000000</td>\n",
       "    </tr>\n",
       "    <tr>\n",
       "      <th>50%</th>\n",
       "      <td>16597.000000</td>\n",
       "      <td>26.000000</td>\n",
       "      <td>6242.000000</td>\n",
       "      <td>33.000000</td>\n",
       "      <td>23.386199</td>\n",
       "      <td>1.000000</td>\n",
       "      <td>0.000000</td>\n",
       "      <td>0.000000</td>\n",
       "      <td>0.000000</td>\n",
       "      <td>0.000000</td>\n",
       "      <td>0.000000</td>\n",
       "      <td>0.000000</td>\n",
       "      <td>2.000000</td>\n",
       "      <td>1.000000</td>\n",
       "    </tr>\n",
       "    <tr>\n",
       "      <th>75%</th>\n",
       "      <td>24825.000000</td>\n",
       "      <td>39.000000</td>\n",
       "      <td>9363.000000</td>\n",
       "      <td>50.000000</td>\n",
       "      <td>26.788154</td>\n",
       "      <td>1.000000</td>\n",
       "      <td>0.000000</td>\n",
       "      <td>0.000000</td>\n",
       "      <td>0.000000</td>\n",
       "      <td>1.000000</td>\n",
       "      <td>0.000000</td>\n",
       "      <td>0.000000</td>\n",
       "      <td>2.000000</td>\n",
       "      <td>1.000000</td>\n",
       "    </tr>\n",
       "    <tr>\n",
       "      <th>max</th>\n",
       "      <td>33014.000000</td>\n",
       "      <td>52.000000</td>\n",
       "      <td>12515.000000</td>\n",
       "      <td>149.000000</td>\n",
       "      <td>29.999579</td>\n",
       "      <td>1.000000</td>\n",
       "      <td>1.000000</td>\n",
       "      <td>1.000000</td>\n",
       "      <td>1.000000</td>\n",
       "      <td>1.000000</td>\n",
       "      <td>1.000000</td>\n",
       "      <td>1.000000</td>\n",
       "      <td>5.000000</td>\n",
       "      <td>1.000000</td>\n",
       "    </tr>\n",
       "  </tbody>\n",
       "</table>\n",
       "</div>"
      ],
      "text/plain": [
       "       ID_Patient_Care_Situation  Diagnosed_Condition    Patient_ID  \\\n",
       "count               23097.000000         23097.000000  23097.000000   \n",
       "mean                16545.712041            26.413127   6261.280772   \n",
       "std                  9532.263503            15.030865   3595.990620   \n",
       "min                     2.000000             0.000000      1.000000   \n",
       "25%                  8280.000000            13.000000   3181.000000   \n",
       "50%                 16597.000000            26.000000   6242.000000   \n",
       "75%                 24825.000000            39.000000   9363.000000   \n",
       "max                 33014.000000            52.000000  12515.000000   \n",
       "\n",
       "        Patient_Age  Patient_Body_Mass_Index             A             B  \\\n",
       "count  23097.000000             23097.000000  21862.000000  21862.000000   \n",
       "mean      33.209768                23.454820      0.897905      0.136355   \n",
       "std       19.549882                 3.807661      0.302780      0.343173   \n",
       "min        0.000000                 1.089300      0.000000      0.000000   \n",
       "25%       16.000000                20.205550      1.000000      0.000000   \n",
       "50%       33.000000                23.386199      1.000000      0.000000   \n",
       "75%       50.000000                26.788154      1.000000      0.000000   \n",
       "max      149.000000                29.999579      1.000000      1.000000   \n",
       "\n",
       "                  C             D             E             F             Z  \\\n",
       "count  21862.000000  21862.000000  21862.000000  21862.000000  21862.000000   \n",
       "mean       0.185070      0.083615      0.393239      0.053700      0.000595   \n",
       "std        0.388363      0.276817      0.488480      0.225431      0.024379   \n",
       "min        0.000000      0.000000      0.000000      0.000000      0.000000   \n",
       "25%        0.000000      0.000000      0.000000      0.000000      0.000000   \n",
       "50%        0.000000      0.000000      0.000000      0.000000      0.000000   \n",
       "75%        0.000000      0.000000      1.000000      0.000000      0.000000   \n",
       "max        1.000000      1.000000      1.000000      1.000000      1.000000   \n",
       "\n",
       "       Number_of_prev_cond  Survived_1_year  \n",
       "count         21862.000000     23097.000000  \n",
       "mean              1.750480         0.632247  \n",
       "std               0.770311         0.482204  \n",
       "min               1.000000         0.000000  \n",
       "25%               1.000000         0.000000  \n",
       "50%               2.000000         1.000000  \n",
       "75%               2.000000         1.000000  \n",
       "max               5.000000         1.000000  "
      ]
     },
     "execution_count": 4,
     "metadata": {},
     "output_type": "execute_result"
    }
   ],
   "source": [
    "data.describe()"
   ]
  },
  {
   "cell_type": "code",
   "execution_count": 5,
   "metadata": {},
   "outputs": [
    {
     "data": {
      "text/plain": [
       "ID_Patient_Care_Situation       0\n",
       "Diagnosed_Condition             0\n",
       "Patient_ID                      0\n",
       "Treated_with_drugs             13\n",
       "Patient_Age                     0\n",
       "Patient_Body_Mass_Index         0\n",
       "Patient_Smoker                  0\n",
       "Patient_Rural_Urban             0\n",
       "Patient_mental_condition        0\n",
       "A                            1235\n",
       "B                            1235\n",
       "C                            1235\n",
       "D                            1235\n",
       "E                            1235\n",
       "F                            1235\n",
       "Z                            1235\n",
       "Number_of_prev_cond          1235\n",
       "Survived_1_year                 0\n",
       "dtype: int64"
      ]
     },
     "execution_count": 5,
     "metadata": {},
     "output_type": "execute_result"
    }
   ],
   "source": [
    "data.isnull().sum()"
   ]
  },
  {
   "cell_type": "code",
   "execution_count": 6,
   "metadata": {},
   "outputs": [
    {
     "data": {
      "image/png": "[encoded data removed]",
      "text/plain": [
       "<Figure size 432x288 with 1 Axes>"
      ]
     },
     "metadata": {
      "needs_background": "light"
     },
     "output_type": "display_data"
    }
   ],
   "source": [
    "data.isnull().sum().plot(kind='bar')\n",
    "plt.title('Check null values in the features')\n",
    "plt.xlabel('Features')\n",
    "plt.ylabel('Null Count')\n",
    "plt.show()"
   ]
  },
  {
   "cell_type": "code",
   "execution_count": 7,
   "metadata": {},
   "outputs": [],
   "source": [
    "# Filling the missing values"
   ]
  },
  {
   "cell_type": "code",
   "execution_count": 8,
   "metadata": {},
   "outputs": [],
   "source": [
    "data['Treated_with_drugs'] = data['Treated_with_drugs'].fillna(data['Treated_with_drugs'].mode()[0])"
   ]
  },
  {
   "cell_type": "code",
   "execution_count": 9,
   "metadata": {},
   "outputs": [],
   "source": [
    "data['A'].fillna(data['A'].mode()[0], inplace=True)\n",
    "data['B'].fillna(data['B'].mode()[0], inplace=True)\n",
    "data['C'].fillna(data['C'].mode()[0], inplace=True)\n",
    "data['D'].fillna(data['D'].mode()[0], inplace=True)\n",
    "data['E'].fillna(data['E'].mode()[0], inplace=True)\n",
    "data['F'].fillna(data['F'].mode()[0], inplace=True)\n",
    "data['Z'].fillna(data['Z'].mode()[0], inplace=True)"
   ]
  },
  {
   "cell_type": "code",
   "execution_count": 10,
   "metadata": {},
   "outputs": [],
   "source": [
    "data['Number_of_prev_cond'] = data['Number_of_prev_cond'].fillna(data['Number_of_prev_cond'].mode()[0])  \n",
    "# filling the missing value of 'Number_of_prev_cond'"
   ]
  },
  {
   "cell_type": "code",
   "execution_count": 11,
   "metadata": {},
   "outputs": [
    {
     "data": {
      "text/plain": [
       "ID_Patient_Care_Situation    0\n",
       "Diagnosed_Condition          0\n",
       "Patient_ID                   0\n",
       "Treated_with_drugs           0\n",
       "Patient_Age                  0\n",
       "Patient_Body_Mass_Index      0\n",
       "Patient_Smoker               0\n",
       "Patient_Rural_Urban          0\n",
       "Patient_mental_condition     0\n",
       "A                            0\n",
       "B                            0\n",
       "C                            0\n",
       "D                            0\n",
       "E                            0\n",
       "F                            0\n",
       "Z                            0\n",
       "Number_of_prev_cond          0\n",
       "Survived_1_year              0\n",
       "dtype: int64"
      ]
     },
     "execution_count": 11,
     "metadata": {},
     "output_type": "execute_result"
    }
   ],
   "source": [
    "data.isnull().sum()"
   ]
  },
  {
   "cell_type": "code",
   "execution_count": 12,
   "metadata": {},
   "outputs": [],
   "source": [
    "## Relationship between Features and Survival"
   ]
  },
  {
   "cell_type": "markdown",
   "metadata": {},
   "source": [
    "### Show the Survival count"
   ]
  },
  {
   "cell_type": "code",
   "execution_count": 13,
   "metadata": {},
   "outputs": [
    {
     "data": {
      "text/plain": [
       "1    14603\n",
       "0     8494\n",
       "Name: Survived_1_year, dtype: int64"
      ]
     },
     "execution_count": 13,
     "metadata": {},
     "output_type": "execute_result"
    }
   ],
   "source": [
    "data['Survived_1_year'].value_counts()"
   ]
  },
  {
   "cell_type": "code",
   "execution_count": 14,
   "metadata": {},
   "outputs": [
    {
     "data": {
      "image/png": "[encoded data removed]",
      "text/plain": [
       "<Figure size 432x288 with 1 Axes>"
      ]
     },
     "metadata": {
      "needs_background": "light"
     },
     "output_type": "display_data"
    }
   ],
   "source": [
    "data['Survived_1_year'].value_counts().plot(kind='bar')\n",
    "plt.title('Check null values in the features')\n",
    "plt.xlabel('Survived')\n",
    "plt.ylabel('Count')\n",
    "plt.show()"
   ]
  },
  {
   "cell_type": "code",
   "execution_count": 15,
   "metadata": {},
   "outputs": [
    {
     "data": {
      "text/plain": [
       "Index(['ID_Patient_Care_Situation', 'Diagnosed_Condition', 'Patient_ID',\n",
       "       'Treated_with_drugs', 'Patient_Age', 'Patient_Body_Mass_Index',\n",
       "       'Patient_Smoker', 'Patient_Rural_Urban', 'Patient_mental_condition',\n",
       "       'A', 'B', 'C', 'D', 'E', 'F', 'Z', 'Number_of_prev_cond',\n",
       "       'Survived_1_year'],\n",
       "      dtype='object')"
      ]
     },
     "execution_count": 15,
     "metadata": {},
     "output_type": "execute_result"
    }
   ],
   "source": [
    "# Columns name\n",
    "data.columns"
   ]
  },
  {
   "cell_type": "code",
   "execution_count": 16,
   "metadata": {},
   "outputs": [
    {
     "data": {
      "text/plain": [
       "11    489\n",
       "12    483\n",
       "49    479\n",
       "7     471\n",
       "52    469\n",
       "43    469\n",
       "18    468\n",
       "36    466\n",
       "17    461\n",
       "40    460\n",
       "8     460\n",
       "1     459\n",
       "24    458\n",
       "34    458\n",
       "19    456\n",
       "45    455\n",
       "5     454\n",
       "21    454\n",
       "29    452\n",
       "46    448\n",
       "41    447\n",
       "35    447\n",
       "51    444\n",
       "30    443\n",
       "6     443\n",
       "33    443\n",
       "4     443\n",
       "23    443\n",
       "31    443\n",
       "39    442\n",
       "3     442\n",
       "16    440\n",
       "20    439\n",
       "9     438\n",
       "22    436\n",
       "15    436\n",
       "13    436\n",
       "27    434\n",
       "44    432\n",
       "25    429\n",
       "28    426\n",
       "37    425\n",
       "32    425\n",
       "42    423\n",
       "47    422\n",
       "26    421\n",
       "48    418\n",
       "2     417\n",
       "10    416\n",
       "38    413\n",
       "14    408\n",
       "50    401\n",
       "0      13\n",
       "Name: Diagnosed_Condition, dtype: int64"
      ]
     },
     "execution_count": 16,
     "metadata": {},
     "output_type": "execute_result"
    }
   ],
   "source": [
    "### 1. Diagnosed_Condition vs Survival Count\n",
    "data.Diagnosed_Condition.value_counts()"
   ]
  },
  {
   "cell_type": "code",
   "execution_count": 17,
   "metadata": {},
   "outputs": [
    {
     "data": {
      "text/plain": [
       "Diagnosed_Condition  Survived_1_year\n",
       "0                    1                   13\n",
       "1                    1                  334\n",
       "                     0                  125\n",
       "2                    1                  299\n",
       "                     0                  118\n",
       "                                       ... \n",
       "50                   0                  110\n",
       "51                   1                  305\n",
       "                     0                  139\n",
       "52                   1                  308\n",
       "                     0                  161\n",
       "Name: Survived_1_year, Length: 105, dtype: int64"
      ]
     },
     "execution_count": 17,
     "metadata": {},
     "output_type": "execute_result"
    }
   ],
   "source": [
    "Diagnosed_Condition_survived = data.groupby('Diagnosed_Condition').Survived_1_year.value_counts()\n",
    "Diagnosed_Condition_survived"
   ]
  },
  {
   "cell_type": "code",
   "execution_count": 18,
   "metadata": {},
   "outputs": [
    {
     "data": {
      "image/png": "[encoded data removed]",
      "text/plain": [
       "<Figure size 432x288 with 1 Axes>"
      ]
     },
     "metadata": {
      "needs_background": "light"
     },
     "output_type": "display_data"
    }
   ],
   "source": [
    "data.Treated_with_drugs.value_counts().plot(kind='bar', subplots=False)\n",
    "plt.show()"
   ]
  },
  {
   "cell_type": "code",
   "execution_count": 19,
   "metadata": {},
   "outputs": [
    {
     "data": {
      "text/plain": [
       "Treated_with_drugs  Survived_1_year\n",
       "DX1                 1                  1375\n",
       "                    0                   460\n",
       "DX1 DX2             1                   293\n",
       "                    0                   155\n",
       "DX1 DX2 DX3         1                    63\n",
       "                                       ... \n",
       "DX4 DX5             0                    93\n",
       "DX5                 1                  1558\n",
       "                    0                   351\n",
       "DX6                 0                  4943\n",
       "                    1                  3676\n",
       "Name: Survived_1_year, Length: 63, dtype: int64"
      ]
     },
     "execution_count": 19,
     "metadata": {},
     "output_type": "execute_result"
    }
   ],
   "source": [
    "Treated_with_drugs_survived = data.groupby('Treated_with_drugs').Survived_1_year.value_counts()\n",
    "Treated_with_drugs_survived"
   ]
  },
  {
   "cell_type": "code",
   "execution_count": 20,
   "metadata": {},
   "outputs": [],
   "source": [
    "#Treated_with_drugs_survived.unstack(level=0).plot(kind='bar', subplots=False)"
   ]
  },
  {
   "cell_type": "code",
   "execution_count": 21,
   "metadata": {},
   "outputs": [
    {
     "data": {
      "text/plain": [
       "31     401\n",
       "19     395\n",
       "64     394\n",
       "36     393\n",
       "0      392\n",
       "      ... \n",
       "115      1\n",
       "149      1\n",
       "123      1\n",
       "121      1\n",
       "132      1\n",
       "Name: Patient_Age, Length: 78, dtype: int64"
      ]
     },
     "execution_count": 21,
     "metadata": {},
     "output_type": "execute_result"
    }
   ],
   "source": [
    "data.Patient_Age.value_counts()"
   ]
  },
  {
   "cell_type": "code",
   "execution_count": 22,
   "metadata": {},
   "outputs": [
    {
     "data": {
      "text/plain": [
       "Patient_Age  Survived_1_year\n",
       "0            1                  216\n",
       "             0                  176\n",
       "1            1                  207\n",
       "             0                  152\n",
       "2            1                  217\n",
       "                               ... \n",
       "128          1                    1\n",
       "132          1                    1\n",
       "138          1                    1\n",
       "142          1                    2\n",
       "149          1                    1\n",
       "Name: Survived_1_year, Length: 145, dtype: int64"
      ]
     },
     "execution_count": 22,
     "metadata": {},
     "output_type": "execute_result"
    }
   ],
   "source": [
    "age_survived = data.groupby('Patient_Age').Survived_1_year.value_counts()\n",
    "age_survived"
   ]
  },
  {
   "cell_type": "code",
   "execution_count": 23,
   "metadata": {},
   "outputs": [
    {
     "data": {
      "text/plain": [
       "27.636765    9\n",
       "28.697330    8\n",
       "19.097499    8\n",
       "28.548780    8\n",
       "21.593501    8\n",
       "            ..\n",
       "20.543993    1\n",
       "19.913554    1\n",
       "25.496658    1\n",
       "27.832044    1\n",
       "18.123269    1\n",
       "Name: Patient_Body_Mass_Index, Length: 10570, dtype: int64"
      ]
     },
     "execution_count": 23,
     "metadata": {},
     "output_type": "execute_result"
    }
   ],
   "source": [
    "data.Patient_Body_Mass_Index.value_counts()"
   ]
  },
  {
   "cell_type": "code",
   "execution_count": 24,
   "metadata": {},
   "outputs": [
    {
     "data": {
      "text/plain": [
       "Patient_Body_Mass_Index  Survived_1_year\n",
       "1.089300                 1                  1\n",
       "1.145000                 1                  1\n",
       "1.258100                 1                  1\n",
       "1.292500                 1                  1\n",
       "1.348400                 1                  1\n",
       "                                           ..\n",
       "29.997877                0                  1\n",
       "                         1                  1\n",
       "29.998891                0                  2\n",
       "29.999579                1                  2\n",
       "                         0                  1\n",
       "Name: Survived_1_year, Length: 13714, dtype: int64"
      ]
     },
     "execution_count": 24,
     "metadata": {},
     "output_type": "execute_result"
    }
   ],
   "source": [
    "bodymass_survived = data.groupby('Patient_Body_Mass_Index').Survived_1_year.value_counts()\n",
    "bodymass_survived"
   ]
  },
  {
   "cell_type": "code",
   "execution_count": 25,
   "metadata": {},
   "outputs": [
    {
     "data": {
      "text/plain": [
       "NO            13246\n",
       "YES            9838\n",
       "Cannot say       13\n",
       "Name: Patient_Smoker, dtype: int64"
      ]
     },
     "execution_count": 25,
     "metadata": {},
     "output_type": "execute_result"
    }
   ],
   "source": [
    "data.Patient_Smoker.value_counts()"
   ]
  },
  {
   "cell_type": "code",
   "execution_count": 26,
   "metadata": {},
   "outputs": [
    {
     "data": {
      "text/plain": [
       "<matplotlib.axes._subplots.AxesSubplot at 0x18cd98f3a60>"
      ]
     },
     "execution_count": 26,
     "metadata": {},
     "output_type": "execute_result"
    },
    {
     "data": {
      "image/png": "[encoded data removed]",
      "text/plain": [
       "<Figure size 432x288 with 1 Axes>"
      ]
     },
     "metadata": {
      "needs_background": "light"
     },
     "output_type": "display_data"
    }
   ],
   "source": [
    "data.Patient_Smoker.value_counts().plot(kind='bar')"
   ]
  },
  {
   "cell_type": "code",
   "execution_count": 27,
   "metadata": {},
   "outputs": [
    {
     "data": {
      "text/plain": [
       "Patient_Smoker  Survived_1_year\n",
       "Cannot say      1                    13\n",
       "NO              1                  9767\n",
       "                0                  3479\n",
       "YES             0                  5015\n",
       "                1                  4823\n",
       "Name: Survived_1_year, dtype: int64"
      ]
     },
     "execution_count": 27,
     "metadata": {},
     "output_type": "execute_result"
    }
   ],
   "source": [
    "smoker_survived = data.groupby('Patient_Smoker').Survived_1_year.value_counts()\n",
    "smoker_survived"
   ]
  },
  {
   "cell_type": "code",
   "execution_count": 28,
   "metadata": {},
   "outputs": [
    {
     "data": {
      "text/plain": [
       "<matplotlib.axes._subplots.AxesSubplot at 0x18cd99469a0>"
      ]
     },
     "execution_count": 28,
     "metadata": {},
     "output_type": "execute_result"
    },
    {
     "data": {
      "image/png": "[encoded data removed]",
      "text/plain": [
       "<Figure size 432x288 with 1 Axes>"
      ]
     },
     "metadata": {
      "needs_background": "light"
     },
     "output_type": "display_data"
    }
   ],
   "source": [
    "smoker_survived.unstack(level=0).plot(kind='bar', subplots=False)"
   ]
  },
  {
   "cell_type": "code",
   "execution_count": 29,
   "metadata": {},
   "outputs": [
    {
     "data": {
      "text/plain": [
       "RURAL    16134\n",
       "URBAN     6963\n",
       "Name: Patient_Rural_Urban, dtype: int64"
      ]
     },
     "execution_count": 29,
     "metadata": {},
     "output_type": "execute_result"
    }
   ],
   "source": [
    "data.Patient_Rural_Urban.value_counts()"
   ]
  },
  {
   "cell_type": "code",
   "execution_count": 30,
   "metadata": {},
   "outputs": [
    {
     "data": {
      "text/plain": [
       "Patient_Smoker  Survived_1_year\n",
       "Cannot say      1                    13\n",
       "NO              1                  9767\n",
       "                0                  3479\n",
       "YES             0                  5015\n",
       "                1                  4823\n",
       "Name: Survived_1_year, dtype: int64"
      ]
     },
     "execution_count": 30,
     "metadata": {},
     "output_type": "execute_result"
    }
   ],
   "source": [
    "Patient_Rural_Urban_survived = data.groupby('Patient_Smoker').Survived_1_year.value_counts()\n",
    "Patient_Rural_Urban_survived"
   ]
  },
  {
   "cell_type": "code",
   "execution_count": 31,
   "metadata": {},
   "outputs": [
    {
     "data": {
      "text/plain": [
       "<matplotlib.axes._subplots.AxesSubplot at 0x18cd99c91c0>"
      ]
     },
     "execution_count": 31,
     "metadata": {},
     "output_type": "execute_result"
    },
    {
     "data": {
      "image/png": "[encoded data removed]",
      "text/plain": [
       "<Figure size 432x288 with 1 Axes>"
      ]
     },
     "metadata": {
      "needs_background": "light"
     },
     "output_type": "display_data"
    }
   ],
   "source": [
    "Patient_Rural_Urban_survived.unstack(level=0).plot(kind='bar', subplots=False)"
   ]
  },
  {
   "cell_type": "code",
   "execution_count": 32,
   "metadata": {},
   "outputs": [
    {
     "data": {
      "text/plain": [
       "Stable    23097\n",
       "Name: Patient_mental_condition, dtype: int64"
      ]
     },
     "execution_count": 32,
     "metadata": {},
     "output_type": "execute_result"
    }
   ],
   "source": [
    "data.Patient_mental_condition.value_counts()"
   ]
  },
  {
   "cell_type": "code",
   "execution_count": 33,
   "metadata": {},
   "outputs": [
    {
     "data": {
      "text/plain": [
       "Patient_mental_condition  Survived_1_year\n",
       "Stable                    1                  14603\n",
       "                          0                   8494\n",
       "Name: Survived_1_year, dtype: int64"
      ]
     },
     "execution_count": 33,
     "metadata": {},
     "output_type": "execute_result"
    }
   ],
   "source": [
    "patient_mental_condition_survived = data.groupby('Patient_mental_condition').Survived_1_year.value_counts()\n",
    "patient_mental_condition_survived"
   ]
  },
  {
   "cell_type": "code",
   "execution_count": 34,
   "metadata": {},
   "outputs": [
    {
     "data": {
      "text/plain": [
       "<matplotlib.axes._subplots.AxesSubplot at 0x18cd9c13490>"
      ]
     },
     "execution_count": 34,
     "metadata": {},
     "output_type": "execute_result"
    },
    {
     "data": {
      "image/png": "[encoded data removed]",
      "text/plain": [
       "<Figure size 432x288 with 1 Axes>"
      ]
     },
     "metadata": {
      "needs_background": "light"
     },
     "output_type": "display_data"
    }
   ],
   "source": [
    "patient_mental_condition_survived.unstack(level=0).plot(kind='bar', subplots=False)"
   ]
  },
  {
   "cell_type": "code",
   "execution_count": 35,
   "metadata": {},
   "outputs": [
    {
     "data": {
      "image/png": "[encoded data removed]",
      "text/plain": [
       "<Figure size 432x288 with 1 Axes>"
      ]
     },
     "metadata": {
      "needs_background": "light"
     },
     "output_type": "display_data"
    },
    {
     "data": {
      "image/png": "[encoded data removed]",
      "text/plain": [
       "<Figure size 432x288 with 1 Axes>"
      ]
     },
     "metadata": {
      "needs_background": "light"
     },
     "output_type": "display_data"
    },
    {
     "data": {
      "image/png": "[encoded data removed]",
      "text/plain": [
       "<Figure size 432x288 with 1 Axes>"
      ]
     },
     "metadata": {
      "needs_background": "light"
     },
     "output_type": "display_data"
    },
    {
     "data": {
      "image/png": "[encoded data removed]",
      "text/plain": [
       "<Figure size 432x288 with 1 Axes>"
      ]
     },
     "metadata": {
      "needs_background": "light"
     },
     "output_type": "display_data"
    }
   ],
   "source": [
    "numeric_data=data[['Diagnosed_Condition', 'Patient_Age', 'Patient_Body_Mass_Index', 'Number_of_prev_cond']]\n",
    "for feature in numeric_data.columns:\n",
    "  sns.boxplot(x=data.Survived_1_year, y=feature, data=numeric_data)\n",
    "  plt.show()"
   ]
  },
  {
   "cell_type": "markdown",
   "metadata": {},
   "source": [
    "### Let's look at Categorical Data"
   ]
  },
  {
   "cell_type": "code",
   "execution_count": 36,
   "metadata": {},
   "outputs": [
    {
     "data": {
      "text/plain": [
       "ID_Patient_Care_Situation    23097\n",
       "Patient_ID                   10570\n",
       "Treated_with_drugs              32\n",
       "Patient_Smoker                   3\n",
       "Patient_Rural_Urban              2\n",
       "Patient_mental_condition         1\n",
       "A                                2\n",
       "B                                2\n",
       "C                                2\n",
       "D                                2\n",
       "E                                2\n",
       "F                                2\n",
       "Z                                2\n",
       "Survived_1_year                  2\n",
       "dtype: int64"
      ]
     },
     "execution_count": 36,
     "metadata": {},
     "output_type": "execute_result"
    }
   ],
   "source": [
    "categorical_data = data.drop(numeric_data.columns, axis=1)    # dropping the numerical columns from the dataframe 'data'\n",
    "categorical_data.nunique()   # nunique() return you the number of unique values in each column/feature"
   ]
  },
  {
   "cell_type": "code",
   "execution_count": 38,
   "metadata": {},
   "outputs": [
    {
     "data": {
      "text/plain": [
       "DX6                     8619\n",
       "DX5                     1909\n",
       "DX2                     1904\n",
       "DX1                     1835\n",
       "DX3                     1830\n",
       "DX4                     1792\n",
       "DX1 DX2                  448\n",
       "DX3 DX4                  448\n",
       "DX1 DX3                  424\n",
       "DX4 DX5                  423\n",
       "DX2 DX4                  419\n",
       "DX1 DX4                  408\n",
       "DX3 DX5                  407\n",
       "DX1 DX5                  402\n",
       "DX2 DX5                  400\n",
       "DX2 DX3                  398\n",
       "DX1 DX2 DX5              103\n",
       "DX1 DX3 DX5              101\n",
       "DX1 DX2 DX4               99\n",
       "DX3 DX4 DX5               96\n",
       "DX1 DX2 DX3               95\n",
       "DX2 DX3 DX5               91\n",
       "DX1 DX3 DX4               90\n",
       "DX2 DX3 DX4               87\n",
       "DX2 DX4 DX5               84\n",
       "DX1 DX4 DX5               80\n",
       "DX1 DX3 DX4 DX5           24\n",
       "DX1 DX2 DX3 DX4           24\n",
       "DX2 DX3 DX4 DX5           22\n",
       "DX1 DX2 DX4 DX5           18\n",
       "DX1 DX2 DX3 DX5           14\n",
       "DX1 DX2 DX3 DX4 DX5        3\n",
       "Name: Treated_with_drugs, dtype: int64"
      ]
     },
     "execution_count": 38,
     "metadata": {},
     "output_type": "execute_result"
    }
   ],
   "source": [
    "data.Treated_with_drugs.value_counts()"
   ]
  },
  {
   "cell_type": "markdown",
   "metadata": {},
   "source": [
    "So 'Treated_with_drugs' column has 32 unique values while 'Patient_Smoker' has only 3 categorical values. 'Patient_mental_condition' column has only 1 categorical value.\n",
    "\n",
    "### Pre-Processing and Data Cleaning of Categorical Variables\n",
    "We have discussed in our sessions that machine learning models accepts only numerical data. 'Treated_with_drugs' column is a categorical column and has values as combination of one or more drugs. Let's split all those combined drugs into individual drugs and create dummies for that."
   ]
  },
  {
   "cell_type": "code",
   "execution_count": 39,
   "metadata": {},
   "outputs": [
    {
     "data": {
      "text/html": [
       "<div>\n",
       "<style scoped>\n",
       "    .dataframe tbody tr th:only-of-type {\n",
       "        vertical-align: middle;\n",
       "    }\n",
       "\n",
       "    .dataframe tbody tr th {\n",
       "        vertical-align: top;\n",
       "    }\n",
       "\n",
       "    .dataframe thead th {\n",
       "        text-align: right;\n",
       "    }\n",
       "</style>\n",
       "<table border=\"1\" class=\"dataframe\">\n",
       "  <thead>\n",
       "    <tr style=\"text-align: right;\">\n",
       "      <th></th>\n",
       "      <th>DX1</th>\n",
       "      <th>DX2</th>\n",
       "      <th>DX3</th>\n",
       "      <th>DX4</th>\n",
       "      <th>DX5</th>\n",
       "      <th>DX6</th>\n",
       "    </tr>\n",
       "  </thead>\n",
       "  <tbody>\n",
       "    <tr>\n",
       "      <th>0</th>\n",
       "      <td>0</td>\n",
       "      <td>0</td>\n",
       "      <td>0</td>\n",
       "      <td>0</td>\n",
       "      <td>0</td>\n",
       "      <td>1</td>\n",
       "    </tr>\n",
       "    <tr>\n",
       "      <th>1</th>\n",
       "      <td>0</td>\n",
       "      <td>1</td>\n",
       "      <td>0</td>\n",
       "      <td>0</td>\n",
       "      <td>0</td>\n",
       "      <td>0</td>\n",
       "    </tr>\n",
       "    <tr>\n",
       "      <th>2</th>\n",
       "      <td>0</td>\n",
       "      <td>0</td>\n",
       "      <td>0</td>\n",
       "      <td>0</td>\n",
       "      <td>0</td>\n",
       "      <td>1</td>\n",
       "    </tr>\n",
       "    <tr>\n",
       "      <th>3</th>\n",
       "      <td>1</td>\n",
       "      <td>0</td>\n",
       "      <td>0</td>\n",
       "      <td>0</td>\n",
       "      <td>0</td>\n",
       "      <td>0</td>\n",
       "    </tr>\n",
       "    <tr>\n",
       "      <th>4</th>\n",
       "      <td>0</td>\n",
       "      <td>0</td>\n",
       "      <td>0</td>\n",
       "      <td>0</td>\n",
       "      <td>0</td>\n",
       "      <td>1</td>\n",
       "    </tr>\n",
       "  </tbody>\n",
       "</table>\n",
       "</div>"
      ],
      "text/plain": [
       "   DX1  DX2  DX3  DX4  DX5  DX6\n",
       "0    0    0    0    0    0    1\n",
       "1    0    1    0    0    0    0\n",
       "2    0    0    0    0    0    1\n",
       "3    1    0    0    0    0    0\n",
       "4    0    0    0    0    0    1"
      ]
     },
     "execution_count": 39,
     "metadata": {},
     "output_type": "execute_result"
    }
   ],
   "source": [
    "drugs = data['Treated_with_drugs'].str.get_dummies(sep=' ') # split all the entries separated by space and create dummy variable\n",
    "drugs.head()"
   ]
  },
  {
   "cell_type": "code",
   "execution_count": 40,
   "metadata": {},
   "outputs": [
    {
     "data": {
      "text/html": [
       "<div>\n",
       "<style scoped>\n",
       "    .dataframe tbody tr th:only-of-type {\n",
       "        vertical-align: middle;\n",
       "    }\n",
       "\n",
       "    .dataframe tbody tr th {\n",
       "        vertical-align: top;\n",
       "    }\n",
       "\n",
       "    .dataframe thead th {\n",
       "        text-align: right;\n",
       "    }\n",
       "</style>\n",
       "<table border=\"1\" class=\"dataframe\">\n",
       "  <thead>\n",
       "    <tr style=\"text-align: right;\">\n",
       "      <th></th>\n",
       "      <th>ID_Patient_Care_Situation</th>\n",
       "      <th>Diagnosed_Condition</th>\n",
       "      <th>Patient_ID</th>\n",
       "      <th>Patient_Age</th>\n",
       "      <th>Patient_Body_Mass_Index</th>\n",
       "      <th>Patient_Smoker</th>\n",
       "      <th>Patient_Rural_Urban</th>\n",
       "      <th>Patient_mental_condition</th>\n",
       "      <th>A</th>\n",
       "      <th>B</th>\n",
       "      <th>...</th>\n",
       "      <th>F</th>\n",
       "      <th>Z</th>\n",
       "      <th>Number_of_prev_cond</th>\n",
       "      <th>Survived_1_year</th>\n",
       "      <th>DX1</th>\n",
       "      <th>DX2</th>\n",
       "      <th>DX3</th>\n",
       "      <th>DX4</th>\n",
       "      <th>DX5</th>\n",
       "      <th>DX6</th>\n",
       "    </tr>\n",
       "  </thead>\n",
       "  <tbody>\n",
       "    <tr>\n",
       "      <th>0</th>\n",
       "      <td>22374</td>\n",
       "      <td>8</td>\n",
       "      <td>3333</td>\n",
       "      <td>56</td>\n",
       "      <td>18.479385</td>\n",
       "      <td>YES</td>\n",
       "      <td>URBAN</td>\n",
       "      <td>Stable</td>\n",
       "      <td>1.0</td>\n",
       "      <td>0.0</td>\n",
       "      <td>...</td>\n",
       "      <td>0.0</td>\n",
       "      <td>0.0</td>\n",
       "      <td>2.0</td>\n",
       "      <td>0</td>\n",
       "      <td>0</td>\n",
       "      <td>0</td>\n",
       "      <td>0</td>\n",
       "      <td>0</td>\n",
       "      <td>0</td>\n",
       "      <td>1</td>\n",
       "    </tr>\n",
       "    <tr>\n",
       "      <th>1</th>\n",
       "      <td>18164</td>\n",
       "      <td>5</td>\n",
       "      <td>5740</td>\n",
       "      <td>36</td>\n",
       "      <td>22.945566</td>\n",
       "      <td>YES</td>\n",
       "      <td>RURAL</td>\n",
       "      <td>Stable</td>\n",
       "      <td>1.0</td>\n",
       "      <td>0.0</td>\n",
       "      <td>...</td>\n",
       "      <td>0.0</td>\n",
       "      <td>0.0</td>\n",
       "      <td>1.0</td>\n",
       "      <td>1</td>\n",
       "      <td>0</td>\n",
       "      <td>1</td>\n",
       "      <td>0</td>\n",
       "      <td>0</td>\n",
       "      <td>0</td>\n",
       "      <td>0</td>\n",
       "    </tr>\n",
       "    <tr>\n",
       "      <th>2</th>\n",
       "      <td>6283</td>\n",
       "      <td>23</td>\n",
       "      <td>10446</td>\n",
       "      <td>48</td>\n",
       "      <td>27.510027</td>\n",
       "      <td>YES</td>\n",
       "      <td>RURAL</td>\n",
       "      <td>Stable</td>\n",
       "      <td>1.0</td>\n",
       "      <td>0.0</td>\n",
       "      <td>...</td>\n",
       "      <td>0.0</td>\n",
       "      <td>0.0</td>\n",
       "      <td>1.0</td>\n",
       "      <td>0</td>\n",
       "      <td>0</td>\n",
       "      <td>0</td>\n",
       "      <td>0</td>\n",
       "      <td>0</td>\n",
       "      <td>0</td>\n",
       "      <td>1</td>\n",
       "    </tr>\n",
       "    <tr>\n",
       "      <th>3</th>\n",
       "      <td>5339</td>\n",
       "      <td>51</td>\n",
       "      <td>12011</td>\n",
       "      <td>5</td>\n",
       "      <td>19.130976</td>\n",
       "      <td>NO</td>\n",
       "      <td>URBAN</td>\n",
       "      <td>Stable</td>\n",
       "      <td>1.0</td>\n",
       "      <td>0.0</td>\n",
       "      <td>...</td>\n",
       "      <td>0.0</td>\n",
       "      <td>0.0</td>\n",
       "      <td>1.0</td>\n",
       "      <td>1</td>\n",
       "      <td>1</td>\n",
       "      <td>0</td>\n",
       "      <td>0</td>\n",
       "      <td>0</td>\n",
       "      <td>0</td>\n",
       "      <td>0</td>\n",
       "    </tr>\n",
       "    <tr>\n",
       "      <th>4</th>\n",
       "      <td>33012</td>\n",
       "      <td>0</td>\n",
       "      <td>12513</td>\n",
       "      <td>128</td>\n",
       "      <td>1.348400</td>\n",
       "      <td>Cannot say</td>\n",
       "      <td>RURAL</td>\n",
       "      <td>Stable</td>\n",
       "      <td>0.0</td>\n",
       "      <td>0.0</td>\n",
       "      <td>...</td>\n",
       "      <td>0.0</td>\n",
       "      <td>1.0</td>\n",
       "      <td>1.0</td>\n",
       "      <td>1</td>\n",
       "      <td>0</td>\n",
       "      <td>0</td>\n",
       "      <td>0</td>\n",
       "      <td>0</td>\n",
       "      <td>0</td>\n",
       "      <td>1</td>\n",
       "    </tr>\n",
       "  </tbody>\n",
       "</table>\n",
       "<p>5 rows × 23 columns</p>\n",
       "</div>"
      ],
      "text/plain": [
       "   ID_Patient_Care_Situation  Diagnosed_Condition  Patient_ID  Patient_Age  \\\n",
       "0                      22374                    8        3333           56   \n",
       "1                      18164                    5        5740           36   \n",
       "2                       6283                   23       10446           48   \n",
       "3                       5339                   51       12011            5   \n",
       "4                      33012                    0       12513          128   \n",
       "\n",
       "   Patient_Body_Mass_Index Patient_Smoker Patient_Rural_Urban  \\\n",
       "0                18.479385            YES               URBAN   \n",
       "1                22.945566            YES               RURAL   \n",
       "2                27.510027            YES               RURAL   \n",
       "3                19.130976             NO               URBAN   \n",
       "4                 1.348400     Cannot say               RURAL   \n",
       "\n",
       "  Patient_mental_condition    A    B  ...    F    Z  Number_of_prev_cond  \\\n",
       "0                   Stable  1.0  0.0  ...  0.0  0.0                  2.0   \n",
       "1                   Stable  1.0  0.0  ...  0.0  0.0                  1.0   \n",
       "2                   Stable  1.0  0.0  ...  0.0  0.0                  1.0   \n",
       "3                   Stable  1.0  0.0  ...  0.0  0.0                  1.0   \n",
       "4                   Stable  0.0  0.0  ...  0.0  1.0                  1.0   \n",
       "\n",
       "   Survived_1_year  DX1  DX2  DX3  DX4  DX5  DX6  \n",
       "0                0    0    0    0    0    0    1  \n",
       "1                1    0    1    0    0    0    0  \n",
       "2                0    0    0    0    0    0    1  \n",
       "3                1    1    0    0    0    0    0  \n",
       "4                1    0    0    0    0    0    1  \n",
       "\n",
       "[5 rows x 23 columns]"
      ]
     },
     "execution_count": 40,
     "metadata": {},
     "output_type": "execute_result"
    }
   ],
   "source": [
    "data = pd.concat([data, drugs], axis=1)     # concat the two dataframes 'drugs' and 'data'\n",
    "data = data.drop('Treated_with_drugs', axis=1)    # dropping the column 'Treated_with_drugs' as its values are now splitted into different columns\n",
    "\n",
    "data.head()"
   ]
  },
  {
   "cell_type": "markdown",
   "metadata": {},
   "source": [
    "'Patient_Smoker' is also a categorical column and we need to create dummies for this too. If you observe the data, the column 'Patient_Smoker' has a category 'Cannot say'."
   ]
  },
  {
   "cell_type": "code",
   "execution_count": 41,
   "metadata": {},
   "outputs": [
    {
     "data": {
      "text/plain": [
       "NO            13246\n",
       "YES            9838\n",
       "Cannot say       13\n",
       "Name: Patient_Smoker, dtype: int64"
      ]
     },
     "execution_count": 41,
     "metadata": {},
     "output_type": "execute_result"
    }
   ],
   "source": [
    "data.Patient_Smoker.value_counts()"
   ]
  },
  {
   "cell_type": "markdown",
   "metadata": {},
   "source": [
    "There can be different ways to deal with the category 'Cannot say'. Here we will consider it as missing value and fill those entries with the mode value of the column"
   ]
  },
  {
   "cell_type": "code",
   "execution_count": 43,
   "metadata": {},
   "outputs": [],
   "source": [
    "data.Patient_Smoker[data['Patient_Smoker'] == \"Cannot say\"] = 'NO'    \n",
    "# we already know 'NO' is the mode so directly changing the values 'Cannot say' to 'NO'"
   ]
  },
  {
   "cell_type": "code",
   "execution_count": 57,
   "metadata": {},
   "outputs": [],
   "source": [
    "data = pd.get_dummies(data, columns=['Patient_Smoker', 'Patient_Rural_Urban'])"
   ]
  },
  {
   "cell_type": "code",
   "execution_count": 58,
   "metadata": {},
   "outputs": [
    {
     "ename": "AttributeError",
     "evalue": "'DataFrame' object has no attribute 'ID_Patient_Care_Situation'",
     "output_type": "error",
     "traceback": [
      "\u001b[1;31m---------------------------------------------------------------------------\u001b[0m",
      "\u001b[1;31mAttributeError\u001b[0m                            Traceback (most recent call last)",
      "\u001b[1;32m<ipython-input-58-46aa4c237cea>\u001b[0m in \u001b[0;36m<module>\u001b[1;34m\u001b[0m\n\u001b[1;32m----> 1\u001b[1;33m \u001b[0mprint\u001b[0m\u001b[1;33m(\u001b[0m\u001b[0mdata\u001b[0m\u001b[1;33m.\u001b[0m\u001b[0mID_Patient_Care_Situation\u001b[0m\u001b[1;33m.\u001b[0m\u001b[0mnunique\u001b[0m\u001b[1;33m(\u001b[0m\u001b[1;33m)\u001b[0m\u001b[1;33m)\u001b[0m     \u001b[1;31m# nunique() gives you the count of unique values in the column\u001b[0m\u001b[1;33m\u001b[0m\u001b[1;33m\u001b[0m\u001b[0m\n\u001b[0m\u001b[0;32m      2\u001b[0m \u001b[0mprint\u001b[0m\u001b[1;33m(\u001b[0m\u001b[0mdata\u001b[0m\u001b[1;33m.\u001b[0m\u001b[0mPatient_ID\u001b[0m\u001b[1;33m.\u001b[0m\u001b[0mnunique\u001b[0m\u001b[1;33m(\u001b[0m\u001b[1;33m)\u001b[0m\u001b[1;33m)\u001b[0m\u001b[1;33m\u001b[0m\u001b[1;33m\u001b[0m\u001b[0m\n",
      "\u001b[1;32m~\\anaconda3\\envs\\ml_projects\\lib\\site-packages\\pandas\\core\\generic.py\u001b[0m in \u001b[0;36m__getattr__\u001b[1;34m(self, name)\u001b[0m\n\u001b[0;32m   5137\u001b[0m             \u001b[1;32mif\u001b[0m \u001b[0mself\u001b[0m\u001b[1;33m.\u001b[0m\u001b[0m_info_axis\u001b[0m\u001b[1;33m.\u001b[0m\u001b[0m_can_hold_identifiers_and_holds_name\u001b[0m\u001b[1;33m(\u001b[0m\u001b[0mname\u001b[0m\u001b[1;33m)\u001b[0m\u001b[1;33m:\u001b[0m\u001b[1;33m\u001b[0m\u001b[1;33m\u001b[0m\u001b[0m\n\u001b[0;32m   5138\u001b[0m                 \u001b[1;32mreturn\u001b[0m \u001b[0mself\u001b[0m\u001b[1;33m[\u001b[0m\u001b[0mname\u001b[0m\u001b[1;33m]\u001b[0m\u001b[1;33m\u001b[0m\u001b[1;33m\u001b[0m\u001b[0m\n\u001b[1;32m-> 5139\u001b[1;33m             \u001b[1;32mreturn\u001b[0m \u001b[0mobject\u001b[0m\u001b[1;33m.\u001b[0m\u001b[0m__getattribute__\u001b[0m\u001b[1;33m(\u001b[0m\u001b[0mself\u001b[0m\u001b[1;33m,\u001b[0m \u001b[0mname\u001b[0m\u001b[1;33m)\u001b[0m\u001b[1;33m\u001b[0m\u001b[1;33m\u001b[0m\u001b[0m\n\u001b[0m\u001b[0;32m   5140\u001b[0m \u001b[1;33m\u001b[0m\u001b[0m\n\u001b[0;32m   5141\u001b[0m     \u001b[1;32mdef\u001b[0m \u001b[0m__setattr__\u001b[0m\u001b[1;33m(\u001b[0m\u001b[0mself\u001b[0m\u001b[1;33m,\u001b[0m \u001b[0mname\u001b[0m\u001b[1;33m:\u001b[0m \u001b[0mstr\u001b[0m\u001b[1;33m,\u001b[0m \u001b[0mvalue\u001b[0m\u001b[1;33m)\u001b[0m \u001b[1;33m->\u001b[0m \u001b[1;32mNone\u001b[0m\u001b[1;33m:\u001b[0m\u001b[1;33m\u001b[0m\u001b[1;33m\u001b[0m\u001b[0m\n",
      "\u001b[1;31mAttributeError\u001b[0m: 'DataFrame' object has no attribute 'ID_Patient_Care_Situation'"
     ]
    }
   ],
   "source": [
    "print(data.ID_Patient_Care_Situation.nunique())     # nunique() gives you the count of unique values in the column\n",
    "print(data.Patient_ID.nunique())"
   ]
  },
  {
   "cell_type": "code",
   "execution_count": 59,
   "metadata": {},
   "outputs": [
    {
     "name": "stdout",
     "output_type": "stream",
     "text": [
      "<class 'pandas.core.frame.DataFrame'>\n",
      "RangeIndex: 23097 entries, 0 to 23096\n",
      "Data columns (total 23 columns):\n",
      " #   Column                     Non-Null Count  Dtype  \n",
      "---  ------                     --------------  -----  \n",
      " 0   Diagnosed_Condition        23097 non-null  int64  \n",
      " 1   Patient_ID                 23097 non-null  int64  \n",
      " 2   Patient_Age                23097 non-null  int64  \n",
      " 3   Patient_Body_Mass_Index    23097 non-null  float64\n",
      " 4   A                          23097 non-null  float64\n",
      " 5   B                          23097 non-null  float64\n",
      " 6   C                          23097 non-null  float64\n",
      " 7   D                          23097 non-null  float64\n",
      " 8   E                          23097 non-null  float64\n",
      " 9   F                          23097 non-null  float64\n",
      " 10  Z                          23097 non-null  float64\n",
      " 11  Number_of_prev_cond        23097 non-null  float64\n",
      " 12  Survived_1_year            23097 non-null  int64  \n",
      " 13  DX1                        23097 non-null  int64  \n",
      " 14  DX2                        23097 non-null  int64  \n",
      " 15  DX3                        23097 non-null  int64  \n",
      " 16  DX4                        23097 non-null  int64  \n",
      " 17  DX5                        23097 non-null  int64  \n",
      " 18  DX6                        23097 non-null  int64  \n",
      " 19  Patient_Smoker_NO          23097 non-null  uint8  \n",
      " 20  Patient_Smoker_YES         23097 non-null  uint8  \n",
      " 21  Patient_Rural_Urban_RURAL  23097 non-null  uint8  \n",
      " 22  Patient_Rural_Urban_URBAN  23097 non-null  uint8  \n",
      "dtypes: float64(9), int64(10), uint8(4)\n",
      "memory usage: 3.4 MB\n"
     ]
    }
   ],
   "source": [
    "data.info()"
   ]
  },
  {
   "cell_type": "code",
   "execution_count": 48,
   "metadata": {},
   "outputs": [],
   "source": [
    "data.drop('ID_Patient_Care_Situation', axis=1, inplace=True)"
   ]
  },
  {
   "cell_type": "markdown",
   "metadata": {},
   "source": [
    "The column 'Patient_mental_condition' has only one category 'stable'. So we can drop this column as for every observation the entry here is 'stable'."
   ]
  },
  {
   "cell_type": "code",
   "execution_count": 49,
   "metadata": {},
   "outputs": [],
   "source": [
    "data.drop('Patient_mental_condition', axis=1, inplace=True)"
   ]
  },
  {
   "cell_type": "code",
   "execution_count": 60,
   "metadata": {},
   "outputs": [
    {
     "name": "stdout",
     "output_type": "stream",
     "text": [
      "<class 'pandas.core.frame.DataFrame'>\n",
      "RangeIndex: 23097 entries, 0 to 23096\n",
      "Data columns (total 23 columns):\n",
      " #   Column                     Non-Null Count  Dtype  \n",
      "---  ------                     --------------  -----  \n",
      " 0   Diagnosed_Condition        23097 non-null  int64  \n",
      " 1   Patient_ID                 23097 non-null  int64  \n",
      " 2   Patient_Age                23097 non-null  int64  \n",
      " 3   Patient_Body_Mass_Index    23097 non-null  float64\n",
      " 4   A                          23097 non-null  float64\n",
      " 5   B                          23097 non-null  float64\n",
      " 6   C                          23097 non-null  float64\n",
      " 7   D                          23097 non-null  float64\n",
      " 8   E                          23097 non-null  float64\n",
      " 9   F                          23097 non-null  float64\n",
      " 10  Z                          23097 non-null  float64\n",
      " 11  Number_of_prev_cond        23097 non-null  float64\n",
      " 12  Survived_1_year            23097 non-null  int64  \n",
      " 13  DX1                        23097 non-null  int64  \n",
      " 14  DX2                        23097 non-null  int64  \n",
      " 15  DX3                        23097 non-null  int64  \n",
      " 16  DX4                        23097 non-null  int64  \n",
      " 17  DX5                        23097 non-null  int64  \n",
      " 18  DX6                        23097 non-null  int64  \n",
      " 19  Patient_Smoker_NO          23097 non-null  uint8  \n",
      " 20  Patient_Smoker_YES         23097 non-null  uint8  \n",
      " 21  Patient_Rural_Urban_RURAL  23097 non-null  uint8  \n",
      " 22  Patient_Rural_Urban_URBAN  23097 non-null  uint8  \n",
      "dtypes: float64(9), int64(10), uint8(4)\n",
      "memory usage: 3.4 MB\n"
     ]
    }
   ],
   "source": [
    "data.info()"
   ]
  },
  {
   "cell_type": "code",
   "execution_count": 61,
   "metadata": {},
   "outputs": [
    {
     "data": {
      "text/plain": [
       "Diagnosed_Condition          0\n",
       "Patient_ID                   0\n",
       "Patient_Age                  0\n",
       "Patient_Body_Mass_Index      0\n",
       "A                            0\n",
       "B                            0\n",
       "C                            0\n",
       "D                            0\n",
       "E                            0\n",
       "F                            0\n",
       "Z                            0\n",
       "Number_of_prev_cond          0\n",
       "Survived_1_year              0\n",
       "DX1                          0\n",
       "DX2                          0\n",
       "DX3                          0\n",
       "DX4                          0\n",
       "DX5                          0\n",
       "DX6                          0\n",
       "Patient_Smoker_NO            0\n",
       "Patient_Smoker_YES           0\n",
       "Patient_Rural_Urban_RURAL    0\n",
       "Patient_Rural_Urban_URBAN    0\n",
       "dtype: int64"
      ]
     },
     "execution_count": 61,
     "metadata": {},
     "output_type": "execute_result"
    }
   ],
   "source": [
    "data.isnull().sum()"
   ]
  },
  {
   "cell_type": "markdown",
   "metadata": {},
   "source": [
    "# Train and Test split"
   ]
  },
  {
   "cell_type": "code",
   "execution_count": 62,
   "metadata": {},
   "outputs": [],
   "source": [
    "X = data.drop('Survived_1_year', axis=1)\n",
    "y = data['Survived_1_year']"
   ]
  },
  {
   "cell_type": "code",
   "execution_count": 63,
   "metadata": {},
   "outputs": [
    {
     "data": {
      "text/plain": [
       "((18477, 22), (18477,), (4620, 22), (4620,))"
      ]
     },
     "execution_count": 63,
     "metadata": {},
     "output_type": "execute_result"
    }
   ],
   "source": [
    "X_train, X_test, y_train, y_test = train_test_split(X, y, test_size = 0.2)\n",
    "X_train.shape, y_train.shape, X_test.shape, y_test.shape"
   ]
  },
  {
   "cell_type": "markdown",
   "metadata": {},
   "source": [
    "## Model Building\n",
    "\n",
    "We have seen from Exploratory Data Analysis that this is a classification problem as the target column 'Survived_1_year' has two values 0 - means the patient did not survive after one year of treatment, 1 - means the patient survived after one year of treatment. So we can use classification models for this problem. Some of the classification models are - Logistic Regression, Random Forest Classifier, Decision Tree Classifier, etc. However, we have used two of them - Logistic Regression and Random Forest Classifier."
   ]
  },
  {
   "cell_type": "markdown",
   "metadata": {},
   "source": [
    "## 1. Logistic Regression"
   ]
  },
  {
   "cell_type": "code",
   "execution_count": 64,
   "metadata": {},
   "outputs": [
    {
     "data": {
      "text/plain": [
       "LogisticRegression(max_iter=1000)"
      ]
     },
     "execution_count": 64,
     "metadata": {},
     "output_type": "execute_result"
    }
   ],
   "source": [
    "lr_model = LogisticRegression(max_iter=1000)\n",
    "lr_model.fit(X_train,y_train)"
   ]
  },
  {
   "cell_type": "markdown",
   "metadata": {},
   "source": [
    "### Model Evaluation"
   ]
  },
  {
   "cell_type": "code",
   "execution_count": 68,
   "metadata": {},
   "outputs": [
    {
     "data": {
      "text/plain": [
       "0.7952380952380953"
      ]
     },
     "execution_count": 68,
     "metadata": {},
     "output_type": "execute_result"
    }
   ],
   "source": [
    "f1_score(y_test, lr_model.predict(X_test))"
   ]
  },
  {
   "cell_type": "markdown",
   "metadata": {},
   "source": [
    "## 2. Random Forest Classifier"
   ]
  },
  {
   "cell_type": "code",
   "execution_count": 69,
   "metadata": {},
   "outputs": [],
   "source": [
    "from sklearn.feature_selection import SelectFromModel\n",
    "from sklearn.metrics import accuracy_score, f1_score\n",
    "from sklearn.ensemble import RandomForestClassifier"
   ]
  },
  {
   "cell_type": "code",
   "execution_count": 70,
   "metadata": {},
   "outputs": [
    {
     "data": {
      "text/plain": [
       "RandomForestClassifier(max_depth=5, n_estimators=1000, random_state=1)"
      ]
     },
     "execution_count": 70,
     "metadata": {},
     "output_type": "execute_result"
    }
   ],
   "source": [
    "forest = RandomForestClassifier(random_state=1, n_estimators=1000, max_depth=5)\n",
    " \n",
    "forest.fit(X_train, y_train)"
   ]
  },
  {
   "cell_type": "markdown",
   "metadata": {},
   "source": [
    "### Model Evaluation"
   ]
  },
  {
   "cell_type": "code",
   "execution_count": 71,
   "metadata": {},
   "outputs": [
    {
     "data": {
      "text/plain": [
       "0.8338538413491567"
      ]
     },
     "execution_count": 71,
     "metadata": {},
     "output_type": "execute_result"
    }
   ],
   "source": [
    "f1_score(y_test, forest.predict(X_test))"
   ]
  },
  {
   "cell_type": "markdown",
   "metadata": {},
   "source": [
    "### 3. Random Forest and Boruta\n",
    "\n",
    "Boruta is an all-relevant feature selection method. Unlike other techniques that select small set of features to minimize the error, Boruta tries to capture all the important and interesting features you might have in your dataset with respect to the target variable.\n",
    "\n",
    "Boruta by default uses random forest although it works with other algorithms like LightGBM, XGBoost etc.\n",
    "\n",
    "You can install Boruta with the command\n",
    "\n",
    "pip install Boruta"
   ]
  },
  {
   "cell_type": "code",
   "execution_count": 72,
   "metadata": {},
   "outputs": [
    {
     "name": "stdout",
     "output_type": "stream",
     "text": [
      "Collecting Boruta\n",
      "  Downloading Boruta-0.3-py3-none-any.whl (56 kB)\n",
      "Requirement already satisfied: scikit-learn>=0.17.1 in c:\\users\\dell\\anaconda3\\envs\\ml_projects\\lib\\site-packages (from Boruta) (0.23.2)\n",
      "Requirement already satisfied: scipy>=0.17.0 in c:\\users\\dell\\anaconda3\\envs\\ml_projects\\lib\\site-packages (from Boruta) (1.5.2)\n",
      "Requirement already satisfied: numpy>=1.10.4 in c:\\users\\dell\\anaconda3\\envs\\ml_projects\\lib\\site-packages (from Boruta) (1.19.2)\n",
      "Requirement already satisfied: threadpoolctl>=2.0.0 in c:\\users\\dell\\anaconda3\\envs\\ml_projects\\lib\\site-packages (from scikit-learn>=0.17.1->Boruta) (2.1.0)\n",
      "Requirement already satisfied: joblib>=0.11 in c:\\users\\dell\\anaconda3\\envs\\ml_projects\\lib\\site-packages (from scikit-learn>=0.17.1->Boruta) (0.17.0)\n",
      "Installing collected packages: Boruta\n",
      "Successfully installed Boruta-0.3\n"
     ]
    }
   ],
   "source": [
    "!pip install Boruta"
   ]
  },
  {
   "cell_type": "code",
   "execution_count": 73,
   "metadata": {},
   "outputs": [],
   "source": [
    "from boruta import BorutaPy"
   ]
  },
  {
   "cell_type": "code",
   "execution_count": 74,
   "metadata": {},
   "outputs": [
    {
     "name": "stdout",
     "output_type": "stream",
     "text": [
      "Iteration: \t1 / 100\n",
      "Confirmed: \t0\n",
      "Tentative: \t22\n",
      "Rejected: \t0\n",
      "Iteration: \t2 / 100\n",
      "Confirmed: \t0\n",
      "Tentative: \t22\n",
      "Rejected: \t0\n",
      "Iteration: \t3 / 100\n",
      "Confirmed: \t0\n",
      "Tentative: \t22\n",
      "Rejected: \t0\n",
      "Iteration: \t4 / 100\n",
      "Confirmed: \t0\n",
      "Tentative: \t22\n",
      "Rejected: \t0\n",
      "Iteration: \t5 / 100\n",
      "Confirmed: \t0\n",
      "Tentative: \t22\n",
      "Rejected: \t0\n",
      "Iteration: \t6 / 100\n",
      "Confirmed: \t0\n",
      "Tentative: \t22\n",
      "Rejected: \t0\n",
      "Iteration: \t7 / 100\n",
      "Confirmed: \t0\n",
      "Tentative: \t22\n",
      "Rejected: \t0\n",
      "Iteration: \t8 / 100\n",
      "Confirmed: \t16\n",
      "Tentative: \t3\n",
      "Rejected: \t3\n",
      "Iteration: \t9 / 100\n",
      "Confirmed: \t16\n",
      "Tentative: \t3\n",
      "Rejected: \t3\n",
      "Iteration: \t10 / 100\n",
      "Confirmed: \t16\n",
      "Tentative: \t3\n",
      "Rejected: \t3\n",
      "Iteration: \t11 / 100\n",
      "Confirmed: \t16\n",
      "Tentative: \t3\n",
      "Rejected: \t3\n",
      "Iteration: \t12 / 100\n",
      "Confirmed: \t16\n",
      "Tentative: \t3\n",
      "Rejected: \t3\n",
      "Iteration: \t13 / 100\n",
      "Confirmed: \t16\n",
      "Tentative: \t3\n",
      "Rejected: \t3\n",
      "Iteration: \t14 / 100\n",
      "Confirmed: \t16\n",
      "Tentative: \t3\n",
      "Rejected: \t3\n",
      "Iteration: \t15 / 100\n",
      "Confirmed: \t16\n",
      "Tentative: \t3\n",
      "Rejected: \t3\n",
      "Iteration: \t16 / 100\n",
      "Confirmed: \t16\n",
      "Tentative: \t3\n",
      "Rejected: \t3\n",
      "Iteration: \t17 / 100\n",
      "Confirmed: \t16\n",
      "Tentative: \t3\n",
      "Rejected: \t3\n",
      "Iteration: \t18 / 100\n",
      "Confirmed: \t16\n",
      "Tentative: \t3\n",
      "Rejected: \t3\n",
      "Iteration: \t19 / 100\n",
      "Confirmed: \t17\n",
      "Tentative: \t2\n",
      "Rejected: \t3\n",
      "Iteration: \t20 / 100\n",
      "Confirmed: \t17\n",
      "Tentative: \t2\n",
      "Rejected: \t3\n",
      "Iteration: \t21 / 100\n",
      "Confirmed: \t17\n",
      "Tentative: \t2\n",
      "Rejected: \t3\n",
      "Iteration: \t22 / 100\n",
      "Confirmed: \t17\n",
      "Tentative: \t2\n",
      "Rejected: \t3\n",
      "Iteration: \t23 / 100\n",
      "Confirmed: \t17\n",
      "Tentative: \t2\n",
      "Rejected: \t3\n",
      "Iteration: \t24 / 100\n",
      "Confirmed: \t17\n",
      "Tentative: \t2\n",
      "Rejected: \t3\n",
      "Iteration: \t25 / 100\n",
      "Confirmed: \t17\n",
      "Tentative: \t2\n",
      "Rejected: \t3\n",
      "Iteration: \t26 / 100\n",
      "Confirmed: \t18\n",
      "Tentative: \t1\n",
      "Rejected: \t3\n",
      "Iteration: \t27 / 100\n",
      "Confirmed: \t18\n",
      "Tentative: \t1\n",
      "Rejected: \t3\n",
      "Iteration: \t28 / 100\n",
      "Confirmed: \t18\n",
      "Tentative: \t1\n",
      "Rejected: \t3\n",
      "Iteration: \t29 / 100\n",
      "Confirmed: \t18\n",
      "Tentative: \t1\n",
      "Rejected: \t3\n",
      "Iteration: \t30 / 100\n",
      "Confirmed: \t18\n",
      "Tentative: \t1\n",
      "Rejected: \t3\n",
      "Iteration: \t31 / 100\n",
      "Confirmed: \t18\n",
      "Tentative: \t1\n",
      "Rejected: \t3\n",
      "Iteration: \t32 / 100\n",
      "Confirmed: \t18\n",
      "Tentative: \t1\n",
      "Rejected: \t3\n",
      "Iteration: \t33 / 100\n",
      "Confirmed: \t18\n",
      "Tentative: \t1\n",
      "Rejected: \t3\n",
      "Iteration: \t34 / 100\n",
      "Confirmed: \t18\n",
      "Tentative: \t1\n",
      "Rejected: \t3\n",
      "Iteration: \t35 / 100\n",
      "Confirmed: \t18\n",
      "Tentative: \t1\n",
      "Rejected: \t3\n",
      "Iteration: \t36 / 100\n",
      "Confirmed: \t18\n",
      "Tentative: \t1\n",
      "Rejected: \t3\n",
      "Iteration: \t37 / 100\n",
      "Confirmed: \t18\n",
      "Tentative: \t1\n",
      "Rejected: \t3\n",
      "Iteration: \t38 / 100\n",
      "Confirmed: \t18\n",
      "Tentative: \t1\n",
      "Rejected: \t3\n",
      "Iteration: \t39 / 100\n",
      "Confirmed: \t18\n",
      "Tentative: \t1\n",
      "Rejected: \t3\n",
      "Iteration: \t40 / 100\n",
      "Confirmed: \t18\n",
      "Tentative: \t1\n",
      "Rejected: \t3\n",
      "Iteration: \t41 / 100\n",
      "Confirmed: \t18\n",
      "Tentative: \t1\n",
      "Rejected: \t3\n",
      "Iteration: \t42 / 100\n",
      "Confirmed: \t18\n",
      "Tentative: \t1\n",
      "Rejected: \t3\n",
      "Iteration: \t43 / 100\n",
      "Confirmed: \t18\n",
      "Tentative: \t1\n",
      "Rejected: \t3\n",
      "Iteration: \t44 / 100\n",
      "Confirmed: \t18\n",
      "Tentative: \t1\n",
      "Rejected: \t3\n",
      "Iteration: \t45 / 100\n",
      "Confirmed: \t18\n",
      "Tentative: \t1\n",
      "Rejected: \t3\n",
      "Iteration: \t46 / 100\n",
      "Confirmed: \t18\n",
      "Tentative: \t1\n",
      "Rejected: \t3\n",
      "Iteration: \t47 / 100\n",
      "Confirmed: \t18\n",
      "Tentative: \t1\n",
      "Rejected: \t3\n",
      "Iteration: \t48 / 100\n",
      "Confirmed: \t18\n",
      "Tentative: \t1\n",
      "Rejected: \t3\n",
      "Iteration: \t49 / 100\n",
      "Confirmed: \t18\n",
      "Tentative: \t1\n",
      "Rejected: \t3\n",
      "Iteration: \t50 / 100\n",
      "Confirmed: \t18\n",
      "Tentative: \t1\n",
      "Rejected: \t3\n",
      "Iteration: \t51 / 100\n",
      "Confirmed: \t18\n",
      "Tentative: \t1\n",
      "Rejected: \t3\n",
      "Iteration: \t52 / 100\n",
      "Confirmed: \t18\n",
      "Tentative: \t1\n",
      "Rejected: \t3\n",
      "Iteration: \t53 / 100\n",
      "Confirmed: \t18\n",
      "Tentative: \t1\n",
      "Rejected: \t3\n",
      "Iteration: \t54 / 100\n",
      "Confirmed: \t18\n",
      "Tentative: \t1\n",
      "Rejected: \t3\n",
      "Iteration: \t55 / 100\n",
      "Confirmed: \t18\n",
      "Tentative: \t1\n",
      "Rejected: \t3\n",
      "Iteration: \t56 / 100\n",
      "Confirmed: \t18\n",
      "Tentative: \t1\n",
      "Rejected: \t3\n",
      "Iteration: \t57 / 100\n",
      "Confirmed: \t18\n",
      "Tentative: \t1\n",
      "Rejected: \t3\n",
      "Iteration: \t58 / 100\n",
      "Confirmed: \t18\n",
      "Tentative: \t1\n",
      "Rejected: \t3\n",
      "Iteration: \t59 / 100\n",
      "Confirmed: \t18\n",
      "Tentative: \t1\n",
      "Rejected: \t3\n",
      "Iteration: \t60 / 100\n",
      "Confirmed: \t18\n",
      "Tentative: \t1\n",
      "Rejected: \t3\n",
      "Iteration: \t61 / 100\n",
      "Confirmed: \t18\n",
      "Tentative: \t1\n",
      "Rejected: \t3\n",
      "Iteration: \t62 / 100\n",
      "Confirmed: \t18\n",
      "Tentative: \t1\n",
      "Rejected: \t3\n",
      "Iteration: \t63 / 100\n",
      "Confirmed: \t18\n",
      "Tentative: \t1\n",
      "Rejected: \t3\n",
      "Iteration: \t64 / 100\n",
      "Confirmed: \t18\n",
      "Tentative: \t1\n",
      "Rejected: \t3\n",
      "Iteration: \t65 / 100\n",
      "Confirmed: \t18\n",
      "Tentative: \t1\n",
      "Rejected: \t3\n",
      "Iteration: \t66 / 100\n",
      "Confirmed: \t18\n",
      "Tentative: \t1\n",
      "Rejected: \t3\n",
      "Iteration: \t67 / 100\n",
      "Confirmed: \t18\n",
      "Tentative: \t1\n",
      "Rejected: \t3\n",
      "Iteration: \t68 / 100\n",
      "Confirmed: \t18\n",
      "Tentative: \t1\n",
      "Rejected: \t3\n",
      "Iteration: \t69 / 100\n",
      "Confirmed: \t18\n",
      "Tentative: \t1\n",
      "Rejected: \t3\n",
      "Iteration: \t70 / 100\n",
      "Confirmed: \t18\n",
      "Tentative: \t1\n",
      "Rejected: \t3\n",
      "Iteration: \t71 / 100\n",
      "Confirmed: \t18\n",
      "Tentative: \t1\n",
      "Rejected: \t3\n",
      "Iteration: \t72 / 100\n",
      "Confirmed: \t18\n",
      "Tentative: \t1\n",
      "Rejected: \t3\n",
      "Iteration: \t73 / 100\n",
      "Confirmed: \t18\n",
      "Tentative: \t1\n",
      "Rejected: \t3\n",
      "Iteration: \t74 / 100\n",
      "Confirmed: \t18\n",
      "Tentative: \t1\n",
      "Rejected: \t3\n",
      "Iteration: \t75 / 100\n",
      "Confirmed: \t18\n",
      "Tentative: \t1\n",
      "Rejected: \t3\n",
      "Iteration: \t76 / 100\n",
      "Confirmed: \t18\n",
      "Tentative: \t1\n",
      "Rejected: \t3\n",
      "Iteration: \t77 / 100\n",
      "Confirmed: \t18\n",
      "Tentative: \t1\n",
      "Rejected: \t3\n",
      "Iteration: \t78 / 100\n",
      "Confirmed: \t18\n",
      "Tentative: \t1\n",
      "Rejected: \t3\n",
      "Iteration: \t79 / 100\n",
      "Confirmed: \t18\n",
      "Tentative: \t1\n",
      "Rejected: \t3\n",
      "Iteration: \t80 / 100\n",
      "Confirmed: \t18\n",
      "Tentative: \t1\n",
      "Rejected: \t3\n",
      "Iteration: \t81 / 100\n",
      "Confirmed: \t18\n",
      "Tentative: \t1\n",
      "Rejected: \t3\n",
      "Iteration: \t82 / 100\n",
      "Confirmed: \t18\n",
      "Tentative: \t1\n",
      "Rejected: \t3\n",
      "Iteration: \t83 / 100\n",
      "Confirmed: \t18\n",
      "Tentative: \t1\n",
      "Rejected: \t3\n",
      "Iteration: \t84 / 100\n",
      "Confirmed: \t18\n",
      "Tentative: \t1\n",
      "Rejected: \t3\n",
      "Iteration: \t85 / 100\n",
      "Confirmed: \t18\n",
      "Tentative: \t1\n",
      "Rejected: \t3\n",
      "Iteration: \t86 / 100\n",
      "Confirmed: \t18\n",
      "Tentative: \t1\n",
      "Rejected: \t3\n",
      "Iteration: \t87 / 100\n",
      "Confirmed: \t18\n",
      "Tentative: \t1\n",
      "Rejected: \t3\n",
      "Iteration: \t88 / 100\n",
      "Confirmed: \t18\n",
      "Tentative: \t1\n",
      "Rejected: \t3\n",
      "Iteration: \t89 / 100\n",
      "Confirmed: \t18\n",
      "Tentative: \t1\n",
      "Rejected: \t3\n",
      "Iteration: \t90 / 100\n",
      "Confirmed: \t18\n",
      "Tentative: \t1\n",
      "Rejected: \t3\n",
      "Iteration: \t91 / 100\n",
      "Confirmed: \t18\n",
      "Tentative: \t1\n",
      "Rejected: \t3\n",
      "Iteration: \t92 / 100\n",
      "Confirmed: \t18\n",
      "Tentative: \t1\n",
      "Rejected: \t3\n",
      "Iteration: \t93 / 100\n",
      "Confirmed: \t18\n",
      "Tentative: \t1\n",
      "Rejected: \t3\n",
      "Iteration: \t94 / 100\n",
      "Confirmed: \t18\n",
      "Tentative: \t1\n",
      "Rejected: \t3\n",
      "Iteration: \t95 / 100\n",
      "Confirmed: \t18\n",
      "Tentative: \t1\n",
      "Rejected: \t3\n",
      "Iteration: \t96 / 100\n",
      "Confirmed: \t18\n",
      "Tentative: \t1\n",
      "Rejected: \t3\n",
      "Iteration: \t97 / 100\n",
      "Confirmed: \t18\n",
      "Tentative: \t1\n",
      "Rejected: \t3\n",
      "Iteration: \t98 / 100\n",
      "Confirmed: \t18\n",
      "Tentative: \t1\n",
      "Rejected: \t3\n",
      "Iteration: \t99 / 100\n",
      "Confirmed: \t18\n",
      "Tentative: \t1\n",
      "Rejected: \t3\n",
      "\n",
      "\n",
      "BorutaPy finished running.\n",
      "\n",
      "Iteration: \t100 / 100\n",
      "Confirmed: \t18\n",
      "Tentative: \t0\n",
      "Rejected: \t3\n"
     ]
    },
    {
     "data": {
      "text/plain": [
       "BorutaPy(estimator=RandomForestClassifier(max_depth=5, n_estimators=123,\n",
       "                                          random_state=RandomState(MT19937) at 0x18CDD244240),\n",
       "         n_estimators='auto',\n",
       "         random_state=RandomState(MT19937) at 0x18CDD244240, verbose=2)"
      ]
     },
     "execution_count": 74,
     "metadata": {},
     "output_type": "execute_result"
    }
   ],
   "source": [
    "rfc = RandomForestClassifier(random_state=1, n_estimators=1000, max_depth=5)\n",
    "boruta_selector = BorutaPy(rfc, n_estimators='auto', verbose=2, random_state=1)   # initialize the boruta selector\n",
    "boruta_selector.fit(np.array(X_train), np.array(y_train))       # fitting the boruta selector to get all relavent features. \n",
    "# NOTE: BorutaPy accepts numpy arrays only."
   ]
  },
  {
   "cell_type": "code",
   "execution_count": 75,
   "metadata": {},
   "outputs": [
    {
     "name": "stdout",
     "output_type": "stream",
     "text": [
      "Selected Features:  [ True  True  True  True  True  True False  True False False False  True\n",
      "  True  True  True  True  True  True  True  True  True  True]\n",
      "Ranking:  [1 1 1 1 1 1 2 1 3 4 5 1 1 1 1 1 1 1 1 1 1 1]\n",
      "No. of significant features:  18\n"
     ]
    }
   ],
   "source": [
    "print(\"Selected Features: \", boruta_selector.support_)    # check selected features\n",
    " \n",
    "\n",
    "print(\"Ranking: \",boruta_selector.ranking_)               # check ranking of features\n",
    "\n",
    "print(\"No. of significant features: \", boruta_selector.n_features_)"
   ]
  },
  {
   "cell_type": "markdown",
   "metadata": {},
   "source": [
    "So boruta has selected 18 relavent features. (The features with a ranking of 1 are selected).\n",
    "\n",
    "Let's visualise it better in the form of a table"
   ]
  },
  {
   "cell_type": "markdown",
   "metadata": {},
   "source": [
    "### Displaying features rank wise"
   ]
  },
  {
   "cell_type": "code",
   "execution_count": 76,
   "metadata": {},
   "outputs": [
    {
     "data": {
      "text/html": [
       "<div>\n",
       "<style scoped>\n",
       "    .dataframe tbody tr th:only-of-type {\n",
       "        vertical-align: middle;\n",
       "    }\n",
       "\n",
       "    .dataframe tbody tr th {\n",
       "        vertical-align: top;\n",
       "    }\n",
       "\n",
       "    .dataframe thead th {\n",
       "        text-align: right;\n",
       "    }\n",
       "</style>\n",
       "<table border=\"1\" class=\"dataframe\">\n",
       "  <thead>\n",
       "    <tr style=\"text-align: right;\">\n",
       "      <th></th>\n",
       "      <th>Feature</th>\n",
       "      <th>Ranking</th>\n",
       "    </tr>\n",
       "  </thead>\n",
       "  <tbody>\n",
       "    <tr>\n",
       "      <th>0</th>\n",
       "      <td>Diagnosed_Condition</td>\n",
       "      <td>1</td>\n",
       "    </tr>\n",
       "    <tr>\n",
       "      <th>19</th>\n",
       "      <td>Patient_Smoker_YES</td>\n",
       "      <td>1</td>\n",
       "    </tr>\n",
       "    <tr>\n",
       "      <th>18</th>\n",
       "      <td>Patient_Smoker_NO</td>\n",
       "      <td>1</td>\n",
       "    </tr>\n",
       "    <tr>\n",
       "      <th>17</th>\n",
       "      <td>DX6</td>\n",
       "      <td>1</td>\n",
       "    </tr>\n",
       "    <tr>\n",
       "      <th>16</th>\n",
       "      <td>DX5</td>\n",
       "      <td>1</td>\n",
       "    </tr>\n",
       "    <tr>\n",
       "      <th>15</th>\n",
       "      <td>DX4</td>\n",
       "      <td>1</td>\n",
       "    </tr>\n",
       "    <tr>\n",
       "      <th>14</th>\n",
       "      <td>DX3</td>\n",
       "      <td>1</td>\n",
       "    </tr>\n",
       "    <tr>\n",
       "      <th>13</th>\n",
       "      <td>DX2</td>\n",
       "      <td>1</td>\n",
       "    </tr>\n",
       "    <tr>\n",
       "      <th>12</th>\n",
       "      <td>DX1</td>\n",
       "      <td>1</td>\n",
       "    </tr>\n",
       "    <tr>\n",
       "      <th>11</th>\n",
       "      <td>Number_of_prev_cond</td>\n",
       "      <td>1</td>\n",
       "    </tr>\n",
       "    <tr>\n",
       "      <th>21</th>\n",
       "      <td>Patient_Rural_Urban_URBAN</td>\n",
       "      <td>1</td>\n",
       "    </tr>\n",
       "    <tr>\n",
       "      <th>7</th>\n",
       "      <td>D</td>\n",
       "      <td>1</td>\n",
       "    </tr>\n",
       "    <tr>\n",
       "      <th>5</th>\n",
       "      <td>B</td>\n",
       "      <td>1</td>\n",
       "    </tr>\n",
       "    <tr>\n",
       "      <th>4</th>\n",
       "      <td>A</td>\n",
       "      <td>1</td>\n",
       "    </tr>\n",
       "    <tr>\n",
       "      <th>3</th>\n",
       "      <td>Patient_Body_Mass_Index</td>\n",
       "      <td>1</td>\n",
       "    </tr>\n",
       "    <tr>\n",
       "      <th>2</th>\n",
       "      <td>Patient_Age</td>\n",
       "      <td>1</td>\n",
       "    </tr>\n",
       "    <tr>\n",
       "      <th>1</th>\n",
       "      <td>Patient_ID</td>\n",
       "      <td>1</td>\n",
       "    </tr>\n",
       "    <tr>\n",
       "      <th>20</th>\n",
       "      <td>Patient_Rural_Urban_RURAL</td>\n",
       "      <td>1</td>\n",
       "    </tr>\n",
       "    <tr>\n",
       "      <th>6</th>\n",
       "      <td>C</td>\n",
       "      <td>2</td>\n",
       "    </tr>\n",
       "    <tr>\n",
       "      <th>8</th>\n",
       "      <td>E</td>\n",
       "      <td>3</td>\n",
       "    </tr>\n",
       "    <tr>\n",
       "      <th>9</th>\n",
       "      <td>F</td>\n",
       "      <td>4</td>\n",
       "    </tr>\n",
       "    <tr>\n",
       "      <th>10</th>\n",
       "      <td>Z</td>\n",
       "      <td>5</td>\n",
       "    </tr>\n",
       "  </tbody>\n",
       "</table>\n",
       "</div>"
      ],
      "text/plain": [
       "                      Feature  Ranking\n",
       "0         Diagnosed_Condition        1\n",
       "19         Patient_Smoker_YES        1\n",
       "18          Patient_Smoker_NO        1\n",
       "17                        DX6        1\n",
       "16                        DX5        1\n",
       "15                        DX4        1\n",
       "14                        DX3        1\n",
       "13                        DX2        1\n",
       "12                        DX1        1\n",
       "11        Number_of_prev_cond        1\n",
       "21  Patient_Rural_Urban_URBAN        1\n",
       "7                           D        1\n",
       "5                           B        1\n",
       "4                           A        1\n",
       "3     Patient_Body_Mass_Index        1\n",
       "2                 Patient_Age        1\n",
       "1                  Patient_ID        1\n",
       "20  Patient_Rural_Urban_RURAL        1\n",
       "6                           C        2\n",
       "8                           E        3\n",
       "9                           F        4\n",
       "10                          Z        5"
      ]
     },
     "execution_count": 76,
     "metadata": {},
     "output_type": "execute_result"
    }
   ],
   "source": [
    "selected_rf_features = pd.DataFrame({'Feature':list(X_train.columns),\n",
    "                                      'Ranking':boruta_selector.ranking_})\n",
    "selected_rf_features.sort_values(by='Ranking')"
   ]
  },
  {
   "cell_type": "markdown",
   "metadata": {},
   "source": [
    "**Create a new subset of the data with only the selected features**"
   ]
  },
  {
   "cell_type": "code",
   "execution_count": 78,
   "metadata": {},
   "outputs": [],
   "source": [
    "X_important_train = boruta_selector.transform(np.array(X_train))\n",
    "X_important_test = boruta_selector.transform(np.array(X_test))"
   ]
  },
  {
   "cell_type": "markdown",
   "metadata": {},
   "source": [
    "**Build the model with selected features**"
   ]
  },
  {
   "cell_type": "code",
   "execution_count": 79,
   "metadata": {},
   "outputs": [
    {
     "data": {
      "text/plain": [
       "RandomForestClassifier(n_estimators=1000, n_jobs=-1, random_state=1)"
      ]
     },
     "execution_count": 79,
     "metadata": {},
     "output_type": "execute_result"
    }
   ],
   "source": [
    "# Create a new random forest classifier for the most important features\n",
    "rf_important = RandomForestClassifier(random_state=1, n_estimators=1000, n_jobs = -1)\n",
    "\n",
    "# Train the new classifier on the new dataset containing the most important features\n",
    "rf_important.fit(X_important_train, y_train)"
   ]
  },
  {
   "cell_type": "markdown",
   "metadata": {},
   "source": [
    "### Model Evaluation"
   ]
  },
  {
   "cell_type": "code",
   "execution_count": 80,
   "metadata": {},
   "outputs": [
    {
     "data": {
      "text/plain": [
       "0.8531746031746033"
      ]
     },
     "execution_count": 80,
     "metadata": {},
     "output_type": "execute_result"
    }
   ],
   "source": [
    "f1_score(y_test, rf_important.predict(X_important_test))"
   ]
  },
  {
   "cell_type": "markdown",
   "metadata": {},
   "source": [
    "### Hyper Parameter Tunning\n",
    "Well we have chosen some of the parameters randomly like max_depth, n_estimators. There are many other parameters related to Random Forest model.If you remember we had discussed in our session 'Performance Evaluation' about Hyper parameter tunning. Hyper parameter tunnning helps you to choose a set of optimal parameters for a model. So let's try if this helps us to further improve the performance of the model.\n",
    "\n",
    "Grid Search helps you to find the optimal parameter for a model."
   ]
  },
  {
   "cell_type": "code",
   "execution_count": 81,
   "metadata": {},
   "outputs": [],
   "source": [
    "from sklearn.model_selection import GridSearchCV\n",
    "# Create the parameter grid based on the results of random search \n",
    "param_grid = {\n",
    "    'bootstrap': [True, False],\n",
    "    'max_depth': [5, 10, 15],\n",
    "    'n_estimators': [500, 1000]}\n"
   ]
  },
  {
   "cell_type": "code",
   "execution_count": 82,
   "metadata": {},
   "outputs": [],
   "source": [
    "rf = RandomForestClassifier(random_state = 1)\n",
    "\n",
    "# Grid search cv\n",
    "grid_search = GridSearchCV(estimator = rf, param_grid = param_grid, \n",
    "                          cv = 2, n_jobs = -1, verbose = 2)"
   ]
  },
  {
   "cell_type": "code",
   "execution_count": 83,
   "metadata": {},
   "outputs": [
    {
     "name": "stdout",
     "output_type": "stream",
     "text": [
      "Fitting 2 folds for each of 12 candidates, totalling 24 fits\n"
     ]
    },
    {
     "name": "stderr",
     "output_type": "stream",
     "text": [
      "[Parallel(n_jobs=-1)]: Using backend LokyBackend with 4 concurrent workers.\n",
      "[Parallel(n_jobs=-1)]: Done  24 out of  24 | elapsed:  1.4min finished\n"
     ]
    },
    {
     "data": {
      "text/plain": [
       "GridSearchCV(cv=2, estimator=RandomForestClassifier(random_state=1), n_jobs=-1,\n",
       "             param_grid={'bootstrap': [True, False], 'max_depth': [5, 10, 15],\n",
       "                         'n_estimators': [500, 1000]},\n",
       "             verbose=2)"
      ]
     },
     "execution_count": 83,
     "metadata": {},
     "output_type": "execute_result"
    }
   ],
   "source": [
    "grid_search.fit(X_important_train, y_train)"
   ]
  },
  {
   "cell_type": "code",
   "execution_count": 84,
   "metadata": {},
   "outputs": [
    {
     "data": {
      "text/plain": [
       "{'bootstrap': True, 'max_depth': 15, 'n_estimators': 500}"
      ]
     },
     "execution_count": 84,
     "metadata": {},
     "output_type": "execute_result"
    }
   ],
   "source": [
    "grid_search.best_params_"
   ]
  },
  {
   "cell_type": "markdown",
   "metadata": {},
   "source": [
    "### Model Evaluation"
   ]
  },
  {
   "cell_type": "code",
   "execution_count": 85,
   "metadata": {},
   "outputs": [
    {
     "data": {
      "text/plain": [
       "0.8618073878627968"
      ]
     },
     "execution_count": 85,
     "metadata": {},
     "output_type": "execute_result"
    }
   ],
   "source": [
    "f1_score(y_test, grid_search.predict(X_important_test))"
   ]
  },
  {
   "cell_type": "markdown",
   "metadata": {},
   "source": [
    "### Model Performance Comparison"
   ]
  },
  {
   "cell_type": "code",
   "execution_count": 88,
   "metadata": {},
   "outputs": [],
   "source": [
    "models = {'Logistic Regression': lr_model, 'Random Forest Classifier': forest, 'Random Forest with Boruta Selector': rf_important, \n",
    "          'Hyperparameter Tunning | Random Forest | Boruta': grid_search}\n",
    "\n",
    "test_data = [X_test, X_test, X_important_test, X_important_test]\n",
    "model_performance = []\n",
    "exp = 1\n",
    "for key, value in models.items():\n",
    "  model_performance.append([exp, key, f1_score(y_test, value.predict(test_data[exp-1]))])\n",
    "  exp += 1"
   ]
  },
  {
   "cell_type": "code",
   "execution_count": 89,
   "metadata": {},
   "outputs": [
    {
     "data": {
      "text/html": [
       "<div>\n",
       "<style scoped>\n",
       "    .dataframe tbody tr th:only-of-type {\n",
       "        vertical-align: middle;\n",
       "    }\n",
       "\n",
       "    .dataframe tbody tr th {\n",
       "        vertical-align: top;\n",
       "    }\n",
       "\n",
       "    .dataframe thead th {\n",
       "        text-align: right;\n",
       "    }\n",
       "</style>\n",
       "<table border=\"1\" class=\"dataframe\">\n",
       "  <thead>\n",
       "    <tr style=\"text-align: right;\">\n",
       "      <th></th>\n",
       "      <th>experiment no.:</th>\n",
       "      <th>experiment name</th>\n",
       "      <th>f1 score</th>\n",
       "    </tr>\n",
       "  </thead>\n",
       "  <tbody>\n",
       "    <tr>\n",
       "      <th>0</th>\n",
       "      <td>1</td>\n",
       "      <td>Logistic Regression</td>\n",
       "      <td>0.795238</td>\n",
       "    </tr>\n",
       "    <tr>\n",
       "      <th>1</th>\n",
       "      <td>2</td>\n",
       "      <td>Random Forest Classifier</td>\n",
       "      <td>0.833854</td>\n",
       "    </tr>\n",
       "    <tr>\n",
       "      <th>2</th>\n",
       "      <td>3</td>\n",
       "      <td>Random Forest with Boruta Selector</td>\n",
       "      <td>0.853175</td>\n",
       "    </tr>\n",
       "    <tr>\n",
       "      <th>3</th>\n",
       "      <td>4</td>\n",
       "      <td>Hyperparameter Tunning | Random Forest | Boruta</td>\n",
       "      <td>0.861807</td>\n",
       "    </tr>\n",
       "  </tbody>\n",
       "</table>\n",
       "</div>"
      ],
      "text/plain": [
       "   experiment no.:                                  experiment name  f1 score\n",
       "0                1                              Logistic Regression  0.795238\n",
       "1                2                         Random Forest Classifier  0.833854\n",
       "2                3               Random Forest with Boruta Selector  0.853175\n",
       "3                4  Hyperparameter Tunning | Random Forest | Boruta  0.861807"
      ]
     },
     "execution_count": 89,
     "metadata": {},
     "output_type": "execute_result"
    }
   ],
   "source": [
    "df = pd.DataFrame(model_performance, columns=['experiment no.:', 'experiment name', 'f1 score'])\n",
    "df\n"
   ]
  },
  {
   "cell_type": "code",
   "execution_count": null,
   "metadata": {},
   "outputs": [],
   "source": []
  }
 ],
 "metadata": {
  "kernelspec": {
   "display_name": "Python 3",
   "language": "python",
   "name": "python3"
  },
  "language_info": {
   "codemirror_mode": {
    "name": "ipython",
    "version": 3
   },
   "file_extension": ".py",
   "mimetype": "text/x-python",
   "name": "python",
   "nbconvert_exporter": "python",
   "pygments_lexer": "ipython3",
   "version": "3.8.5"
  }
 },
 "nbformat": 4,
 "nbformat_minor": 4
}
