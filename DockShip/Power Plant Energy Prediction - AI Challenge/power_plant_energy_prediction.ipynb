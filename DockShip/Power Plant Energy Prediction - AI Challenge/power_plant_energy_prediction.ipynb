{
 "cells": [
  {
   "cell_type": "code",
   "execution_count": 62,
   "metadata": {},
   "outputs": [],
   "source": [
    "# libraries for numerical\n",
    "import pandas as pd  \n",
    "import numpy as np\n",
    "\n",
    "# libraries for visualization\n",
    "import matplotlib.pyplot as plt  \n",
    "import seaborn as sns\n",
    "\n",
    "from sklearn.preprocessing import MinMaxScaler\n",
    "from sklearn.ensemble import RandomForestRegressor\n",
    "from sklearn.model_selection import train_test_split\n",
    "from sklearn.metrics import r2_score, mean_squared_error"
   ]
  },
  {
   "cell_type": "code",
   "execution_count": 63,
   "metadata": {},
   "outputs": [],
   "source": [
    "train_data = pd.read_csv('train.csv')\n",
    "test_data = pd.read_csv('test.csv')"
   ]
  },
  {
   "cell_type": "code",
   "execution_count": 64,
   "metadata": {},
   "outputs": [
    {
     "data": {
      "text/html": [
       "<div>\n",
       "<style scoped>\n",
       "    .dataframe tbody tr th:only-of-type {\n",
       "        vertical-align: middle;\n",
       "    }\n",
       "\n",
       "    .dataframe tbody tr th {\n",
       "        vertical-align: top;\n",
       "    }\n",
       "\n",
       "    .dataframe thead th {\n",
       "        text-align: right;\n",
       "    }\n",
       "</style>\n",
       "<table border=\"1\" class=\"dataframe\">\n",
       "  <thead>\n",
       "    <tr style=\"text-align: right;\">\n",
       "      <th></th>\n",
       "      <th>AT</th>\n",
       "      <th>V</th>\n",
       "      <th>AP</th>\n",
       "      <th>RH</th>\n",
       "      <th>PE</th>\n",
       "    </tr>\n",
       "  </thead>\n",
       "  <tbody>\n",
       "    <tr>\n",
       "      <th>0</th>\n",
       "      <td>22.85</td>\n",
       "      <td>60.29</td>\n",
       "      <td>1017.29</td>\n",
       "      <td>61.92</td>\n",
       "      <td>448.58</td>\n",
       "    </tr>\n",
       "    <tr>\n",
       "      <th>1</th>\n",
       "      <td>11.75</td>\n",
       "      <td>35.76</td>\n",
       "      <td>1018.99</td>\n",
       "      <td>57.92</td>\n",
       "      <td>473.01</td>\n",
       "    </tr>\n",
       "    <tr>\n",
       "      <th>2</th>\n",
       "      <td>12.24</td>\n",
       "      <td>44.90</td>\n",
       "      <td>1020.31</td>\n",
       "      <td>82.22</td>\n",
       "      <td>464.25</td>\n",
       "    </tr>\n",
       "    <tr>\n",
       "      <th>3</th>\n",
       "      <td>13.43</td>\n",
       "      <td>40.10</td>\n",
       "      <td>1015.82</td>\n",
       "      <td>87.90</td>\n",
       "      <td>471.77</td>\n",
       "    </tr>\n",
       "    <tr>\n",
       "      <th>4</th>\n",
       "      <td>4.65</td>\n",
       "      <td>35.19</td>\n",
       "      <td>1018.23</td>\n",
       "      <td>94.78</td>\n",
       "      <td>489.36</td>\n",
       "    </tr>\n",
       "  </tbody>\n",
       "</table>\n",
       "</div>"
      ],
      "text/plain": [
       "      AT      V       AP     RH      PE\n",
       "0  22.85  60.29  1017.29  61.92  448.58\n",
       "1  11.75  35.76  1018.99  57.92  473.01\n",
       "2  12.24  44.90  1020.31  82.22  464.25\n",
       "3  13.43  40.10  1015.82  87.90  471.77\n",
       "4   4.65  35.19  1018.23  94.78  489.36"
      ]
     },
     "execution_count": 64,
     "metadata": {},
     "output_type": "execute_result"
    }
   ],
   "source": [
    "train_data.head()"
   ]
  },
  {
   "cell_type": "code",
   "execution_count": 65,
   "metadata": {},
   "outputs": [
    {
     "data": {
      "text/html": [
       "<div>\n",
       "<style scoped>\n",
       "    .dataframe tbody tr th:only-of-type {\n",
       "        vertical-align: middle;\n",
       "    }\n",
       "\n",
       "    .dataframe tbody tr th {\n",
       "        vertical-align: top;\n",
       "    }\n",
       "\n",
       "    .dataframe thead th {\n",
       "        text-align: right;\n",
       "    }\n",
       "</style>\n",
       "<table border=\"1\" class=\"dataframe\">\n",
       "  <thead>\n",
       "    <tr style=\"text-align: right;\">\n",
       "      <th></th>\n",
       "      <th>AT</th>\n",
       "      <th>V</th>\n",
       "      <th>AP</th>\n",
       "      <th>RH</th>\n",
       "    </tr>\n",
       "  </thead>\n",
       "  <tbody>\n",
       "    <tr>\n",
       "      <th>0</th>\n",
       "      <td>11.55</td>\n",
       "      <td>40.60</td>\n",
       "      <td>1014.44</td>\n",
       "      <td>87.06</td>\n",
       "    </tr>\n",
       "    <tr>\n",
       "      <th>1</th>\n",
       "      <td>6.61</td>\n",
       "      <td>38.91</td>\n",
       "      <td>1015.77</td>\n",
       "      <td>92.31</td>\n",
       "    </tr>\n",
       "    <tr>\n",
       "      <th>2</th>\n",
       "      <td>16.97</td>\n",
       "      <td>42.86</td>\n",
       "      <td>1013.92</td>\n",
       "      <td>74.80</td>\n",
       "    </tr>\n",
       "    <tr>\n",
       "      <th>3</th>\n",
       "      <td>21.90</td>\n",
       "      <td>57.76</td>\n",
       "      <td>1017.45</td>\n",
       "      <td>66.89</td>\n",
       "    </tr>\n",
       "    <tr>\n",
       "      <th>4</th>\n",
       "      <td>9.73</td>\n",
       "      <td>40.22</td>\n",
       "      <td>1011.48</td>\n",
       "      <td>87.88</td>\n",
       "    </tr>\n",
       "  </tbody>\n",
       "</table>\n",
       "</div>"
      ],
      "text/plain": [
       "      AT      V       AP     RH\n",
       "0  11.55  40.60  1014.44  87.06\n",
       "1   6.61  38.91  1015.77  92.31\n",
       "2  16.97  42.86  1013.92  74.80\n",
       "3  21.90  57.76  1017.45  66.89\n",
       "4   9.73  40.22  1011.48  87.88"
      ]
     },
     "execution_count": 65,
     "metadata": {},
     "output_type": "execute_result"
    }
   ],
   "source": [
    "test_data.head()"
   ]
  },
  {
   "cell_type": "code",
   "execution_count": 13,
   "metadata": {},
   "outputs": [
    {
     "data": {
      "text/plain": [
       "AT    0\n",
       "V     0\n",
       "AP    0\n",
       "RH    0\n",
       "PE    0\n",
       "dtype: int64"
      ]
     },
     "execution_count": 13,
     "metadata": {},
     "output_type": "execute_result"
    }
   ],
   "source": [
    "train_data.isnull().sum()"
   ]
  },
  {
   "cell_type": "code",
   "execution_count": 49,
   "metadata": {},
   "outputs": [],
   "source": [
    "X = train_data.drop(['PE'], axis=1)\n",
    "y = train_data['PE']"
   ]
  },
  {
   "cell_type": "code",
   "execution_count": 50,
   "metadata": {},
   "outputs": [],
   "source": [
    "X_train, X_test, y_train, y_test = train_test_split(X, y, test_size=0.2, random_state=9)"
   ]
  },
  {
   "cell_type": "code",
   "execution_count": 51,
   "metadata": {},
   "outputs": [],
   "source": [
    "from sklearn.preprocessing import StandardScaler\n",
    "scaler = StandardScaler() \n",
    "x_train = scaler.fit_transform(X_train) \n",
    "x_test = scaler.transform(X_test)\n",
    "test_data = scaler.transform(test_data)"
   ]
  },
  {
   "cell_type": "code",
   "execution_count": 52,
   "metadata": {},
   "outputs": [],
   "source": [
    "from sklearn.metrics import mean_squared_error\n",
    "from sklearn.ensemble import GradientBoostingRegressor\n",
    "from sklearn.model_selection import RandomizedSearchCV, GridSearchCV\n",
    "from sklearn.linear_model import LinearRegression, LogisticRegression"
   ]
  },
  {
   "cell_type": "code",
   "execution_count": 53,
   "metadata": {},
   "outputs": [
    {
     "data": {
      "text/plain": [
       "RandomForestRegressor(n_estimators=9, random_state=9)"
      ]
     },
     "execution_count": 53,
     "metadata": {},
     "output_type": "execute_result"
    }
   ],
   "source": [
    "from sklearn.ensemble import RandomForestRegressor\n",
    "randmodel = RandomForestRegressor(n_estimators=9, criterion='mse', random_state=9)\n",
    "randmodel.fit(X_train, y_train)"
   ]
  },
  {
   "cell_type": "code",
   "execution_count": 54,
   "metadata": {},
   "outputs": [
    {
     "name": "stdout",
     "output_type": "stream",
     "text": [
      "Training R2 score: 0.9914955651964225\n",
      "Validation R2 score: 0.9563007748528938\n",
      "\n",
      "Training RMSE: 1.5711408521073136\n",
      "Validation RMSE: 1.5711408521073136\n"
     ]
    }
   ],
   "source": [
    "train_y_pred = randmodel.predict(X_train)\n",
    "valid_y_pred = randmodel.predict(X_test)\n",
    "\n",
    "print(\"Training R2 score:\", r2_score(y_train, train_y_pred))\n",
    "print(\"Validation R2 score:\", r2_score(y_test, valid_y_pred))\n",
    "print()\n",
    "print(\"Training RMSE:\", np.sqrt(mean_squared_error(y_train, train_y_pred)))\n",
    "print(\"Validation RMSE:\", np.sqrt(mean_squared_error(y_train, train_y_pred)))"
   ]
  },
  {
   "cell_type": "code",
   "execution_count": 55,
   "metadata": {},
   "outputs": [
    {
     "data": {
      "text/plain": [
       "0.9480712046490043"
      ]
     },
     "execution_count": 55,
     "metadata": {},
     "output_type": "execute_result"
    }
   ],
   "source": [
    "gbr_model = GradientBoostingRegressor(random_state=9)\n",
    "gbr_model.fit(x_train, y_train.values.ravel())\n",
    "gbr_model.score(x_test, y_test)"
   ]
  },
  {
   "cell_type": "code",
   "execution_count": 56,
   "metadata": {},
   "outputs": [
    {
     "name": "stdout",
     "output_type": "stream",
     "text": [
      "Training R2 score: -1.8797209059582256\n",
      "Validation R2 score: -1.751123743996382\n",
      "\n",
      "Training RMSE: 28.911298166519632\n",
      "Validation RMSE: 28.911298166519632\n"
     ]
    }
   ],
   "source": [
    "train_y_pred = gbr_model.predict(X_train)\n",
    "valid_y_pred = gbr_model.predict(X_test)\n",
    "\n",
    "print(\"Training R2 score:\", r2_score(y_train, train_y_pred))\n",
    "print(\"Validation R2 score:\", r2_score(y_test, valid_y_pred))\n",
    "print()\n",
    "print(\"Training RMSE:\", np.sqrt(mean_squared_error(y_train, train_y_pred)))\n",
    "print(\"Validation RMSE:\", np.sqrt(mean_squared_error(y_train, train_y_pred)))"
   ]
  },
  {
   "cell_type": "code",
   "execution_count": 66,
   "metadata": {},
   "outputs": [
    {
     "data": {
      "text/plain": [
       "0.9269473806725631"
      ]
     },
     "execution_count": 66,
     "metadata": {},
     "output_type": "execute_result"
    }
   ],
   "source": [
    "lr_model = LinearRegression()\n",
    "lr_model.fit(x_train, y_train.values.ravel())\n",
    "lr_model.score(x_test, y_test)"
   ]
  },
  {
   "cell_type": "code",
   "execution_count": 67,
   "metadata": {},
   "outputs": [
    {
     "name": "stdout",
     "output_type": "stream",
     "text": [
      "Training R2 score: -257.2645908416805\n",
      "Validation R2 score: -261.3922952069712\n",
      "\n",
      "Training RMSE: 273.79456721543335\n",
      "Validation RMSE: 273.79456721543335\n"
     ]
    }
   ],
   "source": [
    "train_y_pred = lr_model.predict(X_train)\n",
    "valid_y_pred = lr_model.predict(X_test)\n",
    "\n",
    "print(\"Training R2 score:\", r2_score(y_train, train_y_pred))\n",
    "print(\"Validation R2 score:\", r2_score(y_test, valid_y_pred))\n",
    "print()\n",
    "print(\"Training RMSE:\", np.sqrt(mean_squared_error(y_train, train_y_pred)))\n",
    "print(\"Validation RMSE:\", np.sqrt(mean_squared_error(y_train, train_y_pred)))"
   ]
  },
  {
   "cell_type": "code",
   "execution_count": null,
   "metadata": {},
   "outputs": [],
   "source": []
  },
  {
   "cell_type": "code",
   "execution_count": null,
   "metadata": {},
   "outputs": [],
   "source": []
  },
  {
   "cell_type": "code",
   "execution_count": null,
   "metadata": {},
   "outputs": [],
   "source": []
  },
  {
   "cell_type": "code",
   "execution_count": null,
   "metadata": {},
   "outputs": [],
   "source": []
  },
  {
   "cell_type": "code",
   "execution_count": null,
   "metadata": {},
   "outputs": [],
   "source": []
  },
  {
   "cell_type": "code",
   "execution_count": 58,
   "metadata": {},
   "outputs": [],
   "source": [
    "test_scaled = scaler_features.fit_transform(test_data)\n",
    "test_y = model.predict(test_scaled)\n",
    "test_y_pred = scaler_labels.inverse_transform(test_y.reshape(-1, 1))"
   ]
  },
  {
   "cell_type": "code",
   "execution_count": 59,
   "metadata": {},
   "outputs": [],
   "source": [
    "# Making submission\n",
    "\n",
    "submission = pd.DataFrame({'Index': range(test_data.shape[0]), 'Value': np.squeeze(test_y_pred)})\n",
    "submission.to_csv('output.csv', index=False)"
   ]
  },
  {
   "cell_type": "code",
   "execution_count": null,
   "metadata": {},
   "outputs": [],
   "source": [
    "#"
   ]
  }
 ],
 "metadata": {
  "kernelspec": {
   "display_name": "Python 3",
   "language": "python",
   "name": "python3"
  },
  "language_info": {
   "codemirror_mode": {
    "name": "ipython",
    "version": 3
   },
   "file_extension": ".py",
   "mimetype": "text/x-python",
   "name": "python",
   "nbconvert_exporter": "python",
   "pygments_lexer": "ipython3",
   "version": "3.8.5"
  }
 },
 "nbformat": 4,
 "nbformat_minor": 4
}
