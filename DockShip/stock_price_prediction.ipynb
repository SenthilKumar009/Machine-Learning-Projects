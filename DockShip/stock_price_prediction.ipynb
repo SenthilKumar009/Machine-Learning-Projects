{
 "metadata": {
  "language_info": {
   "codemirror_mode": {
    "name": "ipython",
    "version": 3
   },
   "file_extension": ".py",
   "mimetype": "text/x-python",
   "name": "python",
   "nbconvert_exporter": "python",
   "pygments_lexer": "ipython3",
   "version": "3.8.5-final"
  },
  "orig_nbformat": 2,
  "kernelspec": {
   "name": "python3",
   "display_name": "Python 3",
   "language": "python"
  }
 },
 "nbformat": 4,
 "nbformat_minor": 2,
 "cells": [
  {
   "cell_type": "code",
   "execution_count": 1,
   "metadata": {},
   "outputs": [],
   "source": [
    "import pandas as pd\n",
    "import pandas as np\n",
    "from sklearn.model_selection import cross_val_score\n",
    "from sklearn.model_selection import KFold\n",
    "from sklearn.preprocessing import LabelEncoder\n",
    "from sklearn.pipeline import Pipeline"
   ]
  },
  {
   "cell_type": "code",
   "execution_count": 2,
   "metadata": {},
   "outputs": [
    {
     "output_type": "execute_result",
     "data": {
      "text/plain": [
       "         Date  Open-Stock-1  High-Stock-1  Low-Stock-1  Close-Stock-1  \\\n",
       "0  2010-06-01        1889.7       1890.00      1838.00        1855.10   \n",
       "1  2010-06-02        1848.0       1862.75      1828.00        1853.05   \n",
       "2  2010-06-03        1864.1       1910.00      1864.10        1905.60   \n",
       "3  2010-06-04        1906.0       1909.80      1880.10        1885.70   \n",
       "4  2010-06-07        1867.0       1894.85      1808.35        1876.65   \n",
       "\n",
       "   VWAP-Stock-1  Volume-Stock-1  Turnover-Stock-1  Open-Stock-2  High-Stock-2  \\\n",
       "0       1855.75          568273   105457457545000        285.40        285.95   \n",
       "1       1842.82          945167   174177161135000        284.00        284.80   \n",
       "2       1893.91          679689   128727119355000        283.00        286.85   \n",
       "3       1889.21          509435    96242800140000        288.85        291.80   \n",
       "4       1873.32          961913   180196832650000        285.00        289.10   \n",
       "\n",
       "   ...  VWAP-Stock-4  Volume-Stock-4  Turnover-Stock-4  Open-Stock-5  \\\n",
       "0  ...        844.44         3878011   327474904340000        1235.0   \n",
       "1  ...        838.31         3320996   278403743240000        1195.0   \n",
       "2  ...        853.51         2494522   212910342645000        1211.0   \n",
       "3  ...        862.85         2963920   255740999120000        1240.0   \n",
       "4  ...        839.89         3471483   291567400640000        1218.6   \n",
       "\n",
       "   High-Stock-5  Low-Stock-5  Close-Stock-5  VWAP-Stock-5  Volume-Stock-5  \\\n",
       "0       1238.00       1177.0        1181.70       1197.29         1786082   \n",
       "1       1206.95       1168.5        1201.15       1189.87         1307410   \n",
       "2       1248.00       1211.0        1242.30       1231.63         1482919   \n",
       "3       1258.00       1240.0        1245.45       1249.72         1454459   \n",
       "4       1225.00       1196.0        1214.80       1209.27         1424594   \n",
       "\n",
       "   Turnover-Stock-5  \n",
       "0   213845404410000  \n",
       "1   155564994855000  \n",
       "2   182640434320000  \n",
       "3   181767075850000  \n",
       "4   172272511430000  \n",
       "\n",
       "[5 rows x 36 columns]"
      ],
      "text/html": "<div>\n<style scoped>\n    .dataframe tbody tr th:only-of-type {\n        vertical-align: middle;\n    }\n\n    .dataframe tbody tr th {\n        vertical-align: top;\n    }\n\n    .dataframe thead th {\n        text-align: right;\n    }\n</style>\n<table border=\"1\" class=\"dataframe\">\n  <thead>\n    <tr style=\"text-align: right;\">\n      <th></th>\n      <th>Date</th>\n      <th>Open-Stock-1</th>\n      <th>High-Stock-1</th>\n      <th>Low-Stock-1</th>\n      <th>Close-Stock-1</th>\n      <th>VWAP-Stock-1</th>\n      <th>Volume-Stock-1</th>\n      <th>Turnover-Stock-1</th>\n      <th>Open-Stock-2</th>\n      <th>High-Stock-2</th>\n      <th>...</th>\n      <th>VWAP-Stock-4</th>\n      <th>Volume-Stock-4</th>\n      <th>Turnover-Stock-4</th>\n      <th>Open-Stock-5</th>\n      <th>High-Stock-5</th>\n      <th>Low-Stock-5</th>\n      <th>Close-Stock-5</th>\n      <th>VWAP-Stock-5</th>\n      <th>Volume-Stock-5</th>\n      <th>Turnover-Stock-5</th>\n    </tr>\n  </thead>\n  <tbody>\n    <tr>\n      <th>0</th>\n      <td>2010-06-01</td>\n      <td>1889.7</td>\n      <td>1890.00</td>\n      <td>1838.00</td>\n      <td>1855.10</td>\n      <td>1855.75</td>\n      <td>568273</td>\n      <td>105457457545000</td>\n      <td>285.40</td>\n      <td>285.95</td>\n      <td>...</td>\n      <td>844.44</td>\n      <td>3878011</td>\n      <td>327474904340000</td>\n      <td>1235.0</td>\n      <td>1238.00</td>\n      <td>1177.0</td>\n      <td>1181.70</td>\n      <td>1197.29</td>\n      <td>1786082</td>\n      <td>213845404410000</td>\n    </tr>\n    <tr>\n      <th>1</th>\n      <td>2010-06-02</td>\n      <td>1848.0</td>\n      <td>1862.75</td>\n      <td>1828.00</td>\n      <td>1853.05</td>\n      <td>1842.82</td>\n      <td>945167</td>\n      <td>174177161135000</td>\n      <td>284.00</td>\n      <td>284.80</td>\n      <td>...</td>\n      <td>838.31</td>\n      <td>3320996</td>\n      <td>278403743240000</td>\n      <td>1195.0</td>\n      <td>1206.95</td>\n      <td>1168.5</td>\n      <td>1201.15</td>\n      <td>1189.87</td>\n      <td>1307410</td>\n      <td>155564994855000</td>\n    </tr>\n    <tr>\n      <th>2</th>\n      <td>2010-06-03</td>\n      <td>1864.1</td>\n      <td>1910.00</td>\n      <td>1864.10</td>\n      <td>1905.60</td>\n      <td>1893.91</td>\n      <td>679689</td>\n      <td>128727119355000</td>\n      <td>283.00</td>\n      <td>286.85</td>\n      <td>...</td>\n      <td>853.51</td>\n      <td>2494522</td>\n      <td>212910342645000</td>\n      <td>1211.0</td>\n      <td>1248.00</td>\n      <td>1211.0</td>\n      <td>1242.30</td>\n      <td>1231.63</td>\n      <td>1482919</td>\n      <td>182640434320000</td>\n    </tr>\n    <tr>\n      <th>3</th>\n      <td>2010-06-04</td>\n      <td>1906.0</td>\n      <td>1909.80</td>\n      <td>1880.10</td>\n      <td>1885.70</td>\n      <td>1889.21</td>\n      <td>509435</td>\n      <td>96242800140000</td>\n      <td>288.85</td>\n      <td>291.80</td>\n      <td>...</td>\n      <td>862.85</td>\n      <td>2963920</td>\n      <td>255740999120000</td>\n      <td>1240.0</td>\n      <td>1258.00</td>\n      <td>1240.0</td>\n      <td>1245.45</td>\n      <td>1249.72</td>\n      <td>1454459</td>\n      <td>181767075850000</td>\n    </tr>\n    <tr>\n      <th>4</th>\n      <td>2010-06-07</td>\n      <td>1867.0</td>\n      <td>1894.85</td>\n      <td>1808.35</td>\n      <td>1876.65</td>\n      <td>1873.32</td>\n      <td>961913</td>\n      <td>180196832650000</td>\n      <td>285.00</td>\n      <td>289.10</td>\n      <td>...</td>\n      <td>839.89</td>\n      <td>3471483</td>\n      <td>291567400640000</td>\n      <td>1218.6</td>\n      <td>1225.00</td>\n      <td>1196.0</td>\n      <td>1214.80</td>\n      <td>1209.27</td>\n      <td>1424594</td>\n      <td>172272511430000</td>\n    </tr>\n  </tbody>\n</table>\n<p>5 rows × 36 columns</p>\n</div>"
     },
     "metadata": {},
     "execution_count": 2
    }
   ],
   "source": [
    "df = pd.read_csv('new_train.csv')\n",
    "df.head()"
   ]
  },
  {
   "cell_type": "code",
   "execution_count": 3,
   "metadata": {},
   "outputs": [
    {
     "output_type": "execute_result",
     "data": {
      "text/plain": [
       "     Open-Stock-1  High-Stock-1  Low-Stock-1  VWAP-Stock-1  Volume-Stock-1  \\\n",
       "0         1889.70       1890.00      1838.00       1855.75          568273   \n",
       "1         1848.00       1862.75      1828.00       1842.82          945167   \n",
       "2         1864.10       1910.00      1864.10       1893.91          679689   \n",
       "3         1906.00       1909.80      1880.10       1889.21          509435   \n",
       "4         1867.00       1894.85      1808.35       1873.32          961913   \n",
       "..            ...           ...          ...           ...             ...   \n",
       "294        499.50        499.50       484.60        489.79         5354489   \n",
       "295        489.90        489.90       481.10        485.65         2997667   \n",
       "296        493.45        495.95       484.50        489.14         2202354   \n",
       "297        487.90        487.90       480.00        483.30         1982494   \n",
       "298        478.70        489.40       476.00        481.89         2082567   \n",
       "\n",
       "     Turnover-Stock-1  \n",
       "0     105457457545000  \n",
       "1     174177161135000  \n",
       "2     128727119355000  \n",
       "3      96242800140000  \n",
       "4     180196832650000  \n",
       "..                ...  \n",
       "294   262255417380000  \n",
       "295   145582296035000  \n",
       "296   107726909450000  \n",
       "297    95814144795000  \n",
       "298   100357122620000  \n",
       "\n",
       "[299 rows x 6 columns]"
      ],
      "text/html": "<div>\n<style scoped>\n    .dataframe tbody tr th:only-of-type {\n        vertical-align: middle;\n    }\n\n    .dataframe tbody tr th {\n        vertical-align: top;\n    }\n\n    .dataframe thead th {\n        text-align: right;\n    }\n</style>\n<table border=\"1\" class=\"dataframe\">\n  <thead>\n    <tr style=\"text-align: right;\">\n      <th></th>\n      <th>Open-Stock-1</th>\n      <th>High-Stock-1</th>\n      <th>Low-Stock-1</th>\n      <th>VWAP-Stock-1</th>\n      <th>Volume-Stock-1</th>\n      <th>Turnover-Stock-1</th>\n    </tr>\n  </thead>\n  <tbody>\n    <tr>\n      <th>0</th>\n      <td>1889.70</td>\n      <td>1890.00</td>\n      <td>1838.00</td>\n      <td>1855.75</td>\n      <td>568273</td>\n      <td>105457457545000</td>\n    </tr>\n    <tr>\n      <th>1</th>\n      <td>1848.00</td>\n      <td>1862.75</td>\n      <td>1828.00</td>\n      <td>1842.82</td>\n      <td>945167</td>\n      <td>174177161135000</td>\n    </tr>\n    <tr>\n      <th>2</th>\n      <td>1864.10</td>\n      <td>1910.00</td>\n      <td>1864.10</td>\n      <td>1893.91</td>\n      <td>679689</td>\n      <td>128727119355000</td>\n    </tr>\n    <tr>\n      <th>3</th>\n      <td>1906.00</td>\n      <td>1909.80</td>\n      <td>1880.10</td>\n      <td>1889.21</td>\n      <td>509435</td>\n      <td>96242800140000</td>\n    </tr>\n    <tr>\n      <th>4</th>\n      <td>1867.00</td>\n      <td>1894.85</td>\n      <td>1808.35</td>\n      <td>1873.32</td>\n      <td>961913</td>\n      <td>180196832650000</td>\n    </tr>\n    <tr>\n      <th>...</th>\n      <td>...</td>\n      <td>...</td>\n      <td>...</td>\n      <td>...</td>\n      <td>...</td>\n      <td>...</td>\n    </tr>\n    <tr>\n      <th>294</th>\n      <td>499.50</td>\n      <td>499.50</td>\n      <td>484.60</td>\n      <td>489.79</td>\n      <td>5354489</td>\n      <td>262255417380000</td>\n    </tr>\n    <tr>\n      <th>295</th>\n      <td>489.90</td>\n      <td>489.90</td>\n      <td>481.10</td>\n      <td>485.65</td>\n      <td>2997667</td>\n      <td>145582296035000</td>\n    </tr>\n    <tr>\n      <th>296</th>\n      <td>493.45</td>\n      <td>495.95</td>\n      <td>484.50</td>\n      <td>489.14</td>\n      <td>2202354</td>\n      <td>107726909450000</td>\n    </tr>\n    <tr>\n      <th>297</th>\n      <td>487.90</td>\n      <td>487.90</td>\n      <td>480.00</td>\n      <td>483.30</td>\n      <td>1982494</td>\n      <td>95814144795000</td>\n    </tr>\n    <tr>\n      <th>298</th>\n      <td>478.70</td>\n      <td>489.40</td>\n      <td>476.00</td>\n      <td>481.89</td>\n      <td>2082567</td>\n      <td>100357122620000</td>\n    </tr>\n  </tbody>\n</table>\n<p>299 rows × 6 columns</p>\n</div>"
     },
     "metadata": {},
     "execution_count": 3
    }
   ],
   "source": [
    "inputs1=pd.DataFrame(df, columns = [\"Open-Stock-1\",\"High-Stock-1\",\"Low-Stock-1\",\"VWAP-Stock-1\",\"Volume-Stock-1\",\"Turnover-Stock-1\"])\n",
    "target1=pd.DataFrame(df, columns = [\"Close-Stock-1\"])\n",
    "inputs1"
   ]
  },
  {
   "cell_type": "code",
   "execution_count": 4,
   "metadata": {},
   "outputs": [],
   "source": [
    "from sklearn.preprocessing import StandardScaler\n",
    "scaler = StandardScaler()\n",
    "from sklearn.model_selection import train_test_split\n",
    "X_train,X_test,y_train,y_test=train_test_split(inputs1,target1,test_size=0.25, random_state = 9)"
   ]
  },
  {
   "cell_type": "code",
   "execution_count": 5,
   "metadata": {},
   "outputs": [],
   "source": [
    "from sklearn.preprocessing import StandardScaler\n",
    "scaler = StandardScaler() \n",
    "x_train = scaler.fit_transform(X_train) \n",
    "x_test = scaler.transform(X_test)"
   ]
  },
  {
   "cell_type": "code",
   "execution_count": 7,
   "metadata": {},
   "outputs": [],
   "source": [
    "from sklearn.metrics import mean_squared_error\n",
    "from sklearn.ensemble import GradientBoostingRegressor\n",
    "from sklearn.model_selection import RandomizedSearchCV, GridSearchCV\n",
    "from sklearn.linear_model import LinearRegression, LogisticRegression"
   ]
  },
  {
   "source": [
    "### Build model with GradientBoostingRegressor"
   ],
   "cell_type": "markdown",
   "metadata": {}
  },
  {
   "cell_type": "code",
   "execution_count": 55,
   "metadata": {},
   "outputs": [],
   "source": [
    "reg = GradientBoostingRegressor(random_state=9)"
   ]
  },
  {
   "cell_type": "code",
   "execution_count": 56,
   "metadata": {},
   "outputs": [
    {
     "output_type": "execute_result",
     "data": {
      "text/plain": [
       "GradientBoostingRegressor(random_state=9)"
      ]
     },
     "metadata": {},
     "execution_count": 56
    }
   ],
   "source": [
    "reg.fit(x_train, y_train.values.ravel())"
   ]
  },
  {
   "cell_type": "code",
   "execution_count": 57,
   "metadata": {},
   "outputs": [
    {
     "output_type": "execute_result",
     "data": {
      "text/plain": [
       "0.9982950053051273"
      ]
     },
     "metadata": {},
     "execution_count": 57
    }
   ],
   "source": [
    "reg.score(x_test, y_test)"
   ]
  },
  {
   "cell_type": "code",
   "execution_count": 58,
   "metadata": {},
   "outputs": [
    {
     "output_type": "execute_result",
     "data": {
      "text/plain": [
       "array([2391.79296791, 2389.85787386, 2375.15032664, 2048.1464879 ,\n",
       "       2332.79037611,  506.78412875, 2095.13877685, 2319.44458574,\n",
       "       2184.8020493 , 2287.84120307, 2508.89700137, 2306.39706113,\n",
       "       2476.83764304, 2326.98261291, 2469.49558544, 2348.08695302,\n",
       "       2000.33183235, 2044.8961766 , 2046.22816884, 2203.13455676,\n",
       "       2028.80911491, 2101.79673658, 2044.49392747, 2204.27530718,\n",
       "       2310.2596733 , 2202.24666509, 2537.98314788, 2388.54716597,\n",
       "       2097.76299051,  484.61531972, 2344.23220278, 1864.18158206,\n",
       "       2097.40220874, 2001.62470881, 2483.10796859, 2305.47262477,\n",
       "       2336.71750628,  513.23505827, 2346.01565656, 2205.17542229,\n",
       "       2348.03608998, 2207.25570846, 2205.9999474 , 2483.10796859,\n",
       "       2431.37781386, 2551.43259406, 2072.1693384 , 2500.92884455,\n",
       "       2047.20319097, 2365.36846797,  492.52594566, 2231.85698981,\n",
       "       2048.39940833, 2502.79112013, 2183.83051613, 2392.46293717,\n",
       "       2127.20975248, 2179.19285037, 2202.37813976, 2182.39909326,\n",
       "       2087.61099282, 2085.99619566, 2102.97905799, 2390.11537263,\n",
       "       2295.63964264, 2324.4036065 , 2267.10807661, 2192.32904025,\n",
       "       2338.68537947, 2475.14932828, 1882.87279714, 2114.77071478,\n",
       "       2346.39407279, 2323.82888376, 2363.53726559])"
      ]
     },
     "metadata": {},
     "execution_count": 58
    }
   ],
   "source": [
    "y_pred=reg.predict(x_test)\n",
    "y_pred"
   ]
  },
  {
   "cell_type": "code",
   "execution_count": 59,
   "metadata": {},
   "outputs": [
    {
     "output_type": "execute_result",
     "data": {
      "text/plain": [
       "306.47800826905336"
      ]
     },
     "metadata": {},
     "execution_count": 59
    }
   ],
   "source": [
    "mean_squared_error(y_test.values.ravel(), y_pred)"
   ]
  },
  {
   "cell_type": "code",
   "execution_count": 72,
   "metadata": {},
   "outputs": [
    {
     "output_type": "execute_result",
     "data": {
      "text/plain": [
       "17.506513309881363"
      ]
     },
     "metadata": {},
     "execution_count": 72
    }
   ],
   "source": [
    "mean_squared_error(y_test.values.ravel(), y_pred, squared=False)"
   ]
  },
  {
   "source": [
    "### Build Model with LinearRegression"
   ],
   "cell_type": "markdown",
   "metadata": {}
  },
  {
   "cell_type": "code",
   "execution_count": 58,
   "metadata": {},
   "outputs": [
    {
     "output_type": "execute_result",
     "data": {
      "text/plain": [
       "LinearRegression()"
      ]
     },
     "metadata": {},
     "execution_count": 58
    }
   ],
   "source": [
    "lm = LinearRegression()\n",
    "lm.fit(x_train, y_train.values.ravel())"
   ]
  },
  {
   "cell_type": "code",
   "execution_count": 59,
   "metadata": {},
   "outputs": [
    {
     "output_type": "execute_result",
     "data": {
      "text/plain": [
       "0.9992839651206883"
      ]
     },
     "metadata": {},
     "execution_count": 59
    }
   ],
   "source": [
    "lm.score(x_test, y_test)"
   ]
  },
  {
   "cell_type": "code",
   "execution_count": 61,
   "metadata": {},
   "outputs": [
    {
     "output_type": "execute_result",
     "data": {
      "text/plain": [
       "128.70945834760852"
      ]
     },
     "metadata": {},
     "execution_count": 61
    }
   ],
   "source": [
    "mean_squared_error(y_test.values.ravel(), y_pred)"
   ]
  },
  {
   "cell_type": "code",
   "execution_count": 62,
   "metadata": {},
   "outputs": [
    {
     "output_type": "execute_result",
     "data": {
      "text/plain": [
       "11.34501909860043"
      ]
     },
     "metadata": {},
     "execution_count": 62
    }
   ],
   "source": [
    "mean_squared_error(y_test.values.ravel(), y_pred, squared=False)"
   ]
  },
  {
   "cell_type": "code",
   "execution_count": 63,
   "metadata": {},
   "outputs": [
    {
     "output_type": "execute_result",
     "data": {
      "text/plain": [
       "array([2384.54912975, 2385.71769842, 2368.57785915, 2051.11856721,\n",
       "       2351.41817665,  514.0818187 , 2104.32898863, 2329.75114205,\n",
       "       2166.84584531, 2273.84199689, 2516.4353332 , 2306.15049621,\n",
       "       2467.00038004, 2336.90341913, 2468.16375542, 2345.85879853,\n",
       "       1990.93050796, 2042.46337994, 2043.90757243, 2198.85623421,\n",
       "       2033.04001376, 2120.36812695, 2047.41678682, 2208.31321552,\n",
       "       2320.73077755, 2193.03641366, 2532.86567221, 2397.95619657,\n",
       "       2075.92628487,  482.91559814, 2339.38325119, 1862.81863707,\n",
       "       2096.68482271, 1996.78736988, 2455.01892397, 2307.75697452,\n",
       "       2342.8309517 ,  506.22020776, 2346.21695164, 2211.96887755,\n",
       "       2364.95545307, 2208.65673299, 2223.496445  , 2467.38149816,\n",
       "       2429.53653302, 2564.92172793, 2064.35880637, 2500.46998278,\n",
       "       2046.44718404, 2367.27718534,  489.45399952, 2231.89681633,\n",
       "       2050.66449406, 2475.15658216, 2187.35116694, 2385.23825175,\n",
       "       2134.75701709, 2187.15221543, 2185.02932594, 2194.20351875,\n",
       "       2090.76476338, 2077.3069871 , 2098.23483314, 2387.86469304,\n",
       "       2282.23625509, 2336.16862844, 2259.78303997, 2209.69102348,\n",
       "       2341.44879422, 2463.09771965, 1875.78621448, 2130.89984077,\n",
       "       2347.247011  , 2328.8295572 , 2362.36802279])"
      ]
     },
     "metadata": {},
     "execution_count": 63
    }
   ],
   "source": [
    "y_pred=lm.predict(x_test)\n",
    "y_pred"
   ]
  },
  {
   "cell_type": "code",
   "execution_count": 64,
   "metadata": {},
   "outputs": [
    {
     "output_type": "execute_result",
     "data": {
      "text/plain": [
       "         Date  Open-Stock-1  High-Stock-1  Low-Stock-1  VWAP-Stock-1  \\\n",
       "0  2011-08-04         484.1        488.90       475.00        481.00   \n",
       "1  2011-08-05         465.0        475.80       457.10        469.56   \n",
       "2  2011-08-08         463.0        480.00       458.05        465.04   \n",
       "3  2011-08-09         450.0        473.55       449.85        460.88   \n",
       "4  2011-08-10         494.8        494.80       473.40        478.06   \n",
       "\n",
       "   Volume-Stock-1  Turnover-Stock-1  Open-Stock-2  High-Stock-2  Low-Stock-2  \\\n",
       "0         1829606    88003633160000        204.90        206.75       199.20   \n",
       "1         3156094   148196817355000        195.00        198.00       190.50   \n",
       "2         4308373   200357861965000        193.90        197.80       189.65   \n",
       "3         4490924   206978212685000        190.25        202.10       190.10   \n",
       "4         3267226   156192368225000        202.00        202.85       196.00   \n",
       "\n",
       "   ...  Low-Stock-4  VWAP-Stock-4  Volume-Stock-4  Turnover-Stock-4  \\\n",
       "0  ...       990.00       1003.31         2716435   272542181190000   \n",
       "1  ...       950.00        961.50         4644498   446567961345000   \n",
       "2  ...       933.40        953.24         3450619   328925252905000   \n",
       "3  ...       910.45        938.80         5346085   501890604795000   \n",
       "4  ...       957.70        964.75         3379659   326053305165000   \n",
       "\n",
       "   Open-Stock-5  High-Stock-5  Low-Stock-5  VWAP-Stock-5  Volume-Stock-5  \\\n",
       "0        1303.6        1312.8      1281.00       1297.04         1569675   \n",
       "1        1245.0        1252.5      1200.00       1229.09         3125692   \n",
       "2        1205.2        1265.8      1200.55       1232.93         1660178   \n",
       "3        1190.5        1238.3      1180.90       1206.06         3618186   \n",
       "4        1242.0        1253.7      1225.30       1242.10         1903396   \n",
       "\n",
       "   Turnover-Stock-5  \n",
       "0   203593328285000  \n",
       "1   384176649890000  \n",
       "2   204687918340000  \n",
       "3   436376441205000  \n",
       "4   236421421150000  \n",
       "\n",
       "[5 rows x 31 columns]"
      ],
      "text/html": "<div>\n<style scoped>\n    .dataframe tbody tr th:only-of-type {\n        vertical-align: middle;\n    }\n\n    .dataframe tbody tr th {\n        vertical-align: top;\n    }\n\n    .dataframe thead th {\n        text-align: right;\n    }\n</style>\n<table border=\"1\" class=\"dataframe\">\n  <thead>\n    <tr style=\"text-align: right;\">\n      <th></th>\n      <th>Date</th>\n      <th>Open-Stock-1</th>\n      <th>High-Stock-1</th>\n      <th>Low-Stock-1</th>\n      <th>VWAP-Stock-1</th>\n      <th>Volume-Stock-1</th>\n      <th>Turnover-Stock-1</th>\n      <th>Open-Stock-2</th>\n      <th>High-Stock-2</th>\n      <th>Low-Stock-2</th>\n      <th>...</th>\n      <th>Low-Stock-4</th>\n      <th>VWAP-Stock-4</th>\n      <th>Volume-Stock-4</th>\n      <th>Turnover-Stock-4</th>\n      <th>Open-Stock-5</th>\n      <th>High-Stock-5</th>\n      <th>Low-Stock-5</th>\n      <th>VWAP-Stock-5</th>\n      <th>Volume-Stock-5</th>\n      <th>Turnover-Stock-5</th>\n    </tr>\n  </thead>\n  <tbody>\n    <tr>\n      <th>0</th>\n      <td>2011-08-04</td>\n      <td>484.1</td>\n      <td>488.90</td>\n      <td>475.00</td>\n      <td>481.00</td>\n      <td>1829606</td>\n      <td>88003633160000</td>\n      <td>204.90</td>\n      <td>206.75</td>\n      <td>199.20</td>\n      <td>...</td>\n      <td>990.00</td>\n      <td>1003.31</td>\n      <td>2716435</td>\n      <td>272542181190000</td>\n      <td>1303.6</td>\n      <td>1312.8</td>\n      <td>1281.00</td>\n      <td>1297.04</td>\n      <td>1569675</td>\n      <td>203593328285000</td>\n    </tr>\n    <tr>\n      <th>1</th>\n      <td>2011-08-05</td>\n      <td>465.0</td>\n      <td>475.80</td>\n      <td>457.10</td>\n      <td>469.56</td>\n      <td>3156094</td>\n      <td>148196817355000</td>\n      <td>195.00</td>\n      <td>198.00</td>\n      <td>190.50</td>\n      <td>...</td>\n      <td>950.00</td>\n      <td>961.50</td>\n      <td>4644498</td>\n      <td>446567961345000</td>\n      <td>1245.0</td>\n      <td>1252.5</td>\n      <td>1200.00</td>\n      <td>1229.09</td>\n      <td>3125692</td>\n      <td>384176649890000</td>\n    </tr>\n    <tr>\n      <th>2</th>\n      <td>2011-08-08</td>\n      <td>463.0</td>\n      <td>480.00</td>\n      <td>458.05</td>\n      <td>465.04</td>\n      <td>4308373</td>\n      <td>200357861965000</td>\n      <td>193.90</td>\n      <td>197.80</td>\n      <td>189.65</td>\n      <td>...</td>\n      <td>933.40</td>\n      <td>953.24</td>\n      <td>3450619</td>\n      <td>328925252905000</td>\n      <td>1205.2</td>\n      <td>1265.8</td>\n      <td>1200.55</td>\n      <td>1232.93</td>\n      <td>1660178</td>\n      <td>204687918340000</td>\n    </tr>\n    <tr>\n      <th>3</th>\n      <td>2011-08-09</td>\n      <td>450.0</td>\n      <td>473.55</td>\n      <td>449.85</td>\n      <td>460.88</td>\n      <td>4490924</td>\n      <td>206978212685000</td>\n      <td>190.25</td>\n      <td>202.10</td>\n      <td>190.10</td>\n      <td>...</td>\n      <td>910.45</td>\n      <td>938.80</td>\n      <td>5346085</td>\n      <td>501890604795000</td>\n      <td>1190.5</td>\n      <td>1238.3</td>\n      <td>1180.90</td>\n      <td>1206.06</td>\n      <td>3618186</td>\n      <td>436376441205000</td>\n    </tr>\n    <tr>\n      <th>4</th>\n      <td>2011-08-10</td>\n      <td>494.8</td>\n      <td>494.80</td>\n      <td>473.40</td>\n      <td>478.06</td>\n      <td>3267226</td>\n      <td>156192368225000</td>\n      <td>202.00</td>\n      <td>202.85</td>\n      <td>196.00</td>\n      <td>...</td>\n      <td>957.70</td>\n      <td>964.75</td>\n      <td>3379659</td>\n      <td>326053305165000</td>\n      <td>1242.0</td>\n      <td>1253.7</td>\n      <td>1225.30</td>\n      <td>1242.10</td>\n      <td>1903396</td>\n      <td>236421421150000</td>\n    </tr>\n  </tbody>\n</table>\n<p>5 rows × 31 columns</p>\n</div>"
     },
     "metadata": {},
     "execution_count": 64
    }
   ],
   "source": [
    "dft=pd.read_csv(\"new_test.csv\")\n",
    "dft.head()"
   ]
  },
  {
   "cell_type": "code",
   "execution_count": 65,
   "metadata": {},
   "outputs": [],
   "source": [
    "dft1=pd.DataFrame(dft, columns = [\"Open-Stock-1\",\"High-Stock-1\",\"Low-Stock-1\",\"VWAP-Stock-1\",\"Volume-Stock-1\",\"Turnover-Stock-1\"])\n",
    "xt1_train = scaler.fit_transform(dft1)\n",
    "yt1_pred=lm.predict(xt1_train)"
   ]
  },
  {
   "cell_type": "code",
   "execution_count": 66,
   "metadata": {},
   "outputs": [],
   "source": [
    "dft2=pd.DataFrame(dft, columns = [\"Open-Stock-2\",\"High-Stock-2\",\"Low-Stock-2\",\"VWAP-Stock-2\",\"Volume-Stock-2\",\"Turnover-Stock-2\"])\n",
    "xt2_train = scaler.fit_transform(dft2) \n",
    "yt2_pred=lm.predict(xt2_train)"
   ]
  },
  {
   "cell_type": "code",
   "execution_count": 67,
   "metadata": {},
   "outputs": [],
   "source": [
    "dft3=pd.DataFrame(dft, columns = [\"Open-Stock-3\",\"High-Stock-3\",\"Low-Stock-3\",\"VWAP-Stock-3\",\"Volume-Stock-3\",\"Turnover-Stock-3\"])\n",
    "xt3_train = scaler.fit_transform(dft3) \n",
    "yt3_pred=lm.predict(xt3_train)"
   ]
  },
  {
   "cell_type": "code",
   "execution_count": 68,
   "metadata": {},
   "outputs": [],
   "source": [
    "dft4=pd.DataFrame(dft, columns = [\"Open-Stock-4\",\"High-Stock-4\",\"Low-Stock-4\",\"VWAP-Stock-4\",\"Volume-Stock-4\",\"Turnover-Stock-4\"])\n",
    "xt4_train = scaler.fit_transform(dft4) \n",
    "yt4_pred=lm.predict(xt4_train)"
   ]
  },
  {
   "cell_type": "code",
   "execution_count": 69,
   "metadata": {},
   "outputs": [],
   "source": [
    "dft5=pd.DataFrame(dft, columns = [\"Open-Stock-5\",\"High-Stock-5\",\"Low-Stock-5\",\"VWAP-Stock-5\",\"Volume-Stock-5\",\"Turnover-Stock-5\"])\n",
    "xt5_train = scaler.fit_transform(dft5) \n",
    "yt5_pred=lm.predict(xt5_train)"
   ]
  },
  {
   "cell_type": "code",
   "execution_count": 70,
   "metadata": {},
   "outputs": [],
   "source": [
    "frame = { 'Date': dft[\"Date\"], 'Close-Stock-1':yt1_pred,'Close-Stock-2':yt2_pred,'Close-Stock-3':yt3_pred,'Close-Stock-4':yt4_pred,'Close-Stock-5':yt5_pred}\n",
    "result = pd.DataFrame(frame)"
   ]
  },
  {
   "cell_type": "code",
   "execution_count": 71,
   "metadata": {},
   "outputs": [],
   "source": [
    "result.to_csv(\"output.csv\",index=False)"
   ]
  },
  {
   "cell_type": "code",
   "execution_count": null,
   "metadata": {},
   "outputs": [],
   "source": []
  },
  {
   "source": [
    "### Apply RandomizedSearchCV in GradientBoostingRegressor"
   ],
   "cell_type": "markdown",
   "metadata": {}
  },
  {
   "cell_type": "code",
   "execution_count": 20,
   "metadata": {},
   "outputs": [],
   "source": [
    "def print_results(results):\n",
    "    print('BEST PARAMS: {}\\n'.format(results.best_params_))\n",
    "\n",
    "    means = results.cv_results_['mean_test_score']\n",
    "    stds = results.cv_results_['std_test_score']\n",
    "    for mean, std, params in zip(means, stds, results.cv_results_['params']):\n",
    "        print('{} (+/-{}) for {}'.format(round(mean, 3), round(std * 2, 3), params))"
   ]
  },
  {
   "cell_type": "code",
   "execution_count": 21,
   "metadata": {},
   "outputs": [
    {
     "output_type": "execute_result",
     "data": {
      "text/plain": [
       "RandomizedSearchCV(cv=5, estimator=GradientBoostingRegressor(), n_iter=20,\n",
       "                   param_distributions={'learning_rate': [0.03, 0.1, 0.3, 1],\n",
       "                                        'max_depth': [2, 3, 4, 8, 16, 32, None],\n",
       "                                        'n_estimators': [5, 50, 100, 150, 250]})"
      ]
     },
     "metadata": {},
     "execution_count": 21
    }
   ],
   "source": [
    "gbc = GradientBoostingRegressor()\n",
    "parameters = {\n",
    "    'n_estimators': [5, 50, 100, 150, 250],\n",
    "    'max_depth': [2, 3, 4, 8, 16, 32, None],\n",
    "    'learning_rate': [0.03, 0.1, 0.3, 1]\n",
    "}\n",
    "rs = RandomizedSearchCV(gbc, parameters, cv=5,n_iter=20)\n",
    "rs.fit(x_train, y_train)"
   ]
  },
  {
   "cell_type": "code",
   "execution_count": 22,
   "metadata": {},
   "outputs": [
    {
     "output_type": "stream",
     "name": "stdout",
     "text": [
      "BEST PARAMS: {'n_estimators': 150, 'max_depth': None, 'learning_rate': 0.3}\n\n0.997 (+/-0.003) for {'n_estimators': 150, 'max_depth': None, 'learning_rate': 0.3}\n0.985 (+/-0.043) for {'n_estimators': 100, 'max_depth': 16, 'learning_rate': 0.03}\n0.997 (+/-0.004) for {'n_estimators': 100, 'max_depth': None, 'learning_rate': 1}\n0.962 (+/-0.027) for {'n_estimators': 5, 'max_depth': 8, 'learning_rate': 0.3}\n0.997 (+/-0.004) for {'n_estimators': 5, 'max_depth': None, 'learning_rate': 1}\n0.991 (+/-0.023) for {'n_estimators': 50, 'max_depth': 8, 'learning_rate': 0.1}\n0.997 (+/-0.003) for {'n_estimators': 100, 'max_depth': None, 'learning_rate': 0.3}\n0.987 (+/-0.041) for {'n_estimators': 250, 'max_depth': 3, 'learning_rate': 0.1}\n0.991 (+/-0.027) for {'n_estimators': 150, 'max_depth': 3, 'learning_rate': 0.03}\n0.992 (+/-0.011) for {'n_estimators': 100, 'max_depth': 4, 'learning_rate': 1}\n0.99 (+/-0.027) for {'n_estimators': 150, 'max_depth': 2, 'learning_rate': 0.03}\n0.966 (+/-0.004) for {'n_estimators': 5, 'max_depth': 4, 'learning_rate': 0.3}\n0.991 (+/-0.027) for {'n_estimators': 50, 'max_depth': 3, 'learning_rate': 0.1}\n0.228 (+/-0.045) for {'n_estimators': 5, 'max_depth': 16, 'learning_rate': 0.03}\n0.219 (+/-0.041) for {'n_estimators': 5, 'max_depth': 3, 'learning_rate': 0.03}\n0.992 (+/-0.011) for {'n_estimators': 150, 'max_depth': 4, 'learning_rate': 1}\n0.997 (+/-0.002) for {'n_estimators': 50, 'max_depth': 16, 'learning_rate': 1}\n0.989 (+/-0.034) for {'n_estimators': 250, 'max_depth': 8, 'learning_rate': 0.1}\n0.997 (+/-0.003) for {'n_estimators': 50, 'max_depth': None, 'learning_rate': 0.3}\n0.988 (+/-0.036) for {'n_estimators': 250, 'max_depth': None, 'learning_rate': 0.03}\n"
     ]
    }
   ],
   "source": [
    "print_results(rs)"
   ]
  },
  {
   "cell_type": "code",
   "execution_count": 23,
   "metadata": {},
   "outputs": [
    {
     "output_type": "execute_result",
     "data": {
      "text/plain": [
       "0.9973358010012777"
      ]
     },
     "metadata": {},
     "execution_count": 23
    }
   ],
   "source": [
    "rs.best_score_"
   ]
  },
  {
   "cell_type": "code",
   "execution_count": 24,
   "metadata": {},
   "outputs": [
    {
     "output_type": "execute_result",
     "data": {
      "text/plain": [
       "GradientBoostingRegressor(learning_rate=0.3, max_depth=None, n_estimators=150)"
      ]
     },
     "metadata": {},
     "execution_count": 24
    }
   ],
   "source": [
    "rs.best_estimator_"
   ]
  },
  {
   "cell_type": "code",
   "execution_count": 25,
   "metadata": {},
   "outputs": [
    {
     "output_type": "execute_result",
     "data": {
      "text/plain": [
       "GradientBoostingRegressor(learning_rate=1, max_depth=16, n_estimators=250,\n",
       "                          random_state=9)"
      ]
     },
     "metadata": {},
     "execution_count": 25
    }
   ],
   "source": [
    "reg = GradientBoostingRegressor(learning_rate=1, max_depth=16, n_estimators=250, random_state=9)\n",
    "reg.fit(x_train, y_train)"
   ]
  },
  {
   "cell_type": "code",
   "execution_count": 26,
   "metadata": {},
   "outputs": [
    {
     "output_type": "execute_result",
     "data": {
      "text/plain": [
       "0.9979967027745396"
      ]
     },
     "metadata": {},
     "execution_count": 26
    }
   ],
   "source": [
    "reg.score(x_test, y_test)"
   ]
  },
  {
   "cell_type": "code",
   "execution_count": 37,
   "metadata": {},
   "outputs": [
    {
     "output_type": "execute_result",
     "data": {
      "text/plain": [
       "array([2391.75, 2390.5 , 2360.3 , 2060.95, 2333.75,  510.85, 2107.  ,\n",
       "       2333.75, 2162.9 , 2290.15, 2515.55, 2305.15, 2470.75, 2333.75,\n",
       "       2470.75, 2343.  , 1991.7 , 2047.85, 2047.85, 2214.75, 2039.6 ,\n",
       "       2126.9 , 2038.95, 2190.95, 2305.15, 2208.4 , 2541.15, 2386.25,\n",
       "       2109.35,  482.85, 2349.2 , 1880.9 , 2100.6 , 2002.85, 2489.1 ,\n",
       "       2305.15, 2349.3 ,  503.1 , 2367.05, 2196.6 , 2345.55, 2192.25,\n",
       "       2206.05, 2489.1 , 2416.15, 2559.15, 2073.15, 2500.75, 2047.85,\n",
       "       2356.75,  488.  , 2218.25, 2047.85, 2500.75, 2193.95, 2395.75,\n",
       "       2122.45, 2201.7 , 2190.95, 2200.8 , 2086.1 , 2109.35, 2109.35,\n",
       "       2391.75, 2297.25, 2326.65, 2254.3 , 2176.1 , 2351.65, 2470.75,\n",
       "       1880.9 , 2121.05, 2346.35, 2326.65, 2372.6 ])"
      ]
     },
     "metadata": {},
     "execution_count": 37
    }
   ],
   "source": [
    "y_pred = reg.predict(x_test)\n",
    "y_pred"
   ]
  },
  {
   "source": [
    "### Apply with XGBoost "
   ],
   "cell_type": "markdown",
   "metadata": {}
  },
  {
   "cell_type": "code",
   "execution_count": 72,
   "metadata": {},
   "outputs": [
    {
     "output_type": "error",
     "ename": "ModuleNotFoundError",
     "evalue": "No module named 'xgboost'",
     "traceback": [
      "\u001b[1;31m---------------------------------------------------------------------------\u001b[0m",
      "\u001b[1;31mModuleNotFoundError\u001b[0m                       Traceback (most recent call last)",
      "\u001b[1;32m<ipython-input-72-d68a1716aae9>\u001b[0m in \u001b[0;36m<module>\u001b[1;34m\u001b[0m\n\u001b[1;32m----> 1\u001b[1;33m \u001b[1;32mimport\u001b[0m \u001b[0mxgboost\u001b[0m \u001b[1;32mas\u001b[0m \u001b[0mxg\u001b[0m\u001b[1;33m\u001b[0m\u001b[1;33m\u001b[0m\u001b[0m\n\u001b[0m\u001b[0;32m      2\u001b[0m \u001b[1;32mfrom\u001b[0m \u001b[0msklearn\u001b[0m\u001b[1;33m.\u001b[0m\u001b[0mmodel_selection\u001b[0m \u001b[1;32mimport\u001b[0m \u001b[0mtrain_test_split\u001b[0m\u001b[1;33m\u001b[0m\u001b[1;33m\u001b[0m\u001b[0m\n",
      "\u001b[1;31mModuleNotFoundError\u001b[0m: No module named 'xgboost'"
     ]
    }
   ],
   "source": [
    "import xgboost as xg \n",
    "from sklearn.model_selection import train_test_split "
   ]
  },
  {
   "cell_type": "code",
   "execution_count": null,
   "metadata": {},
   "outputs": [],
   "source": []
  },
  {
   "cell_type": "code",
   "execution_count": null,
   "metadata": {},
   "outputs": [],
   "source": []
  },
  {
   "cell_type": "code",
   "execution_count": 27,
   "metadata": {},
   "outputs": [
    {
     "output_type": "execute_result",
     "data": {
      "text/plain": [
       "         Date  Open-Stock-1  High-Stock-1  Low-Stock-1  VWAP-Stock-1  \\\n",
       "0  2011-08-04         484.1        488.90       475.00        481.00   \n",
       "1  2011-08-05         465.0        475.80       457.10        469.56   \n",
       "2  2011-08-08         463.0        480.00       458.05        465.04   \n",
       "3  2011-08-09         450.0        473.55       449.85        460.88   \n",
       "4  2011-08-10         494.8        494.80       473.40        478.06   \n",
       "\n",
       "   Volume-Stock-1  Turnover-Stock-1  Open-Stock-2  High-Stock-2  Low-Stock-2  \\\n",
       "0         1829606    88003633160000        204.90        206.75       199.20   \n",
       "1         3156094   148196817355000        195.00        198.00       190.50   \n",
       "2         4308373   200357861965000        193.90        197.80       189.65   \n",
       "3         4490924   206978212685000        190.25        202.10       190.10   \n",
       "4         3267226   156192368225000        202.00        202.85       196.00   \n",
       "\n",
       "   ...  Low-Stock-4  VWAP-Stock-4  Volume-Stock-4  Turnover-Stock-4  \\\n",
       "0  ...       990.00       1003.31         2716435   272542181190000   \n",
       "1  ...       950.00        961.50         4644498   446567961345000   \n",
       "2  ...       933.40        953.24         3450619   328925252905000   \n",
       "3  ...       910.45        938.80         5346085   501890604795000   \n",
       "4  ...       957.70        964.75         3379659   326053305165000   \n",
       "\n",
       "   Open-Stock-5  High-Stock-5  Low-Stock-5  VWAP-Stock-5  Volume-Stock-5  \\\n",
       "0        1303.6        1312.8      1281.00       1297.04         1569675   \n",
       "1        1245.0        1252.5      1200.00       1229.09         3125692   \n",
       "2        1205.2        1265.8      1200.55       1232.93         1660178   \n",
       "3        1190.5        1238.3      1180.90       1206.06         3618186   \n",
       "4        1242.0        1253.7      1225.30       1242.10         1903396   \n",
       "\n",
       "   Turnover-Stock-5  \n",
       "0   203593328285000  \n",
       "1   384176649890000  \n",
       "2   204687918340000  \n",
       "3   436376441205000  \n",
       "4   236421421150000  \n",
       "\n",
       "[5 rows x 31 columns]"
      ],
      "text/html": "<div>\n<style scoped>\n    .dataframe tbody tr th:only-of-type {\n        vertical-align: middle;\n    }\n\n    .dataframe tbody tr th {\n        vertical-align: top;\n    }\n\n    .dataframe thead th {\n        text-align: right;\n    }\n</style>\n<table border=\"1\" class=\"dataframe\">\n  <thead>\n    <tr style=\"text-align: right;\">\n      <th></th>\n      <th>Date</th>\n      <th>Open-Stock-1</th>\n      <th>High-Stock-1</th>\n      <th>Low-Stock-1</th>\n      <th>VWAP-Stock-1</th>\n      <th>Volume-Stock-1</th>\n      <th>Turnover-Stock-1</th>\n      <th>Open-Stock-2</th>\n      <th>High-Stock-2</th>\n      <th>Low-Stock-2</th>\n      <th>...</th>\n      <th>Low-Stock-4</th>\n      <th>VWAP-Stock-4</th>\n      <th>Volume-Stock-4</th>\n      <th>Turnover-Stock-4</th>\n      <th>Open-Stock-5</th>\n      <th>High-Stock-5</th>\n      <th>Low-Stock-5</th>\n      <th>VWAP-Stock-5</th>\n      <th>Volume-Stock-5</th>\n      <th>Turnover-Stock-5</th>\n    </tr>\n  </thead>\n  <tbody>\n    <tr>\n      <th>0</th>\n      <td>2011-08-04</td>\n      <td>484.1</td>\n      <td>488.90</td>\n      <td>475.00</td>\n      <td>481.00</td>\n      <td>1829606</td>\n      <td>88003633160000</td>\n      <td>204.90</td>\n      <td>206.75</td>\n      <td>199.20</td>\n      <td>...</td>\n      <td>990.00</td>\n      <td>1003.31</td>\n      <td>2716435</td>\n      <td>272542181190000</td>\n      <td>1303.6</td>\n      <td>1312.8</td>\n      <td>1281.00</td>\n      <td>1297.04</td>\n      <td>1569675</td>\n      <td>203593328285000</td>\n    </tr>\n    <tr>\n      <th>1</th>\n      <td>2011-08-05</td>\n      <td>465.0</td>\n      <td>475.80</td>\n      <td>457.10</td>\n      <td>469.56</td>\n      <td>3156094</td>\n      <td>148196817355000</td>\n      <td>195.00</td>\n      <td>198.00</td>\n      <td>190.50</td>\n      <td>...</td>\n      <td>950.00</td>\n      <td>961.50</td>\n      <td>4644498</td>\n      <td>446567961345000</td>\n      <td>1245.0</td>\n      <td>1252.5</td>\n      <td>1200.00</td>\n      <td>1229.09</td>\n      <td>3125692</td>\n      <td>384176649890000</td>\n    </tr>\n    <tr>\n      <th>2</th>\n      <td>2011-08-08</td>\n      <td>463.0</td>\n      <td>480.00</td>\n      <td>458.05</td>\n      <td>465.04</td>\n      <td>4308373</td>\n      <td>200357861965000</td>\n      <td>193.90</td>\n      <td>197.80</td>\n      <td>189.65</td>\n      <td>...</td>\n      <td>933.40</td>\n      <td>953.24</td>\n      <td>3450619</td>\n      <td>328925252905000</td>\n      <td>1205.2</td>\n      <td>1265.8</td>\n      <td>1200.55</td>\n      <td>1232.93</td>\n      <td>1660178</td>\n      <td>204687918340000</td>\n    </tr>\n    <tr>\n      <th>3</th>\n      <td>2011-08-09</td>\n      <td>450.0</td>\n      <td>473.55</td>\n      <td>449.85</td>\n      <td>460.88</td>\n      <td>4490924</td>\n      <td>206978212685000</td>\n      <td>190.25</td>\n      <td>202.10</td>\n      <td>190.10</td>\n      <td>...</td>\n      <td>910.45</td>\n      <td>938.80</td>\n      <td>5346085</td>\n      <td>501890604795000</td>\n      <td>1190.5</td>\n      <td>1238.3</td>\n      <td>1180.90</td>\n      <td>1206.06</td>\n      <td>3618186</td>\n      <td>436376441205000</td>\n    </tr>\n    <tr>\n      <th>4</th>\n      <td>2011-08-10</td>\n      <td>494.8</td>\n      <td>494.80</td>\n      <td>473.40</td>\n      <td>478.06</td>\n      <td>3267226</td>\n      <td>156192368225000</td>\n      <td>202.00</td>\n      <td>202.85</td>\n      <td>196.00</td>\n      <td>...</td>\n      <td>957.70</td>\n      <td>964.75</td>\n      <td>3379659</td>\n      <td>326053305165000</td>\n      <td>1242.0</td>\n      <td>1253.7</td>\n      <td>1225.30</td>\n      <td>1242.10</td>\n      <td>1903396</td>\n      <td>236421421150000</td>\n    </tr>\n  </tbody>\n</table>\n<p>5 rows × 31 columns</p>\n</div>"
     },
     "metadata": {},
     "execution_count": 27
    }
   ],
   "source": [
    "dft=pd.read_csv(\"new_test.csv\")\n",
    "dft.head()"
   ]
  },
  {
   "cell_type": "code",
   "execution_count": 28,
   "metadata": {},
   "outputs": [],
   "source": [
    "dft1=pd.DataFrame(dft, columns = [\"Open-Stock-1\",\"High-Stock-1\",\"Low-Stock-1\",\"VWAP-Stock-1\",\"Volume-Stock-1\",\"Turnover-Stock-1\"])"
   ]
  },
  {
   "cell_type": "code",
   "execution_count": 29,
   "metadata": {},
   "outputs": [],
   "source": [
    "xt1_train = scaler.fit_transform(dft1) "
   ]
  },
  {
   "cell_type": "code",
   "execution_count": 30,
   "metadata": {},
   "outputs": [],
   "source": [
    "yt1_pred=reg.predict(xt1_train)"
   ]
  },
  {
   "cell_type": "code",
   "execution_count": 31,
   "metadata": {},
   "outputs": [],
   "source": [
    "dft2=pd.DataFrame(dft, columns = [\"Open-Stock-2\",\"High-Stock-2\",\"Low-Stock-2\",\"VWAP-Stock-2\",\"Volume-Stock-2\",\"Turnover-Stock-2\"])\n",
    "xt2_train = scaler.fit_transform(dft2) \n",
    "yt2_pred=reg.predict(xt2_train)"
   ]
  },
  {
   "cell_type": "code",
   "execution_count": 32,
   "metadata": {},
   "outputs": [],
   "source": [
    "dft3=pd.DataFrame(dft, columns = [\"Open-Stock-3\",\"High-Stock-3\",\"Low-Stock-3\",\"VWAP-Stock-3\",\"Volume-Stock-3\",\"Turnover-Stock-3\"])\n",
    "xt3_train = scaler.fit_transform(dft3) \n",
    "yt3_pred=reg.predict(xt3_train)"
   ]
  },
  {
   "cell_type": "code",
   "execution_count": 33,
   "metadata": {},
   "outputs": [],
   "source": [
    "dft4=pd.DataFrame(dft, columns = [\"Open-Stock-4\",\"High-Stock-4\",\"Low-Stock-4\",\"VWAP-Stock-4\",\"Volume-Stock-4\",\"Turnover-Stock-4\"])\n",
    "xt4_train = scaler.fit_transform(dft4) \n",
    "yt4_pred=reg.predict(xt4_train)"
   ]
  },
  {
   "cell_type": "code",
   "execution_count": 34,
   "metadata": {},
   "outputs": [],
   "source": [
    "dft5=pd.DataFrame(dft, columns = [\"Open-Stock-5\",\"High-Stock-5\",\"Low-Stock-5\",\"VWAP-Stock-5\",\"Volume-Stock-5\",\"Turnover-Stock-5\"])\n",
    "xt5_train = scaler.fit_transform(dft5) \n",
    "yt5_pred=reg.predict(xt5_train)"
   ]
  },
  {
   "cell_type": "code",
   "execution_count": 35,
   "metadata": {},
   "outputs": [],
   "source": [
    "frame = { 'Date': dft[\"Date\"], 'Close-Stock-1':yt1_pred,'Close-Stock-2':yt2_pred,'Close-Stock-3':yt3_pred,'Close-Stock-4':yt4_pred,'Close-Stock-5':yt5_pred}\n",
    "result = pd.DataFrame(frame)"
   ]
  },
  {
   "cell_type": "code",
   "execution_count": 36,
   "metadata": {},
   "outputs": [],
   "source": [
    "result.to_csv(\"output.csv\",index=False)"
   ]
  },
  {
   "cell_type": "code",
   "execution_count": null,
   "metadata": {},
   "outputs": [],
   "source": []
  }
 ]
}